{
  "nbformat": 4,
  "nbformat_minor": 0,
  "metadata": {
    "colab": {
      "provenance": [],
      "collapsed_sections": []
    },
    "kernelspec": {
      "name": "python3",
      "display_name": "Python 3"
    }
  },
  "cells": [
    {
      "cell_type": "markdown",
      "metadata": {
        "id": "FK_ydPh4LxXZ"
      },
      "source": [
        "# Datawarehousing with MySQL - StartUP"
      ]
    },
    {
      "cell_type": "markdown",
      "metadata": {
        "id": "t2HbOmI3MPLA"
      },
      "source": [
        "based on the codes available with the book Dimensional Datawarehousing \n",
        "available here https://drive.google.com/file/d/1Sx6f1y2mXTswCllmyVgj_AsM9jVbOMnU/view?usp=sharing\n"
      ]
    },
    {
      "cell_type": "markdown",
      "metadata": {
        "id": "OrqMBE2dMBSO"
      },
      "source": [
        "# Install MySQL"
      ]
    },
    {
      "cell_type": "code",
      "metadata": {
        "id": "prBPJ6B0LmuU",
        "colab": {
          "base_uri": "https://localhost:8080/"
        },
        "outputId": "f9a4684d-91a5-4e76-ce16-b1804a8dabd1"
      },
      "source": [
        "!apt -y install mysql-server > /dev/null\n",
        "!/etc/init.d/mysql restart\n",
        "!mysql -e 'show databases'"
      ],
      "execution_count": null,
      "outputs": [
        {
          "output_type": "stream",
          "name": "stdout",
          "text": [
            "\n",
            "WARNING: apt does not have a stable CLI interface. Use with caution in scripts.\n",
            "\n",
            " * Stopping MySQL database server mysqld\n",
            "   ...done.\n",
            " * Starting MySQL database server mysqld\n",
            "No directory, logging in with HOME=/\n",
            "   ...done.\n",
            "+--------------------+\n",
            "| Database           |\n",
            "+--------------------+\n",
            "| information_schema |\n",
            "| mysql              |\n",
            "| performance_schema |\n",
            "| sys                |\n",
            "+--------------------+\n"
          ]
        }
      ]
    },
    {
      "cell_type": "markdown",
      "metadata": {
        "id": "nOQvvyv1M7fv"
      },
      "source": [
        "#Get Code & Data Files"
      ]
    },
    {
      "cell_type": "code",
      "metadata": {
        "id": "c1EmoFsTM_6P"
      },
      "source": [
        "#!wget https://brainysoftware.com/source/9780975212820.zip\n",
        "# archive available here https://drive.google.com/file/d/1qaiPXbxtIivCbBLmWiYvHMKAjAmNn2Y0/view?usp=sharing\n",
        "#!gdown https://drive.google.com/uc?id=1qaiPXbxtIivCbBLmWiYvHMKAjAmNn2Y0\n",
        "!wget -q -O dwCode.zip https://github.com/Praxis-QR/RDWH/blob/main/dwMySQL/dwCode.zip?raw=true"
      ],
      "execution_count": null,
      "outputs": []
    },
    {
      "cell_type": "code",
      "metadata": {
        "id": "Nwt2TeOCNGjW",
        "colab": {
          "base_uri": "https://localhost:8080/"
        },
        "outputId": "5b35ec1c-10e5-40e3-bbaa-65c9883ac1ce"
      },
      "source": [
        "#!unzip 9780975212820.zip\n",
        "!unzip dwCode.zip"
      ],
      "execution_count": null,
      "outputs": [
        {
          "output_type": "stream",
          "name": "stdout",
          "text": [
            "Archive:  dwCode.zip\n",
            "   creating: scripts/\n",
            "  inflating: scripts/across_all_dimensions.sql  \n",
            "  inflating: scripts/across_date.sql  \n",
            "  inflating: scripts/across_date_customer.sql  \n",
            "  inflating: scripts/across_date_product.sql  \n",
            "  inflating: scripts/additive_data.sql  \n",
            "  inflating: scripts/add_campaign_session.sql  \n",
            "  inflating: scripts/add_four_milestones.sql  \n",
            "  inflating: scripts/add_sales_order_quantity.sql  \n",
            "  inflating: scripts/add_two_sales_orders.sql  \n",
            "  inflating: scripts/annual_aggregation.sql  \n",
            "  inflating: scripts/annual_tables.sql  \n",
            "  inflating: scripts/balance_across_months.sql  \n",
            "  inflating: scripts/balance_across_products.sql  \n",
            "  inflating: scripts/band_dim.sql    \n",
            "  inflating: scripts/band_ini.sql    \n",
            "  inflating: scripts/band_regular.sql  \n",
            "  inflating: scripts/campaign_session.sql  \n",
            "  inflating: scripts/campaign_session_20.sql  \n",
            "  inflating: scripts/campaign_session_21.sql  \n",
            "  inflating: scripts/campaign_session_path.sql  \n",
            "  inflating: scripts/campaign_stg_20.sql  \n",
            "  inflating: scripts/campaign_stg_21.sql  \n",
            "  inflating: scripts/confirm_initial_population.sql  \n",
            "  inflating: scripts/create_campaign_stg.sql  \n",
            "  inflating: scripts/create_customer_stg.sql  \n",
            "  inflating: scripts/create_databases.sql  \n",
            "  inflating: scripts/create_dw_tables.sql  \n",
            "  inflating: scripts/create_four_date_views.sql  \n",
            "  inflating: scripts/create_month_end_sales_order_fact.sql  \n",
            "  inflating: scripts/create_product_stg.sql  \n",
            "  inflating: scripts/create_promo_schedule_stg.sql  \n",
            "  inflating: scripts/create_sales_order.sql  \n",
            "  inflating: scripts/create_user_id.sql  \n",
            "  inflating: scripts/customer_sk.sql  \n",
            "  inflating: scripts/daily_aggregation.sql  \n",
            "  inflating: scripts/daily_date.sql  \n",
            "  inflating: scripts/daily_production.sql  \n",
            "  inflating: scripts/daily_production_23.sql  \n",
            "  inflating: scripts/daily_production_data.sql  \n",
            "  inflating: scripts/database_view.sql  \n",
            "  inflating: scripts/date_views.sql  \n",
            "  inflating: scripts/date_view_22.sql  \n",
            "  inflating: scripts/degenerate.sql  \n",
            "  inflating: scripts/dimensional_query_data.sql  \n",
            "  inflating: scripts/drilling.sql    \n",
            "  inflating: scripts/dw_initial.sql  \n",
            "  inflating: scripts/dw_regular.sql  \n",
            "  inflating: scripts/dw_regular_10.sql  \n",
            "  inflating: scripts/dw_regular_11.sql  \n",
            "  inflating: scripts/dw_regular_12.sql  \n",
            "  inflating: scripts/dw_regular_13.sql  \n",
            "  inflating: scripts/dw_regular_14.sql  \n",
            "  inflating: scripts/dw_regular_17.sql  \n",
            "  inflating: scripts/dw_regular_18.sql  \n",
            "  inflating: scripts/dw_regular_21.sql  \n",
            "  inflating: scripts/dw_regular_22.sql  \n",
            "  inflating: scripts/dw_regular_23.sql  \n",
            "  inflating: scripts/entry_date.sql  \n",
            "  inflating: scripts/factory_ini.sql  \n",
            "  inflating: scripts/factory_master.sql  \n",
            "  inflating: scripts/factory_master_source.sql  \n",
            "  inflating: scripts/factory_stg.sql  \n",
            "  inflating: scripts/fill_help_tables.sql  \n",
            "  inflating: scripts/filtered_month_end_sales_order_fact.sql  \n",
            "  inflating: scripts/grouping.sql    \n",
            "  inflating: scripts/jan_month_end_balance_regular.sql  \n",
            "  inflating: scripts/junk_dim.sql    \n",
            "  inflating: scripts/load_product_stg.sql  \n",
            "  inflating: scripts/loyal_customer.sql  \n",
            "  inflating: scripts/monthly_product_performer.sql  \n",
            "  inflating: scripts/monthly_storage.sql  \n",
            "  inflating: scripts/month_end_balance_fact.sql  \n",
            "  inflating: scripts/month_end_balance_initial.sql  \n",
            "  inflating: scripts/month_end_balance_regular.sql  \n",
            "  inflating: scripts/month_end_sales_order.sql  \n",
            "  inflating: scripts/month_end_sales_order_22.sql  \n",
            "  inflating: scripts/month_rollup_dim.sql  \n",
            "  inflating: scripts/more_customer_sk.sql  \n",
            "  inflating: scripts/more_sales_order.sql  \n",
            "  inflating: scripts/mysql_fix_privilege_tables.sql  \n",
            "  inflating: scripts/new_customer_credit_check.sql  \n",
            "  inflating: scripts/non_pa_customer.sql  \n",
            "  inflating: scripts/nullify_campaign_session.sql  \n",
            "  inflating: scripts/on_demand.sql   \n",
            "  inflating: scripts/order_quantity.sql  \n",
            "  inflating: scripts/order_status.sql  \n",
            "  inflating: scripts/pa_customer.sql  \n",
            "  inflating: scripts/pre_populate_date.sql  \n",
            "  inflating: scripts/pre_populate_date_12.sql  \n",
            "  inflating: scripts/pre_populate_date_13.sql  \n",
            "  inflating: scripts/production_fact_23.sql  \n",
            "  inflating: scripts/production_regular.sql  \n",
            "  inflating: scripts/production_regular_23.sql  \n",
            "  inflating: scripts/product_count.sql  \n",
            "  inflating: scripts/product_count_ini.sql  \n",
            "  inflating: scripts/product_launch_date_dim.sql  \n",
            "  inflating: scripts/promotion_indicator.sql  \n",
            "  inflating: scripts/push_data.sql   \n",
            "  inflating: scripts/push_sales_order.sql  \n",
            "  inflating: scripts/quarterly_mechanicsburg.sql  \n",
            "  inflating: scripts/quarter_path.sql  \n",
            "  inflating: scripts/ragged_campaign.sql  \n",
            "  inflating: scripts/readme 1st      \n",
            "  inflating: scripts/readme 1st for scripts.txt  \n",
            "  inflating: scripts/remove_campaign.sql  \n",
            "  inflating: scripts/request_delivery_date.sql  \n",
            "  inflating: scripts/request_delivery_date_sk.sql  \n",
            "  inflating: scripts/request_delivery_date_source.sql  \n",
            "  inflating: scripts/sales_orders_24_ini.sql  \n",
            "  inflating: scripts/sales_orders_24_reg.sql  \n",
            "  inflating: scripts/sales_orders_step3.sql  \n",
            "  inflating: scripts/sales_orders_step5.sql  \n",
            "  inflating: scripts/sales_order_17.sql  \n",
            "  inflating: scripts/sales_order_18.sql  \n",
            "  inflating: scripts/sales_order_22.sql  \n",
            "  inflating: scripts/sales_order_23.sql  \n",
            "  inflating: scripts/sales_order_attributes.sql  \n",
            "  inflating: scripts/sales_order_attribute_sk.sql  \n",
            "  inflating: scripts/sales_order_fact_23.sql  \n",
            "  inflating: scripts/sales_order_initial.sql  \n",
            "  inflating: scripts/sales_order_quantity_data.sql  \n",
            "  inflating: scripts/sales_order_regular.sql  \n",
            "  inflating: scripts/scd1.sql        \n",
            "  inflating: scripts/scd2.sql        \n",
            "  inflating: scripts/segmentation.sql  \n",
            "  inflating: scripts/shipping_address.sql  \n",
            "  inflating: scripts/source_date.sql  \n",
            "  inflating: scripts/special_dates.sql  \n",
            "  inflating: scripts/table_alias.sql  \n",
            "  inflating: scripts/third_star_tables.sql  \n",
            "  inflating: scripts/track_launch_expiry.sql  \n",
            "  inflating: scripts/truncate_tables.sql  \n",
            "  inflating: scripts/two_more_customers.sql  \n",
            "  inflating: scripts/zip_code_dim.sql  \n",
            "  inflating: scripts/zip_code_population.sql  \n",
            "  inflating: scripts/zip_code_stg.sql  \n",
            "   creating: source_data/\n",
            "  inflating: source_data/campaign_session.csv  \n",
            "  inflating: source_data/customer10.csv  \n",
            "  inflating: source_data/customer2.csv  \n",
            "  inflating: source_data/customer23.csv  \n",
            "  inflating: source_data/customer8.csv  \n",
            "  inflating: source_data/factory19.csv  \n",
            "  inflating: source_data/factory23.csv  \n",
            "  inflating: source_data/non_straight_campaign.csv  \n",
            "  inflating: source_data/product2-1.txt  \n",
            "  inflating: source_data/product2-2.txt  \n",
            "  inflating: source_data/product21.txt  \n",
            "  inflating: source_data/product8.txt  \n",
            "  inflating: source_data/promo_schedule.csv  \n",
            "  inflating: source_data/ragged_campaign.csv  \n",
            "  inflating: source_data/readme 1st for data.txt  \n",
            "  inflating: source_data/zip_code.csv  \n"
          ]
        }
      ]
    },
    {
      "cell_type": "markdown",
      "metadata": {
        "id": "Zil5Adr9VaBJ"
      },
      "source": [
        "#Part 1 - Fundamentals"
      ]
    },
    {
      "cell_type": "markdown",
      "metadata": {
        "id": "QEpHP07dO4rw"
      },
      "source": [
        "## Chapter 1 Initial Setup"
      ]
    },
    {
      "cell_type": "code",
      "metadata": {
        "id": "cSLD3G1wO8jU"
      },
      "source": [
        "#Create User ID\n",
        "#!cat scripts/create_user_id.sql\n",
        "!mysql < scripts/create_user_id.sql"
      ],
      "execution_count": null,
      "outputs": []
    },
    {
      "cell_type": "code",
      "metadata": {
        "id": "lTv3xq9zPpfN",
        "colab": {
          "base_uri": "https://localhost:8080/"
        },
        "outputId": "1637e18e-fd83-4e4c-86b8-372d2abdd381"
      },
      "source": [
        "#!cat scripts/create_databases.sql\n",
        "!mysql -udwid -ppw < scripts/create_databases.sql"
      ],
      "execution_count": null,
      "outputs": [
        {
          "output_type": "stream",
          "name": "stdout",
          "text": [
            "mysql: [Warning] Using a password on the command line interface can be insecure.\n"
          ]
        }
      ]
    },
    {
      "cell_type": "code",
      "source": [
        "!mysql -udwid -ppw -e \"show databases like 'dw'\""
      ],
      "metadata": {
        "colab": {
          "base_uri": "https://localhost:8080/"
        },
        "id": "rKKkjgY_4yH1",
        "outputId": "1ec96d32-df25-4211-b8ae-3425297e22ea"
      },
      "execution_count": null,
      "outputs": [
        {
          "output_type": "stream",
          "name": "stdout",
          "text": [
            "mysql: [Warning] Using a password on the command line interface can be insecure.\n",
            "+---------------+\n",
            "| Database (dw) |\n",
            "+---------------+\n",
            "| dw            |\n",
            "+---------------+\n"
          ]
        }
      ]
    },
    {
      "cell_type": "code",
      "metadata": {
        "id": "rHQbTlYeQK9i",
        "colab": {
          "base_uri": "https://localhost:8080/"
        },
        "outputId": "3d91d3ba-6d2c-4a3a-dd82-ee69d388f58e"
      },
      "source": [
        "#!cat scripts/create_dw_tables.sql\n",
        "!mysql -udwid -ppw < scripts/create_dw_tables.sql"
      ],
      "execution_count": null,
      "outputs": [
        {
          "output_type": "stream",
          "name": "stdout",
          "text": [
            "mysql: [Warning] Using a password on the command line interface can be insecure.\n"
          ]
        }
      ]
    },
    {
      "cell_type": "code",
      "metadata": {
        "id": "iokF4U1yT4i-",
        "colab": {
          "base_uri": "https://localhost:8080/"
        },
        "outputId": "34a9d18a-bd9a-4c43-bfed-18f0b639231d"
      },
      "source": [
        "!mysql dw -e \"show tables\""
      ],
      "execution_count": null,
      "outputs": [
        {
          "output_type": "stream",
          "name": "stdout",
          "text": [
            "+------------------+\n",
            "| Tables_in_dw     |\n",
            "+------------------+\n",
            "| customer_dim     |\n",
            "| date_dim         |\n",
            "| order_dim        |\n",
            "| product_dim      |\n",
            "| sales_order_fact |\n",
            "+------------------+\n"
          ]
        }
      ]
    },
    {
      "cell_type": "code",
      "metadata": {
        "id": "pwpjWuikUj-E",
        "colab": {
          "base_uri": "https://localhost:8080/"
        },
        "outputId": "27fd27ec-994b-486b-faae-cb733a8510c0"
      },
      "source": [
        "!mysql -udwid -ppw < scripts/customer_sk.sql"
      ],
      "execution_count": null,
      "outputs": [
        {
          "output_type": "stream",
          "name": "stdout",
          "text": [
            "mysql: [Warning] Using a password on the command line interface can be insecure.\n"
          ]
        }
      ]
    },
    {
      "cell_type": "code",
      "metadata": {
        "id": "kjlbWVCtUpoA",
        "colab": {
          "base_uri": "https://localhost:8080/"
        },
        "outputId": "42054a1e-e278-4b05-eae5-b702a9ad775f"
      },
      "source": [
        "!mysql -udwid -ppw < scripts/more_customer_sk.sql"
      ],
      "execution_count": null,
      "outputs": [
        {
          "output_type": "stream",
          "name": "stdout",
          "text": [
            "mysql: [Warning] Using a password on the command line interface can be insecure.\n"
          ]
        }
      ]
    },
    {
      "cell_type": "code",
      "metadata": {
        "id": "WWihWfsgVBOI",
        "colab": {
          "base_uri": "https://localhost:8080/"
        },
        "outputId": "970b9ee0-a903-44e6-cafa-a05d06f5ad6f"
      },
      "source": [
        "!mysql dw -e \"select * from customer_dim\""
      ],
      "execution_count": null,
      "outputs": [
        {
          "output_type": "stream",
          "name": "stdout",
          "text": [
            "+-------------+-----------------+------------------+-------------------------+-------------------+---------------+----------------+----------------+-------------+\n",
            "| customer_sk | customer_number | customer_name    | customer_street_address | customer_zip_code | customer_city | customer_state | effective_date | expiry_date |\n",
            "+-------------+-----------------+------------------+-------------------------+-------------------+---------------+----------------+----------------+-------------+\n",
            "|           1 |               1 | Big Customers    | 7500 Louise Dr.         |             17050 | Mechanicsburg | PA             | 2022-09-29     | 9999-12-31  |\n",
            "|           2 |               2 | Small Stores     | 2500 Woodland St.       |             17055 | Pittsburgh    | PA             | 2022-09-29     | 9999-12-31  |\n",
            "|           3 |               3 | Medium Retailers | 1111 Ritter Rd.         |             17055 | Pittsburgh    | PA             | 2022-09-29     | 9999-12-31  |\n",
            "|           4 |               4 | Good Companies   | 9500 Scott St.          |             17050 | Mechanicsburg | PA             | 2022-09-29     | 9999-12-31  |\n",
            "|           5 |               5 | Wonderful Shops  | 3333 Rossmoyne Rd.      |             17050 | Mechanicsburg | PA             | 2022-09-29     | 9999-12-31  |\n",
            "|           6 |               6 | Loyal Clients    | 7070 Ritter Rd.         |             17055 | Pittsburgh    | PA             | 2022-09-29     | 9999-12-31  |\n",
            "+-------------+-----------------+------------------+-------------------------+-------------------+---------------+----------------+----------------+-------------+\n"
          ]
        }
      ]
    },
    {
      "cell_type": "code",
      "metadata": {
        "id": "bn6YCvqjVJEN"
      },
      "source": [
        "#since it was not possible to set the system date on Colab, the date was changed manually\n",
        "!mysql dw -e \"update customer_dim set effective_date = '2007-02-01' \""
      ],
      "execution_count": null,
      "outputs": []
    },
    {
      "cell_type": "code",
      "metadata": {
        "id": "oaibHoSuVNAy",
        "outputId": "2d16876e-36ac-4f72-cad8-5f7dabf05fb7",
        "colab": {
          "base_uri": "https://localhost:8080/"
        }
      },
      "source": [
        "!mysql dw -e \"select * from customer_dim\""
      ],
      "execution_count": null,
      "outputs": [
        {
          "output_type": "stream",
          "name": "stdout",
          "text": [
            "+-------------+-----------------+------------------+-------------------------+-------------------+---------------+----------------+----------------+-------------+\n",
            "| customer_sk | customer_number | customer_name    | customer_street_address | customer_zip_code | customer_city | customer_state | effective_date | expiry_date |\n",
            "+-------------+-----------------+------------------+-------------------------+-------------------+---------------+----------------+----------------+-------------+\n",
            "|           1 |               1 | Big Customers    | 7500 Louise Dr.         |             17050 | Mechanicsburg | PA             | 2007-02-01     | 9999-12-31  |\n",
            "|           2 |               2 | Small Stores     | 2500 Woodland St.       |             17055 | Pittsburgh    | PA             | 2007-02-01     | 9999-12-31  |\n",
            "|           3 |               3 | Medium Retailers | 1111 Ritter Rd.         |             17055 | Pittsburgh    | PA             | 2007-02-01     | 9999-12-31  |\n",
            "|           4 |               4 | Good Companies   | 9500 Scott St.          |             17050 | Mechanicsburg | PA             | 2007-02-01     | 9999-12-31  |\n",
            "|           5 |               5 | Wonderful Shops  | 3333 Rossmoyne Rd.      |             17050 | Mechanicsburg | PA             | 2007-02-01     | 9999-12-31  |\n",
            "|           6 |               6 | Loyal Clients    | 7070 Ritter Rd.         |             17055 | Pittsburgh    | PA             | 2007-02-01     | 9999-12-31  |\n",
            "+-------------+-----------------+------------------+-------------------------+-------------------+---------------+----------------+----------------+-------------+\n"
          ]
        }
      ]
    },
    {
      "cell_type": "markdown",
      "source": [
        "Creating Staging Table & Applying SCD1"
      ],
      "metadata": {
        "id": "76ernYnxAuKE"
      }
    },
    {
      "cell_type": "code",
      "source": [
        "#!mysql -udwid -ppw < scripts/create_customer_stg.sql #Load command does not work in colab\n",
        "!mysql dw -e \"DROP IF TABLE EXISTS customer_stg\"\n",
        "!mysql dw -e \"CREATE TABLE customer_stg (customer_number INT, customer_name CHAR (30) ,customer_street_address CHAR (30), customer_zip_code INT (5), customer_city CHAR (30),customer_state CHAR (2))\"\n",
        "!mysql dw -e \"INSERT INTO customer_stg (customer_number, customer_name, customer_street_address,customer_zip_code,customer_city,country,customer_state) VALUES (1,'Really Large Customers', '7500 Louise Dr.', '17050', 'Mechanicsburg',' PA'),(2,'Small Stores','2500 Woodland St.','17055','Pittsburgh','PA'),(3,'Medium Retailers','1111 Ritter Rd'.,'17055','Pittsburgh','PA'),(4,'Good Companies',' 9500 Scott St.','17050', 'Mechanicsburg','PA'),(5,'Wonderful Shops', '3333 Rossmoyne Rd.', '17050', 'Mechanicsburg', 'PA'),(6,'Loyal Clients', '7070 Ritter Rd.', '17055', 'Pittsburgh, PA'),(7,'Distinguished Partners','9999 Scott St.', '17050', 'Mechanicsburg', 'PA')\"\n",
        "\n"
      ],
      "metadata": {
        "colab": {
          "base_uri": "https://localhost:8080/"
        },
        "id": "NJ4IV7hY9axw",
        "outputId": "581fd13c-a421-4fa6-ec99-f12af351d51d"
      },
      "execution_count": null,
      "outputs": [
        {
          "output_type": "stream",
          "name": "stdout",
          "text": [
            "ERROR 1064 (42000) at line 1: You have an error in your SQL syntax; check the manual that corresponds to your MySQL server version for the right syntax to use near 'IF TABLE EXISTS customer_stg' at line 1\n",
            "ERROR 1050 (42S01) at line 1: Table 'customer_stg' already exists\n",
            "ERROR 1064 (42000) at line 1: You have an error in your SQL syntax; check the manual that corresponds to your MySQL server version for the right syntax to use near '.,'17055','Pittsburgh','PA'),(4,'Good Companies',' 9500 Scott St.','17050', 'Mec' at line 1\n"
          ]
        }
      ]
    },
    {
      "cell_type": "code",
      "source": [
        "!mysql -udwid -ppw < scripts/create_customer_stg.sql"
      ],
      "metadata": {
        "colab": {
          "base_uri": "https://localhost:8080/"
        },
        "id": "vB9dxvN4t9Ro",
        "outputId": "7167b83b-861f-4268-ca2f-0dc70bd3714a"
      },
      "execution_count": null,
      "outputs": [
        {
          "output_type": "stream",
          "name": "stdout",
          "text": [
            "mysql: [Warning] Using a password on the command line interface can be insecure.\n",
            "ERROR 1050 (42S01) at line 13: Table 'customer_stg' already exists\n"
          ]
        }
      ]
    },
    {
      "cell_type": "code",
      "source": [
        "!mysql dw -e \"update customer_dim set effective_date = '2007-02-02' \""
      ],
      "metadata": {
        "id": "lkIavWio-cHs"
      },
      "execution_count": null,
      "outputs": []
    },
    {
      "cell_type": "code",
      "source": [
        "!mysql -udwid -ppw < scripts/scd1.sql"
      ],
      "metadata": {
        "colab": {
          "base_uri": "https://localhost:8080/"
        },
        "id": "cTJs5SR94Bt9",
        "outputId": "e6176f1d-2f1c-42a2-e625-a8aa4a5ff95f"
      },
      "execution_count": null,
      "outputs": [
        {
          "output_type": "stream",
          "name": "stdout",
          "text": [
            "mysql: [Warning] Using a password on the command line interface can be insecure.\n"
          ]
        }
      ]
    },
    {
      "cell_type": "code",
      "source": [
        "!mysql dw -e \"select * from customer_dim\""
      ],
      "metadata": {
        "id": "K6L7cZIV3-Bu"
      },
      "execution_count": null,
      "outputs": []
    },
    {
      "cell_type": "code",
      "source": [
        "!mysql -udwid -ppw < scripts/create_product_stg.sql"
      ],
      "metadata": {
        "colab": {
          "base_uri": "https://localhost:8080/"
        },
        "id": "uIzqmy1OC1fg",
        "outputId": "41256bcf-42f7-4f9e-ac48-1c2167b863b7"
      },
      "execution_count": null,
      "outputs": [
        {
          "output_type": "stream",
          "name": "stdout",
          "text": [
            "mysql: [Warning] Using a password on the command line interface can be insecure.\n"
          ]
        }
      ]
    },
    {
      "cell_type": "code",
      "source": [
        "!mysql -udwid -ppw < scripts/load_product_stg.sql"
      ],
      "metadata": {
        "colab": {
          "base_uri": "https://localhost:8080/"
        },
        "id": "L8YgrkWO9iPm",
        "outputId": "604b1370-9d55-4696-c482-cdbb36ad4298"
      },
      "execution_count": null,
      "outputs": [
        {
          "output_type": "stream",
          "name": "stdout",
          "text": [
            "mysql: [Warning] Using a password on the command line interface can be insecure.\n",
            "ERROR 1290 (HY000) at line 17: The MySQL server is running with the --secure-file-priv option so it cannot execute this statement\n"
          ]
        }
      ]
    },
    {
      "cell_type": "code",
      "source": [
        "!mysql dw -e \"update customer_dim set effective_date = '2007-02-03' \"\n"
      ],
      "metadata": {
        "id": "Zl4SyPn-C9o2"
      },
      "execution_count": null,
      "outputs": []
    },
    {
      "cell_type": "code",
      "source": [
        "!mysql -udwid -ppw < scripts/scd2.sql"
      ],
      "metadata": {
        "colab": {
          "base_uri": "https://localhost:8080/"
        },
        "id": "xHDO80SsDH2u",
        "outputId": "80bc5d32-f286-4fb7-fe39-08e249cf029b"
      },
      "execution_count": null,
      "outputs": [
        {
          "output_type": "stream",
          "name": "stdout",
          "text": [
            "mysql: [Warning] Using a password on the command line interface can be insecure.\n"
          ]
        }
      ]
    },
    {
      "cell_type": "code",
      "source": [
        "!mysql dw -e \"Select * from product_dim\""
      ],
      "metadata": {
        "id": "6oaReQ2vDSJd"
      },
      "execution_count": null,
      "outputs": []
    },
    {
      "cell_type": "code",
      "source": [
        "!mysql dw -e \"update customer_dim set effective_date = '2007-02-05' \""
      ],
      "metadata": {
        "id": "PiwpveJMDvL2"
      },
      "execution_count": null,
      "outputs": []
    },
    {
      "cell_type": "code",
      "source": [
        "!mysql -udwid -ppw < scripts/load_product_stg.sql"
      ],
      "metadata": {
        "colab": {
          "base_uri": "https://localhost:8080/"
        },
        "id": "9M7qPab3D0gO",
        "outputId": "74a16687-951b-4fb3-a5e9-686a3e86f897"
      },
      "execution_count": null,
      "outputs": [
        {
          "output_type": "stream",
          "name": "stdout",
          "text": [
            "mysql: [Warning] Using a password on the command line interface can be insecure.\n",
            "ERROR 1290 (HY000) at line 17: The MySQL server is running with the --secure-file-priv option so it cannot execute this statement\n"
          ]
        }
      ]
    },
    {
      "cell_type": "code",
      "source": [
        "!mysql -udwid -ppw < scripts/scd2.sql"
      ],
      "metadata": {
        "colab": {
          "base_uri": "https://localhost:8080/"
        },
        "id": "kNOa1qGsD5e2",
        "outputId": "90c875e6-6244-492a-8bf2-952cb69c536b"
      },
      "execution_count": null,
      "outputs": [
        {
          "output_type": "stream",
          "name": "stdout",
          "text": [
            "mysql: [Warning] Using a password on the command line interface can be insecure.\n"
          ]
        }
      ]
    },
    {
      "cell_type": "code",
      "source": [
        "!mysql dw -e \"Select * from product_dim\""
      ],
      "metadata": {
        "id": "39Ba27NuDfA1"
      },
      "execution_count": null,
      "outputs": []
    },
    {
      "cell_type": "code",
      "source": [
        "!mysql -udwid -ppw < scripts/additive_data.sql"
      ],
      "metadata": {
        "colab": {
          "base_uri": "https://localhost:8080/"
        },
        "id": "JHmMPPf0EHQu",
        "outputId": "10126d8f-c0cb-4335-df10-84c4eabd2ece"
      },
      "execution_count": null,
      "outputs": [
        {
          "output_type": "stream",
          "name": "stdout",
          "text": [
            "mysql: [Warning] Using a password on the command line interface can be insecure.\n"
          ]
        }
      ]
    },
    {
      "cell_type": "code",
      "source": [
        "!mysql -udwid -ppw < scripts/across_all_dimensions.sql"
      ],
      "metadata": {
        "colab": {
          "base_uri": "https://localhost:8080/"
        },
        "id": "EhdnezBAELj2",
        "outputId": "f697421d-374f-4f83-bcc1-c877fa0b7820"
      },
      "execution_count": null,
      "outputs": [
        {
          "output_type": "stream",
          "name": "stdout",
          "text": [
            "mysql: [Warning] Using a password on the command line interface can be insecure.\n",
            "sum_of_order_amount\n",
            "58000.00\n"
          ]
        }
      ]
    },
    {
      "cell_type": "code",
      "source": [
        "!mysql -udwid -ppw < scripts/across_date_product.sql"
      ],
      "metadata": {
        "colab": {
          "base_uri": "https://localhost:8080/"
        },
        "id": "F9bnrTeVHqTd",
        "outputId": "840e1590-e4ee-4cf5-c981-4d8f07c6c44c"
      },
      "execution_count": null,
      "outputs": [
        {
          "output_type": "stream",
          "name": "stdout",
          "text": [
            "mysql: [Warning] Using a password on the command line interface can be insecure.\n",
            "customer_number\tsum_of_order_amount\n",
            "1\t7000.00\n",
            "2\t9000.00\n",
            "3\t12000.00\n",
            "4\t14000.00\n",
            "5\t16000.00\n"
          ]
        }
      ]
    },
    {
      "cell_type": "code",
      "source": [
        "#!mysql -udwid -ppw < scripts/across_date_customer_order.sql - file not present in the zipped folder\n",
        "!mysql dw -e \"SELECT product_code,SUM(order_amount) sum_of_order_amount FROM sales_order_fact a, product_dim b WHERE a.product_sk = b.product_sk GROUP BY product_code\"\n"
      ],
      "metadata": {
        "id": "YXn4HDf8IGkE"
      },
      "execution_count": null,
      "outputs": []
    },
    {
      "cell_type": "code",
      "source": [
        "!mysql -udwid -ppw < scripts/across_date_customer.sql #file not present in the zipped folder"
      ],
      "metadata": {
        "colab": {
          "base_uri": "https://localhost:8080/"
        },
        "id": "_M8RJBM0JChM",
        "outputId": "1bebe581-1151-41fe-b636-2fcbab487e06"
      },
      "execution_count": null,
      "outputs": [
        {
          "output_type": "stream",
          "name": "stdout",
          "text": [
            "mysql: [Warning] Using a password on the command line interface can be insecure.\n"
          ]
        }
      ]
    },
    {
      "cell_type": "code",
      "source": [
        "!mysql -udwid -ppw < scripts/across_date.sql"
      ],
      "metadata": {
        "colab": {
          "base_uri": "https://localhost:8080/"
        },
        "id": "xrOD39XCJvr7",
        "outputId": "b9836f15-e439-4455-b3c0-0977f9e76fc1"
      },
      "execution_count": null,
      "outputs": [
        {
          "output_type": "stream",
          "name": "stdout",
          "text": [
            "mysql: [Warning] Using a password on the command line interface can be insecure.\n"
          ]
        }
      ]
    },
    {
      "cell_type": "code",
      "source": [
        "!mysql dw -e \"update customer_dim set effective_date = '2007-02-06' \""
      ],
      "metadata": {
        "id": "NHwLShaoKklQ"
      },
      "execution_count": null,
      "outputs": []
    },
    {
      "cell_type": "code",
      "source": [
        "!mysql -udwid -ppw < scripts/dimensional_query_data.sql"
      ],
      "metadata": {
        "colab": {
          "base_uri": "https://localhost:8080/"
        },
        "id": "q53Vzu-SJ-nz",
        "outputId": "8453a255-a2de-4f3b-b5fe-efabadf92f30"
      },
      "execution_count": null,
      "outputs": [
        {
          "output_type": "stream",
          "name": "stdout",
          "text": [
            "mysql: [Warning] Using a password on the command line interface can be insecure.\n"
          ]
        }
      ]
    },
    {
      "cell_type": "code",
      "source": [
        "!mysql dw -e \" USE dw ,SELECT date,SUM (order_amount),COUNT(*) FROM ,sales_order_fact a ,date_dim b WHERE a.order_date_sk = b.date_sk GROUP BY date ORDER BY date\"\n",
        "#daily_aggregation error #databse is not selected in the code within the file & editing it in the console with USE dw does not give output"
      ],
      "metadata": {
        "id": "pssu1sRFLdSk"
      },
      "execution_count": null,
      "outputs": []
    },
    {
      "cell_type": "code",
      "source": [
        "!mysql -udwid -ppw < scripts/daily_aggregation.sql #databse is not selected in the code within the file & editing it in the console with USE dw does not give output"
      ],
      "metadata": {
        "colab": {
          "base_uri": "https://localhost:8080/"
        },
        "id": "GkQKp0FfKtrc",
        "outputId": "bfaa76e3-341a-4ca0-c932-b3564b18168d"
      },
      "execution_count": null,
      "outputs": [
        {
          "output_type": "stream",
          "name": "stdout",
          "text": [
            "mysql: [Warning] Using a password on the command line interface can be insecure.\n",
            "ERROR 1046 (3D000) at line 7: No database selected\n"
          ]
        }
      ]
    },
    {
      "cell_type": "code",
      "source": [
        "!mysql -udwid -ppw < scripts/annual_aggregation.sql #databse is not selected in the code within the file & editing it in the console with USE dw does not give output"
      ],
      "metadata": {
        "colab": {
          "base_uri": "https://localhost:8080/"
        },
        "id": "_RK9rteGMJUT",
        "outputId": "1ceccb66-f0d0-47c1-aa51-9a5e22b5aceb"
      },
      "execution_count": null,
      "outputs": [
        {
          "output_type": "stream",
          "name": "stdout",
          "text": [
            "mysql: [Warning] Using a password on the command line interface can be insecure.\n",
            "ERROR 1046 (3D000) at line 7: No database selected\n"
          ]
        }
      ]
    },
    {
      "cell_type": "code",
      "source": [
        "!mysql -udwid -ppw < scripts/monthly_storage.sql #no output in colab console"
      ],
      "metadata": {
        "colab": {
          "base_uri": "https://localhost:8080/"
        },
        "id": "oUueqhnXM0Z6",
        "outputId": "895d6c8c-d588-46bf-c2dd-e41d404c4ed2"
      },
      "execution_count": null,
      "outputs": [
        {
          "output_type": "stream",
          "name": "stdout",
          "text": [
            "mysql: [Warning] Using a password on the command line interface can be insecure.\n"
          ]
        }
      ]
    },
    {
      "cell_type": "code",
      "source": [
        "!mysql -udwid -ppw < scripts/quarterly_mechanicsburg.sql"
      ],
      "metadata": {
        "colab": {
          "base_uri": "https://localhost:8080/"
        },
        "id": "175pDaHvNSXC",
        "outputId": "5ec3bee0-d783-4576-e1a6-1b9e937bca0b"
      },
      "execution_count": null,
      "outputs": [
        {
          "output_type": "stream",
          "name": "stdout",
          "text": [
            "mysql: [Warning] Using a password on the command line interface can be insecure.\n",
            "customer_city\tquarter\tyear\tSUM(order_amount)\tCOUNT(order_sk)\n",
            "Mechanicsburg\t4\t2005\t177000.00\t10\n"
          ]
        }
      ]
    },
    {
      "cell_type": "code",
      "source": [
        "!mysql -udwid -ppw < scripts/monthly_product_performer.sql\n",
        "#Group by has month_name & Order by has month"
      ],
      "metadata": {
        "colab": {
          "base_uri": "https://localhost:8080/"
        },
        "id": "c8bMHVoZNYcK",
        "outputId": "496de04b-177d-4f3e-b188-7cbcc7cff6c0"
      },
      "execution_count": null,
      "outputs": [
        {
          "output_type": "stream",
          "name": "stdout",
          "text": [
            "mysql: [Warning] Using a password on the command line interface can be insecure.\n",
            "ERROR 1055 (42000) at line 9: Expression #1 of ORDER BY clause is not in GROUP BY clause and contains nonaggregated column 'dw.c.month' which is not functionally dependent on columns in GROUP BY clause; this is incompatible with sql_mode=only_full_group_by\n"
          ]
        }
      ]
    },
    {
      "cell_type": "code",
      "source": [
        "!mysql dw -e \"USE dw SELECT month_name, year, product_name, SUM (order_amount), COUNT(*) FROM sales_order_fact a, product_dim b, date_dim c WHERE a.product_sk = b.product_sk] AND a.order_date_sk = c.date_sk GROUP BY month_name, year, product_name HAVING SUM (order_amount) >= 75000 ORDER BY month_name , year, product_name\"\n",
        "#Have corrected the month_name in Order by but no output\n"
      ],
      "metadata": {
        "id": "Ol8TQ3DZO0on"
      },
      "execution_count": null,
      "outputs": []
    },
    {
      "cell_type": "code",
      "source": [
        "!mysql -udwid -ppw < scripts/loyal_customer.sql"
      ],
      "metadata": {
        "colab": {
          "base_uri": "https://localhost:8080/"
        },
        "id": "xKmzwaxzPhOK",
        "outputId": "e355f7e9-b656-49b2-bc95-f06027c79fac"
      },
      "execution_count": null,
      "outputs": [
        {
          "output_type": "stream",
          "name": "stdout",
          "text": [
            "mysql: [Warning] Using a password on the command line interface can be insecure.\n",
            "customer_number\tyear\tCOUNT(*)\n",
            "1\t2005\t4\n"
          ]
        }
      ]
    },
    {
      "cell_type": "code",
      "source": [
        "!mysql -udwid -ppw < scripts/push_sales_order.sql #Push by source CDC on Sales Orders Extraction"
      ],
      "metadata": {
        "colab": {
          "base_uri": "https://localhost:8080/"
        },
        "id": "SGbb1cptPqyS",
        "outputId": "fbd44024-cf88-4b44-b701-9fb4d4e117db"
      },
      "execution_count": null,
      "outputs": [
        {
          "output_type": "stream",
          "name": "stdout",
          "text": [
            "mysql: [Warning] Using a password on the command line interface can be insecure.\n"
          ]
        }
      ]
    },
    {
      "cell_type": "code",
      "source": [
        "!mysql dw -e \"show procedure status like 'push_sales_order'\""
      ],
      "metadata": {
        "colab": {
          "base_uri": "https://localhost:8080/"
        },
        "id": "vM2Arz5ST6_I",
        "outputId": "92fd0c72-129f-48ce-a3ff-582e02e6f104"
      },
      "execution_count": null,
      "outputs": [
        {
          "output_type": "stream",
          "name": "stdout",
          "text": [
            "+--------+------------------+-----------+----------------+---------------------+---------------------+---------------+---------+----------------------+----------------------+--------------------+\n",
            "| Db     | Name             | Type      | Definer        | Modified            | Created             | Security_type | Comment | character_set_client | collation_connection | Database Collation |\n",
            "+--------+------------------+-----------+----------------+---------------------+---------------------+---------------+---------+----------------------+----------------------+--------------------+\n",
            "| source | push_sales_order | PROCEDURE | dwid@localhost | 2022-09-29 05:30:30 | 2022-09-29 05:30:30 | DEFINER       |         | utf8                 | utf8_general_ci      | latin1_swedish_ci  |\n",
            "+--------+------------------+-----------+----------------+---------------------+---------------------+---------------+---------+----------------------+----------------------+--------------------+\n"
          ]
        }
      ]
    },
    {
      "cell_type": "code",
      "source": [
        "!mysql dw -e \"update customer_dim set effective_date = '2007-02-07' \" "
      ],
      "metadata": {
        "id": "qfEXHJ84U24t"
      },
      "execution_count": null,
      "outputs": []
    },
    {
      "cell_type": "code",
      "source": [
        "!mysql source -e \"use source\" #using source database"
      ],
      "metadata": {
        "id": "HCJaN_kkVRUF"
      },
      "execution_count": null,
      "outputs": []
    },
    {
      "cell_type": "code",
      "source": [
        "!mysql source -e \"call push_sales_order()\" #calling push_sales_order procedure"
      ],
      "metadata": {
        "colab": {
          "base_uri": "https://localhost:8080/"
        },
        "id": "gCXzlFucVSut",
        "outputId": "18d4b199-5354-4be2-8866-c2c4db89d95d"
      },
      "execution_count": null,
      "outputs": [
        {
          "output_type": "stream",
          "name": "stdout",
          "text": [
            "ERROR 1146 (42S02) at line 1: Table 'source.sales_order' doesn't exist\n"
          ]
        }
      ]
    },
    {
      "cell_type": "code",
      "source": [
        "!mysql dw -e \"use dw\" #changing datbase to dw"
      ],
      "metadata": {
        "id": "8rTs9jDFVu5w"
      },
      "execution_count": null,
      "outputs": []
    },
    {
      "cell_type": "code",
      "source": [
        "!mysql dw -e \"select* from sales_order_fact\""
      ],
      "metadata": {
        "colab": {
          "base_uri": "https://localhost:8080/"
        },
        "id": "pFP0sOmOV4NQ",
        "outputId": "2c45edfa-9e52-4525-d1e1-e242ab26c31e"
      },
      "execution_count": null,
      "outputs": [
        {
          "output_type": "stream",
          "name": "stdout",
          "text": [
            "+----------+-------------+------------+---------------+--------------+\n",
            "| order_sk | customer_sk | product_sk | order_date_sk | order_amount |\n",
            "+----------+-------------+------------+---------------+--------------+\n",
            "|        1 |           1 |          2 |             1 |      1000.00 |\n",
            "|        2 |           2 |          3 |             1 |      1000.00 |\n",
            "|        3 |           3 |          4 |             1 |      4000.00 |\n",
            "|        4 |           4 |          2 |             1 |      4000.00 |\n",
            "|        5 |           5 |          3 |             1 |      6000.00 |\n",
            "|        6 |           1 |          4 |             1 |      6000.00 |\n",
            "|        7 |           2 |          2 |             1 |      8000.00 |\n",
            "|        8 |           3 |          3 |             1 |      8000.00 |\n",
            "|        9 |           4 |          4 |             1 |     10000.00 |\n",
            "|       10 |           5 |          2 |             1 |     10000.00 |\n",
            "|       11 |           1 |          2 |             2 |     20000.00 |\n",
            "|       12 |           2 |          3 |             2 |     25000.00 |\n",
            "|       13 |           3 |          4 |             2 |     30000.00 |\n",
            "|       14 |           4 |          2 |             2 |     35000.00 |\n",
            "|       15 |           5 |          3 |             2 |     40000.00 |\n",
            "|       16 |           1 |          4 |             2 |     45000.00 |\n",
            "+----------+-------------+------------+---------------+--------------+\n"
          ]
        }
      ]
    },
    {
      "cell_type": "code",
      "source": [
        "!mysql -udwid -ppw < scripts/create_sales_order.sql #Testing"
      ],
      "metadata": {
        "colab": {
          "base_uri": "https://localhost:8080/"
        },
        "id": "ePNrvekvULBJ",
        "outputId": "c72a039c-5c53-4fce-c120-df84bbc3e79f"
      },
      "execution_count": null,
      "outputs": [
        {
          "output_type": "stream",
          "name": "stdout",
          "text": [
            "mysql: [Warning] Using a password on the command line interface can be insecure.\n"
          ]
        }
      ]
    },
    {
      "cell_type": "code",
      "source": [
        "!mysql -udwid -ppw < scripts/push_data.sql #Testing"
      ],
      "metadata": {
        "colab": {
          "base_uri": "https://localhost:8080/"
        },
        "id": "8iFScOk1Ulg4",
        "outputId": "6f864b43-35cf-4939-c6bb-4fc9dc1b0342"
      },
      "execution_count": null,
      "outputs": [
        {
          "output_type": "stream",
          "name": "stdout",
          "text": [
            "mysql: [Warning] Using a password on the command line interface can be insecure.\n"
          ]
        }
      ]
    },
    {
      "cell_type": "code",
      "source": [
        "#Stored procedure to pre-populate the date dimension\n",
        "!mysql -udwid -ppw < scripts/pre_populate_date.sql"
      ],
      "metadata": {
        "colab": {
          "base_uri": "https://localhost:8080/"
        },
        "id": "FTSwA4zFWfSo",
        "outputId": "5b1be913-d636-45a4-d6f4-517e8e742f11"
      },
      "execution_count": null,
      "outputs": [
        {
          "output_type": "stream",
          "name": "stdout",
          "text": [
            "mysql: [Warning] Using a password on the command line interface can be insecure.\n"
          ]
        }
      ]
    },
    {
      "cell_type": "code",
      "source": [
        "!mysql dw -e \"show procedure status like 'pre_populate_date'\""
      ],
      "metadata": {
        "colab": {
          "base_uri": "https://localhost:8080/"
        },
        "id": "KHF9INJjXMmf",
        "outputId": "70307816-2f12-4121-f9c5-31e63e808d6b"
      },
      "execution_count": null,
      "outputs": [
        {
          "output_type": "stream",
          "name": "stdout",
          "text": [
            "+----+-------------------+-----------+----------------+---------------------+---------------------+---------------+---------+----------------------+----------------------+--------------------+\n",
            "| Db | Name              | Type      | Definer        | Modified            | Created             | Security_type | Comment | character_set_client | collation_connection | Database Collation |\n",
            "+----+-------------------+-----------+----------------+---------------------+---------------------+---------------+---------+----------------------+----------------------+--------------------+\n",
            "| dw | pre_populate_date | PROCEDURE | dwid@localhost | 2022-09-29 05:30:31 | 2022-09-29 05:30:31 | DEFINER       |         | utf8                 | utf8_general_ci      | latin1_swedish_ci  |\n",
            "+----+-------------------+-----------+----------------+---------------------+---------------------+---------------+---------+----------------------+----------------------+--------------------+\n"
          ]
        }
      ]
    },
    {
      "cell_type": "code",
      "source": [
        "!mysql dw -e \"truncate date_dim\""
      ],
      "metadata": {
        "id": "t2NddAJfXYlo"
      },
      "execution_count": null,
      "outputs": []
    },
    {
      "cell_type": "code",
      "source": [
        "!mysql dw - e \"call pre_populate_date ('2007-01-01', '2010-12-31')\""
      ],
      "metadata": {
        "colab": {
          "base_uri": "https://localhost:8080/"
        },
        "id": "Jdt33eAaYyR_",
        "outputId": "912f75b7-7856-4367-b1c2-d943dd702dd2"
      },
      "execution_count": null,
      "outputs": [
        {
          "output_type": "stream",
          "name": "stdout",
          "text": [
            "mysql  Ver 14.14 Distrib 5.7.39, for Linux (x86_64) using  EditLine wrapper\n",
            "Copyright (c) 2000, 2022, Oracle and/or its affiliates.\n",
            "\n",
            "Oracle is a registered trademark of Oracle Corporation and/or its\n",
            "affiliates. Other names may be trademarks of their respective\n",
            "owners.\n",
            "\n",
            "Usage: mysql [OPTIONS] [database]\n",
            "  -?, --help          Display this help and exit.\n",
            "  -I, --help          Synonym for -?\n",
            "  --auto-rehash       Enable automatic rehashing. One doesn't need to use\n",
            "                      'rehash' to get table and field completion, but startup\n",
            "                      and reconnecting may take a longer time. Disable with\n",
            "                      --disable-auto-rehash.\n",
            "                      (Defaults to on; use --skip-auto-rehash to disable.)\n",
            "  -A, --no-auto-rehash \n",
            "                      No automatic rehashing. One has to use 'rehash' to get\n",
            "                      table and field completion. This gives a quicker start of\n",
            "                      mysql and disables rehashing on reconnect.\n",
            "  --auto-vertical-output \n",
            "                      Automatically switch to vertical output mode if the\n",
            "                      result is wider than the terminal width.\n",
            "  -B, --batch         Don't use history file. Disable interactive behavior.\n",
            "                      (Enables --silent.)\n",
            "  --bind-address=name IP address to bind to.\n",
            "  --binary-as-hex     Print binary data as hex\n",
            "  --character-sets-dir=name \n",
            "                      Directory for character set files.\n",
            "  --column-type-info  Display column type information.\n",
            "  -c, --comments      Preserve comments. Send comments to the server. The\n",
            "                      default is --skip-comments (discard comments), enable\n",
            "                      with --comments.\n",
            "  -C, --compress      Use compression in server/client protocol.\n",
            "  -#, --debug[=#]     This is a non-debug version. Catch this and exit.\n",
            "  --debug-check       This is a non-debug version. Catch this and exit.\n",
            "  -T, --debug-info    This is a non-debug version. Catch this and exit.\n",
            "  -D, --database=name Database to use.\n",
            "  --default-character-set=name \n",
            "                      Set the default character set.\n",
            "  --delimiter=name    Delimiter to be used.\n",
            "  --enable-cleartext-plugin \n",
            "                      Enable/disable the clear text authentication plugin.\n",
            "  -e, --execute=name  Execute command and quit. (Disables --force and history\n",
            "                      file.)\n",
            "  -E, --vertical      Print the output of a query (rows) vertically.\n",
            "  -f, --force         Continue even if we get an SQL error.\n",
            "  --histignore=name   A colon-separated list of patterns to keep statements\n",
            "                      from getting logged into syslog and mysql history.\n",
            "  -G, --named-commands \n",
            "                      Enable named commands. Named commands mean this program's\n",
            "                      internal commands; see mysql> help . When enabled, the\n",
            "                      named commands can be used from any line of the query,\n",
            "                      otherwise only from the first line, before an enter.\n",
            "                      Disable with --disable-named-commands. This option is\n",
            "                      disabled by default.\n",
            "  -i, --ignore-spaces Ignore space after function names.\n",
            "  --init-command=name SQL Command to execute when connecting to MySQL server.\n",
            "                      Will automatically be re-executed when reconnecting.\n",
            "  --local-infile      Enable/disable LOAD DATA LOCAL INFILE.\n",
            "  -b, --no-beep       Turn off beep on error.\n",
            "  -h, --host=name     Connect to host.\n",
            "  -H, --html          Produce HTML output.\n",
            "  -X, --xml           Produce XML output.\n",
            "  --line-numbers      Write line numbers for errors.\n",
            "                      (Defaults to on; use --skip-line-numbers to disable.)\n",
            "  -L, --skip-line-numbers \n",
            "                      Don't write line number for errors.\n",
            "  -n, --unbuffered    Flush buffer after each query.\n",
            "  --column-names      Write column names in results.\n",
            "                      (Defaults to on; use --skip-column-names to disable.)\n",
            "  -N, --skip-column-names \n",
            "                      Don't write column names in results.\n",
            "  --sigint-ignore     Ignore SIGINT (CTRL-C).\n",
            "  -o, --one-database  Ignore statements except those that occur while the\n",
            "                      default database is the one named at the command line.\n",
            "  --pager[=name]      Pager to use to display results. If you don't supply an\n",
            "                      option, the default pager is taken from your ENV variable\n",
            "                      PAGER. Valid pagers are less, more, cat [> filename],\n",
            "                      etc. See interactive help (\\h) also. This option does not\n",
            "                      work in batch mode. Disable with --disable-pager. This\n",
            "                      option is disabled by default.\n",
            "  -p, --password[=name] \n",
            "                      Password to use when connecting to server. If password is\n",
            "                      not given it's asked from the tty.\n",
            "  -P, --port=#        Port number to use for connection or 0 for default to, in\n",
            "                      order of preference, my.cnf, $MYSQL_TCP_PORT,\n",
            "                      /etc/services, built-in default (3306).\n",
            "  --prompt=name       Set the mysql prompt to this value.\n",
            "  --protocol=name     The protocol to use for connection (tcp, socket, pipe,\n",
            "                      memory).\n",
            "  -q, --quick         Don't cache result, print it row by row. This may slow\n",
            "                      down the server if the output is suspended. Doesn't use\n",
            "                      history file.\n",
            "  -r, --raw           Write fields without conversion. Used with --batch.\n",
            "  --reconnect         Reconnect if the connection is lost. Disable with\n",
            "                      --disable-reconnect. This option is enabled by default.\n",
            "                      (Defaults to on; use --skip-reconnect to disable.)\n",
            "  -s, --silent        Be more silent. Print results with a tab as separator,\n",
            "                      each row on new line.\n",
            "  -S, --socket=name   The socket file to use for connection.\n",
            "  --ssl-mode=name     SSL connection mode.\n",
            "  --ssl               Deprecated. Use --ssl-mode instead.\n",
            "                      (Defaults to on; use --skip-ssl to disable.)\n",
            "  --ssl-verify-server-cert \n",
            "                      Deprecated. Use --ssl-mode=VERIFY_IDENTITY instead.\n",
            "  --ssl-ca=name       CA file in PEM format.\n",
            "  --ssl-capath=name   CA directory.\n",
            "  --ssl-cert=name     X509 cert in PEM format.\n",
            "  --ssl-cipher=name   SSL cipher to use.\n",
            "  --ssl-key=name      X509 key in PEM format.\n",
            "  --ssl-crl=name      Certificate revocation list.\n",
            "  --ssl-crlpath=name  Certificate revocation list path.\n",
            "  --tls-version=name  TLS version to use, permitted values are: TLSv1, TLSv1.1,\n",
            "                      TLSv1.2\n",
            "  --server-public-key-path=name \n",
            "                      File path to the server public RSA key in PEM format.\n",
            "  --get-server-public-key \n",
            "                      Get server public key\n",
            "  -t, --table         Output in table format.\n",
            "  --tee=name          Append everything into outfile. See interactive help (\\h)\n",
            "                      also. Does not work in batch mode. Disable with\n",
            "                      --disable-tee. This option is disabled by default.\n",
            "  -u, --user=name     User for login if not current user.\n",
            "  -U, --safe-updates  Only allow UPDATE and DELETE that uses keys.\n",
            "  -U, --i-am-a-dummy  Synonym for option --safe-updates, -U.\n",
            "  -v, --verbose       Write more. (-v -v -v gives the table output format).\n",
            "  -V, --version       Output version information and exit.\n",
            "  -w, --wait          Wait and retry if connection is down.\n",
            "  --connect-timeout=# Number of seconds before connection timeout.\n",
            "  --max-allowed-packet=# \n",
            "                      The maximum packet length to send to or receive from\n",
            "                      server.\n",
            "  --net-buffer-length=# \n",
            "                      The buffer size for TCP/IP and socket communication.\n",
            "  --select-limit=#    Automatic limit for SELECT when using --safe-updates.\n",
            "  --max-join-size=#   Automatic limit for rows in a join when using\n",
            "                      --safe-updates.\n",
            "  --secure-auth       Refuse client connecting to server if it uses old\n",
            "                      (pre-4.1.1) protocol. Deprecated. Always TRUE\n",
            "  --server-arg=name   Send embedded server this as a parameter.\n",
            "  --show-warnings     Show warnings after every statement.\n",
            "  -j, --syslog        Log filtered interactive commands to syslog. Filtering of\n",
            "                      commands depends on the patterns supplied via histignore\n",
            "                      option besides the default patterns.\n",
            "  --plugin-dir=name   Directory for client-side plugins.\n",
            "  --default-auth=name Default authentication client-side plugin to use.\n",
            "  --binary-mode       By default, ASCII '\\0' is disallowed and '\\r\\n' is\n",
            "                      translated to '\\n'. This switch turns off both features,\n",
            "                      and also turns off parsing of all clientcommands except\n",
            "                      \\C and DELIMITER, in non-interactive mode (for input\n",
            "                      piped to mysql or loaded using the 'source' command).\n",
            "                      This is necessary when processing output from mysqlbinlog\n",
            "                      that may contain blobs.\n",
            "  --connect-expired-password \n",
            "                      Notify the server that this client is prepared to handle\n",
            "                      expired password sandbox mode.\n",
            "\n",
            "Default options are read from the following files in the given order:\n",
            "/etc/my.cnf /etc/mysql/my.cnf ~/.my.cnf \n",
            "The following groups are read: mysql client\n",
            "The following options may be given as the first argument:\n",
            "--print-defaults        Print the program argument list and exit.\n",
            "--no-defaults           Don't read default options from any option file,\n",
            "                        except for login file.\n",
            "--defaults-file=#       Only read default options from the given file #.\n",
            "--defaults-extra-file=# Read this file after the global files are read.\n",
            "--defaults-group-suffix=#\n",
            "                        Also read groups with concat(group, suffix)\n",
            "--login-path=#          Read this path from the login file.\n",
            "\n",
            "Variables (--variable-name=value)\n",
            "and boolean options {FALSE|TRUE}  Value (after reading options)\n",
            "--------------------------------- ----------------------------------------\n",
            "auto-rehash                       TRUE\n",
            "auto-vertical-output              FALSE\n",
            "bind-address                      (No default value)\n",
            "binary-as-hex                     FALSE\n",
            "character-sets-dir                (No default value)\n",
            "column-type-info                  FALSE\n",
            "comments                          FALSE\n",
            "compress                          FALSE\n",
            "database                          (No default value)\n",
            "default-character-set             auto\n",
            "delimiter                         ;\n",
            "enable-cleartext-plugin           FALSE\n",
            "vertical                          FALSE\n",
            "force                             FALSE\n",
            "histignore                        (No default value)\n",
            "named-commands                    FALSE\n",
            "ignore-spaces                     FALSE\n",
            "init-command                      (No default value)\n",
            "local-infile                      FALSE\n",
            "no-beep                           FALSE\n",
            "host                              (No default value)\n",
            "html                              FALSE\n",
            "xml                               FALSE\n",
            "line-numbers                      TRUE\n",
            "unbuffered                        FALSE\n",
            "column-names                      TRUE\n",
            "sigint-ignore                     FALSE\n",
            "port                              0\n",
            "prompt                            mysql> \n",
            "quick                             FALSE\n",
            "raw                               FALSE\n",
            "reconnect                         TRUE\n",
            "socket                            (No default value)\n",
            "ssl                               TRUE\n",
            "ssl-verify-server-cert            FALSE\n",
            "ssl-ca                            (No default value)\n",
            "ssl-capath                        (No default value)\n",
            "ssl-cert                          (No default value)\n",
            "ssl-cipher                        (No default value)\n",
            "ssl-key                           (No default value)\n",
            "ssl-crl                           (No default value)\n",
            "ssl-crlpath                       (No default value)\n",
            "tls-version                       (No default value)\n",
            "server-public-key-path            (No default value)\n",
            "get-server-public-key             FALSE\n",
            "table                             FALSE\n",
            "user                              (No default value)\n",
            "safe-updates                      FALSE\n",
            "i-am-a-dummy                      FALSE\n",
            "connect-timeout                   0\n",
            "max-allowed-packet                16777216\n",
            "net-buffer-length                 16384\n",
            "select-limit                      1000\n",
            "max-join-size                     1000000\n",
            "secure-auth                       TRUE\n",
            "show-warnings                     FALSE\n",
            "plugin-dir                        (No default value)\n",
            "default-auth                      (No default value)\n",
            "binary-mode                       FALSE\n",
            "connect-expired-password          FALSE\n"
          ]
        }
      ]
    },
    {
      "cell_type": "code",
      "source": [
        "!mysql dw -e \"select count(0) from date_dim\" #the prepopulate procedure doesn't insert the 1461 rows as suggested"
      ],
      "metadata": {
        "colab": {
          "base_uri": "https://localhost:8080/"
        },
        "id": "0iYLU08EY_2-",
        "outputId": "d7da96f4-678d-473f-c0b7-47d3d505c95f"
      },
      "execution_count": null,
      "outputs": [
        {
          "output_type": "stream",
          "name": "stdout",
          "text": [
            "+----------+\n",
            "| count(0) |\n",
            "+----------+\n",
            "|        0 |\n",
            "+----------+\n"
          ]
        }
      ]
    },
    {
      "cell_type": "code",
      "source": [
        "!mysql dw - e \"select * from date_dim limit 10 \" #same error as before"
      ],
      "metadata": {
        "colab": {
          "base_uri": "https://localhost:8080/"
        },
        "id": "Y89R282LZlPv",
        "outputId": "56b9597c-569b-41a5-b938-006efbc3e163"
      },
      "execution_count": null,
      "outputs": [
        {
          "output_type": "stream",
          "name": "stdout",
          "text": [
            "mysql  Ver 14.14 Distrib 5.7.39, for Linux (x86_64) using  EditLine wrapper\n",
            "Copyright (c) 2000, 2022, Oracle and/or its affiliates.\n",
            "\n",
            "Oracle is a registered trademark of Oracle Corporation and/or its\n",
            "affiliates. Other names may be trademarks of their respective\n",
            "owners.\n",
            "\n",
            "Usage: mysql [OPTIONS] [database]\n",
            "  -?, --help          Display this help and exit.\n",
            "  -I, --help          Synonym for -?\n",
            "  --auto-rehash       Enable automatic rehashing. One doesn't need to use\n",
            "                      'rehash' to get table and field completion, but startup\n",
            "                      and reconnecting may take a longer time. Disable with\n",
            "                      --disable-auto-rehash.\n",
            "                      (Defaults to on; use --skip-auto-rehash to disable.)\n",
            "  -A, --no-auto-rehash \n",
            "                      No automatic rehashing. One has to use 'rehash' to get\n",
            "                      table and field completion. This gives a quicker start of\n",
            "                      mysql and disables rehashing on reconnect.\n",
            "  --auto-vertical-output \n",
            "                      Automatically switch to vertical output mode if the\n",
            "                      result is wider than the terminal width.\n",
            "  -B, --batch         Don't use history file. Disable interactive behavior.\n",
            "                      (Enables --silent.)\n",
            "  --bind-address=name IP address to bind to.\n",
            "  --binary-as-hex     Print binary data as hex\n",
            "  --character-sets-dir=name \n",
            "                      Directory for character set files.\n",
            "  --column-type-info  Display column type information.\n",
            "  -c, --comments      Preserve comments. Send comments to the server. The\n",
            "                      default is --skip-comments (discard comments), enable\n",
            "                      with --comments.\n",
            "  -C, --compress      Use compression in server/client protocol.\n",
            "  -#, --debug[=#]     This is a non-debug version. Catch this and exit.\n",
            "  --debug-check       This is a non-debug version. Catch this and exit.\n",
            "  -T, --debug-info    This is a non-debug version. Catch this and exit.\n",
            "  -D, --database=name Database to use.\n",
            "  --default-character-set=name \n",
            "                      Set the default character set.\n",
            "  --delimiter=name    Delimiter to be used.\n",
            "  --enable-cleartext-plugin \n",
            "                      Enable/disable the clear text authentication plugin.\n",
            "  -e, --execute=name  Execute command and quit. (Disables --force and history\n",
            "                      file.)\n",
            "  -E, --vertical      Print the output of a query (rows) vertically.\n",
            "  -f, --force         Continue even if we get an SQL error.\n",
            "  --histignore=name   A colon-separated list of patterns to keep statements\n",
            "                      from getting logged into syslog and mysql history.\n",
            "  -G, --named-commands \n",
            "                      Enable named commands. Named commands mean this program's\n",
            "                      internal commands; see mysql> help . When enabled, the\n",
            "                      named commands can be used from any line of the query,\n",
            "                      otherwise only from the first line, before an enter.\n",
            "                      Disable with --disable-named-commands. This option is\n",
            "                      disabled by default.\n",
            "  -i, --ignore-spaces Ignore space after function names.\n",
            "  --init-command=name SQL Command to execute when connecting to MySQL server.\n",
            "                      Will automatically be re-executed when reconnecting.\n",
            "  --local-infile      Enable/disable LOAD DATA LOCAL INFILE.\n",
            "  -b, --no-beep       Turn off beep on error.\n",
            "  -h, --host=name     Connect to host.\n",
            "  -H, --html          Produce HTML output.\n",
            "  -X, --xml           Produce XML output.\n",
            "  --line-numbers      Write line numbers for errors.\n",
            "                      (Defaults to on; use --skip-line-numbers to disable.)\n",
            "  -L, --skip-line-numbers \n",
            "                      Don't write line number for errors.\n",
            "  -n, --unbuffered    Flush buffer after each query.\n",
            "  --column-names      Write column names in results.\n",
            "                      (Defaults to on; use --skip-column-names to disable.)\n",
            "  -N, --skip-column-names \n",
            "                      Don't write column names in results.\n",
            "  --sigint-ignore     Ignore SIGINT (CTRL-C).\n",
            "  -o, --one-database  Ignore statements except those that occur while the\n",
            "                      default database is the one named at the command line.\n",
            "  --pager[=name]      Pager to use to display results. If you don't supply an\n",
            "                      option, the default pager is taken from your ENV variable\n",
            "                      PAGER. Valid pagers are less, more, cat [> filename],\n",
            "                      etc. See interactive help (\\h) also. This option does not\n",
            "                      work in batch mode. Disable with --disable-pager. This\n",
            "                      option is disabled by default.\n",
            "  -p, --password[=name] \n",
            "                      Password to use when connecting to server. If password is\n",
            "                      not given it's asked from the tty.\n",
            "  -P, --port=#        Port number to use for connection or 0 for default to, in\n",
            "                      order of preference, my.cnf, $MYSQL_TCP_PORT,\n",
            "                      /etc/services, built-in default (3306).\n",
            "  --prompt=name       Set the mysql prompt to this value.\n",
            "  --protocol=name     The protocol to use for connection (tcp, socket, pipe,\n",
            "                      memory).\n",
            "  -q, --quick         Don't cache result, print it row by row. This may slow\n",
            "                      down the server if the output is suspended. Doesn't use\n",
            "                      history file.\n",
            "  -r, --raw           Write fields without conversion. Used with --batch.\n",
            "  --reconnect         Reconnect if the connection is lost. Disable with\n",
            "                      --disable-reconnect. This option is enabled by default.\n",
            "                      (Defaults to on; use --skip-reconnect to disable.)\n",
            "  -s, --silent        Be more silent. Print results with a tab as separator,\n",
            "                      each row on new line.\n",
            "  -S, --socket=name   The socket file to use for connection.\n",
            "  --ssl-mode=name     SSL connection mode.\n",
            "  --ssl               Deprecated. Use --ssl-mode instead.\n",
            "                      (Defaults to on; use --skip-ssl to disable.)\n",
            "  --ssl-verify-server-cert \n",
            "                      Deprecated. Use --ssl-mode=VERIFY_IDENTITY instead.\n",
            "  --ssl-ca=name       CA file in PEM format.\n",
            "  --ssl-capath=name   CA directory.\n",
            "  --ssl-cert=name     X509 cert in PEM format.\n",
            "  --ssl-cipher=name   SSL cipher to use.\n",
            "  --ssl-key=name      X509 key in PEM format.\n",
            "  --ssl-crl=name      Certificate revocation list.\n",
            "  --ssl-crlpath=name  Certificate revocation list path.\n",
            "  --tls-version=name  TLS version to use, permitted values are: TLSv1, TLSv1.1,\n",
            "                      TLSv1.2\n",
            "  --server-public-key-path=name \n",
            "                      File path to the server public RSA key in PEM format.\n",
            "  --get-server-public-key \n",
            "                      Get server public key\n",
            "  -t, --table         Output in table format.\n",
            "  --tee=name          Append everything into outfile. See interactive help (\\h)\n",
            "                      also. Does not work in batch mode. Disable with\n",
            "                      --disable-tee. This option is disabled by default.\n",
            "  -u, --user=name     User for login if not current user.\n",
            "  -U, --safe-updates  Only allow UPDATE and DELETE that uses keys.\n",
            "  -U, --i-am-a-dummy  Synonym for option --safe-updates, -U.\n",
            "  -v, --verbose       Write more. (-v -v -v gives the table output format).\n",
            "  -V, --version       Output version information and exit.\n",
            "  -w, --wait          Wait and retry if connection is down.\n",
            "  --connect-timeout=# Number of seconds before connection timeout.\n",
            "  --max-allowed-packet=# \n",
            "                      The maximum packet length to send to or receive from\n",
            "                      server.\n",
            "  --net-buffer-length=# \n",
            "                      The buffer size for TCP/IP and socket communication.\n",
            "  --select-limit=#    Automatic limit for SELECT when using --safe-updates.\n",
            "  --max-join-size=#   Automatic limit for rows in a join when using\n",
            "                      --safe-updates.\n",
            "  --secure-auth       Refuse client connecting to server if it uses old\n",
            "                      (pre-4.1.1) protocol. Deprecated. Always TRUE\n",
            "  --server-arg=name   Send embedded server this as a parameter.\n",
            "  --show-warnings     Show warnings after every statement.\n",
            "  -j, --syslog        Log filtered interactive commands to syslog. Filtering of\n",
            "                      commands depends on the patterns supplied via histignore\n",
            "                      option besides the default patterns.\n",
            "  --plugin-dir=name   Directory for client-side plugins.\n",
            "  --default-auth=name Default authentication client-side plugin to use.\n",
            "  --binary-mode       By default, ASCII '\\0' is disallowed and '\\r\\n' is\n",
            "                      translated to '\\n'. This switch turns off both features,\n",
            "                      and also turns off parsing of all clientcommands except\n",
            "                      \\C and DELIMITER, in non-interactive mode (for input\n",
            "                      piped to mysql or loaded using the 'source' command).\n",
            "                      This is necessary when processing output from mysqlbinlog\n",
            "                      that may contain blobs.\n",
            "  --connect-expired-password \n",
            "                      Notify the server that this client is prepared to handle\n",
            "                      expired password sandbox mode.\n",
            "\n",
            "Default options are read from the following files in the given order:\n",
            "/etc/my.cnf /etc/mysql/my.cnf ~/.my.cnf \n",
            "The following groups are read: mysql client\n",
            "The following options may be given as the first argument:\n",
            "--print-defaults        Print the program argument list and exit.\n",
            "--no-defaults           Don't read default options from any option file,\n",
            "                        except for login file.\n",
            "--defaults-file=#       Only read default options from the given file #.\n",
            "--defaults-extra-file=# Read this file after the global files are read.\n",
            "--defaults-group-suffix=#\n",
            "                        Also read groups with concat(group, suffix)\n",
            "--login-path=#          Read this path from the login file.\n",
            "\n",
            "Variables (--variable-name=value)\n",
            "and boolean options {FALSE|TRUE}  Value (after reading options)\n",
            "--------------------------------- ----------------------------------------\n",
            "auto-rehash                       TRUE\n",
            "auto-vertical-output              FALSE\n",
            "bind-address                      (No default value)\n",
            "binary-as-hex                     FALSE\n",
            "character-sets-dir                (No default value)\n",
            "column-type-info                  FALSE\n",
            "comments                          FALSE\n",
            "compress                          FALSE\n",
            "database                          (No default value)\n",
            "default-character-set             auto\n",
            "delimiter                         ;\n",
            "enable-cleartext-plugin           FALSE\n",
            "vertical                          FALSE\n",
            "force                             FALSE\n",
            "histignore                        (No default value)\n",
            "named-commands                    FALSE\n",
            "ignore-spaces                     FALSE\n",
            "init-command                      (No default value)\n",
            "local-infile                      FALSE\n",
            "no-beep                           FALSE\n",
            "host                              (No default value)\n",
            "html                              FALSE\n",
            "xml                               FALSE\n",
            "line-numbers                      TRUE\n",
            "unbuffered                        FALSE\n",
            "column-names                      TRUE\n",
            "sigint-ignore                     FALSE\n",
            "port                              0\n",
            "prompt                            mysql> \n",
            "quick                             FALSE\n",
            "raw                               FALSE\n",
            "reconnect                         TRUE\n",
            "socket                            (No default value)\n",
            "ssl                               TRUE\n",
            "ssl-verify-server-cert            FALSE\n",
            "ssl-ca                            (No default value)\n",
            "ssl-capath                        (No default value)\n",
            "ssl-cert                          (No default value)\n",
            "ssl-cipher                        (No default value)\n",
            "ssl-key                           (No default value)\n",
            "ssl-crl                           (No default value)\n",
            "ssl-crlpath                       (No default value)\n",
            "tls-version                       (No default value)\n",
            "server-public-key-path            (No default value)\n",
            "get-server-public-key             FALSE\n",
            "table                             FALSE\n",
            "user                              (No default value)\n",
            "safe-updates                      FALSE\n",
            "i-am-a-dummy                      FALSE\n",
            "connect-timeout                   0\n",
            "max-allowed-packet                16777216\n",
            "net-buffer-length                 16384\n",
            "select-limit                      1000\n",
            "max-join-size                     1000000\n",
            "secure-auth                       TRUE\n",
            "show-warnings                     FALSE\n",
            "plugin-dir                        (No default value)\n",
            "default-auth                      (No default value)\n",
            "binary-mode                       FALSE\n",
            "connect-expired-password          FALSE\n"
          ]
        }
      ]
    },
    {
      "cell_type": "code",
      "source": [
        "!mysql dw -e \"truncate date_dim\" #clearing the date_dim table"
      ],
      "metadata": {
        "id": "9bmquzRLaDfb"
      },
      "execution_count": null,
      "outputs": []
    },
    {
      "cell_type": "code",
      "source": [
        "!mysql dw -e \"update customer_dim set effective_date = '2007-02-07' \" "
      ],
      "metadata": {
        "id": "-DspvKG7aW0D"
      },
      "execution_count": null,
      "outputs": []
    },
    {
      "cell_type": "code",
      "source": [
        "#ONe-Date-Every-Day\n",
        "!mysql -udwid -ppw < scripts/daily_date.sql #date 0000-00-00 gives error"
      ],
      "metadata": {
        "colab": {
          "base_uri": "https://localhost:8080/"
        },
        "id": "NQb2u2skZw0_",
        "outputId": "ec756a44-b1bd-41fd-a407-628170a47834"
      },
      "execution_count": null,
      "outputs": [
        {
          "output_type": "stream",
          "name": "stdout",
          "text": [
            "mysql: [Warning] Using a password on the command line interface can be insecure.\n",
            "ERROR 1292 (22007) at line 9: Incorrect date value: '0000-00-00' for column 'effective_date' at row 1\n"
          ]
        }
      ]
    },
    {
      "cell_type": "code",
      "source": [
        "!mysql dw - e \"select * from date_dim\""
      ],
      "metadata": {
        "colab": {
          "base_uri": "https://localhost:8080/"
        },
        "id": "lEviUkMbaSve",
        "outputId": "f2f14029-017b-4d1c-b376-88195cc0e6a1"
      },
      "execution_count": null,
      "outputs": [
        {
          "output_type": "stream",
          "name": "stdout",
          "text": [
            "mysql  Ver 14.14 Distrib 5.7.39, for Linux (x86_64) using  EditLine wrapper\n",
            "Copyright (c) 2000, 2022, Oracle and/or its affiliates.\n",
            "\n",
            "Oracle is a registered trademark of Oracle Corporation and/or its\n",
            "affiliates. Other names may be trademarks of their respective\n",
            "owners.\n",
            "\n",
            "Usage: mysql [OPTIONS] [database]\n",
            "  -?, --help          Display this help and exit.\n",
            "  -I, --help          Synonym for -?\n",
            "  --auto-rehash       Enable automatic rehashing. One doesn't need to use\n",
            "                      'rehash' to get table and field completion, but startup\n",
            "                      and reconnecting may take a longer time. Disable with\n",
            "                      --disable-auto-rehash.\n",
            "                      (Defaults to on; use --skip-auto-rehash to disable.)\n",
            "  -A, --no-auto-rehash \n",
            "                      No automatic rehashing. One has to use 'rehash' to get\n",
            "                      table and field completion. This gives a quicker start of\n",
            "                      mysql and disables rehashing on reconnect.\n",
            "  --auto-vertical-output \n",
            "                      Automatically switch to vertical output mode if the\n",
            "                      result is wider than the terminal width.\n",
            "  -B, --batch         Don't use history file. Disable interactive behavior.\n",
            "                      (Enables --silent.)\n",
            "  --bind-address=name IP address to bind to.\n",
            "  --binary-as-hex     Print binary data as hex\n",
            "  --character-sets-dir=name \n",
            "                      Directory for character set files.\n",
            "  --column-type-info  Display column type information.\n",
            "  -c, --comments      Preserve comments. Send comments to the server. The\n",
            "                      default is --skip-comments (discard comments), enable\n",
            "                      with --comments.\n",
            "  -C, --compress      Use compression in server/client protocol.\n",
            "  -#, --debug[=#]     This is a non-debug version. Catch this and exit.\n",
            "  --debug-check       This is a non-debug version. Catch this and exit.\n",
            "  -T, --debug-info    This is a non-debug version. Catch this and exit.\n",
            "  -D, --database=name Database to use.\n",
            "  --default-character-set=name \n",
            "                      Set the default character set.\n",
            "  --delimiter=name    Delimiter to be used.\n",
            "  --enable-cleartext-plugin \n",
            "                      Enable/disable the clear text authentication plugin.\n",
            "  -e, --execute=name  Execute command and quit. (Disables --force and history\n",
            "                      file.)\n",
            "  -E, --vertical      Print the output of a query (rows) vertically.\n",
            "  -f, --force         Continue even if we get an SQL error.\n",
            "  --histignore=name   A colon-separated list of patterns to keep statements\n",
            "                      from getting logged into syslog and mysql history.\n",
            "  -G, --named-commands \n",
            "                      Enable named commands. Named commands mean this program's\n",
            "                      internal commands; see mysql> help . When enabled, the\n",
            "                      named commands can be used from any line of the query,\n",
            "                      otherwise only from the first line, before an enter.\n",
            "                      Disable with --disable-named-commands. This option is\n",
            "                      disabled by default.\n",
            "  -i, --ignore-spaces Ignore space after function names.\n",
            "  --init-command=name SQL Command to execute when connecting to MySQL server.\n",
            "                      Will automatically be re-executed when reconnecting.\n",
            "  --local-infile      Enable/disable LOAD DATA LOCAL INFILE.\n",
            "  -b, --no-beep       Turn off beep on error.\n",
            "  -h, --host=name     Connect to host.\n",
            "  -H, --html          Produce HTML output.\n",
            "  -X, --xml           Produce XML output.\n",
            "  --line-numbers      Write line numbers for errors.\n",
            "                      (Defaults to on; use --skip-line-numbers to disable.)\n",
            "  -L, --skip-line-numbers \n",
            "                      Don't write line number for errors.\n",
            "  -n, --unbuffered    Flush buffer after each query.\n",
            "  --column-names      Write column names in results.\n",
            "                      (Defaults to on; use --skip-column-names to disable.)\n",
            "  -N, --skip-column-names \n",
            "                      Don't write column names in results.\n",
            "  --sigint-ignore     Ignore SIGINT (CTRL-C).\n",
            "  -o, --one-database  Ignore statements except those that occur while the\n",
            "                      default database is the one named at the command line.\n",
            "  --pager[=name]      Pager to use to display results. If you don't supply an\n",
            "                      option, the default pager is taken from your ENV variable\n",
            "                      PAGER. Valid pagers are less, more, cat [> filename],\n",
            "                      etc. See interactive help (\\h) also. This option does not\n",
            "                      work in batch mode. Disable with --disable-pager. This\n",
            "                      option is disabled by default.\n",
            "  -p, --password[=name] \n",
            "                      Password to use when connecting to server. If password is\n",
            "                      not given it's asked from the tty.\n",
            "  -P, --port=#        Port number to use for connection or 0 for default to, in\n",
            "                      order of preference, my.cnf, $MYSQL_TCP_PORT,\n",
            "                      /etc/services, built-in default (3306).\n",
            "  --prompt=name       Set the mysql prompt to this value.\n",
            "  --protocol=name     The protocol to use for connection (tcp, socket, pipe,\n",
            "                      memory).\n",
            "  -q, --quick         Don't cache result, print it row by row. This may slow\n",
            "                      down the server if the output is suspended. Doesn't use\n",
            "                      history file.\n",
            "  -r, --raw           Write fields without conversion. Used with --batch.\n",
            "  --reconnect         Reconnect if the connection is lost. Disable with\n",
            "                      --disable-reconnect. This option is enabled by default.\n",
            "                      (Defaults to on; use --skip-reconnect to disable.)\n",
            "  -s, --silent        Be more silent. Print results with a tab as separator,\n",
            "                      each row on new line.\n",
            "  -S, --socket=name   The socket file to use for connection.\n",
            "  --ssl-mode=name     SSL connection mode.\n",
            "  --ssl               Deprecated. Use --ssl-mode instead.\n",
            "                      (Defaults to on; use --skip-ssl to disable.)\n",
            "  --ssl-verify-server-cert \n",
            "                      Deprecated. Use --ssl-mode=VERIFY_IDENTITY instead.\n",
            "  --ssl-ca=name       CA file in PEM format.\n",
            "  --ssl-capath=name   CA directory.\n",
            "  --ssl-cert=name     X509 cert in PEM format.\n",
            "  --ssl-cipher=name   SSL cipher to use.\n",
            "  --ssl-key=name      X509 key in PEM format.\n",
            "  --ssl-crl=name      Certificate revocation list.\n",
            "  --ssl-crlpath=name  Certificate revocation list path.\n",
            "  --tls-version=name  TLS version to use, permitted values are: TLSv1, TLSv1.1,\n",
            "                      TLSv1.2\n",
            "  --server-public-key-path=name \n",
            "                      File path to the server public RSA key in PEM format.\n",
            "  --get-server-public-key \n",
            "                      Get server public key\n",
            "  -t, --table         Output in table format.\n",
            "  --tee=name          Append everything into outfile. See interactive help (\\h)\n",
            "                      also. Does not work in batch mode. Disable with\n",
            "                      --disable-tee. This option is disabled by default.\n",
            "  -u, --user=name     User for login if not current user.\n",
            "  -U, --safe-updates  Only allow UPDATE and DELETE that uses keys.\n",
            "  -U, --i-am-a-dummy  Synonym for option --safe-updates, -U.\n",
            "  -v, --verbose       Write more. (-v -v -v gives the table output format).\n",
            "  -V, --version       Output version information and exit.\n",
            "  -w, --wait          Wait and retry if connection is down.\n",
            "  --connect-timeout=# Number of seconds before connection timeout.\n",
            "  --max-allowed-packet=# \n",
            "                      The maximum packet length to send to or receive from\n",
            "                      server.\n",
            "  --net-buffer-length=# \n",
            "                      The buffer size for TCP/IP and socket communication.\n",
            "  --select-limit=#    Automatic limit for SELECT when using --safe-updates.\n",
            "  --max-join-size=#   Automatic limit for rows in a join when using\n",
            "                      --safe-updates.\n",
            "  --secure-auth       Refuse client connecting to server if it uses old\n",
            "                      (pre-4.1.1) protocol. Deprecated. Always TRUE\n",
            "  --server-arg=name   Send embedded server this as a parameter.\n",
            "  --show-warnings     Show warnings after every statement.\n",
            "  -j, --syslog        Log filtered interactive commands to syslog. Filtering of\n",
            "                      commands depends on the patterns supplied via histignore\n",
            "                      option besides the default patterns.\n",
            "  --plugin-dir=name   Directory for client-side plugins.\n",
            "  --default-auth=name Default authentication client-side plugin to use.\n",
            "  --binary-mode       By default, ASCII '\\0' is disallowed and '\\r\\n' is\n",
            "                      translated to '\\n'. This switch turns off both features,\n",
            "                      and also turns off parsing of all clientcommands except\n",
            "                      \\C and DELIMITER, in non-interactive mode (for input\n",
            "                      piped to mysql or loaded using the 'source' command).\n",
            "                      This is necessary when processing output from mysqlbinlog\n",
            "                      that may contain blobs.\n",
            "  --connect-expired-password \n",
            "                      Notify the server that this client is prepared to handle\n",
            "                      expired password sandbox mode.\n",
            "\n",
            "Default options are read from the following files in the given order:\n",
            "/etc/my.cnf /etc/mysql/my.cnf ~/.my.cnf \n",
            "The following groups are read: mysql client\n",
            "The following options may be given as the first argument:\n",
            "--print-defaults        Print the program argument list and exit.\n",
            "--no-defaults           Don't read default options from any option file,\n",
            "                        except for login file.\n",
            "--defaults-file=#       Only read default options from the given file #.\n",
            "--defaults-extra-file=# Read this file after the global files are read.\n",
            "--defaults-group-suffix=#\n",
            "                        Also read groups with concat(group, suffix)\n",
            "--login-path=#          Read this path from the login file.\n",
            "\n",
            "Variables (--variable-name=value)\n",
            "and boolean options {FALSE|TRUE}  Value (after reading options)\n",
            "--------------------------------- ----------------------------------------\n",
            "auto-rehash                       TRUE\n",
            "auto-vertical-output              FALSE\n",
            "bind-address                      (No default value)\n",
            "binary-as-hex                     FALSE\n",
            "character-sets-dir                (No default value)\n",
            "column-type-info                  FALSE\n",
            "comments                          FALSE\n",
            "compress                          FALSE\n",
            "database                          (No default value)\n",
            "default-character-set             auto\n",
            "delimiter                         ;\n",
            "enable-cleartext-plugin           FALSE\n",
            "vertical                          FALSE\n",
            "force                             FALSE\n",
            "histignore                        (No default value)\n",
            "named-commands                    FALSE\n",
            "ignore-spaces                     FALSE\n",
            "init-command                      (No default value)\n",
            "local-infile                      FALSE\n",
            "no-beep                           FALSE\n",
            "host                              (No default value)\n",
            "html                              FALSE\n",
            "xml                               FALSE\n",
            "line-numbers                      TRUE\n",
            "unbuffered                        FALSE\n",
            "column-names                      TRUE\n",
            "sigint-ignore                     FALSE\n",
            "port                              0\n",
            "prompt                            mysql> \n",
            "quick                             FALSE\n",
            "raw                               FALSE\n",
            "reconnect                         TRUE\n",
            "socket                            (No default value)\n",
            "ssl                               TRUE\n",
            "ssl-verify-server-cert            FALSE\n",
            "ssl-ca                            (No default value)\n",
            "ssl-capath                        (No default value)\n",
            "ssl-cert                          (No default value)\n",
            "ssl-cipher                        (No default value)\n",
            "ssl-key                           (No default value)\n",
            "ssl-crl                           (No default value)\n",
            "ssl-crlpath                       (No default value)\n",
            "tls-version                       (No default value)\n",
            "server-public-key-path            (No default value)\n",
            "get-server-public-key             FALSE\n",
            "table                             FALSE\n",
            "user                              (No default value)\n",
            "safe-updates                      FALSE\n",
            "i-am-a-dummy                      FALSE\n",
            "connect-timeout                   0\n",
            "max-allowed-packet                16777216\n",
            "net-buffer-length                 16384\n",
            "select-limit                      1000\n",
            "max-join-size                     1000000\n",
            "secure-auth                       TRUE\n",
            "show-warnings                     FALSE\n",
            "plugin-dir                        (No default value)\n",
            "default-auth                      (No default value)\n",
            "binary-mode                       FALSE\n",
            "connect-expired-password          FALSE\n"
          ]
        }
      ]
    },
    {
      "cell_type": "code",
      "source": [
        "!mysql -udwid -ppw < scripts/source_date.sql #error for date value 0000-00-00"
      ],
      "metadata": {
        "colab": {
          "base_uri": "https://localhost:8080/"
        },
        "id": "QyLVOMIxalMu",
        "outputId": "58d34425-8950-4b27-c041-702e9250bab1"
      },
      "execution_count": null,
      "outputs": [
        {
          "output_type": "stream",
          "name": "stdout",
          "text": [
            "mysql: [Warning] Using a password on the command line interface can be insecure.\n",
            "ERROR 1292 (22007) at line 9: Incorrect date value: '0000-00-00' for column 'effective_date' at row 5\n"
          ]
        }
      ]
    },
    {
      "cell_type": "code",
      "source": [
        "!mysql dw - e \"select * from source.sales_order\" #same error as before,no output "
      ],
      "metadata": {
        "colab": {
          "base_uri": "https://localhost:8080/"
        },
        "id": "tGDJ_JxCazRu",
        "outputId": "2f8a5c25-1e20-4a07-ae76-3e5bda59e4a4"
      },
      "execution_count": null,
      "outputs": [
        {
          "output_type": "stream",
          "name": "stdout",
          "text": [
            "mysql  Ver 14.14 Distrib 5.7.39, for Linux (x86_64) using  EditLine wrapper\n",
            "Copyright (c) 2000, 2022, Oracle and/or its affiliates.\n",
            "\n",
            "Oracle is a registered trademark of Oracle Corporation and/or its\n",
            "affiliates. Other names may be trademarks of their respective\n",
            "owners.\n",
            "\n",
            "Usage: mysql [OPTIONS] [database]\n",
            "  -?, --help          Display this help and exit.\n",
            "  -I, --help          Synonym for -?\n",
            "  --auto-rehash       Enable automatic rehashing. One doesn't need to use\n",
            "                      'rehash' to get table and field completion, but startup\n",
            "                      and reconnecting may take a longer time. Disable with\n",
            "                      --disable-auto-rehash.\n",
            "                      (Defaults to on; use --skip-auto-rehash to disable.)\n",
            "  -A, --no-auto-rehash \n",
            "                      No automatic rehashing. One has to use 'rehash' to get\n",
            "                      table and field completion. This gives a quicker start of\n",
            "                      mysql and disables rehashing on reconnect.\n",
            "  --auto-vertical-output \n",
            "                      Automatically switch to vertical output mode if the\n",
            "                      result is wider than the terminal width.\n",
            "  -B, --batch         Don't use history file. Disable interactive behavior.\n",
            "                      (Enables --silent.)\n",
            "  --bind-address=name IP address to bind to.\n",
            "  --binary-as-hex     Print binary data as hex\n",
            "  --character-sets-dir=name \n",
            "                      Directory for character set files.\n",
            "  --column-type-info  Display column type information.\n",
            "  -c, --comments      Preserve comments. Send comments to the server. The\n",
            "                      default is --skip-comments (discard comments), enable\n",
            "                      with --comments.\n",
            "  -C, --compress      Use compression in server/client protocol.\n",
            "  -#, --debug[=#]     This is a non-debug version. Catch this and exit.\n",
            "  --debug-check       This is a non-debug version. Catch this and exit.\n",
            "  -T, --debug-info    This is a non-debug version. Catch this and exit.\n",
            "  -D, --database=name Database to use.\n",
            "  --default-character-set=name \n",
            "                      Set the default character set.\n",
            "  --delimiter=name    Delimiter to be used.\n",
            "  --enable-cleartext-plugin \n",
            "                      Enable/disable the clear text authentication plugin.\n",
            "  -e, --execute=name  Execute command and quit. (Disables --force and history\n",
            "                      file.)\n",
            "  -E, --vertical      Print the output of a query (rows) vertically.\n",
            "  -f, --force         Continue even if we get an SQL error.\n",
            "  --histignore=name   A colon-separated list of patterns to keep statements\n",
            "                      from getting logged into syslog and mysql history.\n",
            "  -G, --named-commands \n",
            "                      Enable named commands. Named commands mean this program's\n",
            "                      internal commands; see mysql> help . When enabled, the\n",
            "                      named commands can be used from any line of the query,\n",
            "                      otherwise only from the first line, before an enter.\n",
            "                      Disable with --disable-named-commands. This option is\n",
            "                      disabled by default.\n",
            "  -i, --ignore-spaces Ignore space after function names.\n",
            "  --init-command=name SQL Command to execute when connecting to MySQL server.\n",
            "                      Will automatically be re-executed when reconnecting.\n",
            "  --local-infile      Enable/disable LOAD DATA LOCAL INFILE.\n",
            "  -b, --no-beep       Turn off beep on error.\n",
            "  -h, --host=name     Connect to host.\n",
            "  -H, --html          Produce HTML output.\n",
            "  -X, --xml           Produce XML output.\n",
            "  --line-numbers      Write line numbers for errors.\n",
            "                      (Defaults to on; use --skip-line-numbers to disable.)\n",
            "  -L, --skip-line-numbers \n",
            "                      Don't write line number for errors.\n",
            "  -n, --unbuffered    Flush buffer after each query.\n",
            "  --column-names      Write column names in results.\n",
            "                      (Defaults to on; use --skip-column-names to disable.)\n",
            "  -N, --skip-column-names \n",
            "                      Don't write column names in results.\n",
            "  --sigint-ignore     Ignore SIGINT (CTRL-C).\n",
            "  -o, --one-database  Ignore statements except those that occur while the\n",
            "                      default database is the one named at the command line.\n",
            "  --pager[=name]      Pager to use to display results. If you don't supply an\n",
            "                      option, the default pager is taken from your ENV variable\n",
            "                      PAGER. Valid pagers are less, more, cat [> filename],\n",
            "                      etc. See interactive help (\\h) also. This option does not\n",
            "                      work in batch mode. Disable with --disable-pager. This\n",
            "                      option is disabled by default.\n",
            "  -p, --password[=name] \n",
            "                      Password to use when connecting to server. If password is\n",
            "                      not given it's asked from the tty.\n",
            "  -P, --port=#        Port number to use for connection or 0 for default to, in\n",
            "                      order of preference, my.cnf, $MYSQL_TCP_PORT,\n",
            "                      /etc/services, built-in default (3306).\n",
            "  --prompt=name       Set the mysql prompt to this value.\n",
            "  --protocol=name     The protocol to use for connection (tcp, socket, pipe,\n",
            "                      memory).\n",
            "  -q, --quick         Don't cache result, print it row by row. This may slow\n",
            "                      down the server if the output is suspended. Doesn't use\n",
            "                      history file.\n",
            "  -r, --raw           Write fields without conversion. Used with --batch.\n",
            "  --reconnect         Reconnect if the connection is lost. Disable with\n",
            "                      --disable-reconnect. This option is enabled by default.\n",
            "                      (Defaults to on; use --skip-reconnect to disable.)\n",
            "  -s, --silent        Be more silent. Print results with a tab as separator,\n",
            "                      each row on new line.\n",
            "  -S, --socket=name   The socket file to use for connection.\n",
            "  --ssl-mode=name     SSL connection mode.\n",
            "  --ssl               Deprecated. Use --ssl-mode instead.\n",
            "                      (Defaults to on; use --skip-ssl to disable.)\n",
            "  --ssl-verify-server-cert \n",
            "                      Deprecated. Use --ssl-mode=VERIFY_IDENTITY instead.\n",
            "  --ssl-ca=name       CA file in PEM format.\n",
            "  --ssl-capath=name   CA directory.\n",
            "  --ssl-cert=name     X509 cert in PEM format.\n",
            "  --ssl-cipher=name   SSL cipher to use.\n",
            "  --ssl-key=name      X509 key in PEM format.\n",
            "  --ssl-crl=name      Certificate revocation list.\n",
            "  --ssl-crlpath=name  Certificate revocation list path.\n",
            "  --tls-version=name  TLS version to use, permitted values are: TLSv1, TLSv1.1,\n",
            "                      TLSv1.2\n",
            "  --server-public-key-path=name \n",
            "                      File path to the server public RSA key in PEM format.\n",
            "  --get-server-public-key \n",
            "                      Get server public key\n",
            "  -t, --table         Output in table format.\n",
            "  --tee=name          Append everything into outfile. See interactive help (\\h)\n",
            "                      also. Does not work in batch mode. Disable with\n",
            "                      --disable-tee. This option is disabled by default.\n",
            "  -u, --user=name     User for login if not current user.\n",
            "  -U, --safe-updates  Only allow UPDATE and DELETE that uses keys.\n",
            "  -U, --i-am-a-dummy  Synonym for option --safe-updates, -U.\n",
            "  -v, --verbose       Write more. (-v -v -v gives the table output format).\n",
            "  -V, --version       Output version information and exit.\n",
            "  -w, --wait          Wait and retry if connection is down.\n",
            "  --connect-timeout=# Number of seconds before connection timeout.\n",
            "  --max-allowed-packet=# \n",
            "                      The maximum packet length to send to or receive from\n",
            "                      server.\n",
            "  --net-buffer-length=# \n",
            "                      The buffer size for TCP/IP and socket communication.\n",
            "  --select-limit=#    Automatic limit for SELECT when using --safe-updates.\n",
            "  --max-join-size=#   Automatic limit for rows in a join when using\n",
            "                      --safe-updates.\n",
            "  --secure-auth       Refuse client connecting to server if it uses old\n",
            "                      (pre-4.1.1) protocol. Deprecated. Always TRUE\n",
            "  --server-arg=name   Send embedded server this as a parameter.\n",
            "  --show-warnings     Show warnings after every statement.\n",
            "  -j, --syslog        Log filtered interactive commands to syslog. Filtering of\n",
            "                      commands depends on the patterns supplied via histignore\n",
            "                      option besides the default patterns.\n",
            "  --plugin-dir=name   Directory for client-side plugins.\n",
            "  --default-auth=name Default authentication client-side plugin to use.\n",
            "  --binary-mode       By default, ASCII '\\0' is disallowed and '\\r\\n' is\n",
            "                      translated to '\\n'. This switch turns off both features,\n",
            "                      and also turns off parsing of all clientcommands except\n",
            "                      \\C and DELIMITER, in non-interactive mode (for input\n",
            "                      piped to mysql or loaded using the 'source' command).\n",
            "                      This is necessary when processing output from mysqlbinlog\n",
            "                      that may contain blobs.\n",
            "  --connect-expired-password \n",
            "                      Notify the server that this client is prepared to handle\n",
            "                      expired password sandbox mode.\n",
            "\n",
            "Default options are read from the following files in the given order:\n",
            "/etc/my.cnf /etc/mysql/my.cnf ~/.my.cnf \n",
            "The following groups are read: mysql client\n",
            "The following options may be given as the first argument:\n",
            "--print-defaults        Print the program argument list and exit.\n",
            "--no-defaults           Don't read default options from any option file,\n",
            "                        except for login file.\n",
            "--defaults-file=#       Only read default options from the given file #.\n",
            "--defaults-extra-file=# Read this file after the global files are read.\n",
            "--defaults-group-suffix=#\n",
            "                        Also read groups with concat(group, suffix)\n",
            "--login-path=#          Read this path from the login file.\n",
            "\n",
            "Variables (--variable-name=value)\n",
            "and boolean options {FALSE|TRUE}  Value (after reading options)\n",
            "--------------------------------- ----------------------------------------\n",
            "auto-rehash                       TRUE\n",
            "auto-vertical-output              FALSE\n",
            "bind-address                      (No default value)\n",
            "binary-as-hex                     FALSE\n",
            "character-sets-dir                (No default value)\n",
            "column-type-info                  FALSE\n",
            "comments                          FALSE\n",
            "compress                          FALSE\n",
            "database                          (No default value)\n",
            "default-character-set             auto\n",
            "delimiter                         ;\n",
            "enable-cleartext-plugin           FALSE\n",
            "vertical                          FALSE\n",
            "force                             FALSE\n",
            "histignore                        (No default value)\n",
            "named-commands                    FALSE\n",
            "ignore-spaces                     FALSE\n",
            "init-command                      (No default value)\n",
            "local-infile                      FALSE\n",
            "no-beep                           FALSE\n",
            "host                              (No default value)\n",
            "html                              FALSE\n",
            "xml                               FALSE\n",
            "line-numbers                      TRUE\n",
            "unbuffered                        FALSE\n",
            "column-names                      TRUE\n",
            "sigint-ignore                     FALSE\n",
            "port                              0\n",
            "prompt                            mysql> \n",
            "quick                             FALSE\n",
            "raw                               FALSE\n",
            "reconnect                         TRUE\n",
            "socket                            (No default value)\n",
            "ssl                               TRUE\n",
            "ssl-verify-server-cert            FALSE\n",
            "ssl-ca                            (No default value)\n",
            "ssl-capath                        (No default value)\n",
            "ssl-cert                          (No default value)\n",
            "ssl-cipher                        (No default value)\n",
            "ssl-key                           (No default value)\n",
            "ssl-crl                           (No default value)\n",
            "ssl-crlpath                       (No default value)\n",
            "tls-version                       (No default value)\n",
            "server-public-key-path            (No default value)\n",
            "get-server-public-key             FALSE\n",
            "table                             FALSE\n",
            "user                              (No default value)\n",
            "safe-updates                      FALSE\n",
            "i-am-a-dummy                      FALSE\n",
            "connect-timeout                   0\n",
            "max-allowed-packet                16777216\n",
            "net-buffer-length                 16384\n",
            "select-limit                      1000\n",
            "max-join-size                     1000000\n",
            "secure-auth                       TRUE\n",
            "show-warnings                     FALSE\n",
            "plugin-dir                        (No default value)\n",
            "default-auth                      (No default value)\n",
            "binary-mode                       FALSE\n",
            "connect-expired-password          FALSE\n"
          ]
        }
      ]
    },
    {
      "cell_type": "code",
      "source": [
        "#Adding more dates from additional sales orders\n",
        "!mysql -udwid -ppw < scripts/more_sales_order.sql"
      ],
      "metadata": {
        "colab": {
          "base_uri": "https://localhost:8080/"
        },
        "id": "G0MirMlBbEGW",
        "outputId": "6338487f-b787-454d-e5f7-914021f78f5b"
      },
      "execution_count": null,
      "outputs": [
        {
          "output_type": "stream",
          "name": "stdout",
          "text": [
            "mysql: [Warning] Using a password on the command line interface can be insecure.\n"
          ]
        }
      ]
    },
    {
      "cell_type": "code",
      "source": [
        "!mysql -udwid -ppw < scripts/source_date.sql #same error for date 0000-00-00"
      ],
      "metadata": {
        "colab": {
          "base_uri": "https://localhost:8080/"
        },
        "id": "cCg2O9hfbOyO",
        "outputId": "4b98d5d0-7061-44ec-f8d0-1fcb69470c4c"
      },
      "execution_count": null,
      "outputs": [
        {
          "output_type": "stream",
          "name": "stdout",
          "text": [
            "mysql: [Warning] Using a password on the command line interface can be insecure.\n",
            "ERROR 1292 (22007) at line 9: Incorrect date value: '0000-00-00' for column 'effective_date' at row 9\n"
          ]
        }
      ]
    },
    {
      "cell_type": "code",
      "source": [
        "!mysql dw -e\"select * from date_dim\" #no output"
      ],
      "metadata": {
        "id": "FL57nmEobbxO"
      },
      "execution_count": null,
      "outputs": []
    },
    {
      "cell_type": "code",
      "source": [
        "#initial population script\n",
        "!mysql -udwid -ppw < scripts/dw_initial.sql #LOAD command does not work "
      ],
      "metadata": {
        "colab": {
          "base_uri": "https://localhost:8080/"
        },
        "id": "ws1t827Jbm8u",
        "outputId": "ca8ecae2-f7c8-465d-ab4f-cf1f6e0aac46"
      },
      "execution_count": null,
      "outputs": [
        {
          "output_type": "stream",
          "name": "stdout",
          "text": [
            "mysql: [Warning] Using a password on the command line interface can be insecure.\n",
            "ERROR 1290 (HY000) at line 9: The MySQL server is running with the --secure-file-priv option so it cannot execute this statement\n"
          ]
        }
      ]
    },
    {
      "cell_type": "code",
      "source": [
        "#Running the initial Population script\n",
        "!mysql -udwid -ppw < scripts/truncate_tables.sql"
      ],
      "metadata": {
        "colab": {
          "base_uri": "https://localhost:8080/"
        },
        "id": "AeR46G1ycUoN",
        "outputId": "ccf4c88e-a151-44e1-e5dd-c83f5193abaf"
      },
      "execution_count": null,
      "outputs": [
        {
          "output_type": "stream",
          "name": "stdout",
          "text": [
            "mysql: [Warning] Using a password on the command line interface can be insecure.\n"
          ]
        }
      ]
    },
    {
      "cell_type": "code",
      "source": [
        "#Pre-Popuating the Date Dimension\n",
        "!mysql dw -e \"use dw\""
      ],
      "metadata": {
        "id": "-W_vpwuccj-l"
      },
      "execution_count": null,
      "outputs": []
    },
    {
      "cell_type": "code",
      "source": [
        "!mysql dw -e \"call pre_populate_date('2005-03-01', '2010-12-31')\" #0000-00-00 gives an error"
      ],
      "metadata": {
        "colab": {
          "base_uri": "https://localhost:8080/"
        },
        "id": "den3YV5OcsKW",
        "outputId": "2f0d9859-e8f7-490f-85f1-0257b11e86aa"
      },
      "execution_count": null,
      "outputs": [
        {
          "output_type": "stream",
          "name": "stdout",
          "text": [
            "ERROR 1292 (22007) at line 1: Incorrect date value: '0000-00-00' for column 'effective_date' at row 1\n"
          ]
        }
      ]
    },
    {
      "cell_type": "code",
      "source": [
        "!mysql -udwid -ppw < scripts/sales_order_initial.sql #Inserting sales into sales_order table"
      ],
      "metadata": {
        "colab": {
          "base_uri": "https://localhost:8080/"
        },
        "id": "eohuoimEdDuF",
        "outputId": "0704b7fc-f303-4e28-d7ff-cde1001328df"
      },
      "execution_count": null,
      "outputs": [
        {
          "output_type": "stream",
          "name": "stdout",
          "text": [
            "mysql: [Warning] Using a password on the command line interface can be insecure.\n"
          ]
        }
      ]
    },
    {
      "cell_type": "code",
      "source": [
        "!mysql dw -e \"update customer_dim set effective_date = '2007-02-28' \" "
      ],
      "metadata": {
        "id": "l5rabZ3idSjO"
      },
      "execution_count": null,
      "outputs": []
    },
    {
      "cell_type": "code",
      "source": [
        "!mysql -udwid -ppw < scripts/dw_initial.sql #Load command"
      ],
      "metadata": {
        "colab": {
          "base_uri": "https://localhost:8080/"
        },
        "id": "6MlqiJXddd8t",
        "outputId": "b9488bf8-df6d-44a3-e9de-0b7b866c9d8f"
      },
      "execution_count": null,
      "outputs": [
        {
          "output_type": "stream",
          "name": "stdout",
          "text": [
            "mysql: [Warning] Using a password on the command line interface can be insecure.\n",
            "ERROR 1290 (HY000) at line 9: The MySQL server is running with the --secure-file-priv option so it cannot execute this statement\n"
          ]
        }
      ]
    },
    {
      "cell_type": "code",
      "source": [
        "!mysql -udwid -ppw < scripts/confirm_initial_population.sql #syntax error in the file"
      ],
      "metadata": {
        "colab": {
          "base_uri": "https://localhost:8080/"
        },
        "id": "ELDrBsKpdsFW",
        "outputId": "9a476764-bf74-45f8-8309-f2b243b59a90"
      },
      "execution_count": null,
      "outputs": [
        {
          "output_type": "stream",
          "name": "stdout",
          "text": [
            "mysql: [Warning] Using a password on the command line interface can be insecure.\n",
            "ERROR 1064 (42000) at line 9: You have an error in your SQL syntax; check the manual that corresponds to your MySQL server version for the right syntax to use near 'on\n",
            ", customer_name\n",
            ", product_name\n",
            ", date\n",
            ", order_amount amount\n",
            "FROM \n",
            "  sales_ord' at line 2\n"
          ]
        }
      ]
    },
    {
      "cell_type": "code",
      "source": [
        "#Regular POpulation\n",
        "!mysql -udwid -ppw < scripts/dw_regular.sql #LOAD command won't work"
      ],
      "metadata": {
        "colab": {
          "base_uri": "https://localhost:8080/"
        },
        "id": "cYyaCwtGd3k9",
        "outputId": "4126ce86-a25f-4622-9eb6-5672d4f8f4fd"
      },
      "execution_count": null,
      "outputs": [
        {
          "output_type": "stream",
          "name": "stdout",
          "text": [
            "mysql: [Warning] Using a password on the command line interface can be insecure.\n",
            "ERROR 1290 (HY000) at line 14: The MySQL server is running with the --secure-file-priv option so it cannot execute this statement\n"
          ]
        }
      ]
    },
    {
      "cell_type": "code",
      "source": [
        "!mysql -udwid -ppw < scripts/sales_order_regular.sql #adding sales orders"
      ],
      "metadata": {
        "colab": {
          "base_uri": "https://localhost:8080/"
        },
        "id": "dHywpw58e4vl",
        "outputId": "a363a106-3edb-447d-83d6-1b775c3bb7e1"
      },
      "execution_count": null,
      "outputs": [
        {
          "output_type": "stream",
          "name": "stdout",
          "text": [
            "mysql: [Warning] Using a password on the command line interface can be insecure.\n"
          ]
        }
      ]
    },
    {
      "cell_type": "code",
      "source": [
        "!mysql dw -e \"update customer_dim set effective_date = '2007-03-01' \" "
      ],
      "metadata": {
        "id": "zFrEV_96fIH2"
      },
      "execution_count": null,
      "outputs": []
    },
    {
      "cell_type": "code",
      "source": [
        "!mysql -udwid -ppw < scripts/dw_regular.sql #LOad command doesn't work"
      ],
      "metadata": {
        "colab": {
          "base_uri": "https://localhost:8080/"
        },
        "id": "eb-uhidufNlF",
        "outputId": "57d21032-389f-475c-fd56-cca8c67836dd"
      },
      "execution_count": null,
      "outputs": [
        {
          "output_type": "stream",
          "name": "stdout",
          "text": [
            "mysql: [Warning] Using a password on the command line interface can be insecure.\n",
            "ERROR 1290 (HY000) at line 14: The MySQL server is running with the --secure-file-priv option so it cannot execute this statement\n"
          ]
        }
      ]
    },
    {
      "cell_type": "code",
      "source": [
        "!mysql dw -e\"select * from customer_dim\" #no output becuase Load function could not laod the CSV file into the table"
      ],
      "metadata": {
        "id": "K2morRkRfWpO"
      },
      "execution_count": null,
      "outputs": []
    },
    {
      "cell_type": "code",
      "source": [
        "!mysql dw -e\"select * from product_dim\" #no output becuase Load function could not laod the CSV file into the table"
      ],
      "metadata": {
        "id": "m9U5MiNefpTF"
      },
      "execution_count": null,
      "outputs": []
    },
    {
      "cell_type": "code",
      "source": [
        "!mysql dw - e\"select * from order_dim\""
      ],
      "metadata": {
        "colab": {
          "base_uri": "https://localhost:8080/"
        },
        "id": "iR75xWqLf1Z9",
        "outputId": "52f3fae6-04de-4f87-f778-5237861f199c"
      },
      "execution_count": null,
      "outputs": [
        {
          "output_type": "stream",
          "name": "stdout",
          "text": [
            "mysql  Ver 14.14 Distrib 5.7.39, for Linux (x86_64) using  EditLine wrapper\n",
            "Copyright (c) 2000, 2022, Oracle and/or its affiliates.\n",
            "\n",
            "Oracle is a registered trademark of Oracle Corporation and/or its\n",
            "affiliates. Other names may be trademarks of their respective\n",
            "owners.\n",
            "\n",
            "Usage: mysql [OPTIONS] [database]\n",
            "  -?, --help          Display this help and exit.\n",
            "  -I, --help          Synonym for -?\n",
            "  --auto-rehash       Enable automatic rehashing. One doesn't need to use\n",
            "                      'rehash' to get table and field completion, but startup\n",
            "                      and reconnecting may take a longer time. Disable with\n",
            "                      --disable-auto-rehash.\n",
            "                      (Defaults to on; use --skip-auto-rehash to disable.)\n",
            "  -A, --no-auto-rehash \n",
            "                      No automatic rehashing. One has to use 'rehash' to get\n",
            "                      table and field completion. This gives a quicker start of\n",
            "                      mysql and disables rehashing on reconnect.\n",
            "  --auto-vertical-output \n",
            "                      Automatically switch to vertical output mode if the\n",
            "                      result is wider than the terminal width.\n",
            "  -B, --batch         Don't use history file. Disable interactive behavior.\n",
            "                      (Enables --silent.)\n",
            "  --bind-address=name IP address to bind to.\n",
            "  --binary-as-hex     Print binary data as hex\n",
            "  --character-sets-dir=name \n",
            "                      Directory for character set files.\n",
            "  --column-type-info  Display column type information.\n",
            "  -c, --comments      Preserve comments. Send comments to the server. The\n",
            "                      default is --skip-comments (discard comments), enable\n",
            "                      with --comments.\n",
            "  -C, --compress      Use compression in server/client protocol.\n",
            "  -#, --debug[=#]     This is a non-debug version. Catch this and exit.\n",
            "  --debug-check       This is a non-debug version. Catch this and exit.\n",
            "  -T, --debug-info    This is a non-debug version. Catch this and exit.\n",
            "  -D, --database=name Database to use.\n",
            "  --default-character-set=name \n",
            "                      Set the default character set.\n",
            "  --delimiter=name    Delimiter to be used.\n",
            "  --enable-cleartext-plugin \n",
            "                      Enable/disable the clear text authentication plugin.\n",
            "  -e, --execute=name  Execute command and quit. (Disables --force and history\n",
            "                      file.)\n",
            "  -E, --vertical      Print the output of a query (rows) vertically.\n",
            "  -f, --force         Continue even if we get an SQL error.\n",
            "  --histignore=name   A colon-separated list of patterns to keep statements\n",
            "                      from getting logged into syslog and mysql history.\n",
            "  -G, --named-commands \n",
            "                      Enable named commands. Named commands mean this program's\n",
            "                      internal commands; see mysql> help . When enabled, the\n",
            "                      named commands can be used from any line of the query,\n",
            "                      otherwise only from the first line, before an enter.\n",
            "                      Disable with --disable-named-commands. This option is\n",
            "                      disabled by default.\n",
            "  -i, --ignore-spaces Ignore space after function names.\n",
            "  --init-command=name SQL Command to execute when connecting to MySQL server.\n",
            "                      Will automatically be re-executed when reconnecting.\n",
            "  --local-infile      Enable/disable LOAD DATA LOCAL INFILE.\n",
            "  -b, --no-beep       Turn off beep on error.\n",
            "  -h, --host=name     Connect to host.\n",
            "  -H, --html          Produce HTML output.\n",
            "  -X, --xml           Produce XML output.\n",
            "  --line-numbers      Write line numbers for errors.\n",
            "                      (Defaults to on; use --skip-line-numbers to disable.)\n",
            "  -L, --skip-line-numbers \n",
            "                      Don't write line number for errors.\n",
            "  -n, --unbuffered    Flush buffer after each query.\n",
            "  --column-names      Write column names in results.\n",
            "                      (Defaults to on; use --skip-column-names to disable.)\n",
            "  -N, --skip-column-names \n",
            "                      Don't write column names in results.\n",
            "  --sigint-ignore     Ignore SIGINT (CTRL-C).\n",
            "  -o, --one-database  Ignore statements except those that occur while the\n",
            "                      default database is the one named at the command line.\n",
            "  --pager[=name]      Pager to use to display results. If you don't supply an\n",
            "                      option, the default pager is taken from your ENV variable\n",
            "                      PAGER. Valid pagers are less, more, cat [> filename],\n",
            "                      etc. See interactive help (\\h) also. This option does not\n",
            "                      work in batch mode. Disable with --disable-pager. This\n",
            "                      option is disabled by default.\n",
            "  -p, --password[=name] \n",
            "                      Password to use when connecting to server. If password is\n",
            "                      not given it's asked from the tty.\n",
            "  -P, --port=#        Port number to use for connection or 0 for default to, in\n",
            "                      order of preference, my.cnf, $MYSQL_TCP_PORT,\n",
            "                      /etc/services, built-in default (3306).\n",
            "  --prompt=name       Set the mysql prompt to this value.\n",
            "  --protocol=name     The protocol to use for connection (tcp, socket, pipe,\n",
            "                      memory).\n",
            "  -q, --quick         Don't cache result, print it row by row. This may slow\n",
            "                      down the server if the output is suspended. Doesn't use\n",
            "                      history file.\n",
            "  -r, --raw           Write fields without conversion. Used with --batch.\n",
            "  --reconnect         Reconnect if the connection is lost. Disable with\n",
            "                      --disable-reconnect. This option is enabled by default.\n",
            "                      (Defaults to on; use --skip-reconnect to disable.)\n",
            "  -s, --silent        Be more silent. Print results with a tab as separator,\n",
            "                      each row on new line.\n",
            "  -S, --socket=name   The socket file to use for connection.\n",
            "  --ssl-mode=name     SSL connection mode.\n",
            "  --ssl               Deprecated. Use --ssl-mode instead.\n",
            "                      (Defaults to on; use --skip-ssl to disable.)\n",
            "  --ssl-verify-server-cert \n",
            "                      Deprecated. Use --ssl-mode=VERIFY_IDENTITY instead.\n",
            "  --ssl-ca=name       CA file in PEM format.\n",
            "  --ssl-capath=name   CA directory.\n",
            "  --ssl-cert=name     X509 cert in PEM format.\n",
            "  --ssl-cipher=name   SSL cipher to use.\n",
            "  --ssl-key=name      X509 key in PEM format.\n",
            "  --ssl-crl=name      Certificate revocation list.\n",
            "  --ssl-crlpath=name  Certificate revocation list path.\n",
            "  --tls-version=name  TLS version to use, permitted values are: TLSv1, TLSv1.1,\n",
            "                      TLSv1.2\n",
            "  --server-public-key-path=name \n",
            "                      File path to the server public RSA key in PEM format.\n",
            "  --get-server-public-key \n",
            "                      Get server public key\n",
            "  -t, --table         Output in table format.\n",
            "  --tee=name          Append everything into outfile. See interactive help (\\h)\n",
            "                      also. Does not work in batch mode. Disable with\n",
            "                      --disable-tee. This option is disabled by default.\n",
            "  -u, --user=name     User for login if not current user.\n",
            "  -U, --safe-updates  Only allow UPDATE and DELETE that uses keys.\n",
            "  -U, --i-am-a-dummy  Synonym for option --safe-updates, -U.\n",
            "  -v, --verbose       Write more. (-v -v -v gives the table output format).\n",
            "  -V, --version       Output version information and exit.\n",
            "  -w, --wait          Wait and retry if connection is down.\n",
            "  --connect-timeout=# Number of seconds before connection timeout.\n",
            "  --max-allowed-packet=# \n",
            "                      The maximum packet length to send to or receive from\n",
            "                      server.\n",
            "  --net-buffer-length=# \n",
            "                      The buffer size for TCP/IP and socket communication.\n",
            "  --select-limit=#    Automatic limit for SELECT when using --safe-updates.\n",
            "  --max-join-size=#   Automatic limit for rows in a join when using\n",
            "                      --safe-updates.\n",
            "  --secure-auth       Refuse client connecting to server if it uses old\n",
            "                      (pre-4.1.1) protocol. Deprecated. Always TRUE\n",
            "  --server-arg=name   Send embedded server this as a parameter.\n",
            "  --show-warnings     Show warnings after every statement.\n",
            "  -j, --syslog        Log filtered interactive commands to syslog. Filtering of\n",
            "                      commands depends on the patterns supplied via histignore\n",
            "                      option besides the default patterns.\n",
            "  --plugin-dir=name   Directory for client-side plugins.\n",
            "  --default-auth=name Default authentication client-side plugin to use.\n",
            "  --binary-mode       By default, ASCII '\\0' is disallowed and '\\r\\n' is\n",
            "                      translated to '\\n'. This switch turns off both features,\n",
            "                      and also turns off parsing of all clientcommands except\n",
            "                      \\C and DELIMITER, in non-interactive mode (for input\n",
            "                      piped to mysql or loaded using the 'source' command).\n",
            "                      This is necessary when processing output from mysqlbinlog\n",
            "                      that may contain blobs.\n",
            "  --connect-expired-password \n",
            "                      Notify the server that this client is prepared to handle\n",
            "                      expired password sandbox mode.\n",
            "\n",
            "Default options are read from the following files in the given order:\n",
            "/etc/my.cnf /etc/mysql/my.cnf ~/.my.cnf \n",
            "The following groups are read: mysql client\n",
            "The following options may be given as the first argument:\n",
            "--print-defaults        Print the program argument list and exit.\n",
            "--no-defaults           Don't read default options from any option file,\n",
            "                        except for login file.\n",
            "--defaults-file=#       Only read default options from the given file #.\n",
            "--defaults-extra-file=# Read this file after the global files are read.\n",
            "--defaults-group-suffix=#\n",
            "                        Also read groups with concat(group, suffix)\n",
            "--login-path=#          Read this path from the login file.\n",
            "\n",
            "Variables (--variable-name=value)\n",
            "and boolean options {FALSE|TRUE}  Value (after reading options)\n",
            "--------------------------------- ----------------------------------------\n",
            "auto-rehash                       TRUE\n",
            "auto-vertical-output              FALSE\n",
            "bind-address                      (No default value)\n",
            "binary-as-hex                     FALSE\n",
            "character-sets-dir                (No default value)\n",
            "column-type-info                  FALSE\n",
            "comments                          FALSE\n",
            "compress                          FALSE\n",
            "database                          (No default value)\n",
            "default-character-set             auto\n",
            "delimiter                         ;\n",
            "enable-cleartext-plugin           FALSE\n",
            "vertical                          FALSE\n",
            "force                             FALSE\n",
            "histignore                        (No default value)\n",
            "named-commands                    FALSE\n",
            "ignore-spaces                     FALSE\n",
            "init-command                      (No default value)\n",
            "local-infile                      FALSE\n",
            "no-beep                           FALSE\n",
            "host                              (No default value)\n",
            "html                              FALSE\n",
            "xml                               FALSE\n",
            "line-numbers                      TRUE\n",
            "unbuffered                        FALSE\n",
            "column-names                      TRUE\n",
            "sigint-ignore                     FALSE\n",
            "port                              0\n",
            "prompt                            mysql> \n",
            "quick                             FALSE\n",
            "raw                               FALSE\n",
            "reconnect                         TRUE\n",
            "socket                            (No default value)\n",
            "ssl                               TRUE\n",
            "ssl-verify-server-cert            FALSE\n",
            "ssl-ca                            (No default value)\n",
            "ssl-capath                        (No default value)\n",
            "ssl-cert                          (No default value)\n",
            "ssl-cipher                        (No default value)\n",
            "ssl-key                           (No default value)\n",
            "ssl-crl                           (No default value)\n",
            "ssl-crlpath                       (No default value)\n",
            "tls-version                       (No default value)\n",
            "server-public-key-path            (No default value)\n",
            "get-server-public-key             FALSE\n",
            "table                             FALSE\n",
            "user                              (No default value)\n",
            "safe-updates                      FALSE\n",
            "i-am-a-dummy                      FALSE\n",
            "connect-timeout                   0\n",
            "max-allowed-packet                16777216\n",
            "net-buffer-length                 16384\n",
            "select-limit                      1000\n",
            "max-join-size                     1000000\n",
            "secure-auth                       TRUE\n",
            "show-warnings                     FALSE\n",
            "plugin-dir                        (No default value)\n",
            "default-auth                      (No default value)\n",
            "binary-mode                       FALSE\n",
            "connect-expired-password          FALSE\n"
          ]
        }
      ]
    },
    {
      "cell_type": "code",
      "source": [
        "!mysql dw -e \"select* from sales_order_fact\""
      ],
      "metadata": {
        "id": "-21uWuEKgGDW"
      },
      "execution_count": null,
      "outputs": []
    },
    {
      "cell_type": "code",
      "source": [
        "#Regular Population scheduling\n",
        "!mysql -udwid -ppw < scripts\\dw_regular.sql # no file path found error"
      ],
      "metadata": {
        "colab": {
          "base_uri": "https://localhost:8080/"
        },
        "id": "EXN8-MQ_gNa8",
        "outputId": "9b3f66f9-4528-430b-f601-569fa7d9161b"
      },
      "execution_count": null,
      "outputs": [
        {
          "output_type": "stream",
          "name": "stdout",
          "text": [
            "/bin/bash: scriptsdw_regular.sql: No such file or directory\n"
          ]
        }
      ]
    },
    {
      "cell_type": "markdown",
      "source": [
        "Last step is scheduling the batch job via Schedule Task wizard in control panel\n"
      ],
      "metadata": {
        "id": "Sibfj5AdhUju"
      }
    }
  ]
}