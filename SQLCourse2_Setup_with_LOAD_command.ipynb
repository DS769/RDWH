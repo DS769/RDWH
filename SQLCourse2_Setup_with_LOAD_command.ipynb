{
  "nbformat": 4,
  "nbformat_minor": 0,
  "metadata": {
    "colab": {
      "name": "SQLCourse2 - Setup with LOAD command",
      "provenance": [],
      "include_colab_link": true
    },
    "kernelspec": {
      "name": "python3",
      "display_name": "Python 3"
    }
  },
  "cells": [
    {
      "cell_type": "markdown",
      "metadata": {
        "id": "view-in-github",
        "colab_type": "text"
      },
      "source": [
        "<a href=\"https://colab.research.google.com/github/Praxis-QR/RDWH/blob/main/SQLCourse2_Setup_with_LOAD_command.ipynb\" target=\"_parent\"><img src=\"https://colab.research.google.com/assets/colab-badge.svg\" alt=\"Open In Colab\"/></a>"
      ]
    },
    {
      "cell_type": "markdown",
      "metadata": {
        "id": "bCIotTZFo-E4"
      },
      "source": [
        "![alt text](https://4.bp.blogspot.com/-gbL5nZDkpFQ/XScFYwoTEII/AAAAAAAAAGY/CcVb_HDLwvs2Brv5T4vSsUcz7O4r2Q79ACK4BGAYYCw/s1600/kk3-header00-beta.png)<br>\n",
        "\n",
        "\n",
        "<hr>\n",
        "\n",
        "[Prithwis Mukerjee](http://www.linkedin.com/in/prithwis)<br>"
      ]
    },
    {
      "cell_type": "markdown",
      "source": [
        "Tutorial based on [SQLCourse2](https://www.sqlcourse2.com/) <br>\n",
        "Data is in this [Google Sheet](https://docs.google.com/spreadsheets/d/1m_LE_ahVHY0PrXmtyVVjO5CyqvmOMOwGT6hPYBYHBqw/edit?usp=sharing) <br>\n",
        "The data needs to be downloaded as two CSV files from the Google Docs above"
      ],
      "metadata": {
        "id": "NezRnvzjCkLJ"
      }
    },
    {
      "cell_type": "markdown",
      "source": [
        "#Using Local Server"
      ],
      "metadata": {
        "id": "uGvAzElNngKd"
      }
    },
    {
      "cell_type": "markdown",
      "metadata": {
        "id": "MCb2Qk4Fpajc"
      },
      "source": [
        "## Install MySQL"
      ]
    },
    {
      "cell_type": "code",
      "metadata": {
        "id": "Lz9UOPeupctr",
        "colab": {
          "base_uri": "https://localhost:8080/"
        },
        "outputId": "9c166c0c-d145-44b7-e742-271beb788b8a"
      },
      "source": [
        "!apt update > /dev/null\n",
        "!apt install -y  mysql-server > /dev/null\n",
        "!/etc/init.d/mysql restart\n",
        "!mysql -e 'create database praxisDB'\n",
        "!mysql -e 'show databases'"
      ],
      "execution_count": 1,
      "outputs": [
        {
          "output_type": "stream",
          "name": "stdout",
          "text": [
            "\n",
            "WARNING: apt does not have a stable CLI interface. Use with caution in scripts.\n",
            "\n",
            "\n",
            "WARNING: apt does not have a stable CLI interface. Use with caution in scripts.\n",
            "\n",
            " * Stopping MySQL database server mysqld\n",
            "   ...done.\n",
            " * Starting MySQL database server mysqld\n",
            "No directory, logging in with HOME=/\n",
            "   ...done.\n",
            "+--------------------+\n",
            "| Database           |\n",
            "+--------------------+\n",
            "| information_schema |\n",
            "| mysql              |\n",
            "| performance_schema |\n",
            "| praxisDB           |\n",
            "| sys                |\n",
            "+--------------------+\n"
          ]
        }
      ]
    },
    {
      "cell_type": "markdown",
      "metadata": {
        "id": "ZGOv_BcWrHu0"
      },
      "source": [
        "## Create Tables"
      ]
    },
    {
      "cell_type": "code",
      "source": [
        "!mysql praxisDB -e 'drop table if exists itemsordered'\n",
        "# --------------------------------------------------------------\n",
        "!mysql praxisDB -e '\\\n",
        "CREATE TABLE IF NOT EXISTS itemsordered (\\\n",
        "customerid char(5),orderdate date, item varchar(30), quantity int(4), price decimal(5,2)) \\\n",
        "'"
      ],
      "metadata": {
        "id": "zGVnFRqdPZst"
      },
      "execution_count": 2,
      "outputs": []
    },
    {
      "cell_type": "code",
      "metadata": {
        "id": "cjlJW2el9VDw",
        "colab": {
          "base_uri": "https://localhost:8080/"
        },
        "outputId": "1c7ecc77-39ea-4684-a114-fe00d5e06ad2"
      },
      "source": [
        "!mysql praxisDB -e 'desc itemsordered'"
      ],
      "execution_count": 3,
      "outputs": [
        {
          "output_type": "stream",
          "name": "stdout",
          "text": [
            "+------------+--------------+------+-----+---------+-------+\n",
            "| Field      | Type         | Null | Key | Default | Extra |\n",
            "+------------+--------------+------+-----+---------+-------+\n",
            "| customerid | char(5)      | YES  |     | NULL    |       |\n",
            "| orderdate  | date         | YES  |     | NULL    |       |\n",
            "| item       | varchar(30)  | YES  |     | NULL    |       |\n",
            "| quantity   | int(4)       | YES  |     | NULL    |       |\n",
            "| price      | decimal(5,2) | YES  |     | NULL    |       |\n",
            "+------------+--------------+------+-----+---------+-------+\n"
          ]
        }
      ]
    },
    {
      "cell_type": "code",
      "source": [
        "!mysql praxisDB -e 'drop table if exists customers'\n",
        "# --------------------------------------------------------------\n",
        "!mysql praxisDB -e '\\\n",
        "CREATE TABLE IF NOT EXISTS customers (customerid char(5),firstname varchar(20),lastname varchar(20), city varchar(20), state varchar(20)) \\\n",
        "'"
      ],
      "metadata": {
        "id": "ocy8viMMojNm"
      },
      "execution_count": 4,
      "outputs": []
    },
    {
      "cell_type": "code",
      "source": [
        "!mysql praxisDB -e 'desc customers'"
      ],
      "metadata": {
        "colab": {
          "base_uri": "https://localhost:8080/"
        },
        "id": "2CpIoZxApNuB",
        "outputId": "43e1dcb4-c68b-490e-c496-d835dd78ccaa"
      },
      "execution_count": 5,
      "outputs": [
        {
          "output_type": "stream",
          "name": "stdout",
          "text": [
            "+------------+-------------+------+-----+---------+-------+\n",
            "| Field      | Type        | Null | Key | Default | Extra |\n",
            "+------------+-------------+------+-----+---------+-------+\n",
            "| customerid | char(5)     | YES  |     | NULL    |       |\n",
            "| firstname  | varchar(20) | YES  |     | NULL    |       |\n",
            "| lastname   | varchar(20) | YES  |     | NULL    |       |\n",
            "| city       | varchar(20) | YES  |     | NULL    |       |\n",
            "| state      | varchar(20) | YES  |     | NULL    |       |\n",
            "+------------+-------------+------+-----+---------+-------+\n"
          ]
        }
      ]
    },
    {
      "cell_type": "markdown",
      "source": [
        "## Load Tables"
      ],
      "metadata": {
        "id": "KAc5RcY4n5Zr"
      }
    },
    {
      "cell_type": "code",
      "metadata": {
        "id": "joDEg9Tt6cHU",
        "outputId": "9d72962a-c857-4db3-d6ab-0a1ad7c918e8",
        "colab": {
          "base_uri": "https://localhost:8080/"
        }
      },
      "source": [
        "# Download two CSV files from G-Drive into the Colab VM\n",
        "!gdown https://drive.google.com/uc?id=1WxuruueFwMTjmPb-DvvVnGYB78Ty4OkP\n",
        "!gdown https://drive.google.com/uc?id=1j49sqYHv0UoskVJDzNObWxECFF7ySsld"
      ],
      "execution_count": 6,
      "outputs": [
        {
          "output_type": "stream",
          "name": "stdout",
          "text": [
            "Downloading...\n",
            "From: https://drive.google.com/uc?id=1WxuruueFwMTjmPb-DvvVnGYB78Ty4OkP\n",
            "To: /content/SQLCourse2 - ItemsOrdered.csv\n",
            "100% 1.16k/1.16k [00:00<00:00, 1.41MB/s]\n",
            "Downloading...\n",
            "From: https://drive.google.com/uc?id=1j49sqYHv0UoskVJDzNObWxECFF7ySsld\n",
            "To: /content/SQLCourse2 - Customers.csv\n",
            "100% 695/695 [00:00<00:00, 469kB/s]\n"
          ]
        }
      ]
    },
    {
      "cell_type": "code",
      "source": [
        "# upload the two CSV files into the Colab VM\n",
        "!ls"
      ],
      "metadata": {
        "colab": {
          "base_uri": "https://localhost:8080/"
        },
        "id": "4oC4rYtFOWzx",
        "outputId": "221c1f5c-24b3-4798-f264-7ec47a26b567"
      },
      "execution_count": 7,
      "outputs": [
        {
          "output_type": "stream",
          "name": "stdout",
          "text": [
            " sample_data  'SQLCourse2 - Customers.csv'  'SQLCourse2 - ItemsOrdered.csv'\n"
          ]
        }
      ]
    },
    {
      "cell_type": "code",
      "source": [
        "# Note first line, with header columns ignored\n",
        "# Note date is converted from string to proper date format\n",
        "#\n",
        "!mysql praxisDB -e \"   \\\n",
        "LOAD DATA LOCAL INFILE 'SQLCourse2 - ItemsOrdered.csv' \\\n",
        "ignore \\\n",
        "INTO  TABLE itemsordered  \\\n",
        "FIELDS TERMINATED BY ',' enclosed by '\\\"' LINES TERMINATED BY '\\r\\n' IGNORE 1 LINES  \\\n",
        "(customerid,@orderdate, item, quantity, price) \\\n",
        "set orderdate = STR_TO_DATE(@orderdate,'%d-%b-%Y');\\\n",
        "\""
      ],
      "metadata": {
        "id": "egGX7wzkPsBB"
      },
      "execution_count": 8,
      "outputs": []
    },
    {
      "cell_type": "code",
      "metadata": {
        "id": "ppvWDJsi-jRa"
      },
      "source": [
        "#!mysql praxisDB -e 'select * from itemsordered;'"
      ],
      "execution_count": 10,
      "outputs": []
    },
    {
      "cell_type": "code",
      "source": [
        "# Note first line, with header columns ignored\n",
        "#\n",
        "!mysql praxisDB -e \"   \\\n",
        "LOAD DATA LOCAL INFILE 'SQLCourse2 - Customers.csv' INTO TABLE customers \\\n",
        "FIELDS TERMINATED BY ',' enclosed by '\\\"' LINES TERMINATED BY '\\r\\n'  IGNORE 1 LINES;  \\\n",
        "\""
      ],
      "metadata": {
        "id": "LE-iniTPpVuX"
      },
      "execution_count": 11,
      "outputs": []
    },
    {
      "cell_type": "code",
      "source": [
        "#!mysql praxisDB -e 'select * from customers;'"
      ],
      "metadata": {
        "id": "uXw3zTbqpyIJ"
      },
      "execution_count": null,
      "outputs": []
    },
    {
      "cell_type": "markdown",
      "source": [
        "#Using Remote Server"
      ],
      "metadata": {
        "id": "K4I8Db7_sjSf"
      }
    },
    {
      "cell_type": "markdown",
      "source": [
        "## Set Public Credentials"
      ],
      "metadata": {
        "id": "QLLUcW5js8lc"
      }
    },
    {
      "cell_type": "code",
      "source": [
        "# enter credentials here\n",
        "#hostName = 'remotemysql.com'   # place your own credentials here\n",
        "#userName = 'yourUserName'      # place your own credentials here\n",
        "#passWord = 'yourPassWord'      # place your own credentials here\n",
        "#dbName =  'yourDBname'         # place your own credentials here\n",
        "\n",
        "#print(hostName,userName,dbName)"
      ],
      "metadata": {
        "id": "sz5ZbznNs_0J"
      },
      "execution_count": null,
      "outputs": []
    },
    {
      "cell_type": "markdown",
      "source": [
        "## Set Private Credentials"
      ],
      "metadata": {
        "id": "2n05YF-8tBNW"
      }
    },
    {
      "cell_type": "code",
      "source": [
        "#connect to G-Drive\n",
        "from google.colab import drive\n",
        "drive.mount('/content/drive')\n",
        "# copy credentials file\n",
        "#!ls /content/drive/'My Drive'/Praxis/WebCredentials\n",
        "#!cp /content/drive/'My Drive'/Praxis/WebCredentials/sqlCredentials_020221.py .\n",
        "!cp /content/drive/'My Drive'/Praxis/WebCredentials/cleverCloud.py credentials.py\n",
        "from credentials import hostName,userName,passWord,dbName\n",
        "\n",
        "#for the sake of privacy\n",
        "#the following credentials need to be stored in a text file called sqlCredentials.py\n",
        "#in the format given below\n",
        "#in the Colab VM\n",
        "\n",
        "\n",
        "print(hostName,userName,passWord,dbName)"
      ],
      "metadata": {
        "colab": {
          "base_uri": "https://localhost:8080/"
        },
        "id": "7teZGFeztEwd",
        "outputId": "72f32f3f-043b-4bc6-ffa2-c92080960203"
      },
      "execution_count": null,
      "outputs": [
        {
          "output_type": "stream",
          "name": "stdout",
          "text": [
            "Mounted at /content/drive\n",
            "bq3ojarbqgmkc7prtopv-mysql.services.clever-cloud.com uxnhrnbgcu47thlz LEEP91xTUEKq36h2DyzT bq3ojarbqgmkc7prtopv\n"
          ]
        }
      ]
    },
    {
      "cell_type": "code",
      "source": [
        "#NOTE SECURITY WARNING\n",
        "#Passing passwords in the command line is inherently risky and SHOULD NOT BE USED for any non-trivial work\n",
        "#---------------------------------------------------------------------\n",
        "!mysql -h '$hostName' -P 3306 -u '$userName' -p'$passWord' '$dbName' -e 'show tables'"
      ],
      "metadata": {
        "colab": {
          "base_uri": "https://localhost:8080/"
        },
        "id": "i2vFdWuKth1y",
        "outputId": "3d6767f4-60df-42ac-d23f-243047ad7f45"
      },
      "execution_count": null,
      "outputs": [
        {
          "output_type": "stream",
          "name": "stdout",
          "text": [
            "mysql: [Warning] Using a password on the command line interface can be insecure.\n",
            "+--------------------------------+\n",
            "| Tables_in_bq3ojarbqgmkc7prtopv |\n",
            "+--------------------------------+\n",
            "| Dept                           |\n",
            "| Emp                            |\n",
            "| customers                      |\n",
            "| itemsordered                   |\n",
            "+--------------------------------+\n"
          ]
        }
      ]
    },
    {
      "cell_type": "markdown",
      "source": [
        "## Create Tables"
      ],
      "metadata": {
        "id": "2GdxumuMun88"
      }
    },
    {
      "cell_type": "code",
      "source": [
        "#NOTE SECURITY WARNING\n",
        "#Passing passwords in the command line is inherently risky and SHOULD NOT BE USED for any non-trivial work\n",
        "#---------------------------------------------------------------------\n",
        "!mysql -h '$hostName' -P 3306 -u '$userName' -p'$passWord' '$dbName' -e 'drop table if exists customers'\n",
        "# --------------------------------------------------------------\n",
        "!mysql -h '$hostName' -P 3306 -u '$userName' -p'$passWord' '$dbName' -e '\\\n",
        "CREATE TABLE IF NOT EXISTS customers (\\\n",
        "customerid char(5),firstname varchar(20),lastname varchar(20), city varchar(20), state varchar(20)) \\\n",
        "'"
      ],
      "metadata": {
        "colab": {
          "base_uri": "https://localhost:8080/"
        },
        "id": "N16gLXtcuuy2",
        "outputId": "48b90ad5-be6d-4efb-9a82-62dbd76bf64c"
      },
      "execution_count": null,
      "outputs": [
        {
          "output_type": "stream",
          "name": "stdout",
          "text": [
            "mysql: [Warning] Using a password on the command line interface can be insecure.\n",
            "mysql: [Warning] Using a password on the command line interface can be insecure.\n"
          ]
        }
      ]
    },
    {
      "cell_type": "code",
      "source": [
        "#NOTE SECURITY WARNING\n",
        "#Passing passwords in the command line is inherently risky and SHOULD NOT BE USED for any non-trivial work\n",
        "#---------------------------------------------------------------------\n",
        "!mysql -h '$hostName' -P 3306 -u '$userName' -p'$passWord' '$dbName' -e 'drop table if exists itemsordered'\n",
        "# --------------------------------------------------------------\n",
        "!mysql -h '$hostName' -P 3306 -u '$userName' -p'$passWord' '$dbName' -e '\\\n",
        "CREATE TABLE IF NOT EXISTS itemsordered (\\\n",
        "customerid char(5),orderdate date, item varchar(30), quantity int(4), price decimal(7,2)) \\\n",
        "'"
      ],
      "metadata": {
        "colab": {
          "base_uri": "https://localhost:8080/"
        },
        "id": "pnydZIvhuq5C",
        "outputId": "2cdf3556-7fbd-4520-cb5d-c006a78a25c9"
      },
      "execution_count": null,
      "outputs": [
        {
          "output_type": "stream",
          "name": "stdout",
          "text": [
            "mysql: [Warning] Using a password on the command line interface can be insecure.\n",
            "mysql: [Warning] Using a password on the command line interface can be insecure.\n"
          ]
        }
      ]
    },
    {
      "cell_type": "code",
      "source": [
        "#NOTE SECURITY WARNING\n",
        "#Passing passwords in the command line is inherently risky and SHOULD NOT BE USED for any non-trivial work\n",
        "#---------------------------------------------------------------------\n",
        "!mysql -h '$hostName' -P 3306 -u '$userName' -p'$passWord' '$dbName' -e 'show tables'"
      ],
      "metadata": {
        "colab": {
          "base_uri": "https://localhost:8080/"
        },
        "id": "7tZaf9NWv9Mu",
        "outputId": "d4905d48-4990-4da0-d8fa-8033ab88c1b7"
      },
      "execution_count": null,
      "outputs": [
        {
          "output_type": "stream",
          "name": "stdout",
          "text": [
            "mysql: [Warning] Using a password on the command line interface can be insecure.\n",
            "+--------------------------------+\n",
            "| Tables_in_bq3ojarbqgmkc7prtopv |\n",
            "+--------------------------------+\n",
            "| Dept                           |\n",
            "| Emp                            |\n",
            "| customers                      |\n",
            "| itemsordered                   |\n",
            "+--------------------------------+\n"
          ]
        }
      ]
    },
    {
      "cell_type": "markdown",
      "source": [
        "## Load Tables with Load Command <br>\n",
        "In general this will NOT work because of authorisation issues"
      ],
      "metadata": {
        "id": "9PiliVxOwf0X"
      }
    },
    {
      "cell_type": "code",
      "source": [
        "# Download two CSV files from G-Drive into the Colab VM\n",
        "!gdown https://drive.google.com/uc?id=1WxuruueFwMTjmPb-DvvVnGYB78Ty4OkP\n",
        "!gdown https://drive.google.com/uc?id=1j49sqYHv0UoskVJDzNObWxECFF7ySsld"
      ],
      "metadata": {
        "id": "Io1j--oDlwKT"
      },
      "execution_count": null,
      "outputs": []
    },
    {
      "cell_type": "code",
      "source": [
        "#NOTE SECURITY WARNING\n",
        "#Passing passwords in the command line is inherently risky and SHOULD NOT BE USED for any non-trivial work\n",
        "#---------------------------------------------------------------------\n",
        "!mysql  -h '$hostName' -P 3306 -u '$userName' -p'$passWord' '$dbName' -e \"   \\\n",
        "LOAD DATA LOCAL INFILE 'SQLCourse2 - ItemsOrdered.csv' \\\n",
        "ignore \\\n",
        "INTO  TABLE itemsordered  \\\n",
        "FIELDS TERMINATED BY ',' enclosed by '\\\"' LINES TERMINATED BY '\\r\\n' IGNORE 1 LINES  \\\n",
        "(customerid,@orderdate, item, quantity, price) \\\n",
        "set orderdate = STR_TO_DATE(@orderdate,'%d-%b-%Y');\\\n",
        "\""
      ],
      "metadata": {
        "colab": {
          "base_uri": "https://localhost:8080/"
        },
        "id": "mc1dzgWAwsPZ",
        "outputId": "7f53c370-003c-4481-9039-16160a31d776"
      },
      "execution_count": null,
      "outputs": [
        {
          "output_type": "stream",
          "name": "stdout",
          "text": [
            "mysql: [Warning] Using a password on the command line interface can be insecure.\n",
            "ERROR 3948 (42000) at line 1: Loading local data is disabled; this must be enabled on both the client and server sides\n"
          ]
        }
      ]
    },
    {
      "cell_type": "markdown",
      "source": [
        "## Load Table with PhP MyAdmin "
      ],
      "metadata": {
        "id": "lnQqwciG1huR"
      }
    },
    {
      "cell_type": "markdown",
      "source": [
        "CSV file can be uploaded  using the import command of the PhP MyAdmin function <br>\n",
        "However for this, the files have to 'cleaned up'"
      ],
      "metadata": {
        "id": "MxbmWF8e1DC-"
      }
    },
    {
      "cell_type": "code",
      "source": [
        "!mysql -h '$hostName' -P 3306 -u '$userName' -p'$passWord' '$dbName' -e 'select * from customers;'"
      ],
      "metadata": {
        "colab": {
          "base_uri": "https://localhost:8080/"
        },
        "id": "jYeLMNsf1T-u",
        "outputId": "8a863913-d8a7-45ff-c512-675dbe8a9e82"
      },
      "execution_count": null,
      "outputs": [
        {
          "output_type": "stream",
          "name": "stdout",
          "text": [
            "mysql: [Warning] Using a password on the command line interface can be insecure.\n",
            "+------------+-----------+----------+--------------+----------------+\n",
            "| customerid | firstname | lastname | city         | state          |\n",
            "+------------+-----------+----------+--------------+----------------+\n",
            "| 10101      | John      | Gray     | Lynden       | Washington     |\n",
            "| 10298      | Leroy     | Brown    | Pinetop      | Arizona        |\n",
            "| 10299      | Elroy     | Keller   | Snoqualmie   | Washington     |\n",
            "| 10315      | Lisa      | Jones    | Oshkosh      | Wisconsin      |\n",
            "| 10325      | Ginger    | Schultz  | Pocatello    | Idaho          |\n",
            "| 10329      | Kelly     | Mendoza  | Kailua       | Hawaii         |\n",
            "| 10330      | Shawn     | Dalton   | Cannon Beach | Oregon         |\n",
            "| 10338      | Michael   | Howell   | Tillamook    | Oregon         |\n",
            "| 10339      | Anthony   | Sanchez  | Winslow      | Arizona        |\n",
            "| 10408      | Elroy     | Cleaver  | Globe        | Arizona        |\n",
            "| 10410      | Mary Ann  | Howell   | Charleston   | South Carolina |\n",
            "| 10413      | Donald    | Davids   | Gila Bend    | Arizona        |\n",
            "| 10419      | Linda     | Sakahara | Nogales      | Arizona        |\n",
            "| 10429      | Sarah     | Graham   | Greensboro   | North Carolina |\n",
            "| 10438      | Kevin     | Smith    | Durango      | Colorado       |\n",
            "| 10439      | Conrad    | Giles    | Telluride    | Colorado       |\n",
            "| 10449      | Isabela   | Moore    | Yuma         | Arizona        |\n",
            "+------------+-----------+----------+--------------+----------------+\n"
          ]
        }
      ]
    },
    {
      "cell_type": "code",
      "source": [
        "import pandas as pd\n",
        "from datetime import datetime"
      ],
      "metadata": {
        "id": "V8IeXisH4ACz"
      },
      "execution_count": null,
      "outputs": []
    },
    {
      "cell_type": "code",
      "source": [
        "dfItems = pd.read_csv('SQLCourse2 - ItemsOrdered.csv')\n",
        "dfItems.head()"
      ],
      "metadata": {
        "colab": {
          "base_uri": "https://localhost:8080/",
          "height": 206
        },
        "id": "VDikfAWq3-Cu",
        "outputId": "cbc3b171-e3c4-4412-9a59-77f8d60cd7e7"
      },
      "execution_count": null,
      "outputs": [
        {
          "output_type": "execute_result",
          "data": {
            "text/html": [
              "\n",
              "  <div id=\"df-b8781c3b-cf4b-4311-a390-f61635c78ef4\">\n",
              "    <div class=\"colab-df-container\">\n",
              "      <div>\n",
              "<style scoped>\n",
              "    .dataframe tbody tr th:only-of-type {\n",
              "        vertical-align: middle;\n",
              "    }\n",
              "\n",
              "    .dataframe tbody tr th {\n",
              "        vertical-align: top;\n",
              "    }\n",
              "\n",
              "    .dataframe thead th {\n",
              "        text-align: right;\n",
              "    }\n",
              "</style>\n",
              "<table border=\"1\" class=\"dataframe\">\n",
              "  <thead>\n",
              "    <tr style=\"text-align: right;\">\n",
              "      <th></th>\n",
              "      <th>customerid</th>\n",
              "      <th>order_date</th>\n",
              "      <th>item</th>\n",
              "      <th>quantity</th>\n",
              "      <th>price</th>\n",
              "    </tr>\n",
              "  </thead>\n",
              "  <tbody>\n",
              "    <tr>\n",
              "      <th>0</th>\n",
              "      <td>10330</td>\n",
              "      <td>30-Jun-1999</td>\n",
              "      <td>Pogo stick</td>\n",
              "      <td>1</td>\n",
              "      <td>28.0</td>\n",
              "    </tr>\n",
              "    <tr>\n",
              "      <th>1</th>\n",
              "      <td>10101</td>\n",
              "      <td>30-Jun-1999</td>\n",
              "      <td>Raft</td>\n",
              "      <td>1</td>\n",
              "      <td>58.0</td>\n",
              "    </tr>\n",
              "    <tr>\n",
              "      <th>2</th>\n",
              "      <td>10298</td>\n",
              "      <td>01-Jul-1999</td>\n",
              "      <td>Skateboard</td>\n",
              "      <td>1</td>\n",
              "      <td>33.0</td>\n",
              "    </tr>\n",
              "    <tr>\n",
              "      <th>3</th>\n",
              "      <td>10101</td>\n",
              "      <td>01-Jul-1999</td>\n",
              "      <td>Life Vest</td>\n",
              "      <td>4</td>\n",
              "      <td>125.0</td>\n",
              "    </tr>\n",
              "    <tr>\n",
              "      <th>4</th>\n",
              "      <td>10299</td>\n",
              "      <td>06-Jul-1999</td>\n",
              "      <td>Parachute</td>\n",
              "      <td>1</td>\n",
              "      <td>1250.0</td>\n",
              "    </tr>\n",
              "  </tbody>\n",
              "</table>\n",
              "</div>\n",
              "      <button class=\"colab-df-convert\" onclick=\"convertToInteractive('df-b8781c3b-cf4b-4311-a390-f61635c78ef4')\"\n",
              "              title=\"Convert this dataframe to an interactive table.\"\n",
              "              style=\"display:none;\">\n",
              "        \n",
              "  <svg xmlns=\"http://www.w3.org/2000/svg\" height=\"24px\"viewBox=\"0 0 24 24\"\n",
              "       width=\"24px\">\n",
              "    <path d=\"M0 0h24v24H0V0z\" fill=\"none\"/>\n",
              "    <path d=\"M18.56 5.44l.94 2.06.94-2.06 2.06-.94-2.06-.94-.94-2.06-.94 2.06-2.06.94zm-11 1L8.5 8.5l.94-2.06 2.06-.94-2.06-.94L8.5 2.5l-.94 2.06-2.06.94zm10 10l.94 2.06.94-2.06 2.06-.94-2.06-.94-.94-2.06-.94 2.06-2.06.94z\"/><path d=\"M17.41 7.96l-1.37-1.37c-.4-.4-.92-.59-1.43-.59-.52 0-1.04.2-1.43.59L10.3 9.45l-7.72 7.72c-.78.78-.78 2.05 0 2.83L4 21.41c.39.39.9.59 1.41.59.51 0 1.02-.2 1.41-.59l7.78-7.78 2.81-2.81c.8-.78.8-2.07 0-2.86zM5.41 20L4 18.59l7.72-7.72 1.47 1.35L5.41 20z\"/>\n",
              "  </svg>\n",
              "      </button>\n",
              "      \n",
              "  <style>\n",
              "    .colab-df-container {\n",
              "      display:flex;\n",
              "      flex-wrap:wrap;\n",
              "      gap: 12px;\n",
              "    }\n",
              "\n",
              "    .colab-df-convert {\n",
              "      background-color: #E8F0FE;\n",
              "      border: none;\n",
              "      border-radius: 50%;\n",
              "      cursor: pointer;\n",
              "      display: none;\n",
              "      fill: #1967D2;\n",
              "      height: 32px;\n",
              "      padding: 0 0 0 0;\n",
              "      width: 32px;\n",
              "    }\n",
              "\n",
              "    .colab-df-convert:hover {\n",
              "      background-color: #E2EBFA;\n",
              "      box-shadow: 0px 1px 2px rgba(60, 64, 67, 0.3), 0px 1px 3px 1px rgba(60, 64, 67, 0.15);\n",
              "      fill: #174EA6;\n",
              "    }\n",
              "\n",
              "    [theme=dark] .colab-df-convert {\n",
              "      background-color: #3B4455;\n",
              "      fill: #D2E3FC;\n",
              "    }\n",
              "\n",
              "    [theme=dark] .colab-df-convert:hover {\n",
              "      background-color: #434B5C;\n",
              "      box-shadow: 0px 1px 3px 1px rgba(0, 0, 0, 0.15);\n",
              "      filter: drop-shadow(0px 1px 2px rgba(0, 0, 0, 0.3));\n",
              "      fill: #FFFFFF;\n",
              "    }\n",
              "  </style>\n",
              "\n",
              "      <script>\n",
              "        const buttonEl =\n",
              "          document.querySelector('#df-b8781c3b-cf4b-4311-a390-f61635c78ef4 button.colab-df-convert');\n",
              "        buttonEl.style.display =\n",
              "          google.colab.kernel.accessAllowed ? 'block' : 'none';\n",
              "\n",
              "        async function convertToInteractive(key) {\n",
              "          const element = document.querySelector('#df-b8781c3b-cf4b-4311-a390-f61635c78ef4');\n",
              "          const dataTable =\n",
              "            await google.colab.kernel.invokeFunction('convertToInteractive',\n",
              "                                                     [key], {});\n",
              "          if (!dataTable) return;\n",
              "\n",
              "          const docLinkHtml = 'Like what you see? Visit the ' +\n",
              "            '<a target=\"_blank\" href=https://colab.research.google.com/notebooks/data_table.ipynb>data table notebook</a>'\n",
              "            + ' to learn more about interactive tables.';\n",
              "          element.innerHTML = '';\n",
              "          dataTable['output_type'] = 'display_data';\n",
              "          await google.colab.output.renderOutput(dataTable, element);\n",
              "          const docLink = document.createElement('div');\n",
              "          docLink.innerHTML = docLinkHtml;\n",
              "          element.appendChild(docLink);\n",
              "        }\n",
              "      </script>\n",
              "    </div>\n",
              "  </div>\n",
              "  "
            ],
            "text/plain": [
              "   customerid   order_date        item  quantity   price\n",
              "0       10330  30-Jun-1999  Pogo stick         1    28.0\n",
              "1       10101  30-Jun-1999        Raft         1    58.0\n",
              "2       10298  01-Jul-1999  Skateboard         1    33.0\n",
              "3       10101  01-Jul-1999   Life Vest         4   125.0\n",
              "4       10299  06-Jul-1999   Parachute         1  1250.0"
            ]
          },
          "metadata": {},
          "execution_count": 23
        }
      ]
    },
    {
      "cell_type": "code",
      "source": [
        "# The order_date is changed to the proper MySQL format\n",
        "dfItems['order_date'] = dfItems['order_date'].apply(lambda s: datetime.strptime(s,'%d-%b-%Y').strftime(\"%Y-%m-%d\"))\n",
        "dfItems.head()\n",
        "\n"
      ],
      "metadata": {
        "id": "6WsAxpwB4l0S",
        "colab": {
          "base_uri": "https://localhost:8080/",
          "height": 206
        },
        "outputId": "c3ef219e-c01d-4c55-cb0e-653bf32b759f"
      },
      "execution_count": null,
      "outputs": [
        {
          "output_type": "execute_result",
          "data": {
            "text/html": [
              "\n",
              "  <div id=\"df-a4e5bd4c-b9a3-4abf-b3c6-c6bb0068ef31\">\n",
              "    <div class=\"colab-df-container\">\n",
              "      <div>\n",
              "<style scoped>\n",
              "    .dataframe tbody tr th:only-of-type {\n",
              "        vertical-align: middle;\n",
              "    }\n",
              "\n",
              "    .dataframe tbody tr th {\n",
              "        vertical-align: top;\n",
              "    }\n",
              "\n",
              "    .dataframe thead th {\n",
              "        text-align: right;\n",
              "    }\n",
              "</style>\n",
              "<table border=\"1\" class=\"dataframe\">\n",
              "  <thead>\n",
              "    <tr style=\"text-align: right;\">\n",
              "      <th></th>\n",
              "      <th>customerid</th>\n",
              "      <th>order_date</th>\n",
              "      <th>item</th>\n",
              "      <th>quantity</th>\n",
              "      <th>price</th>\n",
              "    </tr>\n",
              "  </thead>\n",
              "  <tbody>\n",
              "    <tr>\n",
              "      <th>0</th>\n",
              "      <td>10330</td>\n",
              "      <td>1999-06-30</td>\n",
              "      <td>Pogo stick</td>\n",
              "      <td>1</td>\n",
              "      <td>28.0</td>\n",
              "    </tr>\n",
              "    <tr>\n",
              "      <th>1</th>\n",
              "      <td>10101</td>\n",
              "      <td>1999-06-30</td>\n",
              "      <td>Raft</td>\n",
              "      <td>1</td>\n",
              "      <td>58.0</td>\n",
              "    </tr>\n",
              "    <tr>\n",
              "      <th>2</th>\n",
              "      <td>10298</td>\n",
              "      <td>1999-07-01</td>\n",
              "      <td>Skateboard</td>\n",
              "      <td>1</td>\n",
              "      <td>33.0</td>\n",
              "    </tr>\n",
              "    <tr>\n",
              "      <th>3</th>\n",
              "      <td>10101</td>\n",
              "      <td>1999-07-01</td>\n",
              "      <td>Life Vest</td>\n",
              "      <td>4</td>\n",
              "      <td>125.0</td>\n",
              "    </tr>\n",
              "    <tr>\n",
              "      <th>4</th>\n",
              "      <td>10299</td>\n",
              "      <td>1999-07-06</td>\n",
              "      <td>Parachute</td>\n",
              "      <td>1</td>\n",
              "      <td>1250.0</td>\n",
              "    </tr>\n",
              "  </tbody>\n",
              "</table>\n",
              "</div>\n",
              "      <button class=\"colab-df-convert\" onclick=\"convertToInteractive('df-a4e5bd4c-b9a3-4abf-b3c6-c6bb0068ef31')\"\n",
              "              title=\"Convert this dataframe to an interactive table.\"\n",
              "              style=\"display:none;\">\n",
              "        \n",
              "  <svg xmlns=\"http://www.w3.org/2000/svg\" height=\"24px\"viewBox=\"0 0 24 24\"\n",
              "       width=\"24px\">\n",
              "    <path d=\"M0 0h24v24H0V0z\" fill=\"none\"/>\n",
              "    <path d=\"M18.56 5.44l.94 2.06.94-2.06 2.06-.94-2.06-.94-.94-2.06-.94 2.06-2.06.94zm-11 1L8.5 8.5l.94-2.06 2.06-.94-2.06-.94L8.5 2.5l-.94 2.06-2.06.94zm10 10l.94 2.06.94-2.06 2.06-.94-2.06-.94-.94-2.06-.94 2.06-2.06.94z\"/><path d=\"M17.41 7.96l-1.37-1.37c-.4-.4-.92-.59-1.43-.59-.52 0-1.04.2-1.43.59L10.3 9.45l-7.72 7.72c-.78.78-.78 2.05 0 2.83L4 21.41c.39.39.9.59 1.41.59.51 0 1.02-.2 1.41-.59l7.78-7.78 2.81-2.81c.8-.78.8-2.07 0-2.86zM5.41 20L4 18.59l7.72-7.72 1.47 1.35L5.41 20z\"/>\n",
              "  </svg>\n",
              "      </button>\n",
              "      \n",
              "  <style>\n",
              "    .colab-df-container {\n",
              "      display:flex;\n",
              "      flex-wrap:wrap;\n",
              "      gap: 12px;\n",
              "    }\n",
              "\n",
              "    .colab-df-convert {\n",
              "      background-color: #E8F0FE;\n",
              "      border: none;\n",
              "      border-radius: 50%;\n",
              "      cursor: pointer;\n",
              "      display: none;\n",
              "      fill: #1967D2;\n",
              "      height: 32px;\n",
              "      padding: 0 0 0 0;\n",
              "      width: 32px;\n",
              "    }\n",
              "\n",
              "    .colab-df-convert:hover {\n",
              "      background-color: #E2EBFA;\n",
              "      box-shadow: 0px 1px 2px rgba(60, 64, 67, 0.3), 0px 1px 3px 1px rgba(60, 64, 67, 0.15);\n",
              "      fill: #174EA6;\n",
              "    }\n",
              "\n",
              "    [theme=dark] .colab-df-convert {\n",
              "      background-color: #3B4455;\n",
              "      fill: #D2E3FC;\n",
              "    }\n",
              "\n",
              "    [theme=dark] .colab-df-convert:hover {\n",
              "      background-color: #434B5C;\n",
              "      box-shadow: 0px 1px 3px 1px rgba(0, 0, 0, 0.15);\n",
              "      filter: drop-shadow(0px 1px 2px rgba(0, 0, 0, 0.3));\n",
              "      fill: #FFFFFF;\n",
              "    }\n",
              "  </style>\n",
              "\n",
              "      <script>\n",
              "        const buttonEl =\n",
              "          document.querySelector('#df-a4e5bd4c-b9a3-4abf-b3c6-c6bb0068ef31 button.colab-df-convert');\n",
              "        buttonEl.style.display =\n",
              "          google.colab.kernel.accessAllowed ? 'block' : 'none';\n",
              "\n",
              "        async function convertToInteractive(key) {\n",
              "          const element = document.querySelector('#df-a4e5bd4c-b9a3-4abf-b3c6-c6bb0068ef31');\n",
              "          const dataTable =\n",
              "            await google.colab.kernel.invokeFunction('convertToInteractive',\n",
              "                                                     [key], {});\n",
              "          if (!dataTable) return;\n",
              "\n",
              "          const docLinkHtml = 'Like what you see? Visit the ' +\n",
              "            '<a target=\"_blank\" href=https://colab.research.google.com/notebooks/data_table.ipynb>data table notebook</a>'\n",
              "            + ' to learn more about interactive tables.';\n",
              "          element.innerHTML = '';\n",
              "          dataTable['output_type'] = 'display_data';\n",
              "          await google.colab.output.renderOutput(dataTable, element);\n",
              "          const docLink = document.createElement('div');\n",
              "          docLink.innerHTML = docLinkHtml;\n",
              "          element.appendChild(docLink);\n",
              "        }\n",
              "      </script>\n",
              "    </div>\n",
              "  </div>\n",
              "  "
            ],
            "text/plain": [
              "   customerid  order_date        item  quantity   price\n",
              "0       10330  1999-06-30  Pogo stick         1    28.0\n",
              "1       10101  1999-06-30        Raft         1    58.0\n",
              "2       10298  1999-07-01  Skateboard         1    33.0\n",
              "3       10101  1999-07-01   Life Vest         4   125.0\n",
              "4       10299  1999-07-06   Parachute         1  1250.0"
            ]
          },
          "metadata": {},
          "execution_count": 24
        }
      ]
    },
    {
      "cell_type": "code",
      "source": [
        "#convert modified dataframe to csv file for PhP MyAdmin Use\n",
        "dfItems.to_csv('rItemsOrders.csv', index=False, header=False)"
      ],
      "metadata": {
        "id": "Uq4RmhqBAjCt"
      },
      "execution_count": null,
      "outputs": []
    },
    {
      "cell_type": "code",
      "source": [
        "# In this case, no date conversion is required, only header removed\n",
        "dfCustomers = pd.read_csv('SQLCourse2 - Customers.csv')\n",
        "dfCustomers.to_csv('rCustomers.csv', index=False, header=False)"
      ],
      "metadata": {
        "id": "jP1oK36O-kIx"
      },
      "execution_count": null,
      "outputs": []
    },
    {
      "cell_type": "markdown",
      "source": [
        "# Pythons Functions for SQL commands"
      ],
      "metadata": {
        "id": "eIoTpY-HBFLL"
      }
    },
    {
      "cell_type": "code",
      "source": [
        "!apt install libmysqlclient-dev > /dev/null\n",
        "!pip install mysqlclient > /dev/null\n",
        "import pandas as pd\n",
        "import MySQLdb"
      ],
      "metadata": {
        "colab": {
          "base_uri": "https://localhost:8080/"
        },
        "id": "muMYozz1D-EC",
        "outputId": "7b8659ae-24c3-4d9e-d2c4-5debec40c278"
      },
      "execution_count": null,
      "outputs": [
        {
          "output_type": "stream",
          "name": "stdout",
          "text": [
            "\n",
            "WARNING: apt does not have a stable CLI interface. Use with caution in scripts.\n",
            "\n"
          ]
        }
      ]
    },
    {
      "cell_type": "code",
      "source": [
        "#To run any non-SELECT SQL command\n",
        "def runCMD (loc, DDL):\n",
        "    if loc == 'remoteDB':\n",
        "        DBConn = MySQLdb.connect(hostName,userName,passWord,dbName)\n",
        "    elif loc == 'localDB':\n",
        "        DBConn = MySQLdb.connect(db='praxisDB')\n",
        "    else :\n",
        "        print('location must be \"remoteDB or \"localDB\"')\n",
        "    \n",
        "    myCursor = DBConn.cursor()\n",
        "    retcode = myCursor.execute(DDL) \n",
        "    print (retcode)\n",
        "    DBConn.commit()\n",
        "    DBConn.close()\n",
        "\n",
        "#To run any SELECT SQL command\n",
        "def runSELECT (loc, CMD):\n",
        "    if loc == 'remoteDB':\n",
        "        DBConn = MySQLdb.connect(hostName,userName,passWord,dbName)\n",
        "    elif loc == 'localDB':\n",
        "        DBConn = MySQLdb.connect(db='praxisDB')\n",
        "    else :\n",
        "        print('location must be \"remoteDB or \"localDB\"')\n",
        "    \n",
        "    df_mysql = pd.read_sql(CMD, con=DBConn)    \n",
        "    DBConn.close()\n",
        "    return df_mysql"
      ],
      "metadata": {
        "id": "NVDDq2VmBgQH"
      },
      "execution_count": null,
      "outputs": []
    },
    {
      "cell_type": "markdown",
      "source": [
        "## Test SQL calls from Python"
      ],
      "metadata": {
        "id": "VIbZ_9LzDS0D"
      }
    },
    {
      "cell_type": "code",
      "source": [
        "# Set the location to whichever Database you need to access\n",
        "#\n",
        "# --------------------------------\n",
        "#\n",
        "#location = 'localDB'\n",
        "location = 'remoteDB'"
      ],
      "metadata": {
        "id": "i9G6UTJlDdi9"
      },
      "execution_count": null,
      "outputs": []
    },
    {
      "cell_type": "code",
      "source": [
        "#runSELECT(location,'select * from customers')\n",
        "runSELECT(location,'select * from itemsordered limit 5')"
      ],
      "metadata": {
        "colab": {
          "base_uri": "https://localhost:8080/",
          "height": 206
        },
        "id": "WpIA5EvzDnCZ",
        "outputId": "04db24a7-1bea-46ea-e67c-1eeb5074850c"
      },
      "execution_count": null,
      "outputs": [
        {
          "output_type": "execute_result",
          "data": {
            "text/html": [
              "\n",
              "  <div id=\"df-d7b9fc59-196d-4719-80af-8b295af92f26\">\n",
              "    <div class=\"colab-df-container\">\n",
              "      <div>\n",
              "<style scoped>\n",
              "    .dataframe tbody tr th:only-of-type {\n",
              "        vertical-align: middle;\n",
              "    }\n",
              "\n",
              "    .dataframe tbody tr th {\n",
              "        vertical-align: top;\n",
              "    }\n",
              "\n",
              "    .dataframe thead th {\n",
              "        text-align: right;\n",
              "    }\n",
              "</style>\n",
              "<table border=\"1\" class=\"dataframe\">\n",
              "  <thead>\n",
              "    <tr style=\"text-align: right;\">\n",
              "      <th></th>\n",
              "      <th>customerid</th>\n",
              "      <th>orderdate</th>\n",
              "      <th>item</th>\n",
              "      <th>quantity</th>\n",
              "      <th>price</th>\n",
              "    </tr>\n",
              "  </thead>\n",
              "  <tbody>\n",
              "    <tr>\n",
              "      <th>0</th>\n",
              "      <td>10330</td>\n",
              "      <td>1999-06-30</td>\n",
              "      <td>Pogo stick</td>\n",
              "      <td>1</td>\n",
              "      <td>28.0</td>\n",
              "    </tr>\n",
              "    <tr>\n",
              "      <th>1</th>\n",
              "      <td>10101</td>\n",
              "      <td>1999-06-30</td>\n",
              "      <td>Raft</td>\n",
              "      <td>1</td>\n",
              "      <td>58.0</td>\n",
              "    </tr>\n",
              "    <tr>\n",
              "      <th>2</th>\n",
              "      <td>10298</td>\n",
              "      <td>1999-07-01</td>\n",
              "      <td>Skateboard</td>\n",
              "      <td>1</td>\n",
              "      <td>33.0</td>\n",
              "    </tr>\n",
              "    <tr>\n",
              "      <th>3</th>\n",
              "      <td>10101</td>\n",
              "      <td>1999-07-01</td>\n",
              "      <td>Life Vest</td>\n",
              "      <td>4</td>\n",
              "      <td>125.0</td>\n",
              "    </tr>\n",
              "    <tr>\n",
              "      <th>4</th>\n",
              "      <td>10299</td>\n",
              "      <td>1999-07-06</td>\n",
              "      <td>Parachute</td>\n",
              "      <td>1</td>\n",
              "      <td>1250.0</td>\n",
              "    </tr>\n",
              "  </tbody>\n",
              "</table>\n",
              "</div>\n",
              "      <button class=\"colab-df-convert\" onclick=\"convertToInteractive('df-d7b9fc59-196d-4719-80af-8b295af92f26')\"\n",
              "              title=\"Convert this dataframe to an interactive table.\"\n",
              "              style=\"display:none;\">\n",
              "        \n",
              "  <svg xmlns=\"http://www.w3.org/2000/svg\" height=\"24px\"viewBox=\"0 0 24 24\"\n",
              "       width=\"24px\">\n",
              "    <path d=\"M0 0h24v24H0V0z\" fill=\"none\"/>\n",
              "    <path d=\"M18.56 5.44l.94 2.06.94-2.06 2.06-.94-2.06-.94-.94-2.06-.94 2.06-2.06.94zm-11 1L8.5 8.5l.94-2.06 2.06-.94-2.06-.94L8.5 2.5l-.94 2.06-2.06.94zm10 10l.94 2.06.94-2.06 2.06-.94-2.06-.94-.94-2.06-.94 2.06-2.06.94z\"/><path d=\"M17.41 7.96l-1.37-1.37c-.4-.4-.92-.59-1.43-.59-.52 0-1.04.2-1.43.59L10.3 9.45l-7.72 7.72c-.78.78-.78 2.05 0 2.83L4 21.41c.39.39.9.59 1.41.59.51 0 1.02-.2 1.41-.59l7.78-7.78 2.81-2.81c.8-.78.8-2.07 0-2.86zM5.41 20L4 18.59l7.72-7.72 1.47 1.35L5.41 20z\"/>\n",
              "  </svg>\n",
              "      </button>\n",
              "      \n",
              "  <style>\n",
              "    .colab-df-container {\n",
              "      display:flex;\n",
              "      flex-wrap:wrap;\n",
              "      gap: 12px;\n",
              "    }\n",
              "\n",
              "    .colab-df-convert {\n",
              "      background-color: #E8F0FE;\n",
              "      border: none;\n",
              "      border-radius: 50%;\n",
              "      cursor: pointer;\n",
              "      display: none;\n",
              "      fill: #1967D2;\n",
              "      height: 32px;\n",
              "      padding: 0 0 0 0;\n",
              "      width: 32px;\n",
              "    }\n",
              "\n",
              "    .colab-df-convert:hover {\n",
              "      background-color: #E2EBFA;\n",
              "      box-shadow: 0px 1px 2px rgba(60, 64, 67, 0.3), 0px 1px 3px 1px rgba(60, 64, 67, 0.15);\n",
              "      fill: #174EA6;\n",
              "    }\n",
              "\n",
              "    [theme=dark] .colab-df-convert {\n",
              "      background-color: #3B4455;\n",
              "      fill: #D2E3FC;\n",
              "    }\n",
              "\n",
              "    [theme=dark] .colab-df-convert:hover {\n",
              "      background-color: #434B5C;\n",
              "      box-shadow: 0px 1px 3px 1px rgba(0, 0, 0, 0.15);\n",
              "      filter: drop-shadow(0px 1px 2px rgba(0, 0, 0, 0.3));\n",
              "      fill: #FFFFFF;\n",
              "    }\n",
              "  </style>\n",
              "\n",
              "      <script>\n",
              "        const buttonEl =\n",
              "          document.querySelector('#df-d7b9fc59-196d-4719-80af-8b295af92f26 button.colab-df-convert');\n",
              "        buttonEl.style.display =\n",
              "          google.colab.kernel.accessAllowed ? 'block' : 'none';\n",
              "\n",
              "        async function convertToInteractive(key) {\n",
              "          const element = document.querySelector('#df-d7b9fc59-196d-4719-80af-8b295af92f26');\n",
              "          const dataTable =\n",
              "            await google.colab.kernel.invokeFunction('convertToInteractive',\n",
              "                                                     [key], {});\n",
              "          if (!dataTable) return;\n",
              "\n",
              "          const docLinkHtml = 'Like what you see? Visit the ' +\n",
              "            '<a target=\"_blank\" href=https://colab.research.google.com/notebooks/data_table.ipynb>data table notebook</a>'\n",
              "            + ' to learn more about interactive tables.';\n",
              "          element.innerHTML = '';\n",
              "          dataTable['output_type'] = 'display_data';\n",
              "          await google.colab.output.renderOutput(dataTable, element);\n",
              "          const docLink = document.createElement('div');\n",
              "          docLink.innerHTML = docLinkHtml;\n",
              "          element.appendChild(docLink);\n",
              "        }\n",
              "      </script>\n",
              "    </div>\n",
              "  </div>\n",
              "  "
            ],
            "text/plain": [
              "  customerid   orderdate        item  quantity   price\n",
              "0      10330  1999-06-30  Pogo stick         1    28.0\n",
              "1      10101  1999-06-30        Raft         1    58.0\n",
              "2      10298  1999-07-01  Skateboard         1    33.0\n",
              "3      10101  1999-07-01   Life Vest         4   125.0\n",
              "4      10299  1999-07-06   Parachute         1  1250.0"
            ]
          },
          "metadata": {},
          "execution_count": 39
        }
      ]
    },
    {
      "cell_type": "markdown",
      "metadata": {
        "id": "4phrtjaE_tyS"
      },
      "source": [
        "#Chronobooks <br>\n",
        "![alt text](https://1.bp.blogspot.com/-lTiYBkU2qbU/X1er__fvnkI/AAAAAAAAjtE/GhDR3OEGJr4NG43fZPodrQD5kbxtnKebgCLcBGAsYHQ/s600/Footer2020-600x200.png)<hr>\n",
        "Chronotantra and Chronoyantra are two science fiction novels that explore the collapse of human civilisation on Earth and then its rebirth and reincarnation both on Earth as well as on the distant worlds of Mars, Titan and Enceladus. But is it the human civilisation that is being reborn? Or is it some other sentience that is revealing itself. \n",
        "If you have an interest in AI and found this material useful, you may consider buying these novels, in paperback or kindle, from [http://bit.ly/chronobooks](http://bit.ly/chronobooks)"
      ]
    }
  ]
}