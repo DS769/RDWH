{
  "nbformat": 4,
  "nbformat_minor": 0,
  "metadata": {
    "colab": {
      "name": "DataWarehousing with MySQL",
      "provenance": [],
      "collapsed_sections": [],
      "toc_visible": true,
      "include_colab_link": true
    },
    "kernelspec": {
      "name": "python3",
      "display_name": "Python 3"
    }
  },
  "cells": [
    {
      "cell_type": "markdown",
      "metadata": {
        "id": "view-in-github",
        "colab_type": "text"
      },
      "source": [
        "<a href=\"https://colab.research.google.com/github/Praxis-QR/RDWH/blob/main/DataWarehousing_with_MySQL.ipynb\" target=\"_parent\"><img src=\"https://colab.research.google.com/assets/colab-badge.svg\" alt=\"Open In Colab\"/></a>"
      ]
    },
    {
      "cell_type": "markdown",
      "metadata": {
        "id": "JLS_gJa1nzro"
      },
      "source": [
        "![CC-BY-SA](https://licensebuttons.net/l/by-sa/3.0/88x31.png)<br>\n",
        "<hr>\n",
        "\n",
        "![alt text](http://1.bp.blogspot.com/-nqAGzznZQNo/UwS8rxjfXeI/AAAAAAAABTA/nunmRLowpps/s1600/PraxisLogo.gif)<br>\n",
        "[Data Science Program](http://praxis.ac.in/Programs/business-analytics/)\n",
        "\n",
        "<hr>\n",
        "\n",
        "[Prithwis Mukerjee](http://www.yantrajaal.com)<br>"
      ]
    },
    {
      "cell_type": "markdown",
      "metadata": {
        "id": "8rtzja3Fbppg"
      },
      "source": [
        "#Datawarehousing with MySQL <br>\n",
        "\n",
        "<br>\n",
        "based on the codes available with the book Dimensional Datawarehousing with MySQL https://brainysoftware.com/9780975212820   [archive](https://drive.google.com/open?id=1BeIC5uEMGu85PADHRN-Zpn3lmZ3ihrkE)"
      ]
    },
    {
      "cell_type": "markdown",
      "metadata": {
        "id": "aGzVf5TLov-E"
      },
      "source": [
        "# Install MySQL"
      ]
    },
    {
      "cell_type": "code",
      "metadata": {
        "id": "Xi1BqQUKpu13",
        "colab": {
          "base_uri": "https://localhost:8080/"
        },
        "outputId": "d07e3609-fdf2-45de-e527-e0ca02614c9e"
      },
      "source": [
        "!apt -y install mysql-server"
      ],
      "execution_count": null,
      "outputs": [
        {
          "output_type": "stream",
          "text": [
            "Reading package lists... Done\n",
            "Building dependency tree       \n",
            "Reading state information... Done\n",
            "The following additional packages will be installed:\n",
            "  libcgi-fast-perl libcgi-pm-perl libencode-locale-perl libevent-core-2.1-6\n",
            "  libfcgi-perl libhtml-parser-perl libhtml-tagset-perl libhtml-template-perl\n",
            "  libhttp-date-perl libhttp-message-perl libio-html-perl\n",
            "  liblwp-mediatypes-perl libtimedate-perl liburi-perl mysql-client-5.7\n",
            "  mysql-client-core-5.7 mysql-server-5.7 mysql-server-core-5.7\n",
            "Suggested packages:\n",
            "  libdata-dump-perl libipc-sharedcache-perl libwww-perl mailx tinyca\n",
            "The following NEW packages will be installed:\n",
            "  libcgi-fast-perl libcgi-pm-perl libencode-locale-perl libevent-core-2.1-6\n",
            "  libfcgi-perl libhtml-parser-perl libhtml-tagset-perl libhtml-template-perl\n",
            "  libhttp-date-perl libhttp-message-perl libio-html-perl\n",
            "  liblwp-mediatypes-perl libtimedate-perl liburi-perl mysql-client-5.7\n",
            "  mysql-client-core-5.7 mysql-server mysql-server-5.7 mysql-server-core-5.7\n",
            "0 upgraded, 19 newly installed, 0 to remove and 30 not upgraded.\n",
            "Need to get 19.7 MB of archives.\n",
            "After this operation, 157 MB of additional disk space will be used.\n",
            "Get:1 http://archive.ubuntu.com/ubuntu bionic-updates/main amd64 mysql-client-core-5.7 amd64 5.7.33-0ubuntu0.18.04.1 [6,664 kB]\n",
            "Get:2 http://archive.ubuntu.com/ubuntu bionic-updates/main amd64 mysql-client-5.7 amd64 5.7.33-0ubuntu0.18.04.1 [1,945 kB]\n",
            "Get:3 http://archive.ubuntu.com/ubuntu bionic-updates/main amd64 mysql-server-core-5.7 amd64 5.7.33-0ubuntu0.18.04.1 [7,460 kB]\n",
            "Get:4 http://archive.ubuntu.com/ubuntu bionic/main amd64 libevent-core-2.1-6 amd64 2.1.8-stable-4build1 [85.9 kB]\n",
            "Get:5 http://archive.ubuntu.com/ubuntu bionic-updates/main amd64 mysql-server-5.7 amd64 5.7.33-0ubuntu0.18.04.1 [2,931 kB]\n",
            "Get:6 http://archive.ubuntu.com/ubuntu bionic/main amd64 libhtml-tagset-perl all 3.20-3 [12.1 kB]\n",
            "Get:7 http://archive.ubuntu.com/ubuntu bionic/main amd64 liburi-perl all 1.73-1 [77.2 kB]\n",
            "Get:8 http://archive.ubuntu.com/ubuntu bionic/main amd64 libhtml-parser-perl amd64 3.72-3build1 [85.9 kB]\n",
            "Get:9 http://archive.ubuntu.com/ubuntu bionic/main amd64 libcgi-pm-perl all 4.38-1 [185 kB]\n",
            "Get:10 http://archive.ubuntu.com/ubuntu bionic/main amd64 libfcgi-perl amd64 0.78-2build1 [32.8 kB]\n",
            "Get:11 http://archive.ubuntu.com/ubuntu bionic/main amd64 libcgi-fast-perl all 1:2.13-1 [9,940 B]\n",
            "Get:12 http://archive.ubuntu.com/ubuntu bionic/main amd64 libencode-locale-perl all 1.05-1 [12.3 kB]\n",
            "Get:13 http://archive.ubuntu.com/ubuntu bionic/main amd64 libhtml-template-perl all 2.97-1 [59.0 kB]\n",
            "Get:14 http://archive.ubuntu.com/ubuntu bionic/main amd64 libtimedate-perl all 2.3000-2 [37.5 kB]\n",
            "Get:15 http://archive.ubuntu.com/ubuntu bionic/main amd64 libhttp-date-perl all 6.02-1 [10.4 kB]\n",
            "Get:16 http://archive.ubuntu.com/ubuntu bionic/main amd64 libio-html-perl all 1.001-1 [14.9 kB]\n",
            "Get:17 http://archive.ubuntu.com/ubuntu bionic/main amd64 liblwp-mediatypes-perl all 6.02-1 [21.7 kB]\n",
            "Get:18 http://archive.ubuntu.com/ubuntu bionic/main amd64 libhttp-message-perl all 6.14-1 [72.1 kB]\n",
            "Get:19 http://archive.ubuntu.com/ubuntu bionic-updates/main amd64 mysql-server all 5.7.33-0ubuntu0.18.04.1 [9,944 B]\n",
            "Fetched 19.7 MB in 3s (7,384 kB/s)\n",
            "Preconfiguring packages ...\n",
            "Selecting previously unselected package mysql-client-core-5.7.\n",
            "(Reading database ... 160980 files and directories currently installed.)\n",
            "Preparing to unpack .../00-mysql-client-core-5.7_5.7.33-0ubuntu0.18.04.1_amd64.deb ...\n",
            "Unpacking mysql-client-core-5.7 (5.7.33-0ubuntu0.18.04.1) ...\n",
            "Selecting previously unselected package mysql-client-5.7.\n",
            "Preparing to unpack .../01-mysql-client-5.7_5.7.33-0ubuntu0.18.04.1_amd64.deb ...\n",
            "Unpacking mysql-client-5.7 (5.7.33-0ubuntu0.18.04.1) ...\n",
            "Selecting previously unselected package mysql-server-core-5.7.\n",
            "Preparing to unpack .../02-mysql-server-core-5.7_5.7.33-0ubuntu0.18.04.1_amd64.deb ...\n",
            "Unpacking mysql-server-core-5.7 (5.7.33-0ubuntu0.18.04.1) ...\n",
            "Selecting previously unselected package libevent-core-2.1-6:amd64.\n",
            "Preparing to unpack .../03-libevent-core-2.1-6_2.1.8-stable-4build1_amd64.deb ...\n",
            "Unpacking libevent-core-2.1-6:amd64 (2.1.8-stable-4build1) ...\n",
            "Selecting previously unselected package mysql-server-5.7.\n",
            "Preparing to unpack .../04-mysql-server-5.7_5.7.33-0ubuntu0.18.04.1_amd64.deb ...\n",
            "Unpacking mysql-server-5.7 (5.7.33-0ubuntu0.18.04.1) ...\n",
            "Selecting previously unselected package libhtml-tagset-perl.\n",
            "Preparing to unpack .../05-libhtml-tagset-perl_3.20-3_all.deb ...\n",
            "Unpacking libhtml-tagset-perl (3.20-3) ...\n",
            "Selecting previously unselected package liburi-perl.\n",
            "Preparing to unpack .../06-liburi-perl_1.73-1_all.deb ...\n",
            "Unpacking liburi-perl (1.73-1) ...\n",
            "Selecting previously unselected package libhtml-parser-perl.\n",
            "Preparing to unpack .../07-libhtml-parser-perl_3.72-3build1_amd64.deb ...\n",
            "Unpacking libhtml-parser-perl (3.72-3build1) ...\n",
            "Selecting previously unselected package libcgi-pm-perl.\n",
            "Preparing to unpack .../08-libcgi-pm-perl_4.38-1_all.deb ...\n",
            "Unpacking libcgi-pm-perl (4.38-1) ...\n",
            "Selecting previously unselected package libfcgi-perl.\n",
            "Preparing to unpack .../09-libfcgi-perl_0.78-2build1_amd64.deb ...\n",
            "Unpacking libfcgi-perl (0.78-2build1) ...\n",
            "Selecting previously unselected package libcgi-fast-perl.\n",
            "Preparing to unpack .../10-libcgi-fast-perl_1%3a2.13-1_all.deb ...\n",
            "Unpacking libcgi-fast-perl (1:2.13-1) ...\n",
            "Selecting previously unselected package libencode-locale-perl.\n",
            "Preparing to unpack .../11-libencode-locale-perl_1.05-1_all.deb ...\n",
            "Unpacking libencode-locale-perl (1.05-1) ...\n",
            "Selecting previously unselected package libhtml-template-perl.\n",
            "Preparing to unpack .../12-libhtml-template-perl_2.97-1_all.deb ...\n",
            "Unpacking libhtml-template-perl (2.97-1) ...\n",
            "Selecting previously unselected package libtimedate-perl.\n",
            "Preparing to unpack .../13-libtimedate-perl_2.3000-2_all.deb ...\n",
            "Unpacking libtimedate-perl (2.3000-2) ...\n",
            "Selecting previously unselected package libhttp-date-perl.\n",
            "Preparing to unpack .../14-libhttp-date-perl_6.02-1_all.deb ...\n",
            "Unpacking libhttp-date-perl (6.02-1) ...\n",
            "Selecting previously unselected package libio-html-perl.\n",
            "Preparing to unpack .../15-libio-html-perl_1.001-1_all.deb ...\n",
            "Unpacking libio-html-perl (1.001-1) ...\n",
            "Selecting previously unselected package liblwp-mediatypes-perl.\n",
            "Preparing to unpack .../16-liblwp-mediatypes-perl_6.02-1_all.deb ...\n",
            "Unpacking liblwp-mediatypes-perl (6.02-1) ...\n",
            "Selecting previously unselected package libhttp-message-perl.\n",
            "Preparing to unpack .../17-libhttp-message-perl_6.14-1_all.deb ...\n",
            "Unpacking libhttp-message-perl (6.14-1) ...\n",
            "Selecting previously unselected package mysql-server.\n",
            "Preparing to unpack .../18-mysql-server_5.7.33-0ubuntu0.18.04.1_all.deb ...\n",
            "Unpacking mysql-server (5.7.33-0ubuntu0.18.04.1) ...\n",
            "Setting up libhtml-tagset-perl (3.20-3) ...\n",
            "Setting up libevent-core-2.1-6:amd64 (2.1.8-stable-4build1) ...\n",
            "Setting up libencode-locale-perl (1.05-1) ...\n",
            "Setting up mysql-server-core-5.7 (5.7.33-0ubuntu0.18.04.1) ...\n",
            "Setting up libtimedate-perl (2.3000-2) ...\n",
            "Setting up libio-html-perl (1.001-1) ...\n",
            "Setting up liblwp-mediatypes-perl (6.02-1) ...\n",
            "Setting up liburi-perl (1.73-1) ...\n",
            "Setting up libhtml-parser-perl (3.72-3build1) ...\n",
            "Setting up libcgi-pm-perl (4.38-1) ...\n",
            "Setting up mysql-client-core-5.7 (5.7.33-0ubuntu0.18.04.1) ...\n",
            "Setting up libfcgi-perl (0.78-2build1) ...\n",
            "Setting up libhttp-date-perl (6.02-1) ...\n",
            "Setting up libhtml-template-perl (2.97-1) ...\n",
            "Setting up libcgi-fast-perl (1:2.13-1) ...\n",
            "Setting up libhttp-message-perl (6.14-1) ...\n",
            "Setting up mysql-client-5.7 (5.7.33-0ubuntu0.18.04.1) ...\n",
            "Setting up mysql-server-5.7 (5.7.33-0ubuntu0.18.04.1) ...\n",
            "invoke-rc.d: could not determine current runlevel\n",
            "invoke-rc.d: policy-rc.d denied execution of stop.\n",
            "update-alternatives: using /etc/mysql/mysql.cnf to provide /etc/mysql/my.cnf (my.cnf) in auto mode\n",
            "Renaming removed key_buffer and myisam-recover options (if present)\n",
            "Error: Unable to shut down server with process id 416\n",
            "\u001b[1mdpkg:\u001b[0m error processing package mysql-server-5.7 (--configure):\n",
            " installed mysql-server-5.7 package post-installation script subprocess returned error exit status 1\n",
            "\u001b[1mdpkg:\u001b[0m dependency problems prevent configuration of mysql-server:\n",
            " mysql-server depends on mysql-server-5.7; however:\n",
            "  Package mysql-server-5.7 is not configured yet.\n",
            "\n",
            "\u001b[1mdpkg:\u001b[0m error processing package mysql-server (--configure):\n",
            " dependency problems - leaving unconfigured\n",
            "Processing triggers for systemd (237-3ubuntu10.45) ...\n",
            "Processing triggers for man-db (2.8.3-2ubuntu0.1) ...\n",
            "Processing triggers for libc-bin (2.27-3ubuntu1.2) ...\n",
            "/sbin/ldconfig.real: /usr/local/lib/python3.7/dist-packages/ideep4py/lib/libmkldnn.so.0 is not a symbolic link\n",
            "\n",
            "Errors were encountered while processing:\n",
            " mysql-server-5.7\n",
            " mysql-server\n",
            "E: Sub-process /usr/bin/dpkg returned an error code (1)\n"
          ],
          "name": "stdout"
        }
      ]
    },
    {
      "cell_type": "code",
      "metadata": {
        "id": "ahWDdbMFqSqv",
        "colab": {
          "base_uri": "https://localhost:8080/"
        },
        "outputId": "aa4944ce-bac4-4b3e-ec64-c8de2eb12a25"
      },
      "source": [
        "!/etc/init.d/mysql restart"
      ],
      "execution_count": null,
      "outputs": [
        {
          "output_type": "stream",
          "text": [
            " * Stopping MySQL database server mysqld\n",
            "   ...done.\n",
            " * Starting MySQL database server mysqld\n",
            "No directory, logging in with HOME=/\n",
            "   ...done.\n"
          ],
          "name": "stdout"
        }
      ]
    },
    {
      "cell_type": "code",
      "metadata": {
        "id": "3cOvP5YGqZHN",
        "colab": {
          "base_uri": "https://localhost:8080/"
        },
        "outputId": "9ce916a3-7967-4af4-b930-d2b80b87f8ff"
      },
      "source": [
        "!mysql -e 'show databases'"
      ],
      "execution_count": null,
      "outputs": [
        {
          "output_type": "stream",
          "text": [
            "+--------------------+\n",
            "| Database           |\n",
            "+--------------------+\n",
            "| information_schema |\n",
            "| mysql              |\n",
            "| performance_schema |\n",
            "| sys                |\n",
            "+--------------------+\n"
          ],
          "name": "stdout"
        }
      ]
    },
    {
      "cell_type": "code",
      "metadata": {
        "id": "Pw0rAGprqtO9"
      },
      "source": [
        "!mysql -e 'create database praxisDB'"
      ],
      "execution_count": null,
      "outputs": []
    },
    {
      "cell_type": "markdown",
      "metadata": {
        "id": "ZydiAiFhln01"
      },
      "source": [
        "# Get Code Files<br>\n",
        " "
      ]
    },
    {
      "cell_type": "code",
      "metadata": {
        "id": "gEFRmvclxduY",
        "colab": {
          "base_uri": "https://localhost:8080/"
        },
        "outputId": "a8943a24-89d7-4552-e011-c0c0c403c5c4"
      },
      "source": [
        "#!wget https://brainysoftware.com/source/9780975212820.zip\n",
        "#https://drive.google.com/open?id=1qaiPXbxtIivCbBLmWiYvHMKAjAmNn2Y0\n",
        "!gdown https://drive.google.com/uc?id=1qaiPXbxtIivCbBLmWiYvHMKAjAmNn2Y0"
      ],
      "execution_count": null,
      "outputs": [
        {
          "output_type": "stream",
          "text": [
            "Downloading...\n",
            "From: https://drive.google.com/uc?id=1qaiPXbxtIivCbBLmWiYvHMKAjAmNn2Y0\n",
            "To: /content/9780975212820.zip\n",
            "\r  0% 0.00/166k [00:00<?, ?B/s]\r100% 166k/166k [00:00<00:00, 1.46MB/s]\n"
          ],
          "name": "stdout"
        }
      ]
    },
    {
      "cell_type": "code",
      "metadata": {
        "id": "7ym7BMikxl-B",
        "colab": {
          "base_uri": "https://localhost:8080/"
        },
        "outputId": "7b7d40d7-60af-4588-f2c3-9efd57995839"
      },
      "source": [
        "!unzip 9780975212820.zip"
      ],
      "execution_count": null,
      "outputs": [
        {
          "output_type": "stream",
          "text": [
            "Archive:  9780975212820.zip\n",
            "   creating: scripts/\n",
            "  inflating: scripts/across_all_dimensions.sql  \n",
            "  inflating: scripts/across_date.sql  \n",
            "  inflating: scripts/across_date_customer.sql  \n",
            "  inflating: scripts/across_date_product.sql  \n",
            "  inflating: scripts/additive_data.sql  \n",
            "  inflating: scripts/add_campaign_session.sql  \n",
            "  inflating: scripts/add_four_milestones.sql  \n",
            "  inflating: scripts/add_sales_order_quantity.sql  \n",
            "  inflating: scripts/add_two_sales_orders.sql  \n",
            "  inflating: scripts/annual_aggregation.sql  \n",
            "  inflating: scripts/annual_tables.sql  \n",
            "  inflating: scripts/balance_across_months.sql  \n",
            "  inflating: scripts/balance_across_products.sql  \n",
            "  inflating: scripts/band_dim.sql    \n",
            "  inflating: scripts/band_ini.sql    \n",
            "  inflating: scripts/band_regular.sql  \n",
            "  inflating: scripts/campaign_session.sql  \n",
            "  inflating: scripts/campaign_session_20.sql  \n",
            "  inflating: scripts/campaign_session_21.sql  \n",
            "  inflating: scripts/campaign_session_path.sql  \n",
            "  inflating: scripts/campaign_stg_20.sql  \n",
            "  inflating: scripts/campaign_stg_21.sql  \n",
            "  inflating: scripts/confirm_initial_population.sql  \n",
            "  inflating: scripts/create_campaign_stg.sql  \n",
            "  inflating: scripts/create_customer_stg.sql  \n",
            "  inflating: scripts/create_databases.sql  \n",
            "  inflating: scripts/create_dw_tables.sql  \n",
            "  inflating: scripts/create_four_date_views.sql  \n",
            "  inflating: scripts/create_month_end_sales_order_fact.sql  \n",
            "  inflating: scripts/create_product_stg.sql  \n",
            "  inflating: scripts/create_promo_schedule_stg.sql  \n",
            "  inflating: scripts/create_sales_order.sql  \n",
            "  inflating: scripts/create_user_id.sql  \n",
            "  inflating: scripts/customer_sk.sql  \n",
            "  inflating: scripts/daily_aggregation.sql  \n",
            "  inflating: scripts/daily_date.sql  \n",
            "  inflating: scripts/daily_production.sql  \n",
            "  inflating: scripts/daily_production_23.sql  \n",
            "  inflating: scripts/daily_production_data.sql  \n",
            "  inflating: scripts/database_view.sql  \n",
            "  inflating: scripts/date_views.sql  \n",
            "  inflating: scripts/date_view_22.sql  \n",
            "  inflating: scripts/degenerate.sql  \n",
            "  inflating: scripts/dimensional_query_data.sql  \n",
            "  inflating: scripts/drilling.sql    \n",
            "  inflating: scripts/dw_initial.sql  \n",
            "  inflating: scripts/dw_regular.sql  \n",
            "  inflating: scripts/dw_regular_10.sql  \n",
            "  inflating: scripts/dw_regular_11.sql  \n",
            "  inflating: scripts/dw_regular_12.sql  \n",
            "  inflating: scripts/dw_regular_13.sql  \n",
            "  inflating: scripts/dw_regular_14.sql  \n",
            "  inflating: scripts/dw_regular_17.sql  \n",
            "  inflating: scripts/dw_regular_18.sql  \n",
            "  inflating: scripts/dw_regular_21.sql  \n",
            "  inflating: scripts/dw_regular_22.sql  \n",
            "  inflating: scripts/dw_regular_23.sql  \n",
            "  inflating: scripts/entry_date.sql  \n",
            "  inflating: scripts/factory_ini.sql  \n",
            "  inflating: scripts/factory_master.sql  \n",
            "  inflating: scripts/factory_master_source.sql  \n",
            "  inflating: scripts/factory_stg.sql  \n",
            "  inflating: scripts/fill_help_tables.sql  \n",
            "  inflating: scripts/filtered_month_end_sales_order_fact.sql  \n",
            "  inflating: scripts/grouping.sql    \n",
            "  inflating: scripts/jan_month_end_balance_regular.sql  \n",
            "  inflating: scripts/junk_dim.sql    \n",
            "  inflating: scripts/load_product_stg.sql  \n",
            "  inflating: scripts/loyal_customer.sql  \n",
            "  inflating: scripts/monthly_product_performer.sql  \n",
            "  inflating: scripts/monthly_storage.sql  \n",
            "  inflating: scripts/month_end_balance_fact.sql  \n",
            "  inflating: scripts/month_end_balance_initial.sql  \n",
            "  inflating: scripts/month_end_balance_regular.sql  \n",
            "  inflating: scripts/month_end_sales_order.sql  \n",
            "  inflating: scripts/month_end_sales_order_22.sql  \n",
            "  inflating: scripts/month_rollup_dim.sql  \n",
            "  inflating: scripts/more_customer_sk.sql  \n",
            "  inflating: scripts/more_sales_order.sql  \n",
            "  inflating: scripts/mysql_fix_privilege_tables.sql  \n",
            "  inflating: scripts/new_customer_credit_check.sql  \n",
            "  inflating: scripts/non_pa_customer.sql  \n",
            "  inflating: scripts/nullify_campaign_session.sql  \n",
            "  inflating: scripts/on_demand.sql   \n",
            "  inflating: scripts/order_quantity.sql  \n",
            "  inflating: scripts/order_status.sql  \n",
            "  inflating: scripts/pa_customer.sql  \n",
            "  inflating: scripts/pre_populate_date.sql  \n",
            "  inflating: scripts/pre_populate_date_12.sql  \n",
            "  inflating: scripts/pre_populate_date_13.sql  \n",
            "  inflating: scripts/production_fact_23.sql  \n",
            "  inflating: scripts/production_regular.sql  \n",
            "  inflating: scripts/production_regular_23.sql  \n",
            "  inflating: scripts/product_count.sql  \n",
            "  inflating: scripts/product_count_ini.sql  \n",
            "  inflating: scripts/product_launch_date_dim.sql  \n",
            "  inflating: scripts/promotion_indicator.sql  \n",
            "  inflating: scripts/push_data.sql   \n",
            "  inflating: scripts/push_sales_order.sql  \n",
            "  inflating: scripts/quarterly_mechanicsburg.sql  \n",
            "  inflating: scripts/quarter_path.sql  \n",
            "  inflating: scripts/ragged_campaign.sql  \n",
            "  inflating: scripts/readme 1st      \n",
            "  inflating: scripts/readme 1st for scripts.txt  \n",
            "  inflating: scripts/remove_campaign.sql  \n",
            "  inflating: scripts/request_delivery_date.sql  \n",
            "  inflating: scripts/request_delivery_date_sk.sql  \n",
            "  inflating: scripts/request_delivery_date_source.sql  \n",
            "  inflating: scripts/sales_orders_24_ini.sql  \n",
            "  inflating: scripts/sales_orders_24_reg.sql  \n",
            "  inflating: scripts/sales_orders_step3.sql  \n",
            "  inflating: scripts/sales_orders_step5.sql  \n",
            "  inflating: scripts/sales_order_17.sql  \n",
            "  inflating: scripts/sales_order_18.sql  \n",
            "  inflating: scripts/sales_order_22.sql  \n",
            "  inflating: scripts/sales_order_23.sql  \n",
            "  inflating: scripts/sales_order_attributes.sql  \n",
            "  inflating: scripts/sales_order_attribute_sk.sql  \n",
            "  inflating: scripts/sales_order_fact_23.sql  \n",
            "  inflating: scripts/sales_order_initial.sql  \n",
            "  inflating: scripts/sales_order_quantity_data.sql  \n",
            "  inflating: scripts/sales_order_regular.sql  \n",
            "  inflating: scripts/scd1.sql        \n",
            "  inflating: scripts/scd2.sql        \n",
            "  inflating: scripts/segmentation.sql  \n",
            "  inflating: scripts/shipping_address.sql  \n",
            "  inflating: scripts/source_date.sql  \n",
            "  inflating: scripts/special_dates.sql  \n",
            "  inflating: scripts/table_alias.sql  \n",
            "  inflating: scripts/third_star_tables.sql  \n",
            "  inflating: scripts/track_launch_expiry.sql  \n",
            "  inflating: scripts/truncate_tables.sql  \n",
            "  inflating: scripts/two_more_customers.sql  \n",
            "  inflating: scripts/zip_code_dim.sql  \n",
            "  inflating: scripts/zip_code_population.sql  \n",
            "  inflating: scripts/zip_code_stg.sql  \n",
            "   creating: source_data/\n",
            "  inflating: source_data/campaign_session.csv  \n",
            "  inflating: source_data/customer10.csv  \n",
            "  inflating: source_data/customer2.csv  \n",
            "  inflating: source_data/customer23.csv  \n",
            "  inflating: source_data/customer8.csv  \n",
            "  inflating: source_data/factory19.csv  \n",
            "  inflating: source_data/factory23.csv  \n",
            "  inflating: source_data/non_straight_campaign.csv  \n",
            "  inflating: source_data/product2-1.txt  \n",
            "  inflating: source_data/product2-2.txt  \n",
            "  inflating: source_data/product21.txt  \n",
            "  inflating: source_data/product8.txt  \n",
            "  inflating: source_data/promo_schedule.csv  \n",
            "  inflating: source_data/ragged_campaign.csv  \n",
            "  inflating: source_data/readme 1st for data.txt  \n",
            "  inflating: source_data/zip_code.csv  \n"
          ],
          "name": "stdout"
        }
      ]
    },
    {
      "cell_type": "code",
      "metadata": {
        "id": "vgVo8jh1ooJ7",
        "colab": {
          "base_uri": "https://localhost:8080/"
        },
        "outputId": "cc11b2c0-30dd-45a8-eb04-33a33ff30348"
      },
      "source": [
        "!ls"
      ],
      "execution_count": null,
      "outputs": [
        {
          "output_type": "stream",
          "text": [
            "9780975212820.zip  sample_data\tscripts  source_data\n"
          ],
          "name": "stdout"
        }
      ]
    },
    {
      "cell_type": "markdown",
      "metadata": {
        "id": "oUxe4Cpi961m"
      },
      "source": [
        "# Initial Setup"
      ]
    },
    {
      "cell_type": "code",
      "metadata": {
        "id": "9wF-qimE-nsH",
        "colab": {
          "base_uri": "https://localhost:8080/"
        },
        "outputId": "bd697df7-a3ed-4d0c-e336-7afe1fdd8029"
      },
      "source": [
        "!ls scripts"
      ],
      "execution_count": null,
      "outputs": [
        {
          "output_type": "stream",
          "text": [
            " across_all_dimensions.sql\t\t   loyal_customer.sql\n",
            " across_date_customer.sql\t\t   month_end_balance_fact.sql\n",
            " across_date_product.sql\t\t   month_end_balance_initial.sql\n",
            " across_date.sql\t\t\t   month_end_balance_regular.sql\n",
            " add_campaign_session.sql\t\t   month_end_sales_order_22.sql\n",
            " add_four_milestones.sql\t\t   month_end_sales_order.sql\n",
            " additive_data.sql\t\t\t   monthly_product_performer.sql\n",
            " add_sales_order_quantity.sql\t\t   monthly_storage.sql\n",
            " add_two_sales_orders.sql\t\t   month_rollup_dim.sql\n",
            " annual_aggregation.sql\t\t\t   more_customer_sk.sql\n",
            " annual_tables.sql\t\t\t   more_sales_order.sql\n",
            " balance_across_months.sql\t\t   mysql_fix_privilege_tables.sql\n",
            " balance_across_products.sql\t\t   new_customer_credit_check.sql\n",
            " band_dim.sql\t\t\t\t   non_pa_customer.sql\n",
            " band_ini.sql\t\t\t\t   nullify_campaign_session.sql\n",
            " band_regular.sql\t\t\t   on_demand.sql\n",
            " campaign_session_20.sql\t\t   order_quantity.sql\n",
            " campaign_session_21.sql\t\t   order_status.sql\n",
            " campaign_session_path.sql\t\t   pa_customer.sql\n",
            " campaign_session.sql\t\t\t   pre_populate_date_12.sql\n",
            " campaign_stg_20.sql\t\t\t   pre_populate_date_13.sql\n",
            " campaign_stg_21.sql\t\t\t   pre_populate_date.sql\n",
            " confirm_initial_population.sql\t\t   product_count_ini.sql\n",
            " create_campaign_stg.sql\t\t   product_count.sql\n",
            " create_customer_stg.sql\t\t   production_fact_23.sql\n",
            " create_databases.sql\t\t\t   production_regular_23.sql\n",
            " create_dw_tables.sql\t\t\t   production_regular.sql\n",
            " create_four_date_views.sql\t\t   product_launch_date_dim.sql\n",
            " create_month_end_sales_order_fact.sql\t   promotion_indicator.sql\n",
            " create_product_stg.sql\t\t\t   push_data.sql\n",
            " create_promo_schedule_stg.sql\t\t   push_sales_order.sql\n",
            " create_sales_order.sql\t\t\t   quarterly_mechanicsburg.sql\n",
            " create_user_id.sql\t\t\t   quarter_path.sql\n",
            " customer_sk.sql\t\t\t   ragged_campaign.sql\n",
            " daily_aggregation.sql\t\t\t  'readme 1st'\n",
            " daily_date.sql\t\t\t\t  'readme 1st for scripts.txt'\n",
            " daily_production_23.sql\t\t   remove_campaign.sql\n",
            " daily_production_data.sql\t\t   request_delivery_date_sk.sql\n",
            " daily_production.sql\t\t\t   request_delivery_date_source.sql\n",
            " database_view.sql\t\t\t   request_delivery_date.sql\n",
            " date_view_22.sql\t\t\t   sales_order_17.sql\n",
            " date_views.sql\t\t\t\t   sales_order_18.sql\n",
            " degenerate.sql\t\t\t\t   sales_order_22.sql\n",
            " dimensional_query_data.sql\t\t   sales_order_23.sql\n",
            " drilling.sql\t\t\t\t   sales_order_attribute_sk.sql\n",
            " dw_initial.sql\t\t\t\t   sales_order_attributes.sql\n",
            " dw_regular_10.sql\t\t\t   sales_order_fact_23.sql\n",
            " dw_regular_11.sql\t\t\t   sales_order_initial.sql\n",
            " dw_regular_12.sql\t\t\t   sales_order_quantity_data.sql\n",
            " dw_regular_13.sql\t\t\t   sales_order_regular.sql\n",
            " dw_regular_14.sql\t\t\t   sales_orders_24_ini.sql\n",
            " dw_regular_17.sql\t\t\t   sales_orders_24_reg.sql\n",
            " dw_regular_18.sql\t\t\t   sales_orders_step3.sql\n",
            " dw_regular_21.sql\t\t\t   sales_orders_step5.sql\n",
            " dw_regular_22.sql\t\t\t   scd1.sql\n",
            " dw_regular_23.sql\t\t\t   scd2.sql\n",
            " dw_regular.sql\t\t\t\t   segmentation.sql\n",
            " entry_date.sql\t\t\t\t   shipping_address.sql\n",
            " factory_ini.sql\t\t\t   source_date.sql\n",
            " factory_master_source.sql\t\t   special_dates.sql\n",
            " factory_master.sql\t\t\t   table_alias.sql\n",
            " factory_stg.sql\t\t\t   third_star_tables.sql\n",
            " fill_help_tables.sql\t\t\t   track_launch_expiry.sql\n",
            " filtered_month_end_sales_order_fact.sql   truncate_tables.sql\n",
            " grouping.sql\t\t\t\t   two_more_customers.sql\n",
            " jan_month_end_balance_regular.sql\t   zip_code_dim.sql\n",
            " junk_dim.sql\t\t\t\t   zip_code_population.sql\n",
            " load_product_stg.sql\t\t\t   zip_code_stg.sql\n"
          ],
          "name": "stdout"
        }
      ]
    },
    {
      "cell_type": "code",
      "metadata": {
        "id": "1hw-D-OG-JHf"
      },
      "source": [
        "#Create userid\n",
        "#\n",
        "!mysql < scripts/create_user_id.sql"
      ],
      "execution_count": null,
      "outputs": []
    },
    {
      "cell_type": "code",
      "metadata": {
        "id": "LsNwUB5miztZ",
        "colab": {
          "base_uri": "https://localhost:8080/",
          "height": 187
        },
        "outputId": "ae360ed5-c0e8-4e7d-9a01-9cb97343d339"
      },
      "source": [
        "#see the script that created the userid\n",
        "#\n",
        "!cat scripts/create_user_id.sql"
      ],
      "execution_count": null,
      "outputs": [
        {
          "output_type": "stream",
          "text": [
            "/*********************************************************************/\r\n",
            "/*                                                                   */\r\n",
            "/* create_user_id.sql                                                */\r\n",
            "/*                                                                   */\r\n",
            "/*********************************************************************/\r\n",
            "\r\n",
            "GRANT ALL ON *.* TO dwid@localhost IDENTIFIED BY 'pw'\r\n",
            ";\r\n",
            "\r\n",
            "/* end of script                                                     */\r\n"
          ],
          "name": "stdout"
        }
      ]
    },
    {
      "cell_type": "code",
      "metadata": {
        "id": "TVzIIAHf_Bcf",
        "colab": {
          "base_uri": "https://localhost:8080/"
        },
        "outputId": "cdc6b947-094b-4228-d88f-4decfa9083ad"
      },
      "source": [
        "# see the privileges given to dw\n",
        "#\n",
        "!mysql -e \"show grants for dwid@localhost\""
      ],
      "execution_count": null,
      "outputs": [
        {
          "output_type": "stream",
          "text": [
            "+---------------------------------------------------+\n",
            "| Grants for dwid@localhost                         |\n",
            "+---------------------------------------------------+\n",
            "| GRANT ALL PRIVILEGES ON *.* TO 'dwid'@'localhost' |\n",
            "+---------------------------------------------------+\n"
          ],
          "name": "stdout"
        }
      ]
    },
    {
      "cell_type": "code",
      "metadata": {
        "id": "wVNL2O9A_i13",
        "colab": {
          "base_uri": "https://localhost:8080/"
        },
        "outputId": "ff561f4f-6465-47ac-9e6f-e0239fe41b17"
      },
      "source": [
        "#Create databases\n",
        "#\n",
        "!mysql -udwid -ppw < scripts/create_databases.sql"
      ],
      "execution_count": null,
      "outputs": [
        {
          "output_type": "stream",
          "text": [
            "mysql: [Warning] Using a password on the command line interface can be insecure.\n"
          ],
          "name": "stdout"
        }
      ]
    },
    {
      "cell_type": "code",
      "metadata": {
        "id": "NsD-xBx4jkt2",
        "colab": {
          "base_uri": "https://localhost:8080/"
        },
        "outputId": "5a378d59-6243-4d94-9e0d-2feae9f97097"
      },
      "source": [
        "# see what the script had\n",
        "#\n",
        "!cat scripts/create_databases.sql"
      ],
      "execution_count": null,
      "outputs": [
        {
          "output_type": "stream",
          "text": [
            "/*********************************************************************/\r\n",
            "/*                                                                   */\r\n",
            "/* create_databases.sql                                              */                  \r\n",
            "/*                                                                   */\r\n",
            "/*********************************************************************/\r\n",
            "\r\n",
            "CREATE DATABASE dw\r\n",
            ";\r\n",
            "\r\n",
            "CREATE DATABASE source\r\n",
            ";\r\n",
            "\r\n",
            "/* end of script                                                     */\r\n"
          ],
          "name": "stdout"
        }
      ]
    },
    {
      "cell_type": "code",
      "metadata": {
        "id": "_UI3ltkN_yfD",
        "colab": {
          "base_uri": "https://localhost:8080/"
        },
        "outputId": "2dab0e99-c2f3-4047-8eae-aeaf4bde9e36"
      },
      "source": [
        "!mysql -e \"show databases\""
      ],
      "execution_count": null,
      "outputs": [
        {
          "output_type": "stream",
          "text": [
            "+--------------------+\n",
            "| Database           |\n",
            "+--------------------+\n",
            "| information_schema |\n",
            "| dw                 |\n",
            "| mysql              |\n",
            "| performance_schema |\n",
            "| praxisDB           |\n",
            "| source             |\n",
            "| sys                |\n",
            "+--------------------+\n"
          ],
          "name": "stdout"
        }
      ]
    },
    {
      "cell_type": "code",
      "metadata": {
        "id": "ArdGnyZLAEFa",
        "colab": {
          "base_uri": "https://localhost:8080/"
        },
        "outputId": "c755e962-38c5-47b0-b60e-f09fbba61ad7"
      },
      "source": [
        "#create the various tables\n",
        "# one fact table and three dimension tables\n",
        "#\n",
        "!mysql -udwid -ppw < scripts/create_dw_tables.sql"
      ],
      "execution_count": null,
      "outputs": [
        {
          "output_type": "stream",
          "text": [
            "mysql: [Warning] Using a password on the command line interface can be insecure.\n"
          ],
          "name": "stdout"
        }
      ]
    },
    {
      "cell_type": "code",
      "metadata": {
        "id": "RGehlvJGj2ne",
        "colab": {
          "base_uri": "https://localhost:8080/",
          "height": 1000
        },
        "outputId": "b85e466c-6701-414b-f206-b749c355a1b5"
      },
      "source": [
        "!cat scripts/create_dw_tables.sql"
      ],
      "execution_count": null,
      "outputs": [
        {
          "output_type": "stream",
          "text": [
            "/*********************************************************************/\r\n",
            "/*                                                                   */\r\n",
            "/* create_dw_tables.sql                                              */\r\n",
            "/*                                                                   */\r\n",
            "/*********************************************************************/\r\n",
            "\r\n",
            "/* default to dw database                                            */\r\n",
            "\r\n",
            "USE dw;\r\n",
            "\r\n",
            "/* creating customer_dim table                                       */\r\n",
            "\r\n",
            "CREATE TABLE customer_dim \r\n",
            "( customer_sk INT NOT NULL AUTO_INCREMENT PRIMARY KEY\r\n",
            ", customer_number INT\r\n",
            ", customer_name CHAR(50)\r\n",
            ", customer_street_address CHAR(50)\r\n",
            ", customer_zip_code INT(5)\r\n",
            ", customer_city CHAR(30)\r\n",
            ", customer_state CHAR(2)\r\n",
            ", effective_date DATE\r\n",
            ", expiry_date DATE )\r\n",
            ";\r\n",
            "\r\n",
            "/* creating product_dim table                                                */\r\n",
            "\r\n",
            "CREATE TABLE product_dim \r\n",
            "( product_sk INT NOT NULL AUTO_INCREMENT PRIMARY KEY\r\n",
            ", product_code INT\r\n",
            ", product_name CHAR(30)\r\n",
            ", product_category CHAR(30)\r\n",
            ", effective_date DATE\r\n",
            ", expiry_date DATE )\r\n",
            ";\r\n",
            "\r\n",
            "/* creating order_dim table                                          */\r\n",
            "\r\n",
            "CREATE TABLE order_dim \r\n",
            "( order_sk INT NOT NULL AUTO_INCREMENT PRIMARY KEY\r\n",
            ", order_number INT\r\n",
            ", effective_date DATE\r\n",
            ", expiry_date DATE )\r\n",
            ";\r\n",
            "\r\n",
            "/* creating date_dim table                                           */\r\n",
            "\r\n",
            "CREATE TABLE date_dim \r\n",
            "( date_sk INT NOT NULL AUTO_INCREMENT PRIMARY KEY\r\n",
            ", date DATE\r\n",
            ", month_name CHAR(9)\r\n",
            ", month INT(1)\r\n",
            ", quarter INT(1)\r\n",
            ", year INT(4)\r\n",
            ", effective_date DATE\r\n",
            ", expiry_date DATE )\r\n",
            ";\r\n",
            "\r\n",
            "/* creating sales_order_fact_table                                   */\r\n",
            "\r\n",
            "CREATE TABLE sales_order_fact \r\n",
            "( order_sk INT \r\n",
            ", customer_sk INT \r\n",
            ", product_sk INT\r\n",
            ", order_date_sk INT\r\n",
            ", order_amount DECIMAL(10,2) ) \r\n",
            ";\r\n",
            "\r\n",
            "/* end of script                                                     */\r\n"
          ],
          "name": "stdout"
        }
      ]
    },
    {
      "cell_type": "code",
      "metadata": {
        "id": "mtAT9dk1AYCP",
        "colab": {
          "base_uri": "https://localhost:8080/"
        },
        "outputId": "2bf3cf5e-5888-4c91-d6cd-b2ca2bd8097f"
      },
      "source": [
        "!mysql dw -e \"show tables\""
      ],
      "execution_count": null,
      "outputs": [
        {
          "output_type": "stream",
          "text": [
            "+------------------+\n",
            "| Tables_in_dw     |\n",
            "+------------------+\n",
            "| customer_dim     |\n",
            "| date_dim         |\n",
            "| order_dim        |\n",
            "| product_dim      |\n",
            "| sales_order_fact |\n",
            "+------------------+\n"
          ],
          "name": "stdout"
        }
      ]
    },
    {
      "cell_type": "code",
      "metadata": {
        "id": "q3rxHRQjAsb9",
        "colab": {
          "base_uri": "https://localhost:8080/"
        },
        "outputId": "89644c2a-34dd-41e6-93a9-03f4411b4fd8"
      },
      "source": [
        "!mysql dw -e \"desc customer_dim\""
      ],
      "execution_count": null,
      "outputs": [
        {
          "output_type": "stream",
          "text": [
            "+-------------------------+----------+------+-----+---------+----------------+\n",
            "| Field                   | Type     | Null | Key | Default | Extra          |\n",
            "+-------------------------+----------+------+-----+---------+----------------+\n",
            "| customer_sk             | int(11)  | NO   | PRI | NULL    | auto_increment |\n",
            "| customer_number         | int(11)  | YES  |     | NULL    |                |\n",
            "| customer_name           | char(50) | YES  |     | NULL    |                |\n",
            "| customer_street_address | char(50) | YES  |     | NULL    |                |\n",
            "| customer_zip_code       | int(5)   | YES  |     | NULL    |                |\n",
            "| customer_city           | char(30) | YES  |     | NULL    |                |\n",
            "| customer_state          | char(2)  | YES  |     | NULL    |                |\n",
            "| effective_date          | date     | YES  |     | NULL    |                |\n",
            "| expiry_date             | date     | YES  |     | NULL    |                |\n",
            "+-------------------------+----------+------+-----+---------+----------------+\n"
          ],
          "name": "stdout"
        }
      ]
    },
    {
      "cell_type": "code",
      "metadata": {
        "id": "pYOVsVil14g9",
        "colab": {
          "base_uri": "https://localhost:8080/"
        },
        "outputId": "7cbec665-d7a6-4f84-88f7-e4bac2e4282c"
      },
      "source": [
        "!mysql dw -e \"desc product_dim\""
      ],
      "execution_count": null,
      "outputs": [
        {
          "output_type": "stream",
          "text": [
            "+------------------+----------+------+-----+---------+----------------+\n",
            "| Field            | Type     | Null | Key | Default | Extra          |\n",
            "+------------------+----------+------+-----+---------+----------------+\n",
            "| product_sk       | int(11)  | NO   | PRI | NULL    | auto_increment |\n",
            "| product_code     | int(11)  | YES  |     | NULL    |                |\n",
            "| product_name     | char(30) | YES  |     | NULL    |                |\n",
            "| product_category | char(30) | YES  |     | NULL    |                |\n",
            "| effective_date   | date     | YES  |     | NULL    |                |\n",
            "| expiry_date      | date     | YES  |     | NULL    |                |\n",
            "+------------------+----------+------+-----+---------+----------------+\n"
          ],
          "name": "stdout"
        }
      ]
    },
    {
      "cell_type": "code",
      "metadata": {
        "id": "Mj7gHYY-KXX-",
        "colab": {
          "base_uri": "https://localhost:8080/"
        },
        "outputId": "dd82adee-a406-4333-ca08-75c39ae03816"
      },
      "source": [
        "!mysql dw -e \"desc order_dim\""
      ],
      "execution_count": null,
      "outputs": [
        {
          "output_type": "stream",
          "text": [
            "+----------------+---------+------+-----+---------+----------------+\n",
            "| Field          | Type    | Null | Key | Default | Extra          |\n",
            "+----------------+---------+------+-----+---------+----------------+\n",
            "| order_sk       | int(11) | NO   | PRI | NULL    | auto_increment |\n",
            "| order_number   | int(11) | YES  |     | NULL    |                |\n",
            "| effective_date | date    | YES  |     | NULL    |                |\n",
            "| expiry_date    | date    | YES  |     | NULL    |                |\n",
            "+----------------+---------+------+-----+---------+----------------+\n"
          ],
          "name": "stdout"
        }
      ]
    },
    {
      "cell_type": "code",
      "metadata": {
        "id": "z9PCklcv-ElD",
        "colab": {
          "base_uri": "https://localhost:8080/"
        },
        "outputId": "9bed82b6-579f-42fe-8cde-12986fd2e971"
      },
      "source": [
        "!date"
      ],
      "execution_count": null,
      "outputs": [
        {
          "output_type": "stream",
          "text": [
            "Tue Apr  6 11:39:26 UTC 2021\n"
          ],
          "name": "stdout"
        }
      ]
    },
    {
      "cell_type": "code",
      "metadata": {
        "id": "Tcz05KxpBRGa",
        "colab": {
          "base_uri": "https://localhost:8080/"
        },
        "outputId": "6670617b-6f58-46b0-b8df-c8b9f90ccf66"
      },
      "source": [
        "#this action cannot be performed except on a local machine \n",
        "!sudo date +%Y%m%d -s \"20070201\""
      ],
      "execution_count": null,
      "outputs": [
        {
          "output_type": "stream",
          "text": [
            "date: cannot set date: Operation not permitted\n",
            "20070201\n"
          ],
          "name": "stdout"
        }
      ]
    },
    {
      "cell_type": "code",
      "metadata": {
        "id": "amTYmZFaC6sM",
        "colab": {
          "base_uri": "https://localhost:8080/"
        },
        "outputId": "fa673d19-f4b6-47e4-8101-66f9206db2e2"
      },
      "source": [
        "!mysql -udwid -ppw < scripts/customer_sk.sql"
      ],
      "execution_count": null,
      "outputs": [
        {
          "output_type": "stream",
          "text": [
            "mysql: [Warning] Using a password on the command line interface can be insecure.\n"
          ],
          "name": "stdout"
        }
      ]
    },
    {
      "cell_type": "code",
      "metadata": {
        "id": "syuBonCUDbN-",
        "colab": {
          "base_uri": "https://localhost:8080/"
        },
        "outputId": "e965a44d-2641-432a-87b7-25ef44449173"
      },
      "source": [
        "!mysql -udwid -ppw < scripts/more_customer_sk.sql"
      ],
      "execution_count": null,
      "outputs": [
        {
          "output_type": "stream",
          "text": [
            "mysql: [Warning] Using a password on the command line interface can be insecure.\n"
          ],
          "name": "stdout"
        }
      ]
    },
    {
      "cell_type": "code",
      "metadata": {
        "id": "igkqjfYrDxwr",
        "colab": {
          "base_uri": "https://localhost:8080/"
        },
        "outputId": "127a555c-3a36-4ee0-a021-6bb631ad3e93"
      },
      "source": [
        "!mysql dw -e \"select * from customer_dim\"\n",
        "# note we could not set the date to an earlier date by changing the computer time"
      ],
      "execution_count": null,
      "outputs": [
        {
          "output_type": "stream",
          "text": [
            "+-------------+-----------------+------------------+-------------------------+-------------------+---------------+----------------+----------------+-------------+\n",
            "| customer_sk | customer_number | customer_name    | customer_street_address | customer_zip_code | customer_city | customer_state | effective_date | expiry_date |\n",
            "+-------------+-----------------+------------------+-------------------------+-------------------+---------------+----------------+----------------+-------------+\n",
            "|           1 |               1 | Big Customers    | 7500 Louise Dr.         |             17050 | Mechanicsburg | PA             | 2021-04-06     | 9999-12-31  |\n",
            "|           2 |               2 | Small Stores     | 2500 Woodland St.       |             17055 | Pittsburgh    | PA             | 2021-04-06     | 9999-12-31  |\n",
            "|           3 |               3 | Medium Retailers | 1111 Ritter Rd.         |             17055 | Pittsburgh    | PA             | 2021-04-06     | 9999-12-31  |\n",
            "|           4 |               4 | Good Companies   | 9500 Scott St.          |             17050 | Mechanicsburg | PA             | 2021-04-06     | 9999-12-31  |\n",
            "|           5 |               5 | Wonderful Shops  | 3333 Rossmoyne Rd.      |             17050 | Mechanicsburg | PA             | 2021-04-06     | 9999-12-31  |\n",
            "|           6 |               6 | Loyal Clients    | 7070 Ritter Rd.         |             17055 | Pittsburgh    | PA             | 2021-04-06     | 9999-12-31  |\n",
            "+-------------+-----------------+------------------+-------------------------+-------------------+---------------+----------------+----------------+-------------+\n"
          ],
          "name": "stdout"
        }
      ]
    },
    {
      "cell_type": "code",
      "metadata": {
        "id": "DQaKzOu-EEs6"
      },
      "source": [
        "#since it was not possible to set the system date on Colab, the date was changed manually\n",
        "!mysql dw -e \"update customer_dim set effective_date = '2007-02-01' \""
      ],
      "execution_count": null,
      "outputs": []
    },
    {
      "cell_type": "code",
      "metadata": {
        "id": "DO3YQ9oJEvhC",
        "colab": {
          "base_uri": "https://localhost:8080/"
        },
        "outputId": "a76fcb44-0c07-4c5c-85cd-2c35da8debf1"
      },
      "source": [
        "!mysql dw -e \"select * from customer_dim\""
      ],
      "execution_count": null,
      "outputs": [
        {
          "output_type": "stream",
          "text": [
            "+-------------+-----------------+------------------+-------------------------+-------------------+---------------+----------------+----------------+-------------+\n",
            "| customer_sk | customer_number | customer_name    | customer_street_address | customer_zip_code | customer_city | customer_state | effective_date | expiry_date |\n",
            "+-------------+-----------------+------------------+-------------------------+-------------------+---------------+----------------+----------------+-------------+\n",
            "|           1 |               1 | Big Customers    | 7500 Louise Dr.         |             17050 | Mechanicsburg | PA             | 2007-02-01     | 9999-12-31  |\n",
            "|           2 |               2 | Small Stores     | 2500 Woodland St.       |             17055 | Pittsburgh    | PA             | 2007-02-01     | 9999-12-31  |\n",
            "|           3 |               3 | Medium Retailers | 1111 Ritter Rd.         |             17055 | Pittsburgh    | PA             | 2007-02-01     | 9999-12-31  |\n",
            "|           4 |               4 | Good Companies   | 9500 Scott St.          |             17050 | Mechanicsburg | PA             | 2007-02-01     | 9999-12-31  |\n",
            "|           5 |               5 | Wonderful Shops  | 3333 Rossmoyne Rd.      |             17050 | Mechanicsburg | PA             | 2007-02-01     | 9999-12-31  |\n",
            "|           6 |               6 | Loyal Clients    | 7070 Ritter Rd.         |             17055 | Pittsburgh    | PA             | 2007-02-01     | 9999-12-31  |\n",
            "+-------------+-----------------+------------------+-------------------------+-------------------+---------------+----------------+----------------+-------------+\n"
          ],
          "name": "stdout"
        }
      ]
    },
    {
      "cell_type": "markdown",
      "metadata": {
        "id": "C9HqxfHFM0vt"
      },
      "source": [
        "# Chap 2 - Slowly Changing Dimensions"
      ]
    },
    {
      "cell_type": "markdown",
      "metadata": {
        "id": "Arlp9nD8OoKJ"
      },
      "source": [
        "**SCD1**\n",
        "\n",
        "\n",
        "---\n",
        "\n",
        "\n",
        "\n",
        "\n",
        "\n"
      ]
    },
    {
      "cell_type": "code",
      "metadata": {
        "id": "SMRYMu8cNgqs",
        "colab": {
          "base_uri": "https://localhost:8080/"
        },
        "outputId": "d2583b50-db62-4d79-ec24-825f0c1acc88"
      },
      "source": [
        "!ls source_data"
      ],
      "execution_count": null,
      "outputs": [
        {
          "output_type": "stream",
          "text": [
            " campaign_session.csv   factory23.csv\t\t    promo_schedule.csv\n",
            " customer10.csv         non_straight_campaign.csv   ragged_campaign.csv\n",
            " customer23.csv         product2-1.txt\t\t   'readme 1st for data.txt'\n",
            " customer2.csv\t        product21.txt\t\t    zip_code.csv\n",
            " customer8.csv\t        product2-2.txt\n",
            " factory19.csv\t        product8.txt\n"
          ],
          "name": "stdout"
        }
      ]
    },
    {
      "cell_type": "code",
      "metadata": {
        "id": "3mrgEIsFOM2b",
        "colab": {
          "base_uri": "https://localhost:8080/"
        },
        "outputId": "25fa3e83-71bd-45d5-f644-68d3b4181e9d"
      },
      "source": [
        "!cat source_data/customer2.csv"
      ],
      "execution_count": null,
      "outputs": [
        {
          "output_type": "stream",
          "text": [
            "CUSTOMER NO,CUSTOMER NAME,STREET ADDRESS,ZIP CODE,CITY,STATE\r\n",
            "1,Really Large Customers,7500 Louise Dr.,17050,Mechanicsburg,PA\r\n",
            "2,Small Stores,2500 Woodland St.,17055,Pittsburgh,PA\r\n",
            "3,Medium Retailers,1111 Ritter Rd.,17055,Pittsburgh,PA\r\n",
            "4,Good Companies,9500 Scott St.,17050,Mechanicsburg,PA\r\n",
            "5,Wonderful Shops,3333 Rossmoyne Rd.,17050,Mechanicsburg,PA\r\n",
            "6,Loyal Clients,7070 Ritter Rd.,17055,Pittsburgh,PA\r\n",
            "7,Distinguished Partners,9999 Scott St.,17050,Mechanicsburg,PA"
          ],
          "name": "stdout"
        }
      ]
    },
    {
      "cell_type": "markdown",
      "metadata": {
        "id": "mW7iOnMPVNbt"
      },
      "source": [
        "the downloaded script cannot be used because the csv file name and directory is different from what is there in the script. hence two additional script files are dynamically created and used\n",
        "\n",
        "\n",
        "---\n",
        "\n"
      ]
    },
    {
      "cell_type": "code",
      "metadata": {
        "id": "fnV5aYX4O0xH",
        "colab": {
          "base_uri": "https://localhost:8080/"
        },
        "outputId": "7b72bd95-5f83-41ed-f849-d9af5878b470"
      },
      "source": [
        "%%writefile pm_create_customer_stg.sql\n",
        "/* default database to dw */\n",
        "USE dw;\n",
        "/* create customer_stg table */\n",
        "CREATE TABLE customer_stg\n",
        "(customer_number INT,\n",
        "customer_name CHAR (30),\n",
        "customer_street_address CHAR (30),\n",
        "customer_zip_code INT (5),\n",
        "customer_city CHAR (30),\n",
        "customer_state CHAR (2) )\n",
        ";\n",
        "/* clean up customer_stg table and load customer.csv */\n",
        "TRUNCATE customer_stg;"
      ],
      "execution_count": null,
      "outputs": [
        {
          "output_type": "stream",
          "text": [
            "Writing pm_create_customer_stg.sql\n"
          ],
          "name": "stdout"
        }
      ]
    },
    {
      "cell_type": "code",
      "metadata": {
        "id": "ivFQ-2rjPRpX",
        "colab": {
          "base_uri": "https://localhost:8080/"
        },
        "outputId": "45d83b6f-b5d4-4572-819d-92d020ecf4f2"
      },
      "source": [
        "!mysql -udwid -ppw --table < pm_create_customer_stg.sql"
      ],
      "execution_count": null,
      "outputs": [
        {
          "output_type": "stream",
          "text": [
            "mysql: [Warning] Using a password on the command line interface can be insecure.\n"
          ],
          "name": "stdout"
        }
      ]
    },
    {
      "cell_type": "code",
      "metadata": {
        "id": "jYqLgW67P9-l",
        "colab": {
          "base_uri": "https://localhost:8080/"
        },
        "outputId": "53f7ff24-a13b-4a45-ba77-5cc3c6e7ad85"
      },
      "source": [
        "!mysql dw -e \"desc customer_stg\""
      ],
      "execution_count": null,
      "outputs": [
        {
          "output_type": "stream",
          "text": [
            "+-------------------------+----------+------+-----+---------+-------+\n",
            "| Field                   | Type     | Null | Key | Default | Extra |\n",
            "+-------------------------+----------+------+-----+---------+-------+\n",
            "| customer_number         | int(11)  | YES  |     | NULL    |       |\n",
            "| customer_name           | char(30) | YES  |     | NULL    |       |\n",
            "| customer_street_address | char(30) | YES  |     | NULL    |       |\n",
            "| customer_zip_code       | int(5)   | YES  |     | NULL    |       |\n",
            "| customer_city           | char(30) | YES  |     | NULL    |       |\n",
            "| customer_state          | char(2)  | YES  |     | NULL    |       |\n",
            "+-------------------------+----------+------+-----+---------+-------+\n"
          ],
          "name": "stdout"
        }
      ]
    },
    {
      "cell_type": "code",
      "metadata": {
        "id": "kydpy5tLQNm9",
        "colab": {
          "base_uri": "https://localhost:8080/"
        },
        "outputId": "85ec34ae-f5fc-472c-aedc-fcc574458f73"
      },
      "source": [
        "%%writefile pm_load_customer_stg.sql\n",
        "/* default database to dw */\n",
        "USE dw;\n",
        "LOAD DATA LOCAL INFILE 'source_data/customer2.csv'\n",
        "INTO TABLE customer_stg\n",
        "FIELDS TERMINATED BY ','\n",
        "OPTIONALLY ENCLOSED BY \"\"\n",
        "LINES TERMINATED BY '\\r\\n'\n",
        "IGNORE 1 LINES\n",
        "( customer_number\n",
        ", customer_name\n",
        ", customer_street_address\n",
        ", customer_zip_code\n",
        ", customer_city\n",
        ", customer_state )\n",
        ";\n",
        "/* end of script */"
      ],
      "execution_count": null,
      "outputs": [
        {
          "output_type": "stream",
          "text": [
            "Writing pm_load_customer_stg.sql\n"
          ],
          "name": "stdout"
        }
      ]
    },
    {
      "cell_type": "code",
      "metadata": {
        "id": "s96mBkDIQumA",
        "colab": {
          "base_uri": "https://localhost:8080/"
        },
        "outputId": "93b15a12-13b3-4f2f-cddf-9884e8c8b2a8"
      },
      "source": [
        "!mysql -udwid -ppw --table < pm_load_customer_stg.sql"
      ],
      "execution_count": null,
      "outputs": [
        {
          "output_type": "stream",
          "text": [
            "mysql: [Warning] Using a password on the command line interface can be insecure.\n"
          ],
          "name": "stdout"
        }
      ]
    },
    {
      "cell_type": "code",
      "metadata": {
        "id": "WjE1Mk_MRrsu",
        "colab": {
          "base_uri": "https://localhost:8080/"
        },
        "outputId": "61625b6b-aa5e-40cf-9f98-cb7c63155497"
      },
      "source": [
        "!mysql dw -e \"select * from customer_stg\""
      ],
      "execution_count": null,
      "outputs": [
        {
          "output_type": "stream",
          "text": [
            "+-----------------+------------------------+-------------------------+-------------------+---------------+----------------+\n",
            "| customer_number | customer_name          | customer_street_address | customer_zip_code | customer_city | customer_state |\n",
            "+-----------------+------------------------+-------------------------+-------------------+---------------+----------------+\n",
            "|               1 | Really Large Customers | 7500 Louise Dr.         |             17050 | Mechanicsburg | PA             |\n",
            "|               2 | Small Stores           | 2500 Woodland St.       |             17055 | Pittsburgh    | PA             |\n",
            "|               3 | Medium Retailers       | 1111 Ritter Rd.         |             17055 | Pittsburgh    | PA             |\n",
            "|               4 | Good Companies         | 9500 Scott St.          |             17050 | Mechanicsburg | PA             |\n",
            "|               5 | Wonderful Shops        | 3333 Rossmoyne Rd.      |             17050 | Mechanicsburg | PA             |\n",
            "|               6 | Loyal Clients          | 7070 Ritter Rd.         |             17055 | Pittsburgh    | PA             |\n",
            "|               7 | Distinguished Partners | 9999 Scott St.          |             17050 | Mechanicsburg | PA             |\n",
            "+-----------------+------------------------+-------------------------+-------------------+---------------+----------------+\n"
          ],
          "name": "stdout"
        }
      ]
    },
    {
      "cell_type": "code",
      "metadata": {
        "id": "2f01EMFaUe3H",
        "colab": {
          "base_uri": "https://localhost:8080/"
        },
        "outputId": "7f4a4ac5-bb8d-4b60-e4fa-b4e8ff9c2d25"
      },
      "source": [
        "!mysql -udwid -ppw < scripts/scd1.sql"
      ],
      "execution_count": null,
      "outputs": [
        {
          "output_type": "stream",
          "text": [
            "mysql: [Warning] Using a password on the command line interface can be insecure.\n"
          ],
          "name": "stdout"
        }
      ]
    },
    {
      "cell_type": "code",
      "metadata": {
        "id": "Wtj_nD4yU-8c",
        "colab": {
          "base_uri": "https://localhost:8080/",
          "height": 224
        },
        "outputId": "6898efa2-4001-4030-ce64-7254a2645e8e"
      },
      "source": [
        "!mysql dw -e \"select * from customer_dim\""
      ],
      "execution_count": null,
      "outputs": [
        {
          "output_type": "stream",
          "text": [
            "+-------------+-----------------+------------------------+-------------------------+-------------------+---------------+----------------+----------------+-------------+\n",
            "| customer_sk | customer_number | customer_name          | customer_street_address | customer_zip_code | customer_city | customer_state | effective_date | expiry_date |\n",
            "+-------------+-----------------+------------------------+-------------------------+-------------------+---------------+----------------+----------------+-------------+\n",
            "|           1 |               1 | Really Large Customers | 7500 Louise Dr.         |             17050 | Mechanicsburg | PA             | 2007-02-01     | 9999-12-31  |\n",
            "|           2 |               2 | Small Stores           | 2500 Woodland St.       |             17055 | Pittsburgh    | PA             | 2007-02-01     | 9999-12-31  |\n",
            "|           3 |               3 | Medium Retailers       | 1111 Ritter Rd.         |             17055 | Pittsburgh    | PA             | 2007-02-01     | 9999-12-31  |\n",
            "|           4 |               4 | Good Companies         | 9500 Scott St.          |             17050 | Mechanicsburg | PA             | 2007-02-01     | 9999-12-31  |\n",
            "|           5 |               5 | Wonderful Shops        | 3333 Rossmoyne Rd.      |             17050 | Mechanicsburg | PA             | 2007-02-01     | 9999-12-31  |\n",
            "|           6 |               6 | Loyal Clients          | 7070 Ritter Rd.         |             17055 | Pittsburgh    | PA             | 2007-02-01     | 9999-12-31  |\n",
            "|           7 |               7 | Distinguished Partners | 9999 Scott St.          |             17050 | Mechanicsburg | PA             | 2020-03-25     | 9999-12-31  |\n",
            "+-------------+-----------------+------------------------+-------------------------+-------------------+---------------+----------------+----------------+-------------+\n"
          ],
          "name": "stdout"
        }
      ]
    },
    {
      "cell_type": "code",
      "metadata": {
        "id": "tFW4txiTV-Xb"
      },
      "source": [
        "#since it was not possible to set the system date on Colab, the date was changed manually\n",
        "!mysql dw -e \"update customer_dim set effective_date = '2007-02-02' where customer_number = 7 and customer_name = 'Distinguished Partners' \""
      ],
      "execution_count": null,
      "outputs": []
    },
    {
      "cell_type": "code",
      "metadata": {
        "id": "46WRVIzPWQM_",
        "colab": {
          "base_uri": "https://localhost:8080/"
        },
        "outputId": "f5cb417c-27e4-4fb8-d9c2-cde01507b9ec"
      },
      "source": [
        "!mysql dw -e \"select * from customer_dim\""
      ],
      "execution_count": null,
      "outputs": [
        {
          "output_type": "stream",
          "text": [
            "+-------------+-----------------+------------------------+-------------------------+-------------------+---------------+----------------+----------------+-------------+\n",
            "| customer_sk | customer_number | customer_name          | customer_street_address | customer_zip_code | customer_city | customer_state | effective_date | expiry_date |\n",
            "+-------------+-----------------+------------------------+-------------------------+-------------------+---------------+----------------+----------------+-------------+\n",
            "|           1 |               1 | Really Large Customers | 7500 Louise Dr.         |             17050 | Mechanicsburg | PA             | 2007-02-01     | 9999-12-31  |\n",
            "|           2 |               2 | Small Stores           | 2500 Woodland St.       |             17055 | Pittsburgh    | PA             | 2007-02-01     | 9999-12-31  |\n",
            "|           3 |               3 | Medium Retailers       | 1111 Ritter Rd.         |             17055 | Pittsburgh    | PA             | 2007-02-01     | 9999-12-31  |\n",
            "|           4 |               4 | Good Companies         | 9500 Scott St.          |             17050 | Mechanicsburg | PA             | 2007-02-01     | 9999-12-31  |\n",
            "|           5 |               5 | Wonderful Shops        | 3333 Rossmoyne Rd.      |             17050 | Mechanicsburg | PA             | 2007-02-01     | 9999-12-31  |\n",
            "|           6 |               6 | Loyal Clients          | 7070 Ritter Rd.         |             17055 | Pittsburgh    | PA             | 2007-02-01     | 9999-12-31  |\n",
            "|           7 |               7 | Distinguished Partners | 9999 Scott St.          |             17050 | Mechanicsburg | PA             | 2007-02-02     | 9999-12-31  |\n",
            "+-------------+-----------------+------------------------+-------------------------+-------------------+---------------+----------------+----------------+-------------+\n"
          ],
          "name": "stdout"
        }
      ]
    },
    {
      "cell_type": "markdown",
      "metadata": {
        "id": "vCqoHyo6emZN"
      },
      "source": [
        "**SCD2**\n",
        "\n",
        "\n",
        "---\n",
        "\n"
      ]
    },
    {
      "cell_type": "code",
      "metadata": {
        "id": "x0cplstmf-TI",
        "colab": {
          "base_uri": "https://localhost:8080/"
        },
        "outputId": "2d321ef0-6729-402a-ec9e-acdffdac98ea"
      },
      "source": [
        "!ls"
      ],
      "execution_count": null,
      "outputs": [
        {
          "output_type": "stream",
          "text": [
            "9780975212820.zip\t    pm_load_customer_stg.sql  scripts\n",
            "pm_create_customer_stg.sql  sample_data\t\t      source_data\n"
          ],
          "name": "stdout"
        }
      ]
    },
    {
      "cell_type": "code",
      "metadata": {
        "id": "8UdiV9dZesUa",
        "colab": {
          "base_uri": "https://localhost:8080/"
        },
        "outputId": "08f9b39b-2b9c-43db-d11b-7a4b14a0d6a0"
      },
      "source": [
        "!ls scripts"
      ],
      "execution_count": null,
      "outputs": [
        {
          "output_type": "stream",
          "text": [
            " across_all_dimensions.sql\t\t   loyal_customer.sql\n",
            " across_date_customer.sql\t\t   month_end_balance_fact.sql\n",
            " across_date_product.sql\t\t   month_end_balance_initial.sql\n",
            " across_date.sql\t\t\t   month_end_balance_regular.sql\n",
            " add_campaign_session.sql\t\t   month_end_sales_order_22.sql\n",
            " add_four_milestones.sql\t\t   month_end_sales_order.sql\n",
            " additive_data.sql\t\t\t   monthly_product_performer.sql\n",
            " add_sales_order_quantity.sql\t\t   monthly_storage.sql\n",
            " add_two_sales_orders.sql\t\t   month_rollup_dim.sql\n",
            " annual_aggregation.sql\t\t\t   more_customer_sk.sql\n",
            " annual_tables.sql\t\t\t   more_sales_order.sql\n",
            " balance_across_months.sql\t\t   mysql_fix_privilege_tables.sql\n",
            " balance_across_products.sql\t\t   new_customer_credit_check.sql\n",
            " band_dim.sql\t\t\t\t   non_pa_customer.sql\n",
            " band_ini.sql\t\t\t\t   nullify_campaign_session.sql\n",
            " band_regular.sql\t\t\t   on_demand.sql\n",
            " campaign_session_20.sql\t\t   order_quantity.sql\n",
            " campaign_session_21.sql\t\t   order_status.sql\n",
            " campaign_session_path.sql\t\t   pa_customer.sql\n",
            " campaign_session.sql\t\t\t   pre_populate_date_12.sql\n",
            " campaign_stg_20.sql\t\t\t   pre_populate_date_13.sql\n",
            " campaign_stg_21.sql\t\t\t   pre_populate_date.sql\n",
            " confirm_initial_population.sql\t\t   product_count_ini.sql\n",
            " create_campaign_stg.sql\t\t   product_count.sql\n",
            " create_customer_stg.sql\t\t   production_fact_23.sql\n",
            " create_databases.sql\t\t\t   production_regular_23.sql\n",
            " create_dw_tables.sql\t\t\t   production_regular.sql\n",
            " create_four_date_views.sql\t\t   product_launch_date_dim.sql\n",
            " create_month_end_sales_order_fact.sql\t   promotion_indicator.sql\n",
            " create_product_stg.sql\t\t\t   push_data.sql\n",
            " create_promo_schedule_stg.sql\t\t   push_sales_order.sql\n",
            " create_sales_order.sql\t\t\t   quarterly_mechanicsburg.sql\n",
            " create_user_id.sql\t\t\t   quarter_path.sql\n",
            " customer_sk.sql\t\t\t   ragged_campaign.sql\n",
            " daily_aggregation.sql\t\t\t  'readme 1st'\n",
            " daily_date.sql\t\t\t\t  'readme 1st for scripts.txt'\n",
            " daily_production_23.sql\t\t   remove_campaign.sql\n",
            " daily_production_data.sql\t\t   request_delivery_date_sk.sql\n",
            " daily_production.sql\t\t\t   request_delivery_date_source.sql\n",
            " database_view.sql\t\t\t   request_delivery_date.sql\n",
            " date_view_22.sql\t\t\t   sales_order_17.sql\n",
            " date_views.sql\t\t\t\t   sales_order_18.sql\n",
            " degenerate.sql\t\t\t\t   sales_order_22.sql\n",
            " dimensional_query_data.sql\t\t   sales_order_23.sql\n",
            " drilling.sql\t\t\t\t   sales_order_attribute_sk.sql\n",
            " dw_initial.sql\t\t\t\t   sales_order_attributes.sql\n",
            " dw_regular_10.sql\t\t\t   sales_order_fact_23.sql\n",
            " dw_regular_11.sql\t\t\t   sales_order_initial.sql\n",
            " dw_regular_12.sql\t\t\t   sales_order_quantity_data.sql\n",
            " dw_regular_13.sql\t\t\t   sales_order_regular.sql\n",
            " dw_regular_14.sql\t\t\t   sales_orders_24_ini.sql\n",
            " dw_regular_17.sql\t\t\t   sales_orders_24_reg.sql\n",
            " dw_regular_18.sql\t\t\t   sales_orders_step3.sql\n",
            " dw_regular_21.sql\t\t\t   sales_orders_step5.sql\n",
            " dw_regular_22.sql\t\t\t   scd1.sql\n",
            " dw_regular_23.sql\t\t\t   scd2.sql\n",
            " dw_regular.sql\t\t\t\t   segmentation.sql\n",
            " entry_date.sql\t\t\t\t   shipping_address.sql\n",
            " factory_ini.sql\t\t\t   source_date.sql\n",
            " factory_master_source.sql\t\t   special_dates.sql\n",
            " factory_master.sql\t\t\t   table_alias.sql\n",
            " factory_stg.sql\t\t\t   third_star_tables.sql\n",
            " fill_help_tables.sql\t\t\t   track_launch_expiry.sql\n",
            " filtered_month_end_sales_order_fact.sql   truncate_tables.sql\n",
            " grouping.sql\t\t\t\t   two_more_customers.sql\n",
            " jan_month_end_balance_regular.sql\t   zip_code_dim.sql\n",
            " junk_dim.sql\t\t\t\t   zip_code_population.sql\n",
            " load_product_stg.sql\t\t\t   zip_code_stg.sql\n"
          ],
          "name": "stdout"
        }
      ]
    },
    {
      "cell_type": "code",
      "metadata": {
        "id": "RohGlXDb3ZoW",
        "colab": {
          "base_uri": "https://localhost:8080/"
        },
        "outputId": "1d3f9139-804a-44fc-ec7c-e99e30e8f998"
      },
      "source": [
        "!mysql -udwid -ppw dw -e \"truncate product_dim\""
      ],
      "execution_count": null,
      "outputs": [
        {
          "output_type": "stream",
          "text": [
            "mysql: [Warning] Using a password on the command line interface can be insecure.\n"
          ],
          "name": "stdout"
        }
      ]
    },
    {
      "cell_type": "code",
      "metadata": {
        "id": "xc3g_lef3jYn"
      },
      "source": [
        "!mysql dw -e \"select * from product_dim\""
      ],
      "execution_count": null,
      "outputs": []
    },
    {
      "cell_type": "code",
      "metadata": {
        "id": "Z17XjtgsezYJ",
        "colab": {
          "base_uri": "https://localhost:8080/"
        },
        "outputId": "bab31362-52e0-4d1f-c89d-cda098dbacad"
      },
      "source": [
        "!cat source_data/product2-1.txt"
      ],
      "execution_count": null,
      "outputs": [
        {
          "output_type": "stream",
          "text": [
            "PRODUCT CODE,PRODUCT NAME,PRODUCT GROUP\r\n",
            "1          Hard Disk                     Storage\r\n",
            "2          Floppy Drive                  Storage"
          ],
          "name": "stdout"
        }
      ]
    },
    {
      "cell_type": "code",
      "metadata": {
        "id": "8G-ufAnhfsDv",
        "colab": {
          "base_uri": "https://localhost:8080/"
        },
        "outputId": "662f0441-e417-4543-8bce-5296e4c0d2f6"
      },
      "source": [
        "!mysql -udwid -ppw --table < scripts/create_product_stg.sql"
      ],
      "execution_count": null,
      "outputs": [
        {
          "output_type": "stream",
          "text": [
            "mysql: [Warning] Using a password on the command line interface can be insecure.\n"
          ],
          "name": "stdout"
        }
      ]
    },
    {
      "cell_type": "code",
      "metadata": {
        "id": "3n41cTfhfkgu",
        "colab": {
          "base_uri": "https://localhost:8080/"
        },
        "outputId": "a4818283-9ff3-43ed-e6f8-24cb8146b82e"
      },
      "source": [
        "!mysql dw -e \"desc product_stg\""
      ],
      "execution_count": null,
      "outputs": [
        {
          "output_type": "stream",
          "text": [
            "+------------------+----------+------+-----+---------+-------+\n",
            "| Field            | Type     | Null | Key | Default | Extra |\n",
            "+------------------+----------+------+-----+---------+-------+\n",
            "| product_code     | int(11)  | YES  |     | NULL    |       |\n",
            "| product_name     | char(30) | YES  |     | NULL    |       |\n",
            "| product_category | char(30) | YES  |     | NULL    |       |\n",
            "+------------------+----------+------+-----+---------+-------+\n"
          ],
          "name": "stdout"
        }
      ]
    },
    {
      "cell_type": "code",
      "metadata": {
        "id": "th5lAOjUhlyH",
        "colab": {
          "base_uri": "https://localhost:8080/"
        },
        "outputId": "849b49ef-2d31-460a-cd84-b1076a4f36bb"
      },
      "source": [
        "%%writefile pm_load_prod_stg_01.sql\n",
        "/* default database to dw */\n",
        "USE dw;\n",
        "/* clean up the staging table */\n",
        "TRUNCATE product_stg;\n",
        "/* use LOAD DATA INFILE */\n",
        "LOAD DATA local INFILE 'source_data/product2-1.txt'\n",
        "INTO TABLE product_stg\n",
        "FIELDS TERMINATED BY ''\n",
        "OPTIONALLY ENCLOSED BY ''\n",
        "LINES TERMINATED BY '\\r\\n'\n",
        "IGNORE 1 LINES\n",
        "( product_code\n",
        ", product_name\n",
        ", product_category )\n",
        ";\n",
        "/* end of script */"
      ],
      "execution_count": null,
      "outputs": [
        {
          "output_type": "stream",
          "text": [
            "Writing pm_load_prod_stg_01.sql\n"
          ],
          "name": "stdout"
        }
      ]
    },
    {
      "cell_type": "code",
      "metadata": {
        "id": "y9ctASguiRbF",
        "colab": {
          "base_uri": "https://localhost:8080/"
        },
        "outputId": "c830704c-f359-475b-c112-9cd303c83450"
      },
      "source": [
        "!mysql -udwid -ppw --table < pm_load_prod_stg_01.sql"
      ],
      "execution_count": null,
      "outputs": [
        {
          "output_type": "stream",
          "text": [
            "mysql: [Warning] Using a password on the command line interface can be insecure.\n"
          ],
          "name": "stdout"
        }
      ]
    },
    {
      "cell_type": "code",
      "metadata": {
        "id": "YHD_g51aiiZU",
        "colab": {
          "base_uri": "https://localhost:8080/"
        },
        "outputId": "de4d4d4c-fd9f-4282-b525-d2602be1c9ae"
      },
      "source": [
        "!mysql dw -e \"select * from product_stg\""
      ],
      "execution_count": null,
      "outputs": [
        {
          "output_type": "stream",
          "text": [
            "+--------------+--------------+------------------+\n",
            "| product_code | product_name | product_category |\n",
            "+--------------+--------------+------------------+\n",
            "|            1 | Hard Disk    | Storage          |\n",
            "|            2 | Floppy Drive | Storage          |\n",
            "+--------------+--------------+------------------+\n"
          ],
          "name": "stdout"
        }
      ]
    },
    {
      "cell_type": "code",
      "metadata": {
        "id": "uVmx58MgjUte",
        "colab": {
          "base_uri": "https://localhost:8080/"
        },
        "outputId": "37893504-d08d-43e5-ba8d-3fb63b643a2c"
      },
      "source": [
        "!mysql -udwid -ppw --table < scripts/scd2.sql"
      ],
      "execution_count": null,
      "outputs": [
        {
          "output_type": "stream",
          "text": [
            "mysql: [Warning] Using a password on the command line interface can be insecure.\n"
          ],
          "name": "stdout"
        }
      ]
    },
    {
      "cell_type": "code",
      "metadata": {
        "id": "LUc2O_n7jllY",
        "colab": {
          "base_uri": "https://localhost:8080/"
        },
        "outputId": "31275646-adf7-4921-e0dc-ba0345553a35"
      },
      "source": [
        "!mysql dw -e \"select * from product_dim\""
      ],
      "execution_count": null,
      "outputs": [
        {
          "output_type": "stream",
          "text": [
            "+------------+--------------+--------------+------------------+----------------+-------------+\n",
            "| product_sk | product_code | product_name | product_category | effective_date | expiry_date |\n",
            "+------------+--------------+--------------+------------------+----------------+-------------+\n",
            "|          1 |            1 | Hard Disk    | Storage          | 2021-04-06     | 9999-12-31  |\n",
            "|          2 |            2 | Floppy Drive | Storage          | 2021-04-06     | 9999-12-31  |\n",
            "+------------+--------------+--------------+------------------+----------------+-------------+\n"
          ],
          "name": "stdout"
        }
      ]
    },
    {
      "cell_type": "code",
      "metadata": {
        "id": "m2rtZ1R7jsfN"
      },
      "source": [
        "!mysql dw -e \"update product_dim set effective_date = '2007-02-03'\""
      ],
      "execution_count": null,
      "outputs": []
    },
    {
      "cell_type": "code",
      "metadata": {
        "id": "lX8nhWTW4C7r",
        "colab": {
          "base_uri": "https://localhost:8080/"
        },
        "outputId": "9aeac534-d78d-44a6-c5e8-0997d88f8452"
      },
      "source": [
        "!mysql dw -e \"select * from product_dim\""
      ],
      "execution_count": null,
      "outputs": [
        {
          "output_type": "stream",
          "text": [
            "+------------+--------------+--------------+------------------+----------------+-------------+\n",
            "| product_sk | product_code | product_name | product_category | effective_date | expiry_date |\n",
            "+------------+--------------+--------------+------------------+----------------+-------------+\n",
            "|          1 |            1 | Hard Disk    | Storage          | 2007-02-03     | 9999-12-31  |\n",
            "|          2 |            2 | Floppy Drive | Storage          | 2007-02-03     | 9999-12-31  |\n",
            "+------------+--------------+--------------+------------------+----------------+-------------+\n"
          ],
          "name": "stdout"
        }
      ]
    },
    {
      "cell_type": "code",
      "metadata": {
        "id": "VXP9q8h0kPC2",
        "colab": {
          "base_uri": "https://localhost:8080/"
        },
        "outputId": "7c81cf67-0948-4091-faab-aa0484677eb7"
      },
      "source": [
        "%%writefile pm_load_prod_stg_02.sql\n",
        "/* default database to dw */\n",
        "USE dw;\n",
        "/* clean up the staging table */\n",
        "TRUNCATE product_stg;\n",
        "/* use LOAD DATA INFILE */\n",
        "LOAD DATA local INFILE 'source_data/product2-2.txt'\n",
        "INTO TABLE product_stg\n",
        "FIELDS TERMINATED BY ''\n",
        "OPTIONALLY ENCLOSED BY ''\n",
        "LINES TERMINATED BY '\\r\\n'\n",
        "IGNORE 1 LINES\n",
        "( product_code\n",
        ", product_name\n",
        ", product_category )\n",
        ";\n",
        "/* end of script */"
      ],
      "execution_count": null,
      "outputs": [
        {
          "output_type": "stream",
          "text": [
            "Writing pm_load_prod_stg_02.sql\n"
          ],
          "name": "stdout"
        }
      ]
    },
    {
      "cell_type": "code",
      "metadata": {
        "id": "ntO7n6XEkXR6",
        "colab": {
          "base_uri": "https://localhost:8080/"
        },
        "outputId": "b0e1d485-7d61-4e44-a5cf-52252ac21b9d"
      },
      "source": [
        "!mysql -udwid -ppw --table < pm_load_prod_stg_02.sql"
      ],
      "execution_count": null,
      "outputs": [
        {
          "output_type": "stream",
          "text": [
            "mysql: [Warning] Using a password on the command line interface can be insecure.\n"
          ],
          "name": "stdout"
        }
      ]
    },
    {
      "cell_type": "code",
      "metadata": {
        "id": "tH9a2IL7kfCX",
        "colab": {
          "base_uri": "https://localhost:8080/"
        },
        "outputId": "1dd23457-5b0c-431f-9f20-29763cc9911a"
      },
      "source": [
        "!mysql dw -e \"select * from product_stg\""
      ],
      "execution_count": null,
      "outputs": [
        {
          "output_type": "stream",
          "text": [
            "+--------------+-----------------+------------------+\n",
            "| product_code | product_name    | product_category |\n",
            "+--------------+-----------------+------------------+\n",
            "|            1 | Hard Disk Drive | Storage          |\n",
            "|            2 | Floppy Drive    | Storage          |\n",
            "|            3 | LCD Panel       | Monitor          |\n",
            "+--------------+-----------------+------------------+\n"
          ],
          "name": "stdout"
        }
      ]
    },
    {
      "cell_type": "code",
      "metadata": {
        "id": "e93Sk6RIkqcU",
        "colab": {
          "base_uri": "https://localhost:8080/"
        },
        "outputId": "e4e12b0d-ccb8-4c0d-ecf0-7eeb1a7c22c8"
      },
      "source": [
        "!mysql -udwid -ppw --table < scripts/scd2.sql"
      ],
      "execution_count": null,
      "outputs": [
        {
          "output_type": "stream",
          "text": [
            "mysql: [Warning] Using a password on the command line interface can be insecure.\n"
          ],
          "name": "stdout"
        }
      ]
    },
    {
      "cell_type": "code",
      "metadata": {
        "id": "vZY_1XrYk2LM",
        "colab": {
          "base_uri": "https://localhost:8080/"
        },
        "outputId": "368525a9-d797-45eb-ff75-8016d774b5a0"
      },
      "source": [
        "!mysql dw -e \"select * from product_dim\""
      ],
      "execution_count": null,
      "outputs": [
        {
          "output_type": "stream",
          "text": [
            "+------------+--------------+-----------------+------------------+----------------+-------------+\n",
            "| product_sk | product_code | product_name    | product_category | effective_date | expiry_date |\n",
            "+------------+--------------+-----------------+------------------+----------------+-------------+\n",
            "|          1 |            1 | Hard Disk       | Storage          | 2007-02-03     | 2021-04-05  |\n",
            "|          2 |            2 | Floppy Drive    | Storage          | 2007-02-03     | 9999-12-31  |\n",
            "|          4 |            1 | Hard Disk Drive | Storage          | 2021-04-06     | 9999-12-31  |\n",
            "|          5 |            3 | LCD Panel       | Monitor          | 2021-04-06     | 9999-12-31  |\n",
            "+------------+--------------+-----------------+------------------+----------------+-------------+\n"
          ],
          "name": "stdout"
        }
      ]
    },
    {
      "cell_type": "code",
      "metadata": {
        "id": "y_a-D5eTk-Ts"
      },
      "source": [
        "!mysql dw -e \"update product_dim set effective_date = '2007-02-05' where effective_date = '2020-03-25'\""
      ],
      "execution_count": null,
      "outputs": []
    },
    {
      "cell_type": "code",
      "metadata": {
        "id": "-1maQSD0lWmx"
      },
      "source": [
        "!mysql dw -e \"update product_dim set expiry_date = '2007-02-04' where expiry_date = '2020-03-24'\""
      ],
      "execution_count": null,
      "outputs": []
    },
    {
      "cell_type": "code",
      "metadata": {
        "id": "Yuw30XUXwlpn"
      },
      "source": [
        "#there seems to be an inexplicable difference between the output shown here and the output shown in the book\n",
        "#product_sk should be 1,2,3,4 and not 1,2,4,5 \n",
        "#it seems autoincrements behave erratically and hence should not be used as surrogate keys as shown here"
      ],
      "execution_count": null,
      "outputs": []
    },
    {
      "cell_type": "code",
      "metadata": {
        "id": "Xo5GcWOf4a32",
        "colab": {
          "base_uri": "https://localhost:8080/"
        },
        "outputId": "a730c4ed-f656-46cd-b889-7ae4c4436b60"
      },
      "source": [
        "!mysql dw -e \"select * from product_dim\""
      ],
      "execution_count": null,
      "outputs": [
        {
          "output_type": "stream",
          "text": [
            "+------------+--------------+-----------------+------------------+----------------+-------------+\n",
            "| product_sk | product_code | product_name    | product_category | effective_date | expiry_date |\n",
            "+------------+--------------+-----------------+------------------+----------------+-------------+\n",
            "|          1 |            1 | Hard Disk       | Storage          | 2007-02-03     | 2021-04-05  |\n",
            "|          2 |            2 | Floppy Drive    | Storage          | 2007-02-03     | 9999-12-31  |\n",
            "|          4 |            1 | Hard Disk Drive | Storage          | 2021-04-06     | 9999-12-31  |\n",
            "|          5 |            3 | LCD Panel       | Monitor          | 2021-04-06     | 9999-12-31  |\n",
            "+------------+--------------+-----------------+------------------+----------------+-------------+\n"
          ],
          "name": "stdout"
        }
      ]
    },
    {
      "cell_type": "markdown",
      "metadata": {
        "id": "W2UnEFCNl7iP"
      },
      "source": [
        "#Chap 3 -  Measure Additivity"
      ]
    },
    {
      "cell_type": "code",
      "metadata": {
        "id": "_1PkXz3diCtY",
        "colab": {
          "base_uri": "https://localhost:8080/"
        },
        "outputId": "319ec518-9ddc-4151-a498-d9fadf19c4f1"
      },
      "source": [
        "!cat scripts/additive_data.sql"
      ],
      "execution_count": null,
      "outputs": [
        {
          "output_type": "stream",
          "text": [
            "/*********************************************************************/\r\n",
            "/*                                                                   */\r\n",
            "/* additive_data.sql                                                 */                  \r\n",
            "/*                                                                   */\r\n",
            "/*********************************************************************/\r\n",
            "\r\n",
            "USE dw;\r\n",
            "\r\n",
            "INSERT INTO order_dim VALUES\r\n",
            "  (NULL, 1, CURRENT_DATE, '9999-12-31')\r\n",
            ", (NULL, 2, CURRENT_DATE, '9999-12-31')\r\n",
            ", (NULL, 3, CURRENT_DATE, '9999-12-31')\r\n",
            ", (NULL, 4, CURRENT_DATE, '9999-12-31')\r\n",
            ", (NULL, 5, CURRENT_DATE, '9999-12-31')\r\n",
            ", (NULL, 6, CURRENT_DATE, '9999-12-31')\r\n",
            ", (NULL, 7, CURRENT_DATE, '9999-12-31')\r\n",
            ", (NULL, 8, CURRENT_DATE, '9999-12-31')\r\n",
            ", (NULL, 9, CURRENT_DATE, '9999-12-31')\r\n",
            ", (NULL, 10, CURRENT_DATE, '9999-12-31')\r\n",
            ";\r\n",
            "\r\n",
            "INSERT INTO date_dim VALUES\r\n",
            "  (NULL, '2005-10-31', 'October', 10, 4, 2005, CURRENT_DATE, '9999-12-31')\r\n",
            ";\r\n",
            "\r\n",
            "INSERT INTO sales_order_fact VALUES\r\n",
            "  (1, 1, 2, 1, 1000)\r\n",
            ", (2, 2, 3, 1, 1000)\r\n",
            ", (3, 3, 4, 1, 4000)\r\n",
            ", (4, 4, 2, 1, 4000)\r\n",
            ", (5, 5, 3, 1, 6000)\r\n",
            ", (6, 1, 4, 1, 6000)\r\n",
            ", (7, 2, 2, 1, 8000)\r\n",
            ", (8, 3, 3, 1, 8000)\r\n",
            ", (9, 4, 4, 1, 10000)\r\n",
            ", (10, 5, 2, 1, 10000)\r\n",
            ";\r\n",
            "\r\n",
            "/* end of script                                                     */\r\n"
          ],
          "name": "stdout"
        }
      ]
    },
    {
      "cell_type": "code",
      "metadata": {
        "id": "snxMf5IsnTIP",
        "colab": {
          "base_uri": "https://localhost:8080/"
        },
        "outputId": "4633bb95-0853-4f01-da23-0268b9bdddaa"
      },
      "source": [
        "!mysql -udwid -ppw --table < scripts/additive_data.sql"
      ],
      "execution_count": null,
      "outputs": [
        {
          "output_type": "stream",
          "text": [
            "mysql: [Warning] Using a password on the command line interface can be insecure.\n"
          ],
          "name": "stdout"
        }
      ]
    },
    {
      "cell_type": "code",
      "metadata": {
        "id": "lCXkg0wNncQ6",
        "colab": {
          "base_uri": "https://localhost:8080/"
        },
        "outputId": "6c4e8cc2-6102-468a-f3ce-0b33c3db72bc"
      },
      "source": [
        "!mysql dw -e \"select * from sales_order_fact\""
      ],
      "execution_count": null,
      "outputs": [
        {
          "output_type": "stream",
          "text": [
            "+----------+-------------+------------+---------------+--------------+\n",
            "| order_sk | customer_sk | product_sk | order_date_sk | order_amount |\n",
            "+----------+-------------+------------+---------------+--------------+\n",
            "|        1 |           1 |          2 |             1 |      1000.00 |\n",
            "|        2 |           2 |          3 |             1 |      1000.00 |\n",
            "|        3 |           3 |          4 |             1 |      4000.00 |\n",
            "|        4 |           4 |          2 |             1 |      4000.00 |\n",
            "|        5 |           5 |          3 |             1 |      6000.00 |\n",
            "|        6 |           1 |          4 |             1 |      6000.00 |\n",
            "|        7 |           2 |          2 |             1 |      8000.00 |\n",
            "|        8 |           3 |          3 |             1 |      8000.00 |\n",
            "|        9 |           4 |          4 |             1 |     10000.00 |\n",
            "|       10 |           5 |          2 |             1 |     10000.00 |\n",
            "+----------+-------------+------------+---------------+--------------+\n"
          ],
          "name": "stdout"
        }
      ]
    },
    {
      "cell_type": "code",
      "metadata": {
        "id": "iSyUNIeSoFbT",
        "colab": {
          "base_uri": "https://localhost:8080/"
        },
        "outputId": "f7d360fa-f29b-4503-f2bd-0910c96ceb6f"
      },
      "source": [
        "!mysql -udwid -ppw --table < scripts/across_all_dimensions.sql"
      ],
      "execution_count": null,
      "outputs": [
        {
          "output_type": "stream",
          "text": [
            "mysql: [Warning] Using a password on the command line interface can be insecure.\n",
            "+---------------------+\n",
            "| sum_of_order_amount |\n",
            "+---------------------+\n",
            "|            58000.00 |\n",
            "+---------------------+\n"
          ],
          "name": "stdout"
        }
      ]
    },
    {
      "cell_type": "code",
      "metadata": {
        "id": "RlvtAathoQyi",
        "colab": {
          "base_uri": "https://localhost:8080/"
        },
        "outputId": "e9416977-a3dd-4ed0-f94c-a234d593b070"
      },
      "source": [
        "!mysql -udwid -ppw --table < scripts/across_date_product.sql\n",
        "# note this adds up to 58000 as well, as it should"
      ],
      "execution_count": null,
      "outputs": [
        {
          "output_type": "stream",
          "text": [
            "mysql: [Warning] Using a password on the command line interface can be insecure.\n",
            "+-----------------+---------------------+\n",
            "| customer_number | sum_of_order_amount |\n",
            "+-----------------+---------------------+\n",
            "|               1 |             7000.00 |\n",
            "|               2 |             9000.00 |\n",
            "|               3 |            12000.00 |\n",
            "|               4 |            14000.00 |\n",
            "|               5 |            16000.00 |\n",
            "+-----------------+---------------------+\n"
          ],
          "name": "stdout"
        }
      ]
    },
    {
      "cell_type": "code",
      "metadata": {
        "id": "uNLGD6EZrAev",
        "colab": {
          "base_uri": "https://localhost:8080/"
        },
        "outputId": "f1edab4f-d294-41c0-8e51-858028b6a523"
      },
      "source": [
        "%%writefile pm_across_date_customer_order.sql\n",
        "USE dw;\n",
        "SELECT\n",
        "product_code, SUM(order_amount) sum_of_order_amount\n",
        "FROM\n",
        "sales_order_fact a\n",
        ", product_dim b\n",
        "WHERE\n",
        "a.product_sk = b.product_sk\n",
        "GROUP BY\n",
        "product_code\n",
        ";\n",
        "/* end of script */"
      ],
      "execution_count": null,
      "outputs": [
        {
          "output_type": "stream",
          "text": [
            "Writing pm_across_date_customer_order.sql\n"
          ],
          "name": "stdout"
        }
      ]
    },
    {
      "cell_type": "code",
      "metadata": {
        "id": "7ozqwKQKrYar",
        "colab": {
          "base_uri": "https://localhost:8080/"
        },
        "outputId": "98ccd93c-f308-4d0d-fd83-43a05c6f6392"
      },
      "source": [
        "!mysql -udwid -ppw --table < pm_across_date_customer_order.sql\n",
        "# this does not add up to 58,000 ! error !! "
      ],
      "execution_count": null,
      "outputs": [
        {
          "output_type": "stream",
          "text": [
            "mysql: [Warning] Using a password on the command line interface can be insecure.\n",
            "+--------------+---------------------+\n",
            "| product_code | sum_of_order_amount |\n",
            "+--------------+---------------------+\n",
            "|            1 |            20000.00 |\n",
            "|            2 |            23000.00 |\n",
            "+--------------+---------------------+\n"
          ],
          "name": "stdout"
        }
      ]
    },
    {
      "cell_type": "code",
      "metadata": {
        "id": "HoivevUfwf0n"
      },
      "source": [
        "#trying to fix the error referred to above\n",
        "!mysql dw -e \"update product_dim set product_sk = 3 where product_sk = 4\"\n",
        "!mysql dw -e \"update product_dim set product_sk = 4 where product_sk = 5\"\n"
      ],
      "execution_count": null,
      "outputs": []
    },
    {
      "cell_type": "code",
      "metadata": {
        "id": "hlcSwl_lr-TF",
        "colab": {
          "base_uri": "https://localhost:8080/"
        },
        "outputId": "9d045925-8f49-47fd-a669-76dd720abd4f"
      },
      "source": [
        "%%writefile pm_quickcheck.sql\n",
        "USE dw;\n",
        "SELECT * from sales_order_fact;\n",
        "select * from product_dim;\n"
      ],
      "execution_count": null,
      "outputs": [
        {
          "output_type": "stream",
          "text": [
            "Writing pm_quickcheck.sql\n"
          ],
          "name": "stdout"
        }
      ]
    },
    {
      "cell_type": "code",
      "metadata": {
        "id": "12eQvvpDsUUZ",
        "colab": {
          "base_uri": "https://localhost:8080/"
        },
        "outputId": "af4a04b9-c98f-4018-f1bc-29f628a35c7e"
      },
      "source": [
        "!mysql -udwid -ppw --table < pm_quickcheck.sql"
      ],
      "execution_count": null,
      "outputs": [
        {
          "output_type": "stream",
          "text": [
            "mysql: [Warning] Using a password on the command line interface can be insecure.\n",
            "+----------+-------------+------------+---------------+--------------+\n",
            "| order_sk | customer_sk | product_sk | order_date_sk | order_amount |\n",
            "+----------+-------------+------------+---------------+--------------+\n",
            "|        1 |           1 |          2 |             1 |      1000.00 |\n",
            "|        2 |           2 |          3 |             1 |      1000.00 |\n",
            "|        3 |           3 |          4 |             1 |      4000.00 |\n",
            "|        4 |           4 |          2 |             1 |      4000.00 |\n",
            "|        5 |           5 |          3 |             1 |      6000.00 |\n",
            "|        6 |           1 |          4 |             1 |      6000.00 |\n",
            "|        7 |           2 |          2 |             1 |      8000.00 |\n",
            "|        8 |           3 |          3 |             1 |      8000.00 |\n",
            "|        9 |           4 |          4 |             1 |     10000.00 |\n",
            "|       10 |           5 |          2 |             1 |     10000.00 |\n",
            "+----------+-------------+------------+---------------+--------------+\n",
            "+------------+--------------+-----------------+------------------+----------------+-------------+\n",
            "| product_sk | product_code | product_name    | product_category | effective_date | expiry_date |\n",
            "+------------+--------------+-----------------+------------------+----------------+-------------+\n",
            "|          1 |            1 | Hard Disk       | Storage          | 2007-02-03     | 2021-04-05  |\n",
            "|          2 |            2 | Floppy Drive    | Storage          | 2007-02-03     | 9999-12-31  |\n",
            "|          3 |            1 | Hard Disk Drive | Storage          | 2021-04-06     | 9999-12-31  |\n",
            "|          4 |            3 | LCD Panel       | Monitor          | 2021-04-06     | 9999-12-31  |\n",
            "+------------+--------------+-----------------+------------------+----------------+-------------+\n"
          ],
          "name": "stdout"
        }
      ]
    },
    {
      "cell_type": "code",
      "metadata": {
        "id": "7jMtvABmoy9a",
        "colab": {
          "base_uri": "https://localhost:8080/"
        },
        "outputId": "84272950-dfb0-4f0b-ccb8-b008efdc4810"
      },
      "source": [
        "!mysql -udwid -ppw --table < scripts/across_date_customer.sql\n",
        "# now we get back 58,000"
      ],
      "execution_count": null,
      "outputs": [
        {
          "output_type": "stream",
          "text": [
            "mysql: [Warning] Using a password on the command line interface can be insecure.\n",
            "+--------------+---------------------+\n",
            "| product_code | sum_of_order_amount |\n",
            "+--------------+---------------------+\n",
            "|            1 |            15000.00 |\n",
            "|            2 |            23000.00 |\n",
            "|            3 |            20000.00 |\n",
            "+--------------+---------------------+\n"
          ],
          "name": "stdout"
        }
      ]
    },
    {
      "cell_type": "code",
      "metadata": {
        "id": "lk2jf7H1p9S4"
      },
      "source": [
        "#after the error fix, back in sync with the tutorial book"
      ],
      "execution_count": null,
      "outputs": []
    },
    {
      "cell_type": "code",
      "metadata": {
        "id": "C8shMyoxoPeL",
        "colab": {
          "base_uri": "https://localhost:8080/"
        },
        "outputId": "679e0dff-d950-4ee6-c13c-154c3233c34f"
      },
      "source": [
        "!mysql -udwid -ppw --table < scripts/across_date.sql\n",
        "# and we are back to 58,000 again"
      ],
      "execution_count": null,
      "outputs": [
        {
          "output_type": "stream",
          "text": [
            "mysql: [Warning] Using a password on the command line interface can be insecure.\n",
            "+-----------------+--------------+---------------------+\n",
            "| customer_number | product_code | sum_of_order_amount |\n",
            "+-----------------+--------------+---------------------+\n",
            "|               1 |            2 |             1000.00 |\n",
            "|               1 |            3 |             6000.00 |\n",
            "|               2 |            1 |             1000.00 |\n",
            "|               2 |            2 |             8000.00 |\n",
            "|               3 |            1 |             8000.00 |\n",
            "|               3 |            3 |             4000.00 |\n",
            "|               4 |            2 |             4000.00 |\n",
            "|               4 |            3 |            10000.00 |\n",
            "|               5 |            1 |             6000.00 |\n",
            "|               5 |            2 |            10000.00 |\n",
            "+-----------------+--------------+---------------------+\n"
          ],
          "name": "stdout"
        }
      ]
    },
    {
      "cell_type": "markdown",
      "metadata": {
        "id": "g63TvPo7eHWs"
      },
      "source": [
        ""
      ]
    },
    {
      "cell_type": "markdown",
      "metadata": {
        "id": "oQC5AQMXd8yt"
      },
      "source": [
        "#Chap 4 - Dimensional Queries"
      ]
    },
    {
      "cell_type": "code",
      "metadata": {
        "id": "oSxcNlFMeCW0",
        "colab": {
          "base_uri": "https://localhost:8080/"
        },
        "outputId": "5cd2aa07-c34b-47a0-cfff-1ac24b71a7b9"
      },
      "source": [
        "!ls scripts/da*"
      ],
      "execution_count": null,
      "outputs": [
        {
          "output_type": "stream",
          "text": [
            "scripts/daily_aggregation.sql\t   scripts/daily_production.sql\n",
            "scripts/daily_date.sql\t\t   scripts/database_view.sql\n",
            "scripts/daily_production_23.sql    scripts/date_view_22.sql\n",
            "scripts/daily_production_data.sql  scripts/date_views.sql\n"
          ],
          "name": "stdout"
        }
      ]
    },
    {
      "cell_type": "code",
      "metadata": {
        "id": "c3zNPYfFkl55",
        "colab": {
          "base_uri": "https://localhost:8080/"
        },
        "outputId": "9a7a765b-a286-4021-d462-ce368673031a"
      },
      "source": [
        "!cat scripts/dimensional_query_data.sql "
      ],
      "execution_count": null,
      "outputs": [
        {
          "output_type": "stream",
          "text": [
            "/*********************************************************************/\r\n",
            "/*                                                                   */\r\n",
            "/* dimensional_query_data.sql                                        */                  \r\n",
            "/*                                                                   */\r\n",
            "/*********************************************************************/\r\n",
            "\r\n",
            "USE dw;\r\n",
            "\r\n",
            "INSERT INTO order_dim VALUES\r\n",
            "  (NULL, 11, CURRENT_DATE, '9999-12-31')\r\n",
            ", (NULL, 12, CURRENT_DATE, '9999-12-31')\r\n",
            ", (NULL, 13, CURRENT_DATE, '9999-12-31')\r\n",
            ", (NULL, 14, CURRENT_DATE, '9999-12-31')\r\n",
            ", (NULL, 15, CURRENT_DATE, '9999-12-31')\r\n",
            ", (NULL, 16, CURRENT_DATE, '9999-12-31')\r\n",
            ";\r\n",
            "\r\n",
            "INSERT INTO date_dim VALUES\r\n",
            "  (NULL, '2005-11-01', 'November', 11, 4, 2005, CURRENT_DATE, '9999-12-31')\r\n",
            ";\r\n",
            "\r\n",
            "INSERT INTO sales_order_fact VALUES\r\n",
            "  (11, 1, 2, 2, 20000) \r\n",
            ", (12, 2, 3, 2, 25000)\r\n",
            ", (13, 3, 4, 2, 30000)\r\n",
            ", (14, 4, 2, 2, 35000) \r\n",
            ", (15, 5, 3, 2, 40000)\r\n",
            ", (16, 1, 4, 2, 45000)\r\n",
            ";\r\n",
            "\r\n",
            "/* end of script                                                     */\r\n"
          ],
          "name": "stdout"
        }
      ]
    },
    {
      "cell_type": "code",
      "metadata": {
        "id": "NukwQXjwk01f",
        "colab": {
          "base_uri": "https://localhost:8080/"
        },
        "outputId": "a2ebdd28-a4f5-4900-82b0-1348ba465e86"
      },
      "source": [
        "!mysql dw -udwid -ppw --table < scripts/dimensional_query_data.sql"
      ],
      "execution_count": null,
      "outputs": [
        {
          "output_type": "stream",
          "text": [
            "mysql: [Warning] Using a password on the command line interface can be insecure.\n"
          ],
          "name": "stdout"
        }
      ]
    },
    {
      "cell_type": "code",
      "metadata": {
        "id": "LvlvXPq3fz5r",
        "colab": {
          "base_uri": "https://localhost:8080/"
        },
        "outputId": "0b23ae03-052f-4436-a87a-30bd36d0f5a5"
      },
      "source": [
        "!mysql dw -e \"select * from sales_order_fact\""
      ],
      "execution_count": null,
      "outputs": [
        {
          "output_type": "stream",
          "text": [
            "+----------+-------------+------------+---------------+--------------+\n",
            "| order_sk | customer_sk | product_sk | order_date_sk | order_amount |\n",
            "+----------+-------------+------------+---------------+--------------+\n",
            "|        1 |           1 |          2 |             1 |      1000.00 |\n",
            "|        2 |           2 |          3 |             1 |      1000.00 |\n",
            "|        3 |           3 |          4 |             1 |      4000.00 |\n",
            "|        4 |           4 |          2 |             1 |      4000.00 |\n",
            "|        5 |           5 |          3 |             1 |      6000.00 |\n",
            "|        6 |           1 |          4 |             1 |      6000.00 |\n",
            "|        7 |           2 |          2 |             1 |      8000.00 |\n",
            "|        8 |           3 |          3 |             1 |      8000.00 |\n",
            "|        9 |           4 |          4 |             1 |     10000.00 |\n",
            "|       10 |           5 |          2 |             1 |     10000.00 |\n",
            "|       11 |           1 |          2 |             2 |     20000.00 |\n",
            "|       12 |           2 |          3 |             2 |     25000.00 |\n",
            "|       13 |           3 |          4 |             2 |     30000.00 |\n",
            "|       14 |           4 |          2 |             2 |     35000.00 |\n",
            "|       15 |           5 |          3 |             2 |     40000.00 |\n",
            "|       16 |           1 |          4 |             2 |     45000.00 |\n",
            "+----------+-------------+------------+---------------+--------------+\n"
          ],
          "name": "stdout"
        }
      ]
    },
    {
      "cell_type": "code",
      "metadata": {
        "id": "tGVCdN01e423",
        "colab": {
          "base_uri": "https://localhost:8080/"
        },
        "outputId": "71ab27e3-1f22-4a99-ec14-1297ea670e57"
      },
      "source": [
        "!cat scripts/daily_aggregation.sql"
      ],
      "execution_count": null,
      "outputs": [
        {
          "output_type": "stream",
          "text": [
            "/*********************************************************************/\r\n",
            "/*                                                                   */\r\n",
            "/* daily_aggregation.sql                                             */                  \r\n",
            "/*                                                                   */\r\n",
            "/*********************************************************************/\r\n",
            "\r\n",
            "SELECT date, SUM(order_amount), COUNT(*)\r\n",
            "FROM\r\n",
            "  sales_order_fact a\r\n",
            ", date_dim b\r\n",
            "WHERE\r\n",
            "a.order_date_sk = b.date_sk\r\n",
            "GROUP BY date\r\n",
            "ORDER BY date\r\n",
            ";\r\n",
            "\r\n",
            "/* end of script                                                     */\r\n"
          ],
          "name": "stdout"
        }
      ]
    },
    {
      "cell_type": "code",
      "metadata": {
        "id": "t-OYxx2wek9W",
        "colab": {
          "base_uri": "https://localhost:8080/"
        },
        "outputId": "bac7f6c3-2c14-4cbc-f80e-0d2dce346b11"
      },
      "source": [
        "!mysql dw -udwid -ppw --table < scripts/daily_aggregation.sql"
      ],
      "execution_count": null,
      "outputs": [
        {
          "output_type": "stream",
          "text": [
            "mysql: [Warning] Using a password on the command line interface can be insecure.\n",
            "+------------+-------------------+----------+\n",
            "| date       | SUM(order_amount) | COUNT(*) |\n",
            "+------------+-------------------+----------+\n",
            "| 2005-10-31 |          58000.00 |       10 |\n",
            "| 2005-11-01 |         195000.00 |        6 |\n",
            "+------------+-------------------+----------+\n"
          ],
          "name": "stdout"
        }
      ]
    },
    {
      "cell_type": "code",
      "metadata": {
        "id": "44sGgG_agZDK",
        "colab": {
          "base_uri": "https://localhost:8080/"
        },
        "outputId": "6a99e005-b017-4f94-de79-11c44d9bca3a"
      },
      "source": [
        "!mysql dw -udwid -ppw --table < scripts/annual_aggregation.sql"
      ],
      "execution_count": null,
      "outputs": [
        {
          "output_type": "stream",
          "text": [
            "mysql: [Warning] Using a password on the command line interface can be insecure.\n",
            "+------+-----------------+---------------+-------------------+----------+\n",
            "| year | product_name    | customer_city | SUM(order_amount) | COUNT(*) |\n",
            "+------+-----------------+---------------+-------------------+----------+\n",
            "| 2005 | Floppy Drive    | Mechanicsburg |          70000.00 |        5 |\n",
            "| 2005 | Floppy Drive    | Pittsburgh    |           8000.00 |        1 |\n",
            "| 2005 | Hard Disk Drive | Mechanicsburg |          46000.00 |        2 |\n",
            "| 2005 | Hard Disk Drive | Pittsburgh    |          34000.00 |        3 |\n",
            "| 2005 | LCD Panel       | Mechanicsburg |          61000.00 |        3 |\n",
            "| 2005 | LCD Panel       | Pittsburgh    |          34000.00 |        2 |\n",
            "+------+-----------------+---------------+-------------------+----------+\n"
          ],
          "name": "stdout"
        }
      ]
    },
    {
      "cell_type": "code",
      "metadata": {
        "id": "t-VcxNdTgtDC",
        "colab": {
          "base_uri": "https://localhost:8080/"
        },
        "outputId": "534c6ff2-aeb5-4fc3-c296-821b4cbb434c"
      },
      "source": [
        "!mysql dw -udwid -ppw --table < scripts/monthly_storage.sql"
      ],
      "execution_count": null,
      "outputs": [
        {
          "output_type": "stream",
          "text": [
            "mysql: [Warning] Using a password on the command line interface can be insecure.\n",
            "+-----------------+------------+------+-------------------+----------+\n",
            "| product_name    | month_name | year | SUM(order_amount) | COUNT(*) |\n",
            "+-----------------+------------+------+-------------------+----------+\n",
            "| Floppy Drive    | November   | 2005 |          55000.00 |        2 |\n",
            "| Hard Disk Drive | November   | 2005 |          65000.00 |        2 |\n",
            "| Floppy Drive    | October    | 2005 |          23000.00 |        4 |\n",
            "| Hard Disk Drive | October    | 2005 |          15000.00 |        3 |\n",
            "+-----------------+------------+------+-------------------+----------+\n"
          ],
          "name": "stdout"
        }
      ]
    },
    {
      "cell_type": "code",
      "metadata": {
        "id": "CDvEh2mfl9ac",
        "colab": {
          "base_uri": "https://localhost:8080/"
        },
        "outputId": "0744f92f-37d9-4094-daaf-047f6f94402b"
      },
      "source": [
        "!mysql dw -udwid -ppw --table < scripts/quarterly_mechanicsburg.sql"
      ],
      "execution_count": null,
      "outputs": [
        {
          "output_type": "stream",
          "text": [
            "mysql: [Warning] Using a password on the command line interface can be insecure.\n",
            "+---------------+---------+------+-------------------+-----------------+\n",
            "| customer_city | quarter | year | SUM(order_amount) | COUNT(order_sk) |\n",
            "+---------------+---------+------+-------------------+-----------------+\n",
            "| Mechanicsburg |       4 | 2005 |         177000.00 |              10 |\n",
            "+---------------+---------+------+-------------------+-----------------+\n"
          ],
          "name": "stdout"
        }
      ]
    },
    {
      "cell_type": "code",
      "metadata": {
        "id": "bFFyO34Bmz8X",
        "colab": {
          "base_uri": "https://localhost:8080/"
        },
        "outputId": "59968c7b-017e-4fa6-b7fc-6e80b39fff2f"
      },
      "source": [
        "!cat scripts/monthly_product_performer.sql\n",
        "# there is an error in this script .. can you spot it?"
      ],
      "execution_count": null,
      "outputs": [
        {
          "output_type": "stream",
          "text": [
            "/*********************************************************************/\r\n",
            "/*                                                                   */\r\n",
            "/* monthly_product_performer.sql                                     */                  \r\n",
            "/*                                                                   */\r\n",
            "/*********************************************************************/\r\n",
            "\r\n",
            "USE dw;\r\n",
            "\r\n",
            "SELECT month_name, year, product_name, SUM(order_amount), COUNT(*)\r\n",
            "FROM\r\n",
            "  sales_order_fact a\r\n",
            ", product_dim b\r\n",
            ", date_dim c\r\n",
            "WHERE\r\n",
            "    a.product_sk = b.product_sk\r\n",
            "AND a.order_date_sk = c.date_sk\r\n",
            "GROUP BY \r\n",
            "  month_name\r\n",
            ", year\r\n",
            ", product_name\r\n",
            "HAVING SUM(order_amount) >= 75000\r\n",
            "ORDER BY \r\n",
            "  month\r\n",
            ", year\r\n",
            ", product_name\r\n",
            ";\r\n",
            "\r\n",
            "/* end of script                                                     */\r\n"
          ],
          "name": "stdout"
        }
      ]
    },
    {
      "cell_type": "code",
      "metadata": {
        "id": "xoczCQzElsOT",
        "colab": {
          "base_uri": "https://localhost:8080/"
        },
        "outputId": "0148da4a-fca5-40ee-ab42-04e679ef91c8"
      },
      "source": [
        "!mysql dw -udwid -ppw --table < scripts/monthly_product_performer.sql"
      ],
      "execution_count": null,
      "outputs": [
        {
          "output_type": "stream",
          "text": [
            "mysql: [Warning] Using a password on the command line interface can be insecure.\n",
            "ERROR 1055 (42000) at line 9: Expression #1 of ORDER BY clause is not in GROUP BY clause and contains nonaggregated column 'dw.c.month' which is not functionally dependent on columns in GROUP BY clause; this is incompatible with sql_mode=only_full_group_by\n"
          ],
          "name": "stdout"
        }
      ]
    },
    {
      "cell_type": "code",
      "metadata": {
        "id": "SONlYAGOnPKW",
        "colab": {
          "base_uri": "https://localhost:8080/"
        },
        "outputId": "aecd7460-9f99-4ab3-9a7a-1e789768d454"
      },
      "source": [
        "%%writefile pm_monthly_product_performer.sql\n",
        "\n",
        "USE dw;\n",
        "\n",
        "SELECT month_name, year, product_name, SUM(order_amount), COUNT(*)\n",
        "FROM\n",
        "  sales_order_fact a\n",
        ", product_dim b\n",
        ", date_dim c\n",
        "WHERE\n",
        "    a.product_sk = b.product_sk\n",
        "AND a.order_date_sk = c.date_sk\n",
        "GROUP BY \n",
        "  month_name\n",
        ", year\n",
        ", product_name\n",
        "HAVING SUM(order_amount) >= 75000\n",
        "ORDER BY \n",
        "  month_name\n",
        ", year\n",
        ", product_name\n",
        ";"
      ],
      "execution_count": null,
      "outputs": [
        {
          "output_type": "stream",
          "text": [
            "Writing pm_monthly_product_performer.sql\n"
          ],
          "name": "stdout"
        }
      ]
    },
    {
      "cell_type": "code",
      "metadata": {
        "id": "XnJM_Q7EnhHN",
        "colab": {
          "base_uri": "https://localhost:8080/"
        },
        "outputId": "f64022f9-2c1f-4ba3-8232-1f97cfff826f"
      },
      "source": [
        "#running the corrected script\n",
        "!mysql dw -udwid -ppw --table < pm_monthly_product_performer.sql"
      ],
      "execution_count": null,
      "outputs": [
        {
          "output_type": "stream",
          "text": [
            "mysql: [Warning] Using a password on the command line interface can be insecure.\n",
            "+------------+------+--------------+-------------------+----------+\n",
            "| month_name | year | product_name | SUM(order_amount) | COUNT(*) |\n",
            "+------------+------+--------------+-------------------+----------+\n",
            "| November   | 2005 | LCD Panel    |          75000.00 |        2 |\n",
            "+------------+------+--------------+-------------------+----------+\n"
          ],
          "name": "stdout"
        }
      ]
    },
    {
      "cell_type": "markdown",
      "metadata": {
        "id": "EW_5vS_8Benv"
      },
      "source": [
        "sample forms https://colab.research.google.com/notebooks/forms.ipynb"
      ]
    },
    {
      "cell_type": "code",
      "metadata": {
        "id": "IC9i7zfj-yIp",
        "colab": {
          "base_uri": "https://localhost:8080/"
        },
        "outputId": "706e7a47-e9e6-4aa9-c082-a0f7d0184b54"
      },
      "source": [
        "!mysql dw -udwid -ppw --table < scripts/loyal_customer.sql"
      ],
      "execution_count": null,
      "outputs": [
        {
          "output_type": "stream",
          "text": [
            "mysql: [Warning] Using a password on the command line interface can be insecure.\n",
            "+-----------------+------+----------+\n",
            "| customer_number | year | COUNT(*) |\n",
            "+-----------------+------+----------+\n",
            "|               1 | 2005 |        4 |\n",
            "+-----------------+------+----------+\n"
          ],
          "name": "stdout"
        }
      ]
    },
    {
      "cell_type": "markdown",
      "metadata": {
        "id": "wa5R9CaD1t2a"
      },
      "source": [
        "#Chronobooks <br>\n",
        "![alt text](https://1.bp.blogspot.com/-lTiYBkU2qbU/X1er__fvnkI/AAAAAAAAjtE/GhDR3OEGJr4NG43fZPodrQD5kbxtnKebgCLcBGAsYHQ/s600/Footer2020-600x200.png)<hr>\n",
        "Chronotantra and Chronoyantra are two science fiction novels that explore the collapse of human civilisation on Earth and then its rebirth and reincarnation both on Earth as well as on the distant worlds of Mars, Titan and Enceladus. But is it the human civilisation that is being reborn? Or is it some other sentience that is revealing itself. \n",
        "If you have an interest in AI and found this material useful, you may consider buying these novel, in paperback or kindle, from [http://bit.ly/chronobooks](http://bit.ly/chronobooks)"
      ]
    }
  ]
}