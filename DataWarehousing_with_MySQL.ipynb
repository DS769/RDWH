{
  "nbformat": 4,
  "nbformat_minor": 0,
  "metadata": {
    "colab": {
      "name": "DataWarehousing with MySQL",
      "provenance": [],
      "collapsed_sections": [],
      "include_colab_link": true
    },
    "kernelspec": {
      "name": "python3",
      "display_name": "Python 3"
    }
  },
  "cells": [
    {
      "cell_type": "markdown",
      "metadata": {
        "id": "view-in-github",
        "colab_type": "text"
      },
      "source": [
        "<a href=\"https://colab.research.google.com/github/Praxis-QR/RDWH/blob/main/DataWarehousing_with_MySQL.ipynb\" target=\"_parent\"><img src=\"https://colab.research.google.com/assets/colab-badge.svg\" alt=\"Open In Colab\"/></a>"
      ]
    },
    {
      "cell_type": "markdown",
      "metadata": {
        "id": "JLS_gJa1nzro"
      },
      "source": [
        "![CC-BY-SA](https://licensebuttons.net/l/by-sa/3.0/88x31.png)<br>\n",
        "<hr>\n",
        "\n",
        "![alt text](http://1.bp.blogspot.com/-nqAGzznZQNo/UwS8rxjfXeI/AAAAAAAABTA/nunmRLowpps/s1600/PraxisLogo.gif)<br>\n",
        "[Data Science Program](http://praxis.ac.in/Programs/business-analytics/)\n",
        "\n",
        "<hr>\n",
        "\n",
        "[Prithwis Mukerjee](http://www.yantrajaal.com)<br>"
      ]
    },
    {
      "cell_type": "markdown",
      "metadata": {
        "id": "8rtzja3Fbppg"
      },
      "source": [
        "#Datawarehousing with MySQL <br>\n",
        "\n",
        "<br>\n",
        "based on the codes available with the book Dimensional Datawarehousing with MySQL https://brainysoftware.com/9780975212820   [archive](https://drive.google.com/open?id=1BeIC5uEMGu85PADHRN-Zpn3lmZ3ihrkE)"
      ]
    },
    {
      "cell_type": "markdown",
      "metadata": {
        "id": "aGzVf5TLov-E"
      },
      "source": [
        "# Install MySQL"
      ]
    },
    {
      "cell_type": "code",
      "metadata": {
        "id": "Xi1BqQUKpu13",
        "colab": {
          "base_uri": "https://localhost:8080/"
        },
        "outputId": "85ab06e4-cefc-407b-d72a-9e08d1398277"
      },
      "source": [
        "!apt -y install mysql-server > /dev/null"
      ],
      "execution_count": 1,
      "outputs": [
        {
          "output_type": "stream",
          "name": "stdout",
          "text": [
            "\n",
            "WARNING: apt does not have a stable CLI interface. Use with caution in scripts.\n",
            "\n"
          ]
        }
      ]
    },
    {
      "cell_type": "code",
      "metadata": {
        "id": "ahWDdbMFqSqv",
        "colab": {
          "base_uri": "https://localhost:8080/"
        },
        "outputId": "4bc5c82c-ba6b-4d3b-e4ae-ea2727848d6b"
      },
      "source": [
        "!/etc/init.d/mysql restart"
      ],
      "execution_count": 2,
      "outputs": [
        {
          "output_type": "stream",
          "name": "stdout",
          "text": [
            " * Stopping MySQL database server mysqld\n",
            "   ...done.\n",
            " * Starting MySQL database server mysqld\n",
            "No directory, logging in with HOME=/\n",
            "   ...done.\n"
          ]
        }
      ]
    },
    {
      "cell_type": "code",
      "metadata": {
        "id": "3cOvP5YGqZHN",
        "colab": {
          "base_uri": "https://localhost:8080/"
        },
        "outputId": "c435d903-df92-46ea-c0e6-bec1d3d0f2bd"
      },
      "source": [
        "!mysql -e 'show databases'"
      ],
      "execution_count": 3,
      "outputs": [
        {
          "output_type": "stream",
          "name": "stdout",
          "text": [
            "+--------------------+\n",
            "| Database           |\n",
            "+--------------------+\n",
            "| information_schema |\n",
            "| mysql              |\n",
            "| performance_schema |\n",
            "| sys                |\n",
            "+--------------------+\n"
          ]
        }
      ]
    },
    {
      "cell_type": "code",
      "metadata": {
        "id": "Pw0rAGprqtO9"
      },
      "source": [
        "#!mysql -e 'create database praxisDB'"
      ],
      "execution_count": null,
      "outputs": []
    },
    {
      "cell_type": "markdown",
      "metadata": {
        "id": "ZydiAiFhln01"
      },
      "source": [
        "# Get Code Files<br>\n",
        " "
      ]
    },
    {
      "cell_type": "code",
      "metadata": {
        "id": "gEFRmvclxduY",
        "colab": {
          "base_uri": "https://localhost:8080/"
        },
        "outputId": "3b90673c-8dc5-4e69-8c91-dcd280fba112"
      },
      "source": [
        "#!wget https://brainysoftware.com/source/9780975212820.zip\n",
        "#https://drive.google.com/open?id=1qaiPXbxtIivCbBLmWiYvHMKAjAmNn2Y0\n",
        "#!gdown https://drive.google.com/uc?id=1qaiPXbxtIivCbBLmWiYvHMKAjAmNn2Y0\n",
        "!wget -O dwCode.zip https://github.com/Praxis-QR/RDWH/blob/main/dwMySQL/dwCode.zip?raw=true"
      ],
      "execution_count": 5,
      "outputs": [
        {
          "output_type": "stream",
          "name": "stdout",
          "text": [
            "--2021-09-30 01:03:32--  https://github.com/Praxis-QR/RDWH/blob/main/dwMySQL/dwCode.zip?raw=true\n",
            "Resolving github.com (github.com)... 140.82.113.3\n",
            "Connecting to github.com (github.com)|140.82.113.3|:443... connected.\n",
            "HTTP request sent, awaiting response... 302 Found\n",
            "Location: https://github.com/Praxis-QR/RDWH/raw/main/dwMySQL/dwCode.zip [following]\n",
            "--2021-09-30 01:03:32--  https://github.com/Praxis-QR/RDWH/raw/main/dwMySQL/dwCode.zip\n",
            "Reusing existing connection to github.com:443.\n",
            "HTTP request sent, awaiting response... 302 Found\n",
            "Location: https://raw.githubusercontent.com/Praxis-QR/RDWH/main/dwMySQL/dwCode.zip [following]\n",
            "--2021-09-30 01:03:32--  https://raw.githubusercontent.com/Praxis-QR/RDWH/main/dwMySQL/dwCode.zip\n",
            "Resolving raw.githubusercontent.com (raw.githubusercontent.com)... 185.199.108.133, 185.199.109.133, 185.199.110.133, ...\n",
            "Connecting to raw.githubusercontent.com (raw.githubusercontent.com)|185.199.108.133|:443... connected.\n",
            "HTTP request sent, awaiting response... 200 OK\n",
            "Length: 166447 (163K) [application/zip]\n",
            "Saving to: ‘dwCode.zip’\n",
            "\n",
            "\rdwCode.zip            0%[                    ]       0  --.-KB/s               \rdwCode.zip          100%[===================>] 162.55K  --.-KB/s    in 0.002s  \n",
            "\n",
            "2021-09-30 01:03:32 (88.1 MB/s) - ‘dwCode.zip’ saved [166447/166447]\n",
            "\n"
          ]
        }
      ]
    },
    {
      "cell_type": "code",
      "metadata": {
        "id": "7ym7BMikxl-B",
        "colab": {
          "base_uri": "https://localhost:8080/"
        },
        "outputId": "a3317ee4-e1a6-419f-c394-7ec30d104472"
      },
      "source": [
        "#!unzip 9780975212820.zip\n",
        "!unzip dwCode.zip"
      ],
      "execution_count": 6,
      "outputs": [
        {
          "output_type": "stream",
          "name": "stdout",
          "text": [
            "Archive:  dwCode.zip\n",
            "   creating: scripts/\n",
            "  inflating: scripts/across_all_dimensions.sql  \n",
            "  inflating: scripts/across_date.sql  \n",
            "  inflating: scripts/across_date_customer.sql  \n",
            "  inflating: scripts/across_date_product.sql  \n",
            "  inflating: scripts/additive_data.sql  \n",
            "  inflating: scripts/add_campaign_session.sql  \n",
            "  inflating: scripts/add_four_milestones.sql  \n",
            "  inflating: scripts/add_sales_order_quantity.sql  \n",
            "  inflating: scripts/add_two_sales_orders.sql  \n",
            "  inflating: scripts/annual_aggregation.sql  \n",
            "  inflating: scripts/annual_tables.sql  \n",
            "  inflating: scripts/balance_across_months.sql  \n",
            "  inflating: scripts/balance_across_products.sql  \n",
            "  inflating: scripts/band_dim.sql    \n",
            "  inflating: scripts/band_ini.sql    \n",
            "  inflating: scripts/band_regular.sql  \n",
            "  inflating: scripts/campaign_session.sql  \n",
            "  inflating: scripts/campaign_session_20.sql  \n",
            "  inflating: scripts/campaign_session_21.sql  \n",
            "  inflating: scripts/campaign_session_path.sql  \n",
            "  inflating: scripts/campaign_stg_20.sql  \n",
            "  inflating: scripts/campaign_stg_21.sql  \n",
            "  inflating: scripts/confirm_initial_population.sql  \n",
            "  inflating: scripts/create_campaign_stg.sql  \n",
            "  inflating: scripts/create_customer_stg.sql  \n",
            "  inflating: scripts/create_databases.sql  \n",
            "  inflating: scripts/create_dw_tables.sql  \n",
            "  inflating: scripts/create_four_date_views.sql  \n",
            "  inflating: scripts/create_month_end_sales_order_fact.sql  \n",
            "  inflating: scripts/create_product_stg.sql  \n",
            "  inflating: scripts/create_promo_schedule_stg.sql  \n",
            "  inflating: scripts/create_sales_order.sql  \n",
            "  inflating: scripts/create_user_id.sql  \n",
            "  inflating: scripts/customer_sk.sql  \n",
            "  inflating: scripts/daily_aggregation.sql  \n",
            "  inflating: scripts/daily_date.sql  \n",
            "  inflating: scripts/daily_production.sql  \n",
            "  inflating: scripts/daily_production_23.sql  \n",
            "  inflating: scripts/daily_production_data.sql  \n",
            "  inflating: scripts/database_view.sql  \n",
            "  inflating: scripts/date_views.sql  \n",
            "  inflating: scripts/date_view_22.sql  \n",
            "  inflating: scripts/degenerate.sql  \n",
            "  inflating: scripts/dimensional_query_data.sql  \n",
            "  inflating: scripts/drilling.sql    \n",
            "  inflating: scripts/dw_initial.sql  \n",
            "  inflating: scripts/dw_regular.sql  \n",
            "  inflating: scripts/dw_regular_10.sql  \n",
            "  inflating: scripts/dw_regular_11.sql  \n",
            "  inflating: scripts/dw_regular_12.sql  \n",
            "  inflating: scripts/dw_regular_13.sql  \n",
            "  inflating: scripts/dw_regular_14.sql  \n",
            "  inflating: scripts/dw_regular_17.sql  \n",
            "  inflating: scripts/dw_regular_18.sql  \n",
            "  inflating: scripts/dw_regular_21.sql  \n",
            "  inflating: scripts/dw_regular_22.sql  \n",
            "  inflating: scripts/dw_regular_23.sql  \n",
            "  inflating: scripts/entry_date.sql  \n",
            "  inflating: scripts/factory_ini.sql  \n",
            "  inflating: scripts/factory_master.sql  \n",
            "  inflating: scripts/factory_master_source.sql  \n",
            "  inflating: scripts/factory_stg.sql  \n",
            "  inflating: scripts/fill_help_tables.sql  \n",
            "  inflating: scripts/filtered_month_end_sales_order_fact.sql  \n",
            "  inflating: scripts/grouping.sql    \n",
            "  inflating: scripts/jan_month_end_balance_regular.sql  \n",
            "  inflating: scripts/junk_dim.sql    \n",
            "  inflating: scripts/load_product_stg.sql  \n",
            "  inflating: scripts/loyal_customer.sql  \n",
            "  inflating: scripts/monthly_product_performer.sql  \n",
            "  inflating: scripts/monthly_storage.sql  \n",
            "  inflating: scripts/month_end_balance_fact.sql  \n",
            "  inflating: scripts/month_end_balance_initial.sql  \n",
            "  inflating: scripts/month_end_balance_regular.sql  \n",
            "  inflating: scripts/month_end_sales_order.sql  \n",
            "  inflating: scripts/month_end_sales_order_22.sql  \n",
            "  inflating: scripts/month_rollup_dim.sql  \n",
            "  inflating: scripts/more_customer_sk.sql  \n",
            "  inflating: scripts/more_sales_order.sql  \n",
            "  inflating: scripts/mysql_fix_privilege_tables.sql  \n",
            "  inflating: scripts/new_customer_credit_check.sql  \n",
            "  inflating: scripts/non_pa_customer.sql  \n",
            "  inflating: scripts/nullify_campaign_session.sql  \n",
            "  inflating: scripts/on_demand.sql   \n",
            "  inflating: scripts/order_quantity.sql  \n",
            "  inflating: scripts/order_status.sql  \n",
            "  inflating: scripts/pa_customer.sql  \n",
            "  inflating: scripts/pre_populate_date.sql  \n",
            "  inflating: scripts/pre_populate_date_12.sql  \n",
            "  inflating: scripts/pre_populate_date_13.sql  \n",
            "  inflating: scripts/production_fact_23.sql  \n",
            "  inflating: scripts/production_regular.sql  \n",
            "  inflating: scripts/production_regular_23.sql  \n",
            "  inflating: scripts/product_count.sql  \n",
            "  inflating: scripts/product_count_ini.sql  \n",
            "  inflating: scripts/product_launch_date_dim.sql  \n",
            "  inflating: scripts/promotion_indicator.sql  \n",
            "  inflating: scripts/push_data.sql   \n",
            "  inflating: scripts/push_sales_order.sql  \n",
            "  inflating: scripts/quarterly_mechanicsburg.sql  \n",
            "  inflating: scripts/quarter_path.sql  \n",
            "  inflating: scripts/ragged_campaign.sql  \n",
            "  inflating: scripts/readme 1st      \n",
            "  inflating: scripts/readme 1st for scripts.txt  \n",
            "  inflating: scripts/remove_campaign.sql  \n",
            "  inflating: scripts/request_delivery_date.sql  \n",
            "  inflating: scripts/request_delivery_date_sk.sql  \n",
            "  inflating: scripts/request_delivery_date_source.sql  \n",
            "  inflating: scripts/sales_orders_24_ini.sql  \n",
            "  inflating: scripts/sales_orders_24_reg.sql  \n",
            "  inflating: scripts/sales_orders_step3.sql  \n",
            "  inflating: scripts/sales_orders_step5.sql  \n",
            "  inflating: scripts/sales_order_17.sql  \n",
            "  inflating: scripts/sales_order_18.sql  \n",
            "  inflating: scripts/sales_order_22.sql  \n",
            "  inflating: scripts/sales_order_23.sql  \n",
            "  inflating: scripts/sales_order_attributes.sql  \n",
            "  inflating: scripts/sales_order_attribute_sk.sql  \n",
            "  inflating: scripts/sales_order_fact_23.sql  \n",
            "  inflating: scripts/sales_order_initial.sql  \n",
            "  inflating: scripts/sales_order_quantity_data.sql  \n",
            "  inflating: scripts/sales_order_regular.sql  \n",
            "  inflating: scripts/scd1.sql        \n",
            "  inflating: scripts/scd2.sql        \n",
            "  inflating: scripts/segmentation.sql  \n",
            "  inflating: scripts/shipping_address.sql  \n",
            "  inflating: scripts/source_date.sql  \n",
            "  inflating: scripts/special_dates.sql  \n",
            "  inflating: scripts/table_alias.sql  \n",
            "  inflating: scripts/third_star_tables.sql  \n",
            "  inflating: scripts/track_launch_expiry.sql  \n",
            "  inflating: scripts/truncate_tables.sql  \n",
            "  inflating: scripts/two_more_customers.sql  \n",
            "  inflating: scripts/zip_code_dim.sql  \n",
            "  inflating: scripts/zip_code_population.sql  \n",
            "  inflating: scripts/zip_code_stg.sql  \n",
            "   creating: source_data/\n",
            "  inflating: source_data/campaign_session.csv  \n",
            "  inflating: source_data/customer10.csv  \n",
            "  inflating: source_data/customer2.csv  \n",
            "  inflating: source_data/customer23.csv  \n",
            "  inflating: source_data/customer8.csv  \n",
            "  inflating: source_data/factory19.csv  \n",
            "  inflating: source_data/factory23.csv  \n",
            "  inflating: source_data/non_straight_campaign.csv  \n",
            "  inflating: source_data/product2-1.txt  \n",
            "  inflating: source_data/product2-2.txt  \n",
            "  inflating: source_data/product21.txt  \n",
            "  inflating: source_data/product8.txt  \n",
            "  inflating: source_data/promo_schedule.csv  \n",
            "  inflating: source_data/ragged_campaign.csv  \n",
            "  inflating: source_data/readme 1st for data.txt  \n",
            "  inflating: source_data/zip_code.csv  \n"
          ]
        }
      ]
    },
    {
      "cell_type": "code",
      "metadata": {
        "id": "vgVo8jh1ooJ7",
        "colab": {
          "base_uri": "https://localhost:8080/"
        },
        "outputId": "97c39a18-a4b3-43a1-ec0c-cbb308f46517"
      },
      "source": [
        "!ls"
      ],
      "execution_count": 7,
      "outputs": [
        {
          "output_type": "stream",
          "name": "stdout",
          "text": [
            "dwCode.zip  sample_data  scripts  source_data\n"
          ]
        }
      ]
    },
    {
      "cell_type": "markdown",
      "metadata": {
        "id": "oUxe4Cpi961m"
      },
      "source": [
        "# Initial Setup"
      ]
    },
    {
      "cell_type": "code",
      "metadata": {
        "id": "9wF-qimE-nsH",
        "colab": {
          "base_uri": "https://localhost:8080/"
        },
        "outputId": "602f5bf7-371d-4ce0-a3d0-c2ee3632d813"
      },
      "source": [
        "!ls scripts"
      ],
      "execution_count": 8,
      "outputs": [
        {
          "output_type": "stream",
          "name": "stdout",
          "text": [
            " across_all_dimensions.sql\t\t   loyal_customer.sql\n",
            " across_date_customer.sql\t\t   month_end_balance_fact.sql\n",
            " across_date_product.sql\t\t   month_end_balance_initial.sql\n",
            " across_date.sql\t\t\t   month_end_balance_regular.sql\n",
            " add_campaign_session.sql\t\t   month_end_sales_order_22.sql\n",
            " add_four_milestones.sql\t\t   month_end_sales_order.sql\n",
            " additive_data.sql\t\t\t   monthly_product_performer.sql\n",
            " add_sales_order_quantity.sql\t\t   monthly_storage.sql\n",
            " add_two_sales_orders.sql\t\t   month_rollup_dim.sql\n",
            " annual_aggregation.sql\t\t\t   more_customer_sk.sql\n",
            " annual_tables.sql\t\t\t   more_sales_order.sql\n",
            " balance_across_months.sql\t\t   mysql_fix_privilege_tables.sql\n",
            " balance_across_products.sql\t\t   new_customer_credit_check.sql\n",
            " band_dim.sql\t\t\t\t   non_pa_customer.sql\n",
            " band_ini.sql\t\t\t\t   nullify_campaign_session.sql\n",
            " band_regular.sql\t\t\t   on_demand.sql\n",
            " campaign_session_20.sql\t\t   order_quantity.sql\n",
            " campaign_session_21.sql\t\t   order_status.sql\n",
            " campaign_session_path.sql\t\t   pa_customer.sql\n",
            " campaign_session.sql\t\t\t   pre_populate_date_12.sql\n",
            " campaign_stg_20.sql\t\t\t   pre_populate_date_13.sql\n",
            " campaign_stg_21.sql\t\t\t   pre_populate_date.sql\n",
            " confirm_initial_population.sql\t\t   product_count_ini.sql\n",
            " create_campaign_stg.sql\t\t   product_count.sql\n",
            " create_customer_stg.sql\t\t   production_fact_23.sql\n",
            " create_databases.sql\t\t\t   production_regular_23.sql\n",
            " create_dw_tables.sql\t\t\t   production_regular.sql\n",
            " create_four_date_views.sql\t\t   product_launch_date_dim.sql\n",
            " create_month_end_sales_order_fact.sql\t   promotion_indicator.sql\n",
            " create_product_stg.sql\t\t\t   push_data.sql\n",
            " create_promo_schedule_stg.sql\t\t   push_sales_order.sql\n",
            " create_sales_order.sql\t\t\t   quarterly_mechanicsburg.sql\n",
            " create_user_id.sql\t\t\t   quarter_path.sql\n",
            " customer_sk.sql\t\t\t   ragged_campaign.sql\n",
            " daily_aggregation.sql\t\t\t  'readme 1st'\n",
            " daily_date.sql\t\t\t\t  'readme 1st for scripts.txt'\n",
            " daily_production_23.sql\t\t   remove_campaign.sql\n",
            " daily_production_data.sql\t\t   request_delivery_date_sk.sql\n",
            " daily_production.sql\t\t\t   request_delivery_date_source.sql\n",
            " database_view.sql\t\t\t   request_delivery_date.sql\n",
            " date_view_22.sql\t\t\t   sales_order_17.sql\n",
            " date_views.sql\t\t\t\t   sales_order_18.sql\n",
            " degenerate.sql\t\t\t\t   sales_order_22.sql\n",
            " dimensional_query_data.sql\t\t   sales_order_23.sql\n",
            " drilling.sql\t\t\t\t   sales_order_attribute_sk.sql\n",
            " dw_initial.sql\t\t\t\t   sales_order_attributes.sql\n",
            " dw_regular_10.sql\t\t\t   sales_order_fact_23.sql\n",
            " dw_regular_11.sql\t\t\t   sales_order_initial.sql\n",
            " dw_regular_12.sql\t\t\t   sales_order_quantity_data.sql\n",
            " dw_regular_13.sql\t\t\t   sales_order_regular.sql\n",
            " dw_regular_14.sql\t\t\t   sales_orders_24_ini.sql\n",
            " dw_regular_17.sql\t\t\t   sales_orders_24_reg.sql\n",
            " dw_regular_18.sql\t\t\t   sales_orders_step3.sql\n",
            " dw_regular_21.sql\t\t\t   sales_orders_step5.sql\n",
            " dw_regular_22.sql\t\t\t   scd1.sql\n",
            " dw_regular_23.sql\t\t\t   scd2.sql\n",
            " dw_regular.sql\t\t\t\t   segmentation.sql\n",
            " entry_date.sql\t\t\t\t   shipping_address.sql\n",
            " factory_ini.sql\t\t\t   source_date.sql\n",
            " factory_master_source.sql\t\t   special_dates.sql\n",
            " factory_master.sql\t\t\t   table_alias.sql\n",
            " factory_stg.sql\t\t\t   third_star_tables.sql\n",
            " fill_help_tables.sql\t\t\t   track_launch_expiry.sql\n",
            " filtered_month_end_sales_order_fact.sql   truncate_tables.sql\n",
            " grouping.sql\t\t\t\t   two_more_customers.sql\n",
            " jan_month_end_balance_regular.sql\t   zip_code_dim.sql\n",
            " junk_dim.sql\t\t\t\t   zip_code_population.sql\n",
            " load_product_stg.sql\t\t\t   zip_code_stg.sql\n"
          ]
        }
      ]
    },
    {
      "cell_type": "code",
      "metadata": {
        "id": "1hw-D-OG-JHf"
      },
      "source": [
        "#Create userid\n",
        "#\n",
        "!mysql < scripts/create_user_id.sql"
      ],
      "execution_count": 9,
      "outputs": []
    },
    {
      "cell_type": "code",
      "metadata": {
        "id": "LsNwUB5miztZ",
        "colab": {
          "base_uri": "https://localhost:8080/",
          "height": 187
        },
        "outputId": "ae360ed5-c0e8-4e7d-9a01-9cb97343d339"
      },
      "source": [
        "#see the script that created the userid\n",
        "#\n",
        "!cat scripts/create_user_id.sql"
      ],
      "execution_count": null,
      "outputs": [
        {
          "output_type": "stream",
          "text": [
            "/*********************************************************************/\r\n",
            "/*                                                                   */\r\n",
            "/* create_user_id.sql                                                */\r\n",
            "/*                                                                   */\r\n",
            "/*********************************************************************/\r\n",
            "\r\n",
            "GRANT ALL ON *.* TO dwid@localhost IDENTIFIED BY 'pw'\r\n",
            ";\r\n",
            "\r\n",
            "/* end of script                                                     */\r\n"
          ],
          "name": "stdout"
        }
      ]
    },
    {
      "cell_type": "code",
      "metadata": {
        "id": "TVzIIAHf_Bcf",
        "colab": {
          "base_uri": "https://localhost:8080/"
        },
        "outputId": "1e47e6b5-cb81-4472-babe-fd4d7a0c47e3"
      },
      "source": [
        "# see the privileges given to dw\n",
        "#\n",
        "!mysql -e \"show grants for dwid@localhost\""
      ],
      "execution_count": 10,
      "outputs": [
        {
          "output_type": "stream",
          "name": "stdout",
          "text": [
            "+---------------------------------------------------+\n",
            "| Grants for dwid@localhost                         |\n",
            "+---------------------------------------------------+\n",
            "| GRANT ALL PRIVILEGES ON *.* TO 'dwid'@'localhost' |\n",
            "+---------------------------------------------------+\n"
          ]
        }
      ]
    },
    {
      "cell_type": "code",
      "metadata": {
        "id": "wVNL2O9A_i13",
        "colab": {
          "base_uri": "https://localhost:8080/"
        },
        "outputId": "9fb932fc-7e10-4942-b07d-8433ae1f9614"
      },
      "source": [
        "#Create databases\n",
        "#\n",
        "!mysql -udwid -ppw < scripts/create_databases.sql"
      ],
      "execution_count": 13,
      "outputs": [
        {
          "output_type": "stream",
          "name": "stdout",
          "text": [
            "mysql: [Warning] Using a password on the command line interface can be insecure.\n"
          ]
        }
      ]
    },
    {
      "cell_type": "code",
      "metadata": {
        "id": "NsD-xBx4jkt2",
        "colab": {
          "base_uri": "https://localhost:8080/"
        },
        "outputId": "7f2ed696-d4a3-4b66-ba89-3cda1328098b"
      },
      "source": [
        "# see what the script had\n",
        "#\n",
        "!cat scripts/create_databases.sql"
      ],
      "execution_count": 11,
      "outputs": [
        {
          "output_type": "stream",
          "name": "stdout",
          "text": [
            "/*********************************************************************/\r\n",
            "/*                                                                   */\r\n",
            "/* create_databases.sql                                              */                  \r\n",
            "/*                                                                   */\r\n",
            "/*********************************************************************/\r\n",
            "\r\n",
            "CREATE DATABASE dw\r\n",
            ";\r\n",
            "\r\n",
            "CREATE DATABASE source\r\n",
            ";\r\n",
            "\r\n",
            "/* end of script                                                     */\r\n"
          ]
        }
      ]
    },
    {
      "cell_type": "code",
      "metadata": {
        "id": "_UI3ltkN_yfD",
        "colab": {
          "base_uri": "https://localhost:8080/"
        },
        "outputId": "2ba7769f-1478-4422-c711-b871bc1813b5"
      },
      "source": [
        "!mysql -e \"show databases\""
      ],
      "execution_count": 14,
      "outputs": [
        {
          "output_type": "stream",
          "name": "stdout",
          "text": [
            "+--------------------+\n",
            "| Database           |\n",
            "+--------------------+\n",
            "| information_schema |\n",
            "| dw                 |\n",
            "| mysql              |\n",
            "| performance_schema |\n",
            "| source             |\n",
            "| sys                |\n",
            "+--------------------+\n"
          ]
        }
      ]
    },
    {
      "cell_type": "code",
      "metadata": {
        "id": "ArdGnyZLAEFa",
        "colab": {
          "base_uri": "https://localhost:8080/"
        },
        "outputId": "598ee17f-38f5-412d-aec7-a22e82001380"
      },
      "source": [
        "#create the various tables\n",
        "# one fact table and three dimension tables\n",
        "#\n",
        "!mysql -udwid -ppw < scripts/create_dw_tables.sql"
      ],
      "execution_count": 15,
      "outputs": [
        {
          "output_type": "stream",
          "name": "stdout",
          "text": [
            "mysql: [Warning] Using a password on the command line interface can be insecure.\n"
          ]
        }
      ]
    },
    {
      "cell_type": "code",
      "metadata": {
        "id": "RGehlvJGj2ne",
        "colab": {
          "base_uri": "https://localhost:8080/"
        },
        "outputId": "522bf406-027b-4093-bcfa-47612ec77a60"
      },
      "source": [
        "!cat scripts/create_dw_tables.sql"
      ],
      "execution_count": 16,
      "outputs": [
        {
          "output_type": "stream",
          "name": "stdout",
          "text": [
            "/*********************************************************************/\r\n",
            "/*                                                                   */\r\n",
            "/* create_dw_tables.sql                                              */\r\n",
            "/*                                                                   */\r\n",
            "/*********************************************************************/\r\n",
            "\r\n",
            "/* default to dw database                                            */\r\n",
            "\r\n",
            "USE dw;\r\n",
            "\r\n",
            "/* creating customer_dim table                                       */\r\n",
            "\r\n",
            "CREATE TABLE customer_dim \r\n",
            "( customer_sk INT NOT NULL AUTO_INCREMENT PRIMARY KEY\r\n",
            ", customer_number INT\r\n",
            ", customer_name CHAR(50)\r\n",
            ", customer_street_address CHAR(50)\r\n",
            ", customer_zip_code INT(5)\r\n",
            ", customer_city CHAR(30)\r\n",
            ", customer_state CHAR(2)\r\n",
            ", effective_date DATE\r\n",
            ", expiry_date DATE )\r\n",
            ";\r\n",
            "\r\n",
            "/* creating product_dim table                                                */\r\n",
            "\r\n",
            "CREATE TABLE product_dim \r\n",
            "( product_sk INT NOT NULL AUTO_INCREMENT PRIMARY KEY\r\n",
            ", product_code INT\r\n",
            ", product_name CHAR(30)\r\n",
            ", product_category CHAR(30)\r\n",
            ", effective_date DATE\r\n",
            ", expiry_date DATE )\r\n",
            ";\r\n",
            "\r\n",
            "/* creating order_dim table                                          */\r\n",
            "\r\n",
            "CREATE TABLE order_dim \r\n",
            "( order_sk INT NOT NULL AUTO_INCREMENT PRIMARY KEY\r\n",
            ", order_number INT\r\n",
            ", effective_date DATE\r\n",
            ", expiry_date DATE )\r\n",
            ";\r\n",
            "\r\n",
            "/* creating date_dim table                                           */\r\n",
            "\r\n",
            "CREATE TABLE date_dim \r\n",
            "( date_sk INT NOT NULL AUTO_INCREMENT PRIMARY KEY\r\n",
            ", date DATE\r\n",
            ", month_name CHAR(9)\r\n",
            ", month INT(1)\r\n",
            ", quarter INT(1)\r\n",
            ", year INT(4)\r\n",
            ", effective_date DATE\r\n",
            ", expiry_date DATE )\r\n",
            ";\r\n",
            "\r\n",
            "/* creating sales_order_fact_table                                   */\r\n",
            "\r\n",
            "CREATE TABLE sales_order_fact \r\n",
            "( order_sk INT \r\n",
            ", customer_sk INT \r\n",
            ", product_sk INT\r\n",
            ", order_date_sk INT\r\n",
            ", order_amount DECIMAL(10,2) ) \r\n",
            ";\r\n",
            "\r\n",
            "/* end of script                                                     */\r\n"
          ]
        }
      ]
    },
    {
      "cell_type": "code",
      "metadata": {
        "id": "mtAT9dk1AYCP",
        "colab": {
          "base_uri": "https://localhost:8080/"
        },
        "outputId": "d5349dc5-db0b-47fe-a362-6078a5f0804b"
      },
      "source": [
        "!mysql dw -e \"show tables\""
      ],
      "execution_count": 17,
      "outputs": [
        {
          "output_type": "stream",
          "name": "stdout",
          "text": [
            "+------------------+\n",
            "| Tables_in_dw     |\n",
            "+------------------+\n",
            "| customer_dim     |\n",
            "| date_dim         |\n",
            "| order_dim        |\n",
            "| product_dim      |\n",
            "| sales_order_fact |\n",
            "+------------------+\n"
          ]
        }
      ]
    },
    {
      "cell_type": "code",
      "metadata": {
        "id": "q3rxHRQjAsb9",
        "colab": {
          "base_uri": "https://localhost:8080/"
        },
        "outputId": "860524d0-d328-4bca-aef2-41e12e31fe14"
      },
      "source": [
        "!mysql dw -e \"desc customer_dim\""
      ],
      "execution_count": 18,
      "outputs": [
        {
          "output_type": "stream",
          "name": "stdout",
          "text": [
            "+-------------------------+----------+------+-----+---------+----------------+\n",
            "| Field                   | Type     | Null | Key | Default | Extra          |\n",
            "+-------------------------+----------+------+-----+---------+----------------+\n",
            "| customer_sk             | int(11)  | NO   | PRI | NULL    | auto_increment |\n",
            "| customer_number         | int(11)  | YES  |     | NULL    |                |\n",
            "| customer_name           | char(50) | YES  |     | NULL    |                |\n",
            "| customer_street_address | char(50) | YES  |     | NULL    |                |\n",
            "| customer_zip_code       | int(5)   | YES  |     | NULL    |                |\n",
            "| customer_city           | char(30) | YES  |     | NULL    |                |\n",
            "| customer_state          | char(2)  | YES  |     | NULL    |                |\n",
            "| effective_date          | date     | YES  |     | NULL    |                |\n",
            "| expiry_date             | date     | YES  |     | NULL    |                |\n",
            "+-------------------------+----------+------+-----+---------+----------------+\n"
          ]
        }
      ]
    },
    {
      "cell_type": "code",
      "metadata": {
        "id": "pYOVsVil14g9",
        "colab": {
          "base_uri": "https://localhost:8080/"
        },
        "outputId": "74a475c1-cb62-4c22-e473-b488e46a8683"
      },
      "source": [
        "!mysql dw -e \"desc product_dim\""
      ],
      "execution_count": 19,
      "outputs": [
        {
          "output_type": "stream",
          "name": "stdout",
          "text": [
            "+------------------+----------+------+-----+---------+----------------+\n",
            "| Field            | Type     | Null | Key | Default | Extra          |\n",
            "+------------------+----------+------+-----+---------+----------------+\n",
            "| product_sk       | int(11)  | NO   | PRI | NULL    | auto_increment |\n",
            "| product_code     | int(11)  | YES  |     | NULL    |                |\n",
            "| product_name     | char(30) | YES  |     | NULL    |                |\n",
            "| product_category | char(30) | YES  |     | NULL    |                |\n",
            "| effective_date   | date     | YES  |     | NULL    |                |\n",
            "| expiry_date      | date     | YES  |     | NULL    |                |\n",
            "+------------------+----------+------+-----+---------+----------------+\n"
          ]
        }
      ]
    },
    {
      "cell_type": "code",
      "metadata": {
        "id": "Mj7gHYY-KXX-",
        "colab": {
          "base_uri": "https://localhost:8080/"
        },
        "outputId": "dd82adee-a406-4333-ca08-75c39ae03816"
      },
      "source": [
        "!mysql dw -e \"desc order_dim\""
      ],
      "execution_count": null,
      "outputs": [
        {
          "output_type": "stream",
          "text": [
            "+----------------+---------+------+-----+---------+----------------+\n",
            "| Field          | Type    | Null | Key | Default | Extra          |\n",
            "+----------------+---------+------+-----+---------+----------------+\n",
            "| order_sk       | int(11) | NO   | PRI | NULL    | auto_increment |\n",
            "| order_number   | int(11) | YES  |     | NULL    |                |\n",
            "| effective_date | date    | YES  |     | NULL    |                |\n",
            "| expiry_date    | date    | YES  |     | NULL    |                |\n",
            "+----------------+---------+------+-----+---------+----------------+\n"
          ],
          "name": "stdout"
        }
      ]
    },
    {
      "cell_type": "code",
      "metadata": {
        "id": "z9PCklcv-ElD",
        "colab": {
          "base_uri": "https://localhost:8080/"
        },
        "outputId": "b9a47d2d-b328-440f-f5af-ed9fba44f063"
      },
      "source": [
        "!date"
      ],
      "execution_count": 20,
      "outputs": [
        {
          "output_type": "stream",
          "name": "stdout",
          "text": [
            "Thu Sep 30 01:10:34 UTC 2021\n"
          ]
        }
      ]
    },
    {
      "cell_type": "code",
      "metadata": {
        "id": "Tcz05KxpBRGa",
        "colab": {
          "base_uri": "https://localhost:8080/"
        },
        "outputId": "6670617b-6f58-46b0-b8df-c8b9f90ccf66"
      },
      "source": [
        "#this action cannot be performed except on a local machine \n",
        "!sudo date +%Y%m%d -s \"20070201\""
      ],
      "execution_count": null,
      "outputs": [
        {
          "output_type": "stream",
          "text": [
            "date: cannot set date: Operation not permitted\n",
            "20070201\n"
          ],
          "name": "stdout"
        }
      ]
    },
    {
      "cell_type": "code",
      "metadata": {
        "id": "amTYmZFaC6sM",
        "colab": {
          "base_uri": "https://localhost:8080/"
        },
        "outputId": "fa673d19-f4b6-47e4-8101-66f9206db2e2"
      },
      "source": [
        "!mysql -udwid -ppw < scripts/customer_sk.sql"
      ],
      "execution_count": null,
      "outputs": [
        {
          "output_type": "stream",
          "text": [
            "mysql: [Warning] Using a password on the command line interface can be insecure.\n"
          ],
          "name": "stdout"
        }
      ]
    },
    {
      "cell_type": "code",
      "metadata": {
        "id": "syuBonCUDbN-",
        "colab": {
          "base_uri": "https://localhost:8080/"
        },
        "outputId": "e965a44d-2641-432a-87b7-25ef44449173"
      },
      "source": [
        "!mysql -udwid -ppw < scripts/more_customer_sk.sql"
      ],
      "execution_count": null,
      "outputs": [
        {
          "output_type": "stream",
          "text": [
            "mysql: [Warning] Using a password on the command line interface can be insecure.\n"
          ],
          "name": "stdout"
        }
      ]
    },
    {
      "cell_type": "code",
      "metadata": {
        "id": "igkqjfYrDxwr",
        "colab": {
          "base_uri": "https://localhost:8080/"
        },
        "outputId": "127a555c-3a36-4ee0-a021-6bb631ad3e93"
      },
      "source": [
        "!mysql dw -e \"select * from customer_dim\"\n",
        "# note we could not set the date to an earlier date by changing the computer time"
      ],
      "execution_count": null,
      "outputs": [
        {
          "output_type": "stream",
          "text": [
            "+-------------+-----------------+------------------+-------------------------+-------------------+---------------+----------------+----------------+-------------+\n",
            "| customer_sk | customer_number | customer_name    | customer_street_address | customer_zip_code | customer_city | customer_state | effective_date | expiry_date |\n",
            "+-------------+-----------------+------------------+-------------------------+-------------------+---------------+----------------+----------------+-------------+\n",
            "|           1 |               1 | Big Customers    | 7500 Louise Dr.         |             17050 | Mechanicsburg | PA             | 2021-04-06     | 9999-12-31  |\n",
            "|           2 |               2 | Small Stores     | 2500 Woodland St.       |             17055 | Pittsburgh    | PA             | 2021-04-06     | 9999-12-31  |\n",
            "|           3 |               3 | Medium Retailers | 1111 Ritter Rd.         |             17055 | Pittsburgh    | PA             | 2021-04-06     | 9999-12-31  |\n",
            "|           4 |               4 | Good Companies   | 9500 Scott St.          |             17050 | Mechanicsburg | PA             | 2021-04-06     | 9999-12-31  |\n",
            "|           5 |               5 | Wonderful Shops  | 3333 Rossmoyne Rd.      |             17050 | Mechanicsburg | PA             | 2021-04-06     | 9999-12-31  |\n",
            "|           6 |               6 | Loyal Clients    | 7070 Ritter Rd.         |             17055 | Pittsburgh    | PA             | 2021-04-06     | 9999-12-31  |\n",
            "+-------------+-----------------+------------------+-------------------------+-------------------+---------------+----------------+----------------+-------------+\n"
          ],
          "name": "stdout"
        }
      ]
    },
    {
      "cell_type": "code",
      "metadata": {
        "id": "DQaKzOu-EEs6"
      },
      "source": [
        "#since it was not possible to set the system date on Colab, the date was changed manually\n",
        "!mysql dw -e \"update customer_dim set effective_date = '2007-02-01' \""
      ],
      "execution_count": null,
      "outputs": []
    },
    {
      "cell_type": "code",
      "metadata": {
        "id": "DO3YQ9oJEvhC",
        "colab": {
          "base_uri": "https://localhost:8080/"
        },
        "outputId": "a76fcb44-0c07-4c5c-85cd-2c35da8debf1"
      },
      "source": [
        "!mysql dw -e \"select * from customer_dim\""
      ],
      "execution_count": null,
      "outputs": [
        {
          "output_type": "stream",
          "text": [
            "+-------------+-----------------+------------------+-------------------------+-------------------+---------------+----------------+----------------+-------------+\n",
            "| customer_sk | customer_number | customer_name    | customer_street_address | customer_zip_code | customer_city | customer_state | effective_date | expiry_date |\n",
            "+-------------+-----------------+------------------+-------------------------+-------------------+---------------+----------------+----------------+-------------+\n",
            "|           1 |               1 | Big Customers    | 7500 Louise Dr.         |             17050 | Mechanicsburg | PA             | 2007-02-01     | 9999-12-31  |\n",
            "|           2 |               2 | Small Stores     | 2500 Woodland St.       |             17055 | Pittsburgh    | PA             | 2007-02-01     | 9999-12-31  |\n",
            "|           3 |               3 | Medium Retailers | 1111 Ritter Rd.         |             17055 | Pittsburgh    | PA             | 2007-02-01     | 9999-12-31  |\n",
            "|           4 |               4 | Good Companies   | 9500 Scott St.          |             17050 | Mechanicsburg | PA             | 2007-02-01     | 9999-12-31  |\n",
            "|           5 |               5 | Wonderful Shops  | 3333 Rossmoyne Rd.      |             17050 | Mechanicsburg | PA             | 2007-02-01     | 9999-12-31  |\n",
            "|           6 |               6 | Loyal Clients    | 7070 Ritter Rd.         |             17055 | Pittsburgh    | PA             | 2007-02-01     | 9999-12-31  |\n",
            "+-------------+-----------------+------------------+-------------------------+-------------------+---------------+----------------+----------------+-------------+\n"
          ],
          "name": "stdout"
        }
      ]
    },
    {
      "cell_type": "markdown",
      "metadata": {
        "id": "C9HqxfHFM0vt"
      },
      "source": [
        "# Chap 2 - Slowly Changing Dimensions"
      ]
    },
    {
      "cell_type": "markdown",
      "metadata": {
        "id": "Arlp9nD8OoKJ"
      },
      "source": [
        "**SCD1**\n",
        "\n",
        "\n",
        "---\n",
        "\n",
        "\n",
        "\n",
        "\n",
        "\n"
      ]
    },
    {
      "cell_type": "code",
      "metadata": {
        "id": "SMRYMu8cNgqs",
        "colab": {
          "base_uri": "https://localhost:8080/"
        },
        "outputId": "d2583b50-db62-4d79-ec24-825f0c1acc88"
      },
      "source": [
        "!ls source_data"
      ],
      "execution_count": null,
      "outputs": [
        {
          "output_type": "stream",
          "text": [
            " campaign_session.csv   factory23.csv\t\t    promo_schedule.csv\n",
            " customer10.csv         non_straight_campaign.csv   ragged_campaign.csv\n",
            " customer23.csv         product2-1.txt\t\t   'readme 1st for data.txt'\n",
            " customer2.csv\t        product21.txt\t\t    zip_code.csv\n",
            " customer8.csv\t        product2-2.txt\n",
            " factory19.csv\t        product8.txt\n"
          ],
          "name": "stdout"
        }
      ]
    },
    {
      "cell_type": "code",
      "metadata": {
        "id": "3mrgEIsFOM2b",
        "colab": {
          "base_uri": "https://localhost:8080/"
        },
        "outputId": "25fa3e83-71bd-45d5-f644-68d3b4181e9d"
      },
      "source": [
        "!cat source_data/customer2.csv"
      ],
      "execution_count": null,
      "outputs": [
        {
          "output_type": "stream",
          "text": [
            "CUSTOMER NO,CUSTOMER NAME,STREET ADDRESS,ZIP CODE,CITY,STATE\r\n",
            "1,Really Large Customers,7500 Louise Dr.,17050,Mechanicsburg,PA\r\n",
            "2,Small Stores,2500 Woodland St.,17055,Pittsburgh,PA\r\n",
            "3,Medium Retailers,1111 Ritter Rd.,17055,Pittsburgh,PA\r\n",
            "4,Good Companies,9500 Scott St.,17050,Mechanicsburg,PA\r\n",
            "5,Wonderful Shops,3333 Rossmoyne Rd.,17050,Mechanicsburg,PA\r\n",
            "6,Loyal Clients,7070 Ritter Rd.,17055,Pittsburgh,PA\r\n",
            "7,Distinguished Partners,9999 Scott St.,17050,Mechanicsburg,PA"
          ],
          "name": "stdout"
        }
      ]
    },
    {
      "cell_type": "markdown",
      "metadata": {
        "id": "mW7iOnMPVNbt"
      },
      "source": [
        "the downloaded script cannot be used because the csv file name and directory is different from what is there in the script. hence two additional script files are dynamically created and used\n",
        "\n",
        "\n",
        "---\n",
        "\n"
      ]
    },
    {
      "cell_type": "code",
      "metadata": {
        "id": "fnV5aYX4O0xH",
        "colab": {
          "base_uri": "https://localhost:8080/"
        },
        "outputId": "7b72bd95-5f83-41ed-f849-d9af5878b470"
      },
      "source": [
        "%%writefile pm_create_customer_stg.sql\n",
        "/* default database to dw */\n",
        "USE dw;\n",
        "/* create customer_stg table */\n",
        "CREATE TABLE customer_stg\n",
        "(customer_number INT,\n",
        "customer_name CHAR (30),\n",
        "customer_street_address CHAR (30),\n",
        "customer_zip_code INT (5),\n",
        "customer_city CHAR (30),\n",
        "customer_state CHAR (2) )\n",
        ";\n",
        "/* clean up customer_stg table and load customer.csv */\n",
        "TRUNCATE customer_stg;"
      ],
      "execution_count": null,
      "outputs": [
        {
          "output_type": "stream",
          "text": [
            "Writing pm_create_customer_stg.sql\n"
          ],
          "name": "stdout"
        }
      ]
    },
    {
      "cell_type": "code",
      "metadata": {
        "id": "ivFQ-2rjPRpX",
        "colab": {
          "base_uri": "https://localhost:8080/"
        },
        "outputId": "45d83b6f-b5d4-4572-819d-92d020ecf4f2"
      },
      "source": [
        "!mysql -udwid -ppw --table < pm_create_customer_stg.sql"
      ],
      "execution_count": null,
      "outputs": [
        {
          "output_type": "stream",
          "text": [
            "mysql: [Warning] Using a password on the command line interface can be insecure.\n"
          ],
          "name": "stdout"
        }
      ]
    },
    {
      "cell_type": "code",
      "metadata": {
        "id": "jYqLgW67P9-l",
        "colab": {
          "base_uri": "https://localhost:8080/"
        },
        "outputId": "53f7ff24-a13b-4a45-ba77-5cc3c6e7ad85"
      },
      "source": [
        "!mysql dw -e \"desc customer_stg\""
      ],
      "execution_count": null,
      "outputs": [
        {
          "output_type": "stream",
          "text": [
            "+-------------------------+----------+------+-----+---------+-------+\n",
            "| Field                   | Type     | Null | Key | Default | Extra |\n",
            "+-------------------------+----------+------+-----+---------+-------+\n",
            "| customer_number         | int(11)  | YES  |     | NULL    |       |\n",
            "| customer_name           | char(30) | YES  |     | NULL    |       |\n",
            "| customer_street_address | char(30) | YES  |     | NULL    |       |\n",
            "| customer_zip_code       | int(5)   | YES  |     | NULL    |       |\n",
            "| customer_city           | char(30) | YES  |     | NULL    |       |\n",
            "| customer_state          | char(2)  | YES  |     | NULL    |       |\n",
            "+-------------------------+----------+------+-----+---------+-------+\n"
          ],
          "name": "stdout"
        }
      ]
    },
    {
      "cell_type": "code",
      "metadata": {
        "id": "kydpy5tLQNm9",
        "colab": {
          "base_uri": "https://localhost:8080/"
        },
        "outputId": "85ec34ae-f5fc-472c-aedc-fcc574458f73"
      },
      "source": [
        "%%writefile pm_load_customer_stg.sql\n",
        "/* default database to dw */\n",
        "USE dw;\n",
        "LOAD DATA LOCAL INFILE 'source_data/customer2.csv'\n",
        "INTO TABLE customer_stg\n",
        "FIELDS TERMINATED BY ','\n",
        "OPTIONALLY ENCLOSED BY \"\"\n",
        "LINES TERMINATED BY '\\r\\n'\n",
        "IGNORE 1 LINES\n",
        "( customer_number\n",
        ", customer_name\n",
        ", customer_street_address\n",
        ", customer_zip_code\n",
        ", customer_city\n",
        ", customer_state )\n",
        ";\n",
        "/* end of script */"
      ],
      "execution_count": null,
      "outputs": [
        {
          "output_type": "stream",
          "text": [
            "Writing pm_load_customer_stg.sql\n"
          ],
          "name": "stdout"
        }
      ]
    },
    {
      "cell_type": "code",
      "metadata": {
        "id": "s96mBkDIQumA",
        "colab": {
          "base_uri": "https://localhost:8080/"
        },
        "outputId": "93b15a12-13b3-4f2f-cddf-9884e8c8b2a8"
      },
      "source": [
        "!mysql -udwid -ppw --table < pm_load_customer_stg.sql"
      ],
      "execution_count": null,
      "outputs": [
        {
          "output_type": "stream",
          "text": [
            "mysql: [Warning] Using a password on the command line interface can be insecure.\n"
          ],
          "name": "stdout"
        }
      ]
    },
    {
      "cell_type": "code",
      "metadata": {
        "id": "WjE1Mk_MRrsu",
        "colab": {
          "base_uri": "https://localhost:8080/"
        },
        "outputId": "61625b6b-aa5e-40cf-9f98-cb7c63155497"
      },
      "source": [
        "!mysql dw -e \"select * from customer_stg\""
      ],
      "execution_count": null,
      "outputs": [
        {
          "output_type": "stream",
          "text": [
            "+-----------------+------------------------+-------------------------+-------------------+---------------+----------------+\n",
            "| customer_number | customer_name          | customer_street_address | customer_zip_code | customer_city | customer_state |\n",
            "+-----------------+------------------------+-------------------------+-------------------+---------------+----------------+\n",
            "|               1 | Really Large Customers | 7500 Louise Dr.         |             17050 | Mechanicsburg | PA             |\n",
            "|               2 | Small Stores           | 2500 Woodland St.       |             17055 | Pittsburgh    | PA             |\n",
            "|               3 | Medium Retailers       | 1111 Ritter Rd.         |             17055 | Pittsburgh    | PA             |\n",
            "|               4 | Good Companies         | 9500 Scott St.          |             17050 | Mechanicsburg | PA             |\n",
            "|               5 | Wonderful Shops        | 3333 Rossmoyne Rd.      |             17050 | Mechanicsburg | PA             |\n",
            "|               6 | Loyal Clients          | 7070 Ritter Rd.         |             17055 | Pittsburgh    | PA             |\n",
            "|               7 | Distinguished Partners | 9999 Scott St.          |             17050 | Mechanicsburg | PA             |\n",
            "+-----------------+------------------------+-------------------------+-------------------+---------------+----------------+\n"
          ],
          "name": "stdout"
        }
      ]
    },
    {
      "cell_type": "code",
      "metadata": {
        "id": "2f01EMFaUe3H",
        "colab": {
          "base_uri": "https://localhost:8080/"
        },
        "outputId": "7f4a4ac5-bb8d-4b60-e4fa-b4e8ff9c2d25"
      },
      "source": [
        "!mysql -udwid -ppw < scripts/scd1.sql"
      ],
      "execution_count": null,
      "outputs": [
        {
          "output_type": "stream",
          "text": [
            "mysql: [Warning] Using a password on the command line interface can be insecure.\n"
          ],
          "name": "stdout"
        }
      ]
    },
    {
      "cell_type": "code",
      "metadata": {
        "id": "Wtj_nD4yU-8c",
        "colab": {
          "base_uri": "https://localhost:8080/",
          "height": 224
        },
        "outputId": "6898efa2-4001-4030-ce64-7254a2645e8e"
      },
      "source": [
        "!mysql dw -e \"select * from customer_dim\""
      ],
      "execution_count": null,
      "outputs": [
        {
          "output_type": "stream",
          "text": [
            "+-------------+-----------------+------------------------+-------------------------+-------------------+---------------+----------------+----------------+-------------+\n",
            "| customer_sk | customer_number | customer_name          | customer_street_address | customer_zip_code | customer_city | customer_state | effective_date | expiry_date |\n",
            "+-------------+-----------------+------------------------+-------------------------+-------------------+---------------+----------------+----------------+-------------+\n",
            "|           1 |               1 | Really Large Customers | 7500 Louise Dr.         |             17050 | Mechanicsburg | PA             | 2007-02-01     | 9999-12-31  |\n",
            "|           2 |               2 | Small Stores           | 2500 Woodland St.       |             17055 | Pittsburgh    | PA             | 2007-02-01     | 9999-12-31  |\n",
            "|           3 |               3 | Medium Retailers       | 1111 Ritter Rd.         |             17055 | Pittsburgh    | PA             | 2007-02-01     | 9999-12-31  |\n",
            "|           4 |               4 | Good Companies         | 9500 Scott St.          |             17050 | Mechanicsburg | PA             | 2007-02-01     | 9999-12-31  |\n",
            "|           5 |               5 | Wonderful Shops        | 3333 Rossmoyne Rd.      |             17050 | Mechanicsburg | PA             | 2007-02-01     | 9999-12-31  |\n",
            "|           6 |               6 | Loyal Clients          | 7070 Ritter Rd.         |             17055 | Pittsburgh    | PA             | 2007-02-01     | 9999-12-31  |\n",
            "|           7 |               7 | Distinguished Partners | 9999 Scott St.          |             17050 | Mechanicsburg | PA             | 2020-03-25     | 9999-12-31  |\n",
            "+-------------+-----------------+------------------------+-------------------------+-------------------+---------------+----------------+----------------+-------------+\n"
          ],
          "name": "stdout"
        }
      ]
    },
    {
      "cell_type": "code",
      "metadata": {
        "id": "tFW4txiTV-Xb"
      },
      "source": [
        "#since it was not possible to set the system date on Colab, the date was changed manually\n",
        "!mysql dw -e \"update customer_dim set effective_date = '2007-02-02' where customer_number = 7 and customer_name = 'Distinguished Partners' \""
      ],
      "execution_count": null,
      "outputs": []
    },
    {
      "cell_type": "code",
      "metadata": {
        "id": "46WRVIzPWQM_",
        "colab": {
          "base_uri": "https://localhost:8080/"
        },
        "outputId": "f5cb417c-27e4-4fb8-d9c2-cde01507b9ec"
      },
      "source": [
        "!mysql dw -e \"select * from customer_dim\""
      ],
      "execution_count": null,
      "outputs": [
        {
          "output_type": "stream",
          "text": [
            "+-------------+-----------------+------------------------+-------------------------+-------------------+---------------+----------------+----------------+-------------+\n",
            "| customer_sk | customer_number | customer_name          | customer_street_address | customer_zip_code | customer_city | customer_state | effective_date | expiry_date |\n",
            "+-------------+-----------------+------------------------+-------------------------+-------------------+---------------+----------------+----------------+-------------+\n",
            "|           1 |               1 | Really Large Customers | 7500 Louise Dr.         |             17050 | Mechanicsburg | PA             | 2007-02-01     | 9999-12-31  |\n",
            "|           2 |               2 | Small Stores           | 2500 Woodland St.       |             17055 | Pittsburgh    | PA             | 2007-02-01     | 9999-12-31  |\n",
            "|           3 |               3 | Medium Retailers       | 1111 Ritter Rd.         |             17055 | Pittsburgh    | PA             | 2007-02-01     | 9999-12-31  |\n",
            "|           4 |               4 | Good Companies         | 9500 Scott St.          |             17050 | Mechanicsburg | PA             | 2007-02-01     | 9999-12-31  |\n",
            "|           5 |               5 | Wonderful Shops        | 3333 Rossmoyne Rd.      |             17050 | Mechanicsburg | PA             | 2007-02-01     | 9999-12-31  |\n",
            "|           6 |               6 | Loyal Clients          | 7070 Ritter Rd.         |             17055 | Pittsburgh    | PA             | 2007-02-01     | 9999-12-31  |\n",
            "|           7 |               7 | Distinguished Partners | 9999 Scott St.          |             17050 | Mechanicsburg | PA             | 2007-02-02     | 9999-12-31  |\n",
            "+-------------+-----------------+------------------------+-------------------------+-------------------+---------------+----------------+----------------+-------------+\n"
          ],
          "name": "stdout"
        }
      ]
    },
    {
      "cell_type": "markdown",
      "metadata": {
        "id": "vCqoHyo6emZN"
      },
      "source": [
        "**SCD2**\n",
        "\n",
        "\n",
        "---\n",
        "\n"
      ]
    },
    {
      "cell_type": "code",
      "metadata": {
        "id": "x0cplstmf-TI",
        "colab": {
          "base_uri": "https://localhost:8080/"
        },
        "outputId": "2d321ef0-6729-402a-ec9e-acdffdac98ea"
      },
      "source": [
        "!ls"
      ],
      "execution_count": null,
      "outputs": [
        {
          "output_type": "stream",
          "text": [
            "9780975212820.zip\t    pm_load_customer_stg.sql  scripts\n",
            "pm_create_customer_stg.sql  sample_data\t\t      source_data\n"
          ],
          "name": "stdout"
        }
      ]
    },
    {
      "cell_type": "code",
      "metadata": {
        "id": "8UdiV9dZesUa",
        "colab": {
          "base_uri": "https://localhost:8080/"
        },
        "outputId": "08f9b39b-2b9c-43db-d11b-7a4b14a0d6a0"
      },
      "source": [
        "!ls scripts"
      ],
      "execution_count": null,
      "outputs": [
        {
          "output_type": "stream",
          "text": [
            " across_all_dimensions.sql\t\t   loyal_customer.sql\n",
            " across_date_customer.sql\t\t   month_end_balance_fact.sql\n",
            " across_date_product.sql\t\t   month_end_balance_initial.sql\n",
            " across_date.sql\t\t\t   month_end_balance_regular.sql\n",
            " add_campaign_session.sql\t\t   month_end_sales_order_22.sql\n",
            " add_four_milestones.sql\t\t   month_end_sales_order.sql\n",
            " additive_data.sql\t\t\t   monthly_product_performer.sql\n",
            " add_sales_order_quantity.sql\t\t   monthly_storage.sql\n",
            " add_two_sales_orders.sql\t\t   month_rollup_dim.sql\n",
            " annual_aggregation.sql\t\t\t   more_customer_sk.sql\n",
            " annual_tables.sql\t\t\t   more_sales_order.sql\n",
            " balance_across_months.sql\t\t   mysql_fix_privilege_tables.sql\n",
            " balance_across_products.sql\t\t   new_customer_credit_check.sql\n",
            " band_dim.sql\t\t\t\t   non_pa_customer.sql\n",
            " band_ini.sql\t\t\t\t   nullify_campaign_session.sql\n",
            " band_regular.sql\t\t\t   on_demand.sql\n",
            " campaign_session_20.sql\t\t   order_quantity.sql\n",
            " campaign_session_21.sql\t\t   order_status.sql\n",
            " campaign_session_path.sql\t\t   pa_customer.sql\n",
            " campaign_session.sql\t\t\t   pre_populate_date_12.sql\n",
            " campaign_stg_20.sql\t\t\t   pre_populate_date_13.sql\n",
            " campaign_stg_21.sql\t\t\t   pre_populate_date.sql\n",
            " confirm_initial_population.sql\t\t   product_count_ini.sql\n",
            " create_campaign_stg.sql\t\t   product_count.sql\n",
            " create_customer_stg.sql\t\t   production_fact_23.sql\n",
            " create_databases.sql\t\t\t   production_regular_23.sql\n",
            " create_dw_tables.sql\t\t\t   production_regular.sql\n",
            " create_four_date_views.sql\t\t   product_launch_date_dim.sql\n",
            " create_month_end_sales_order_fact.sql\t   promotion_indicator.sql\n",
            " create_product_stg.sql\t\t\t   push_data.sql\n",
            " create_promo_schedule_stg.sql\t\t   push_sales_order.sql\n",
            " create_sales_order.sql\t\t\t   quarterly_mechanicsburg.sql\n",
            " create_user_id.sql\t\t\t   quarter_path.sql\n",
            " customer_sk.sql\t\t\t   ragged_campaign.sql\n",
            " daily_aggregation.sql\t\t\t  'readme 1st'\n",
            " daily_date.sql\t\t\t\t  'readme 1st for scripts.txt'\n",
            " daily_production_23.sql\t\t   remove_campaign.sql\n",
            " daily_production_data.sql\t\t   request_delivery_date_sk.sql\n",
            " daily_production.sql\t\t\t   request_delivery_date_source.sql\n",
            " database_view.sql\t\t\t   request_delivery_date.sql\n",
            " date_view_22.sql\t\t\t   sales_order_17.sql\n",
            " date_views.sql\t\t\t\t   sales_order_18.sql\n",
            " degenerate.sql\t\t\t\t   sales_order_22.sql\n",
            " dimensional_query_data.sql\t\t   sales_order_23.sql\n",
            " drilling.sql\t\t\t\t   sales_order_attribute_sk.sql\n",
            " dw_initial.sql\t\t\t\t   sales_order_attributes.sql\n",
            " dw_regular_10.sql\t\t\t   sales_order_fact_23.sql\n",
            " dw_regular_11.sql\t\t\t   sales_order_initial.sql\n",
            " dw_regular_12.sql\t\t\t   sales_order_quantity_data.sql\n",
            " dw_regular_13.sql\t\t\t   sales_order_regular.sql\n",
            " dw_regular_14.sql\t\t\t   sales_orders_24_ini.sql\n",
            " dw_regular_17.sql\t\t\t   sales_orders_24_reg.sql\n",
            " dw_regular_18.sql\t\t\t   sales_orders_step3.sql\n",
            " dw_regular_21.sql\t\t\t   sales_orders_step5.sql\n",
            " dw_regular_22.sql\t\t\t   scd1.sql\n",
            " dw_regular_23.sql\t\t\t   scd2.sql\n",
            " dw_regular.sql\t\t\t\t   segmentation.sql\n",
            " entry_date.sql\t\t\t\t   shipping_address.sql\n",
            " factory_ini.sql\t\t\t   source_date.sql\n",
            " factory_master_source.sql\t\t   special_dates.sql\n",
            " factory_master.sql\t\t\t   table_alias.sql\n",
            " factory_stg.sql\t\t\t   third_star_tables.sql\n",
            " fill_help_tables.sql\t\t\t   track_launch_expiry.sql\n",
            " filtered_month_end_sales_order_fact.sql   truncate_tables.sql\n",
            " grouping.sql\t\t\t\t   two_more_customers.sql\n",
            " jan_month_end_balance_regular.sql\t   zip_code_dim.sql\n",
            " junk_dim.sql\t\t\t\t   zip_code_population.sql\n",
            " load_product_stg.sql\t\t\t   zip_code_stg.sql\n"
          ],
          "name": "stdout"
        }
      ]
    },
    {
      "cell_type": "code",
      "metadata": {
        "id": "RohGlXDb3ZoW",
        "colab": {
          "base_uri": "https://localhost:8080/"
        },
        "outputId": "1d3f9139-804a-44fc-ec7c-e99e30e8f998"
      },
      "source": [
        "!mysql -udwid -ppw dw -e \"truncate product_dim\""
      ],
      "execution_count": null,
      "outputs": [
        {
          "output_type": "stream",
          "text": [
            "mysql: [Warning] Using a password on the command line interface can be insecure.\n"
          ],
          "name": "stdout"
        }
      ]
    },
    {
      "cell_type": "code",
      "metadata": {
        "id": "xc3g_lef3jYn"
      },
      "source": [
        "!mysql dw -e \"select * from product_dim\""
      ],
      "execution_count": null,
      "outputs": []
    },
    {
      "cell_type": "code",
      "metadata": {
        "id": "Z17XjtgsezYJ",
        "colab": {
          "base_uri": "https://localhost:8080/"
        },
        "outputId": "bab31362-52e0-4d1f-c89d-cda098dbacad"
      },
      "source": [
        "!cat source_data/product2-1.txt"
      ],
      "execution_count": null,
      "outputs": [
        {
          "output_type": "stream",
          "text": [
            "PRODUCT CODE,PRODUCT NAME,PRODUCT GROUP\r\n",
            "1          Hard Disk                     Storage\r\n",
            "2          Floppy Drive                  Storage"
          ],
          "name": "stdout"
        }
      ]
    },
    {
      "cell_type": "code",
      "metadata": {
        "id": "8G-ufAnhfsDv",
        "colab": {
          "base_uri": "https://localhost:8080/"
        },
        "outputId": "662f0441-e417-4543-8bce-5296e4c0d2f6"
      },
      "source": [
        "!mysql -udwid -ppw --table < scripts/create_product_stg.sql"
      ],
      "execution_count": null,
      "outputs": [
        {
          "output_type": "stream",
          "text": [
            "mysql: [Warning] Using a password on the command line interface can be insecure.\n"
          ],
          "name": "stdout"
        }
      ]
    },
    {
      "cell_type": "code",
      "metadata": {
        "id": "3n41cTfhfkgu",
        "colab": {
          "base_uri": "https://localhost:8080/"
        },
        "outputId": "a4818283-9ff3-43ed-e6f8-24cb8146b82e"
      },
      "source": [
        "!mysql dw -e \"desc product_stg\""
      ],
      "execution_count": null,
      "outputs": [
        {
          "output_type": "stream",
          "text": [
            "+------------------+----------+------+-----+---------+-------+\n",
            "| Field            | Type     | Null | Key | Default | Extra |\n",
            "+------------------+----------+------+-----+---------+-------+\n",
            "| product_code     | int(11)  | YES  |     | NULL    |       |\n",
            "| product_name     | char(30) | YES  |     | NULL    |       |\n",
            "| product_category | char(30) | YES  |     | NULL    |       |\n",
            "+------------------+----------+------+-----+---------+-------+\n"
          ],
          "name": "stdout"
        }
      ]
    },
    {
      "cell_type": "code",
      "metadata": {
        "id": "th5lAOjUhlyH",
        "colab": {
          "base_uri": "https://localhost:8080/"
        },
        "outputId": "849b49ef-2d31-460a-cd84-b1076a4f36bb"
      },
      "source": [
        "%%writefile pm_load_prod_stg_01.sql\n",
        "/* default database to dw */\n",
        "USE dw;\n",
        "/* clean up the staging table */\n",
        "TRUNCATE product_stg;\n",
        "/* use LOAD DATA INFILE */\n",
        "LOAD DATA local INFILE 'source_data/product2-1.txt'\n",
        "INTO TABLE product_stg\n",
        "FIELDS TERMINATED BY ''\n",
        "OPTIONALLY ENCLOSED BY ''\n",
        "LINES TERMINATED BY '\\r\\n'\n",
        "IGNORE 1 LINES\n",
        "( product_code\n",
        ", product_name\n",
        ", product_category )\n",
        ";\n",
        "/* end of script */"
      ],
      "execution_count": null,
      "outputs": [
        {
          "output_type": "stream",
          "text": [
            "Writing pm_load_prod_stg_01.sql\n"
          ],
          "name": "stdout"
        }
      ]
    },
    {
      "cell_type": "code",
      "metadata": {
        "id": "y9ctASguiRbF",
        "colab": {
          "base_uri": "https://localhost:8080/"
        },
        "outputId": "c830704c-f359-475b-c112-9cd303c83450"
      },
      "source": [
        "!mysql -udwid -ppw --table < pm_load_prod_stg_01.sql"
      ],
      "execution_count": null,
      "outputs": [
        {
          "output_type": "stream",
          "text": [
            "mysql: [Warning] Using a password on the command line interface can be insecure.\n"
          ],
          "name": "stdout"
        }
      ]
    },
    {
      "cell_type": "code",
      "metadata": {
        "id": "YHD_g51aiiZU",
        "colab": {
          "base_uri": "https://localhost:8080/"
        },
        "outputId": "de4d4d4c-fd9f-4282-b525-d2602be1c9ae"
      },
      "source": [
        "!mysql dw -e \"select * from product_stg\""
      ],
      "execution_count": null,
      "outputs": [
        {
          "output_type": "stream",
          "text": [
            "+--------------+--------------+------------------+\n",
            "| product_code | product_name | product_category |\n",
            "+--------------+--------------+------------------+\n",
            "|            1 | Hard Disk    | Storage          |\n",
            "|            2 | Floppy Drive | Storage          |\n",
            "+--------------+--------------+------------------+\n"
          ],
          "name": "stdout"
        }
      ]
    },
    {
      "cell_type": "code",
      "metadata": {
        "id": "uVmx58MgjUte",
        "colab": {
          "base_uri": "https://localhost:8080/"
        },
        "outputId": "37893504-d08d-43e5-ba8d-3fb63b643a2c"
      },
      "source": [
        "!mysql -udwid -ppw --table < scripts/scd2.sql"
      ],
      "execution_count": null,
      "outputs": [
        {
          "output_type": "stream",
          "text": [
            "mysql: [Warning] Using a password on the command line interface can be insecure.\n"
          ],
          "name": "stdout"
        }
      ]
    },
    {
      "cell_type": "code",
      "metadata": {
        "id": "LUc2O_n7jllY",
        "colab": {
          "base_uri": "https://localhost:8080/"
        },
        "outputId": "31275646-adf7-4921-e0dc-ba0345553a35"
      },
      "source": [
        "!mysql dw -e \"select * from product_dim\""
      ],
      "execution_count": null,
      "outputs": [
        {
          "output_type": "stream",
          "text": [
            "+------------+--------------+--------------+------------------+----------------+-------------+\n",
            "| product_sk | product_code | product_name | product_category | effective_date | expiry_date |\n",
            "+------------+--------------+--------------+------------------+----------------+-------------+\n",
            "|          1 |            1 | Hard Disk    | Storage          | 2021-04-06     | 9999-12-31  |\n",
            "|          2 |            2 | Floppy Drive | Storage          | 2021-04-06     | 9999-12-31  |\n",
            "+------------+--------------+--------------+------------------+----------------+-------------+\n"
          ],
          "name": "stdout"
        }
      ]
    },
    {
      "cell_type": "code",
      "metadata": {
        "id": "m2rtZ1R7jsfN"
      },
      "source": [
        "!mysql dw -e \"update product_dim set effective_date = '2007-02-03'\""
      ],
      "execution_count": null,
      "outputs": []
    },
    {
      "cell_type": "code",
      "metadata": {
        "id": "lX8nhWTW4C7r",
        "colab": {
          "base_uri": "https://localhost:8080/"
        },
        "outputId": "9aeac534-d78d-44a6-c5e8-0997d88f8452"
      },
      "source": [
        "!mysql dw -e \"select * from product_dim\""
      ],
      "execution_count": null,
      "outputs": [
        {
          "output_type": "stream",
          "text": [
            "+------------+--------------+--------------+------------------+----------------+-------------+\n",
            "| product_sk | product_code | product_name | product_category | effective_date | expiry_date |\n",
            "+------------+--------------+--------------+------------------+----------------+-------------+\n",
            "|          1 |            1 | Hard Disk    | Storage          | 2007-02-03     | 9999-12-31  |\n",
            "|          2 |            2 | Floppy Drive | Storage          | 2007-02-03     | 9999-12-31  |\n",
            "+------------+--------------+--------------+------------------+----------------+-------------+\n"
          ],
          "name": "stdout"
        }
      ]
    },
    {
      "cell_type": "code",
      "metadata": {
        "id": "VXP9q8h0kPC2",
        "colab": {
          "base_uri": "https://localhost:8080/"
        },
        "outputId": "7c81cf67-0948-4091-faab-aa0484677eb7"
      },
      "source": [
        "%%writefile pm_load_prod_stg_02.sql\n",
        "/* default database to dw */\n",
        "USE dw;\n",
        "/* clean up the staging table */\n",
        "TRUNCATE product_stg;\n",
        "/* use LOAD DATA INFILE */\n",
        "LOAD DATA local INFILE 'source_data/product2-2.txt'\n",
        "INTO TABLE product_stg\n",
        "FIELDS TERMINATED BY ''\n",
        "OPTIONALLY ENCLOSED BY ''\n",
        "LINES TERMINATED BY '\\r\\n'\n",
        "IGNORE 1 LINES\n",
        "( product_code\n",
        ", product_name\n",
        ", product_category )\n",
        ";\n",
        "/* end of script */"
      ],
      "execution_count": null,
      "outputs": [
        {
          "output_type": "stream",
          "text": [
            "Writing pm_load_prod_stg_02.sql\n"
          ],
          "name": "stdout"
        }
      ]
    },
    {
      "cell_type": "code",
      "metadata": {
        "id": "ntO7n6XEkXR6",
        "colab": {
          "base_uri": "https://localhost:8080/"
        },
        "outputId": "b0e1d485-7d61-4e44-a5cf-52252ac21b9d"
      },
      "source": [
        "!mysql -udwid -ppw --table < pm_load_prod_stg_02.sql"
      ],
      "execution_count": null,
      "outputs": [
        {
          "output_type": "stream",
          "text": [
            "mysql: [Warning] Using a password on the command line interface can be insecure.\n"
          ],
          "name": "stdout"
        }
      ]
    },
    {
      "cell_type": "code",
      "metadata": {
        "id": "tH9a2IL7kfCX",
        "colab": {
          "base_uri": "https://localhost:8080/"
        },
        "outputId": "1dd23457-5b0c-431f-9f20-29763cc9911a"
      },
      "source": [
        "!mysql dw -e \"select * from product_stg\""
      ],
      "execution_count": null,
      "outputs": [
        {
          "output_type": "stream",
          "text": [
            "+--------------+-----------------+------------------+\n",
            "| product_code | product_name    | product_category |\n",
            "+--------------+-----------------+------------------+\n",
            "|            1 | Hard Disk Drive | Storage          |\n",
            "|            2 | Floppy Drive    | Storage          |\n",
            "|            3 | LCD Panel       | Monitor          |\n",
            "+--------------+-----------------+------------------+\n"
          ],
          "name": "stdout"
        }
      ]
    },
    {
      "cell_type": "code",
      "metadata": {
        "id": "e93Sk6RIkqcU",
        "colab": {
          "base_uri": "https://localhost:8080/"
        },
        "outputId": "e4e12b0d-ccb8-4c0d-ecf0-7eeb1a7c22c8"
      },
      "source": [
        "!mysql -udwid -ppw --table < scripts/scd2.sql"
      ],
      "execution_count": null,
      "outputs": [
        {
          "output_type": "stream",
          "text": [
            "mysql: [Warning] Using a password on the command line interface can be insecure.\n"
          ],
          "name": "stdout"
        }
      ]
    },
    {
      "cell_type": "code",
      "metadata": {
        "id": "vZY_1XrYk2LM",
        "colab": {
          "base_uri": "https://localhost:8080/"
        },
        "outputId": "368525a9-d797-45eb-ff75-8016d774b5a0"
      },
      "source": [
        "!mysql dw -e \"select * from product_dim\""
      ],
      "execution_count": null,
      "outputs": [
        {
          "output_type": "stream",
          "text": [
            "+------------+--------------+-----------------+------------------+----------------+-------------+\n",
            "| product_sk | product_code | product_name    | product_category | effective_date | expiry_date |\n",
            "+------------+--------------+-----------------+------------------+----------------+-------------+\n",
            "|          1 |            1 | Hard Disk       | Storage          | 2007-02-03     | 2021-04-05  |\n",
            "|          2 |            2 | Floppy Drive    | Storage          | 2007-02-03     | 9999-12-31  |\n",
            "|          4 |            1 | Hard Disk Drive | Storage          | 2021-04-06     | 9999-12-31  |\n",
            "|          5 |            3 | LCD Panel       | Monitor          | 2021-04-06     | 9999-12-31  |\n",
            "+------------+--------------+-----------------+------------------+----------------+-------------+\n"
          ],
          "name": "stdout"
        }
      ]
    },
    {
      "cell_type": "code",
      "metadata": {
        "id": "y_a-D5eTk-Ts"
      },
      "source": [
        "!mysql dw -e \"update product_dim set effective_date = '2007-02-05' where effective_date = '2020-03-25'\""
      ],
      "execution_count": null,
      "outputs": []
    },
    {
      "cell_type": "code",
      "metadata": {
        "id": "-1maQSD0lWmx"
      },
      "source": [
        "!mysql dw -e \"update product_dim set expiry_date = '2007-02-04' where expiry_date = '2020-03-24'\""
      ],
      "execution_count": null,
      "outputs": []
    },
    {
      "cell_type": "code",
      "metadata": {
        "id": "Yuw30XUXwlpn"
      },
      "source": [
        "#there seems to be an inexplicable difference between the output shown here and the output shown in the book\n",
        "#product_sk should be 1,2,3,4 and not 1,2,4,5 \n",
        "#it seems autoincrements behave erratically and hence should not be used as surrogate keys as shown here"
      ],
      "execution_count": null,
      "outputs": []
    },
    {
      "cell_type": "code",
      "metadata": {
        "id": "Xo5GcWOf4a32",
        "colab": {
          "base_uri": "https://localhost:8080/"
        },
        "outputId": "a730c4ed-f656-46cd-b889-7ae4c4436b60"
      },
      "source": [
        "!mysql dw -e \"select * from product_dim\""
      ],
      "execution_count": null,
      "outputs": [
        {
          "output_type": "stream",
          "text": [
            "+------------+--------------+-----------------+------------------+----------------+-------------+\n",
            "| product_sk | product_code | product_name    | product_category | effective_date | expiry_date |\n",
            "+------------+--------------+-----------------+------------------+----------------+-------------+\n",
            "|          1 |            1 | Hard Disk       | Storage          | 2007-02-03     | 2021-04-05  |\n",
            "|          2 |            2 | Floppy Drive    | Storage          | 2007-02-03     | 9999-12-31  |\n",
            "|          4 |            1 | Hard Disk Drive | Storage          | 2021-04-06     | 9999-12-31  |\n",
            "|          5 |            3 | LCD Panel       | Monitor          | 2021-04-06     | 9999-12-31  |\n",
            "+------------+--------------+-----------------+------------------+----------------+-------------+\n"
          ],
          "name": "stdout"
        }
      ]
    },
    {
      "cell_type": "markdown",
      "metadata": {
        "id": "W2UnEFCNl7iP"
      },
      "source": [
        "#Chap 3 -  Measure Additivity"
      ]
    },
    {
      "cell_type": "code",
      "metadata": {
        "id": "_1PkXz3diCtY",
        "colab": {
          "base_uri": "https://localhost:8080/"
        },
        "outputId": "319ec518-9ddc-4151-a498-d9fadf19c4f1"
      },
      "source": [
        "!cat scripts/additive_data.sql"
      ],
      "execution_count": null,
      "outputs": [
        {
          "output_type": "stream",
          "text": [
            "/*********************************************************************/\r\n",
            "/*                                                                   */\r\n",
            "/* additive_data.sql                                                 */                  \r\n",
            "/*                                                                   */\r\n",
            "/*********************************************************************/\r\n",
            "\r\n",
            "USE dw;\r\n",
            "\r\n",
            "INSERT INTO order_dim VALUES\r\n",
            "  (NULL, 1, CURRENT_DATE, '9999-12-31')\r\n",
            ", (NULL, 2, CURRENT_DATE, '9999-12-31')\r\n",
            ", (NULL, 3, CURRENT_DATE, '9999-12-31')\r\n",
            ", (NULL, 4, CURRENT_DATE, '9999-12-31')\r\n",
            ", (NULL, 5, CURRENT_DATE, '9999-12-31')\r\n",
            ", (NULL, 6, CURRENT_DATE, '9999-12-31')\r\n",
            ", (NULL, 7, CURRENT_DATE, '9999-12-31')\r\n",
            ", (NULL, 8, CURRENT_DATE, '9999-12-31')\r\n",
            ", (NULL, 9, CURRENT_DATE, '9999-12-31')\r\n",
            ", (NULL, 10, CURRENT_DATE, '9999-12-31')\r\n",
            ";\r\n",
            "\r\n",
            "INSERT INTO date_dim VALUES\r\n",
            "  (NULL, '2005-10-31', 'October', 10, 4, 2005, CURRENT_DATE, '9999-12-31')\r\n",
            ";\r\n",
            "\r\n",
            "INSERT INTO sales_order_fact VALUES\r\n",
            "  (1, 1, 2, 1, 1000)\r\n",
            ", (2, 2, 3, 1, 1000)\r\n",
            ", (3, 3, 4, 1, 4000)\r\n",
            ", (4, 4, 2, 1, 4000)\r\n",
            ", (5, 5, 3, 1, 6000)\r\n",
            ", (6, 1, 4, 1, 6000)\r\n",
            ", (7, 2, 2, 1, 8000)\r\n",
            ", (8, 3, 3, 1, 8000)\r\n",
            ", (9, 4, 4, 1, 10000)\r\n",
            ", (10, 5, 2, 1, 10000)\r\n",
            ";\r\n",
            "\r\n",
            "/* end of script                                                     */\r\n"
          ],
          "name": "stdout"
        }
      ]
    },
    {
      "cell_type": "code",
      "metadata": {
        "id": "snxMf5IsnTIP",
        "colab": {
          "base_uri": "https://localhost:8080/"
        },
        "outputId": "4633bb95-0853-4f01-da23-0268b9bdddaa"
      },
      "source": [
        "!mysql -udwid -ppw --table < scripts/additive_data.sql"
      ],
      "execution_count": null,
      "outputs": [
        {
          "output_type": "stream",
          "text": [
            "mysql: [Warning] Using a password on the command line interface can be insecure.\n"
          ],
          "name": "stdout"
        }
      ]
    },
    {
      "cell_type": "code",
      "metadata": {
        "id": "lCXkg0wNncQ6",
        "colab": {
          "base_uri": "https://localhost:8080/"
        },
        "outputId": "6c4e8cc2-6102-468a-f3ce-0b33c3db72bc"
      },
      "source": [
        "!mysql dw -e \"select * from sales_order_fact\""
      ],
      "execution_count": null,
      "outputs": [
        {
          "output_type": "stream",
          "text": [
            "+----------+-------------+------------+---------------+--------------+\n",
            "| order_sk | customer_sk | product_sk | order_date_sk | order_amount |\n",
            "+----------+-------------+------------+---------------+--------------+\n",
            "|        1 |           1 |          2 |             1 |      1000.00 |\n",
            "|        2 |           2 |          3 |             1 |      1000.00 |\n",
            "|        3 |           3 |          4 |             1 |      4000.00 |\n",
            "|        4 |           4 |          2 |             1 |      4000.00 |\n",
            "|        5 |           5 |          3 |             1 |      6000.00 |\n",
            "|        6 |           1 |          4 |             1 |      6000.00 |\n",
            "|        7 |           2 |          2 |             1 |      8000.00 |\n",
            "|        8 |           3 |          3 |             1 |      8000.00 |\n",
            "|        9 |           4 |          4 |             1 |     10000.00 |\n",
            "|       10 |           5 |          2 |             1 |     10000.00 |\n",
            "+----------+-------------+------------+---------------+--------------+\n"
          ],
          "name": "stdout"
        }
      ]
    },
    {
      "cell_type": "code",
      "metadata": {
        "id": "iSyUNIeSoFbT",
        "colab": {
          "base_uri": "https://localhost:8080/"
        },
        "outputId": "f7d360fa-f29b-4503-f2bd-0910c96ceb6f"
      },
      "source": [
        "!mysql -udwid -ppw --table < scripts/across_all_dimensions.sql"
      ],
      "execution_count": null,
      "outputs": [
        {
          "output_type": "stream",
          "text": [
            "mysql: [Warning] Using a password on the command line interface can be insecure.\n",
            "+---------------------+\n",
            "| sum_of_order_amount |\n",
            "+---------------------+\n",
            "|            58000.00 |\n",
            "+---------------------+\n"
          ],
          "name": "stdout"
        }
      ]
    },
    {
      "cell_type": "code",
      "metadata": {
        "id": "RlvtAathoQyi",
        "colab": {
          "base_uri": "https://localhost:8080/"
        },
        "outputId": "e9416977-a3dd-4ed0-f94c-a234d593b070"
      },
      "source": [
        "!mysql -udwid -ppw --table < scripts/across_date_product.sql\n",
        "# note this adds up to 58000 as well, as it should"
      ],
      "execution_count": null,
      "outputs": [
        {
          "output_type": "stream",
          "text": [
            "mysql: [Warning] Using a password on the command line interface can be insecure.\n",
            "+-----------------+---------------------+\n",
            "| customer_number | sum_of_order_amount |\n",
            "+-----------------+---------------------+\n",
            "|               1 |             7000.00 |\n",
            "|               2 |             9000.00 |\n",
            "|               3 |            12000.00 |\n",
            "|               4 |            14000.00 |\n",
            "|               5 |            16000.00 |\n",
            "+-----------------+---------------------+\n"
          ],
          "name": "stdout"
        }
      ]
    },
    {
      "cell_type": "code",
      "metadata": {
        "id": "uNLGD6EZrAev",
        "colab": {
          "base_uri": "https://localhost:8080/"
        },
        "outputId": "f1edab4f-d294-41c0-8e51-858028b6a523"
      },
      "source": [
        "%%writefile pm_across_date_customer_order.sql\n",
        "USE dw;\n",
        "SELECT\n",
        "product_code, SUM(order_amount) sum_of_order_amount\n",
        "FROM\n",
        "sales_order_fact a\n",
        ", product_dim b\n",
        "WHERE\n",
        "a.product_sk = b.product_sk\n",
        "GROUP BY\n",
        "product_code\n",
        ";\n",
        "/* end of script */"
      ],
      "execution_count": null,
      "outputs": [
        {
          "output_type": "stream",
          "text": [
            "Writing pm_across_date_customer_order.sql\n"
          ],
          "name": "stdout"
        }
      ]
    },
    {
      "cell_type": "code",
      "metadata": {
        "id": "7ozqwKQKrYar",
        "colab": {
          "base_uri": "https://localhost:8080/"
        },
        "outputId": "98ccd93c-f308-4d0d-fd83-43a05c6f6392"
      },
      "source": [
        "!mysql -udwid -ppw --table < pm_across_date_customer_order.sql\n",
        "# this does not add up to 58,000 ! error !! "
      ],
      "execution_count": null,
      "outputs": [
        {
          "output_type": "stream",
          "text": [
            "mysql: [Warning] Using a password on the command line interface can be insecure.\n",
            "+--------------+---------------------+\n",
            "| product_code | sum_of_order_amount |\n",
            "+--------------+---------------------+\n",
            "|            1 |            20000.00 |\n",
            "|            2 |            23000.00 |\n",
            "+--------------+---------------------+\n"
          ],
          "name": "stdout"
        }
      ]
    },
    {
      "cell_type": "code",
      "metadata": {
        "id": "HoivevUfwf0n"
      },
      "source": [
        "#trying to fix the error referred to above\n",
        "!mysql dw -e \"update product_dim set product_sk = 3 where product_sk = 4\"\n",
        "!mysql dw -e \"update product_dim set product_sk = 4 where product_sk = 5\"\n"
      ],
      "execution_count": null,
      "outputs": []
    },
    {
      "cell_type": "code",
      "metadata": {
        "id": "hlcSwl_lr-TF",
        "colab": {
          "base_uri": "https://localhost:8080/"
        },
        "outputId": "9d045925-8f49-47fd-a669-76dd720abd4f"
      },
      "source": [
        "%%writefile pm_quickcheck.sql\n",
        "USE dw;\n",
        "SELECT * from sales_order_fact;\n",
        "select * from product_dim;\n"
      ],
      "execution_count": null,
      "outputs": [
        {
          "output_type": "stream",
          "text": [
            "Writing pm_quickcheck.sql\n"
          ],
          "name": "stdout"
        }
      ]
    },
    {
      "cell_type": "code",
      "metadata": {
        "id": "12eQvvpDsUUZ",
        "colab": {
          "base_uri": "https://localhost:8080/"
        },
        "outputId": "af4a04b9-c98f-4018-f1bc-29f628a35c7e"
      },
      "source": [
        "!mysql -udwid -ppw --table < pm_quickcheck.sql"
      ],
      "execution_count": null,
      "outputs": [
        {
          "output_type": "stream",
          "text": [
            "mysql: [Warning] Using a password on the command line interface can be insecure.\n",
            "+----------+-------------+------------+---------------+--------------+\n",
            "| order_sk | customer_sk | product_sk | order_date_sk | order_amount |\n",
            "+----------+-------------+------------+---------------+--------------+\n",
            "|        1 |           1 |          2 |             1 |      1000.00 |\n",
            "|        2 |           2 |          3 |             1 |      1000.00 |\n",
            "|        3 |           3 |          4 |             1 |      4000.00 |\n",
            "|        4 |           4 |          2 |             1 |      4000.00 |\n",
            "|        5 |           5 |          3 |             1 |      6000.00 |\n",
            "|        6 |           1 |          4 |             1 |      6000.00 |\n",
            "|        7 |           2 |          2 |             1 |      8000.00 |\n",
            "|        8 |           3 |          3 |             1 |      8000.00 |\n",
            "|        9 |           4 |          4 |             1 |     10000.00 |\n",
            "|       10 |           5 |          2 |             1 |     10000.00 |\n",
            "+----------+-------------+------------+---------------+--------------+\n",
            "+------------+--------------+-----------------+------------------+----------------+-------------+\n",
            "| product_sk | product_code | product_name    | product_category | effective_date | expiry_date |\n",
            "+------------+--------------+-----------------+------------------+----------------+-------------+\n",
            "|          1 |            1 | Hard Disk       | Storage          | 2007-02-03     | 2021-04-05  |\n",
            "|          2 |            2 | Floppy Drive    | Storage          | 2007-02-03     | 9999-12-31  |\n",
            "|          3 |            1 | Hard Disk Drive | Storage          | 2021-04-06     | 9999-12-31  |\n",
            "|          4 |            3 | LCD Panel       | Monitor          | 2021-04-06     | 9999-12-31  |\n",
            "+------------+--------------+-----------------+------------------+----------------+-------------+\n"
          ],
          "name": "stdout"
        }
      ]
    },
    {
      "cell_type": "code",
      "metadata": {
        "id": "7jMtvABmoy9a",
        "colab": {
          "base_uri": "https://localhost:8080/"
        },
        "outputId": "84272950-dfb0-4f0b-ccb8-b008efdc4810"
      },
      "source": [
        "!mysql -udwid -ppw --table < scripts/across_date_customer.sql\n",
        "# now we get back 58,000"
      ],
      "execution_count": null,
      "outputs": [
        {
          "output_type": "stream",
          "text": [
            "mysql: [Warning] Using a password on the command line interface can be insecure.\n",
            "+--------------+---------------------+\n",
            "| product_code | sum_of_order_amount |\n",
            "+--------------+---------------------+\n",
            "|            1 |            15000.00 |\n",
            "|            2 |            23000.00 |\n",
            "|            3 |            20000.00 |\n",
            "+--------------+---------------------+\n"
          ],
          "name": "stdout"
        }
      ]
    },
    {
      "cell_type": "code",
      "metadata": {
        "id": "lk2jf7H1p9S4"
      },
      "source": [
        "#after the error fix, back in sync with the tutorial book"
      ],
      "execution_count": null,
      "outputs": []
    },
    {
      "cell_type": "code",
      "metadata": {
        "id": "C8shMyoxoPeL",
        "colab": {
          "base_uri": "https://localhost:8080/"
        },
        "outputId": "679e0dff-d950-4ee6-c13c-154c3233c34f"
      },
      "source": [
        "!mysql -udwid -ppw --table < scripts/across_date.sql\n",
        "# and we are back to 58,000 again"
      ],
      "execution_count": null,
      "outputs": [
        {
          "output_type": "stream",
          "text": [
            "mysql: [Warning] Using a password on the command line interface can be insecure.\n",
            "+-----------------+--------------+---------------------+\n",
            "| customer_number | product_code | sum_of_order_amount |\n",
            "+-----------------+--------------+---------------------+\n",
            "|               1 |            2 |             1000.00 |\n",
            "|               1 |            3 |             6000.00 |\n",
            "|               2 |            1 |             1000.00 |\n",
            "|               2 |            2 |             8000.00 |\n",
            "|               3 |            1 |             8000.00 |\n",
            "|               3 |            3 |             4000.00 |\n",
            "|               4 |            2 |             4000.00 |\n",
            "|               4 |            3 |            10000.00 |\n",
            "|               5 |            1 |             6000.00 |\n",
            "|               5 |            2 |            10000.00 |\n",
            "+-----------------+--------------+---------------------+\n"
          ],
          "name": "stdout"
        }
      ]
    },
    {
      "cell_type": "markdown",
      "metadata": {
        "id": "g63TvPo7eHWs"
      },
      "source": [
        ""
      ]
    },
    {
      "cell_type": "markdown",
      "metadata": {
        "id": "oQC5AQMXd8yt"
      },
      "source": [
        "#Chap 4 - Dimensional Queries"
      ]
    },
    {
      "cell_type": "code",
      "metadata": {
        "id": "oSxcNlFMeCW0",
        "colab": {
          "base_uri": "https://localhost:8080/"
        },
        "outputId": "5cd2aa07-c34b-47a0-cfff-1ac24b71a7b9"
      },
      "source": [
        "!ls scripts/da*"
      ],
      "execution_count": null,
      "outputs": [
        {
          "output_type": "stream",
          "text": [
            "scripts/daily_aggregation.sql\t   scripts/daily_production.sql\n",
            "scripts/daily_date.sql\t\t   scripts/database_view.sql\n",
            "scripts/daily_production_23.sql    scripts/date_view_22.sql\n",
            "scripts/daily_production_data.sql  scripts/date_views.sql\n"
          ],
          "name": "stdout"
        }
      ]
    },
    {
      "cell_type": "code",
      "metadata": {
        "id": "c3zNPYfFkl55",
        "colab": {
          "base_uri": "https://localhost:8080/"
        },
        "outputId": "9a7a765b-a286-4021-d462-ce368673031a"
      },
      "source": [
        "!cat scripts/dimensional_query_data.sql "
      ],
      "execution_count": null,
      "outputs": [
        {
          "output_type": "stream",
          "text": [
            "/*********************************************************************/\r\n",
            "/*                                                                   */\r\n",
            "/* dimensional_query_data.sql                                        */                  \r\n",
            "/*                                                                   */\r\n",
            "/*********************************************************************/\r\n",
            "\r\n",
            "USE dw;\r\n",
            "\r\n",
            "INSERT INTO order_dim VALUES\r\n",
            "  (NULL, 11, CURRENT_DATE, '9999-12-31')\r\n",
            ", (NULL, 12, CURRENT_DATE, '9999-12-31')\r\n",
            ", (NULL, 13, CURRENT_DATE, '9999-12-31')\r\n",
            ", (NULL, 14, CURRENT_DATE, '9999-12-31')\r\n",
            ", (NULL, 15, CURRENT_DATE, '9999-12-31')\r\n",
            ", (NULL, 16, CURRENT_DATE, '9999-12-31')\r\n",
            ";\r\n",
            "\r\n",
            "INSERT INTO date_dim VALUES\r\n",
            "  (NULL, '2005-11-01', 'November', 11, 4, 2005, CURRENT_DATE, '9999-12-31')\r\n",
            ";\r\n",
            "\r\n",
            "INSERT INTO sales_order_fact VALUES\r\n",
            "  (11, 1, 2, 2, 20000) \r\n",
            ", (12, 2, 3, 2, 25000)\r\n",
            ", (13, 3, 4, 2, 30000)\r\n",
            ", (14, 4, 2, 2, 35000) \r\n",
            ", (15, 5, 3, 2, 40000)\r\n",
            ", (16, 1, 4, 2, 45000)\r\n",
            ";\r\n",
            "\r\n",
            "/* end of script                                                     */\r\n"
          ],
          "name": "stdout"
        }
      ]
    },
    {
      "cell_type": "code",
      "metadata": {
        "id": "NukwQXjwk01f",
        "colab": {
          "base_uri": "https://localhost:8080/"
        },
        "outputId": "a2ebdd28-a4f5-4900-82b0-1348ba465e86"
      },
      "source": [
        "!mysql dw -udwid -ppw --table < scripts/dimensional_query_data.sql"
      ],
      "execution_count": null,
      "outputs": [
        {
          "output_type": "stream",
          "text": [
            "mysql: [Warning] Using a password on the command line interface can be insecure.\n"
          ],
          "name": "stdout"
        }
      ]
    },
    {
      "cell_type": "code",
      "metadata": {
        "id": "LvlvXPq3fz5r",
        "colab": {
          "base_uri": "https://localhost:8080/"
        },
        "outputId": "0b23ae03-052f-4436-a87a-30bd36d0f5a5"
      },
      "source": [
        "!mysql dw -e \"select * from sales_order_fact\""
      ],
      "execution_count": null,
      "outputs": [
        {
          "output_type": "stream",
          "text": [
            "+----------+-------------+------------+---------------+--------------+\n",
            "| order_sk | customer_sk | product_sk | order_date_sk | order_amount |\n",
            "+----------+-------------+------------+---------------+--------------+\n",
            "|        1 |           1 |          2 |             1 |      1000.00 |\n",
            "|        2 |           2 |          3 |             1 |      1000.00 |\n",
            "|        3 |           3 |          4 |             1 |      4000.00 |\n",
            "|        4 |           4 |          2 |             1 |      4000.00 |\n",
            "|        5 |           5 |          3 |             1 |      6000.00 |\n",
            "|        6 |           1 |          4 |             1 |      6000.00 |\n",
            "|        7 |           2 |          2 |             1 |      8000.00 |\n",
            "|        8 |           3 |          3 |             1 |      8000.00 |\n",
            "|        9 |           4 |          4 |             1 |     10000.00 |\n",
            "|       10 |           5 |          2 |             1 |     10000.00 |\n",
            "|       11 |           1 |          2 |             2 |     20000.00 |\n",
            "|       12 |           2 |          3 |             2 |     25000.00 |\n",
            "|       13 |           3 |          4 |             2 |     30000.00 |\n",
            "|       14 |           4 |          2 |             2 |     35000.00 |\n",
            "|       15 |           5 |          3 |             2 |     40000.00 |\n",
            "|       16 |           1 |          4 |             2 |     45000.00 |\n",
            "+----------+-------------+------------+---------------+--------------+\n"
          ],
          "name": "stdout"
        }
      ]
    },
    {
      "cell_type": "code",
      "metadata": {
        "id": "tGVCdN01e423",
        "colab": {
          "base_uri": "https://localhost:8080/"
        },
        "outputId": "71ab27e3-1f22-4a99-ec14-1297ea670e57"
      },
      "source": [
        "!cat scripts/daily_aggregation.sql"
      ],
      "execution_count": null,
      "outputs": [
        {
          "output_type": "stream",
          "text": [
            "/*********************************************************************/\r\n",
            "/*                                                                   */\r\n",
            "/* daily_aggregation.sql                                             */                  \r\n",
            "/*                                                                   */\r\n",
            "/*********************************************************************/\r\n",
            "\r\n",
            "SELECT date, SUM(order_amount), COUNT(*)\r\n",
            "FROM\r\n",
            "  sales_order_fact a\r\n",
            ", date_dim b\r\n",
            "WHERE\r\n",
            "a.order_date_sk = b.date_sk\r\n",
            "GROUP BY date\r\n",
            "ORDER BY date\r\n",
            ";\r\n",
            "\r\n",
            "/* end of script                                                     */\r\n"
          ],
          "name": "stdout"
        }
      ]
    },
    {
      "cell_type": "code",
      "metadata": {
        "id": "t-OYxx2wek9W",
        "colab": {
          "base_uri": "https://localhost:8080/"
        },
        "outputId": "bac7f6c3-2c14-4cbc-f80e-0d2dce346b11"
      },
      "source": [
        "!mysql dw -udwid -ppw --table < scripts/daily_aggregation.sql"
      ],
      "execution_count": null,
      "outputs": [
        {
          "output_type": "stream",
          "text": [
            "mysql: [Warning] Using a password on the command line interface can be insecure.\n",
            "+------------+-------------------+----------+\n",
            "| date       | SUM(order_amount) | COUNT(*) |\n",
            "+------------+-------------------+----------+\n",
            "| 2005-10-31 |          58000.00 |       10 |\n",
            "| 2005-11-01 |         195000.00 |        6 |\n",
            "+------------+-------------------+----------+\n"
          ],
          "name": "stdout"
        }
      ]
    },
    {
      "cell_type": "code",
      "metadata": {
        "id": "44sGgG_agZDK",
        "colab": {
          "base_uri": "https://localhost:8080/"
        },
        "outputId": "6a99e005-b017-4f94-de79-11c44d9bca3a"
      },
      "source": [
        "!mysql dw -udwid -ppw --table < scripts/annual_aggregation.sql"
      ],
      "execution_count": null,
      "outputs": [
        {
          "output_type": "stream",
          "text": [
            "mysql: [Warning] Using a password on the command line interface can be insecure.\n",
            "+------+-----------------+---------------+-------------------+----------+\n",
            "| year | product_name    | customer_city | SUM(order_amount) | COUNT(*) |\n",
            "+------+-----------------+---------------+-------------------+----------+\n",
            "| 2005 | Floppy Drive    | Mechanicsburg |          70000.00 |        5 |\n",
            "| 2005 | Floppy Drive    | Pittsburgh    |           8000.00 |        1 |\n",
            "| 2005 | Hard Disk Drive | Mechanicsburg |          46000.00 |        2 |\n",
            "| 2005 | Hard Disk Drive | Pittsburgh    |          34000.00 |        3 |\n",
            "| 2005 | LCD Panel       | Mechanicsburg |          61000.00 |        3 |\n",
            "| 2005 | LCD Panel       | Pittsburgh    |          34000.00 |        2 |\n",
            "+------+-----------------+---------------+-------------------+----------+\n"
          ],
          "name": "stdout"
        }
      ]
    },
    {
      "cell_type": "code",
      "metadata": {
        "id": "t-VcxNdTgtDC",
        "colab": {
          "base_uri": "https://localhost:8080/"
        },
        "outputId": "534c6ff2-aeb5-4fc3-c296-821b4cbb434c"
      },
      "source": [
        "!mysql dw -udwid -ppw --table < scripts/monthly_storage.sql"
      ],
      "execution_count": null,
      "outputs": [
        {
          "output_type": "stream",
          "text": [
            "mysql: [Warning] Using a password on the command line interface can be insecure.\n",
            "+-----------------+------------+------+-------------------+----------+\n",
            "| product_name    | month_name | year | SUM(order_amount) | COUNT(*) |\n",
            "+-----------------+------------+------+-------------------+----------+\n",
            "| Floppy Drive    | November   | 2005 |          55000.00 |        2 |\n",
            "| Hard Disk Drive | November   | 2005 |          65000.00 |        2 |\n",
            "| Floppy Drive    | October    | 2005 |          23000.00 |        4 |\n",
            "| Hard Disk Drive | October    | 2005 |          15000.00 |        3 |\n",
            "+-----------------+------------+------+-------------------+----------+\n"
          ],
          "name": "stdout"
        }
      ]
    },
    {
      "cell_type": "code",
      "metadata": {
        "id": "CDvEh2mfl9ac",
        "colab": {
          "base_uri": "https://localhost:8080/"
        },
        "outputId": "0744f92f-37d9-4094-daaf-047f6f94402b"
      },
      "source": [
        "!mysql dw -udwid -ppw --table < scripts/quarterly_mechanicsburg.sql"
      ],
      "execution_count": null,
      "outputs": [
        {
          "output_type": "stream",
          "text": [
            "mysql: [Warning] Using a password on the command line interface can be insecure.\n",
            "+---------------+---------+------+-------------------+-----------------+\n",
            "| customer_city | quarter | year | SUM(order_amount) | COUNT(order_sk) |\n",
            "+---------------+---------+------+-------------------+-----------------+\n",
            "| Mechanicsburg |       4 | 2005 |         177000.00 |              10 |\n",
            "+---------------+---------+------+-------------------+-----------------+\n"
          ],
          "name": "stdout"
        }
      ]
    },
    {
      "cell_type": "code",
      "metadata": {
        "id": "bFFyO34Bmz8X",
        "colab": {
          "base_uri": "https://localhost:8080/"
        },
        "outputId": "59968c7b-017e-4fa6-b7fc-6e80b39fff2f"
      },
      "source": [
        "!cat scripts/monthly_product_performer.sql\n",
        "# there is an error in this script .. can you spot it?"
      ],
      "execution_count": null,
      "outputs": [
        {
          "output_type": "stream",
          "text": [
            "/*********************************************************************/\r\n",
            "/*                                                                   */\r\n",
            "/* monthly_product_performer.sql                                     */                  \r\n",
            "/*                                                                   */\r\n",
            "/*********************************************************************/\r\n",
            "\r\n",
            "USE dw;\r\n",
            "\r\n",
            "SELECT month_name, year, product_name, SUM(order_amount), COUNT(*)\r\n",
            "FROM\r\n",
            "  sales_order_fact a\r\n",
            ", product_dim b\r\n",
            ", date_dim c\r\n",
            "WHERE\r\n",
            "    a.product_sk = b.product_sk\r\n",
            "AND a.order_date_sk = c.date_sk\r\n",
            "GROUP BY \r\n",
            "  month_name\r\n",
            ", year\r\n",
            ", product_name\r\n",
            "HAVING SUM(order_amount) >= 75000\r\n",
            "ORDER BY \r\n",
            "  month\r\n",
            ", year\r\n",
            ", product_name\r\n",
            ";\r\n",
            "\r\n",
            "/* end of script                                                     */\r\n"
          ],
          "name": "stdout"
        }
      ]
    },
    {
      "cell_type": "code",
      "metadata": {
        "id": "xoczCQzElsOT",
        "colab": {
          "base_uri": "https://localhost:8080/"
        },
        "outputId": "0148da4a-fca5-40ee-ab42-04e679ef91c8"
      },
      "source": [
        "!mysql dw -udwid -ppw --table < scripts/monthly_product_performer.sql"
      ],
      "execution_count": null,
      "outputs": [
        {
          "output_type": "stream",
          "text": [
            "mysql: [Warning] Using a password on the command line interface can be insecure.\n",
            "ERROR 1055 (42000) at line 9: Expression #1 of ORDER BY clause is not in GROUP BY clause and contains nonaggregated column 'dw.c.month' which is not functionally dependent on columns in GROUP BY clause; this is incompatible with sql_mode=only_full_group_by\n"
          ],
          "name": "stdout"
        }
      ]
    },
    {
      "cell_type": "code",
      "metadata": {
        "id": "SONlYAGOnPKW",
        "colab": {
          "base_uri": "https://localhost:8080/"
        },
        "outputId": "aecd7460-9f99-4ab3-9a7a-1e789768d454"
      },
      "source": [
        "%%writefile pm_monthly_product_performer.sql\n",
        "\n",
        "USE dw;\n",
        "\n",
        "SELECT month_name, year, product_name, SUM(order_amount), COUNT(*)\n",
        "FROM\n",
        "  sales_order_fact a\n",
        ", product_dim b\n",
        ", date_dim c\n",
        "WHERE\n",
        "    a.product_sk = b.product_sk\n",
        "AND a.order_date_sk = c.date_sk\n",
        "GROUP BY \n",
        "  month_name\n",
        ", year\n",
        ", product_name\n",
        "HAVING SUM(order_amount) >= 75000\n",
        "ORDER BY \n",
        "  month_name\n",
        ", year\n",
        ", product_name\n",
        ";"
      ],
      "execution_count": null,
      "outputs": [
        {
          "output_type": "stream",
          "text": [
            "Writing pm_monthly_product_performer.sql\n"
          ],
          "name": "stdout"
        }
      ]
    },
    {
      "cell_type": "code",
      "metadata": {
        "id": "XnJM_Q7EnhHN",
        "colab": {
          "base_uri": "https://localhost:8080/"
        },
        "outputId": "f64022f9-2c1f-4ba3-8232-1f97cfff826f"
      },
      "source": [
        "#running the corrected script\n",
        "!mysql dw -udwid -ppw --table < pm_monthly_product_performer.sql"
      ],
      "execution_count": null,
      "outputs": [
        {
          "output_type": "stream",
          "text": [
            "mysql: [Warning] Using a password on the command line interface can be insecure.\n",
            "+------------+------+--------------+-------------------+----------+\n",
            "| month_name | year | product_name | SUM(order_amount) | COUNT(*) |\n",
            "+------------+------+--------------+-------------------+----------+\n",
            "| November   | 2005 | LCD Panel    |          75000.00 |        2 |\n",
            "+------------+------+--------------+-------------------+----------+\n"
          ],
          "name": "stdout"
        }
      ]
    },
    {
      "cell_type": "markdown",
      "metadata": {
        "id": "EW_5vS_8Benv"
      },
      "source": [
        "sample forms https://colab.research.google.com/notebooks/forms.ipynb"
      ]
    },
    {
      "cell_type": "code",
      "metadata": {
        "id": "IC9i7zfj-yIp",
        "colab": {
          "base_uri": "https://localhost:8080/"
        },
        "outputId": "706e7a47-e9e6-4aa9-c082-a0f7d0184b54"
      },
      "source": [
        "!mysql dw -udwid -ppw --table < scripts/loyal_customer.sql"
      ],
      "execution_count": null,
      "outputs": [
        {
          "output_type": "stream",
          "text": [
            "mysql: [Warning] Using a password on the command line interface can be insecure.\n",
            "+-----------------+------+----------+\n",
            "| customer_number | year | COUNT(*) |\n",
            "+-----------------+------+----------+\n",
            "|               1 | 2005 |        4 |\n",
            "+-----------------+------+----------+\n"
          ],
          "name": "stdout"
        }
      ]
    },
    {
      "cell_type": "markdown",
      "metadata": {
        "id": "wa5R9CaD1t2a"
      },
      "source": [
        "#Chronobooks <br>\n",
        "![alt text](https://1.bp.blogspot.com/-lTiYBkU2qbU/X1er__fvnkI/AAAAAAAAjtE/GhDR3OEGJr4NG43fZPodrQD5kbxtnKebgCLcBGAsYHQ/s600/Footer2020-600x200.png)<hr>\n",
        "Chronotantra and Chronoyantra are two science fiction novels that explore the collapse of human civilisation on Earth and then its rebirth and reincarnation both on Earth as well as on the distant worlds of Mars, Titan and Enceladus. But is it the human civilisation that is being reborn? Or is it some other sentience that is revealing itself. \n",
        "If you have an interest in AI and found this material useful, you may consider buying these novel, in paperback or kindle, from [http://bit.ly/chronobooks](http://bit.ly/chronobooks)"
      ]
    }
  ]
}