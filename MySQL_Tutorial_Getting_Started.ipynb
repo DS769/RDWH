{
  "nbformat": 4,
  "nbformat_minor": 0,
  "metadata": {
    "colab": {
      "name": "MySQL Tutorial - Getting Started",
      "provenance": [],
      "collapsed_sections": [],
      "include_colab_link": true
    },
    "kernelspec": {
      "name": "python3",
      "display_name": "Python 3"
    }
  },
  "cells": [
    {
      "cell_type": "markdown",
      "metadata": {
        "id": "view-in-github",
        "colab_type": "text"
      },
      "source": [
        "<a href=\"https://colab.research.google.com/github/Praxis-QR/RDWH/blob/main/MySQL_Tutorial_Getting_Started.ipynb\" target=\"_parent\"><img src=\"https://colab.research.google.com/assets/colab-badge.svg\" alt=\"Open In Colab\"/></a>"
      ]
    },
    {
      "cell_type": "markdown",
      "metadata": {
        "id": "JLS_gJa1nzro"
      },
      "source": [
        "![alt text](https://4.bp.blogspot.com/-gbL5nZDkpFQ/XScFYwoTEII/AAAAAAAAAGY/CcVb_HDLwvs2Brv5T4vSsUcz7O4r2Q79ACK4BGAYYCw/s1600/kk3-header00-beta.png)<br>\n",
        "\n",
        "\n",
        "<hr>\n",
        "\n",
        "[Prithwis Mukerjee](http://www.linkedin.com/in/prithwis)<br>"
      ]
    },
    {
      "cell_type": "markdown",
      "metadata": {
        "id": "_AasrPNYmGXr"
      },
      "source": [
        "#MySQL Tutorials <br>\n",
        "\n",
        "\n",
        "1.   https://www.mysqltutorial.org/\n",
        "2.   https://www.mysqltutorial.org/basic-mysql-tutorial.aspx\n",
        "\n"
      ]
    },
    {
      "cell_type": "code",
      "metadata": {
        "id": "Ngu3wy1y0jM2"
      },
      "source": [
        "#!cat /proc/cpuinfo\n",
        "#!cat /proc/meminfo\n",
        "#!ls /proc/*info"
      ],
      "execution_count": null,
      "outputs": []
    },
    {
      "cell_type": "markdown",
      "metadata": {
        "id": "0d60mrOzEls-"
      },
      "source": [
        "#Section 1 : Getting started with MySQL "
      ]
    },
    {
      "cell_type": "markdown",
      "metadata": {
        "id": "xlcVIXGpqlGw"
      },
      "source": [
        "##Install MySQL in local Colab VM"
      ]
    },
    {
      "cell_type": "code",
      "metadata": {
        "id": "Xi1BqQUKpu13",
        "colab": {
          "base_uri": "https://localhost:8080/"
        },
        "outputId": "50da7077-300a-4124-e516-81e7476314b7"
      },
      "source": [
        "# this will take some time and show an error. \n",
        "# dont worry, just carry on \n",
        "!apt install -y mysql-server > /dev/null\n",
        "#!ls /etc/init.d\n",
        "!/etc/init.d/mysql restart"
      ],
      "execution_count": 1,
      "outputs": [
        {
          "output_type": "stream",
          "name": "stdout",
          "text": [
            "\n",
            "WARNING: apt does not have a stable CLI interface. Use with caution in scripts.\n",
            "\n"
          ]
        }
      ]
    },
    {
      "cell_type": "markdown",
      "metadata": {
        "id": "ZydiAiFhln01"
      },
      "source": [
        "## Download Sample Database - Classicmodels <br>\n",
        "Create Tables <br>\n",
        "https://www.mysqltutorial.org/mysql-sample-database.aspx\n"
      ]
    },
    {
      "cell_type": "code",
      "metadata": {
        "id": "p7m5oRpxd5-M"
      },
      "source": [
        "#!gdown https://drive.google.com/uc?id=1Ik3QuYTd52M5qI9D4aOCfGcQ7v2AB9wx\n",
        "#!wget https://sp.mysqltutorial.org/wp-content/uploads/2018/03/mysqlsampledatabase.zip\n",
        "#!wget https://github.com/Praxis-QR/RDWH/raw/main/mysqlsampledatabase.zip\n",
        "\n",
        "!wget -q https://github.com/Praxis-QR/RDWH/raw/main/data/mysqlsampledatabase.zip\n",
        "!unzip mysqlsampledatabase.zip\n",
        "#!cat /content/mysqlsampledatabase.sql\n",
        "!head /content/mysqlsampledatabase.sql"
      ],
      "execution_count": 3,
      "outputs": []
    },
    {
      "cell_type": "markdown",
      "metadata": {
        "id": "BG-aweXoFL0C"
      },
      "source": [
        "## Loading Sample Database into MySQL server"
      ]
    },
    {
      "cell_type": "code",
      "metadata": {
        "id": "Mcz1hsKOkM51",
        "outputId": "b3ee782f-a6bd-4258-d8d2-a24ef1d77c45",
        "colab": {
          "base_uri": "https://localhost:8080/"
        }
      },
      "source": [
        "#https://www.mysqltutorial.org/how-to-load-sample-database-into-mysql-database-server.aspx\n",
        "!mysql --table < mysqlsampledatabase.sql\n",
        "#New database classicmodels has been created\n",
        "!mysql -e 'show databases'"
      ],
      "execution_count": 6,
      "outputs": [
        {
          "output_type": "stream",
          "name": "stdout",
          "text": [
            "+--------------------+\n",
            "| Database           |\n",
            "+--------------------+\n",
            "| information_schema |\n",
            "| classicmodels      |\n",
            "| mysql              |\n",
            "| performance_schema |\n",
            "| sys                |\n",
            "+--------------------+\n"
          ]
        }
      ]
    },
    {
      "cell_type": "markdown",
      "metadata": {
        "id": "MSQ5wu0DqwGS"
      },
      "source": [
        "###Check contents of sample database - Classicmodels"
      ]
    },
    {
      "cell_type": "code",
      "metadata": {
        "id": "sRHWaFsJkj2b",
        "colab": {
          "base_uri": "https://localhost:8080/"
        },
        "outputId": "219fe81f-5921-4651-fe93-26b485051592"
      },
      "source": [
        "!mysql classicmodels -e 'show tables'"
      ],
      "execution_count": 7,
      "outputs": [
        {
          "output_type": "stream",
          "name": "stdout",
          "text": [
            "+-------------------------+\n",
            "| Tables_in_classicmodels |\n",
            "+-------------------------+\n",
            "| customers               |\n",
            "| employees               |\n",
            "| offices                 |\n",
            "| orderdetails            |\n",
            "| orders                  |\n",
            "| payments                |\n",
            "| productlines            |\n",
            "| products                |\n",
            "+-------------------------+\n"
          ]
        }
      ]
    },
    {
      "cell_type": "markdown",
      "metadata": {
        "id": "4b-EVyOA4Cvd"
      },
      "source": [
        "\n",
        "This is what the database looks like : <br><br>\n",
        "![alt text](https://www.mysqltutorial.org/wp-content/uploads/2009/12/MySQL-Sample-Database-Schema.png)<br>"
      ]
    },
    {
      "cell_type": "code",
      "metadata": {
        "id": "fERLUxFbk9cU",
        "colab": {
          "base_uri": "https://localhost:8080/"
        },
        "outputId": "1f16b5b5-6347-454e-b286-e340ad7be19d"
      },
      "source": [
        "!mysql classicmodels -e 'select * from employees'"
      ],
      "execution_count": 8,
      "outputs": [
        {
          "output_type": "stream",
          "name": "stdout",
          "text": [
            "+----------------+-----------+-----------+-----------+---------------------------------+------------+-----------+----------------------+\n",
            "| employeeNumber | lastName  | firstName | extension | email                           | officeCode | reportsTo | jobTitle             |\n",
            "+----------------+-----------+-----------+-----------+---------------------------------+------------+-----------+----------------------+\n",
            "|           1002 | Murphy    | Diane     | x5800     | dmurphy@classicmodelcars.com    | 1          |      NULL | President            |\n",
            "|           1056 | Patterson | Mary      | x4611     | mpatterso@classicmodelcars.com  | 1          |      1002 | VP Sales             |\n",
            "|           1076 | Firrelli  | Jeff      | x9273     | jfirrelli@classicmodelcars.com  | 1          |      1002 | VP Marketing         |\n",
            "|           1088 | Patterson | William   | x4871     | wpatterson@classicmodelcars.com | 6          |      1056 | Sales Manager (APAC) |\n",
            "|           1102 | Bondur    | Gerard    | x5408     | gbondur@classicmodelcars.com    | 4          |      1056 | Sale Manager (EMEA)  |\n",
            "|           1143 | Bow       | Anthony   | x5428     | abow@classicmodelcars.com       | 1          |      1056 | Sales Manager (NA)   |\n",
            "|           1165 | Jennings  | Leslie    | x3291     | ljennings@classicmodelcars.com  | 1          |      1143 | Sales Rep            |\n",
            "|           1166 | Thompson  | Leslie    | x4065     | lthompson@classicmodelcars.com  | 1          |      1143 | Sales Rep            |\n",
            "|           1188 | Firrelli  | Julie     | x2173     | jfirrelli@classicmodelcars.com  | 2          |      1143 | Sales Rep            |\n",
            "|           1216 | Patterson | Steve     | x4334     | spatterson@classicmodelcars.com | 2          |      1143 | Sales Rep            |\n",
            "|           1286 | Tseng     | Foon Yue  | x2248     | ftseng@classicmodelcars.com     | 3          |      1143 | Sales Rep            |\n",
            "|           1323 | Vanauf    | George    | x4102     | gvanauf@classicmodelcars.com    | 3          |      1143 | Sales Rep            |\n",
            "|           1337 | Bondur    | Loui      | x6493     | lbondur@classicmodelcars.com    | 4          |      1102 | Sales Rep            |\n",
            "|           1370 | Hernandez | Gerard    | x2028     | ghernande@classicmodelcars.com  | 4          |      1102 | Sales Rep            |\n",
            "|           1401 | Castillo  | Pamela    | x2759     | pcastillo@classicmodelcars.com  | 4          |      1102 | Sales Rep            |\n",
            "|           1501 | Bott      | Larry     | x2311     | lbott@classicmodelcars.com      | 7          |      1102 | Sales Rep            |\n",
            "|           1504 | Jones     | Barry     | x102      | bjones@classicmodelcars.com     | 7          |      1102 | Sales Rep            |\n",
            "|           1611 | Fixter    | Andy      | x101      | afixter@classicmodelcars.com    | 6          |      1088 | Sales Rep            |\n",
            "|           1612 | Marsh     | Peter     | x102      | pmarsh@classicmodelcars.com     | 6          |      1088 | Sales Rep            |\n",
            "|           1619 | King      | Tom       | x103      | tking@classicmodelcars.com      | 6          |      1088 | Sales Rep            |\n",
            "|           1621 | Nishi     | Mami      | x101      | mnishi@classicmodelcars.com     | 5          |      1056 | Sales Rep            |\n",
            "|           1625 | Kato      | Yoshimi   | x102      | ykato@classicmodelcars.com      | 5          |      1621 | Sales Rep            |\n",
            "|           1702 | Gerard    | Martin    | x2312     | mgerard@classicmodelcars.com    | 4          |      1102 | Sales Rep            |\n",
            "+----------------+-----------+-----------+-----------+---------------------------------+------------+-----------+----------------------+\n"
          ]
        }
      ]
    },
    {
      "cell_type": "markdown",
      "metadata": {
        "id": "TvOVddwxnHL5"
      },
      "source": [
        "##Install Python Client <br>\n"
      ]
    },
    {
      "cell_type": "code",
      "metadata": {
        "id": "KpLfX991nLJx",
        "colab": {
          "base_uri": "https://localhost:8080/"
        },
        "outputId": "ba7cd988-1121-42e6-85ee-e857771ed428"
      },
      "source": [
        "!apt install libmysqlclient-dev > /dev/null\n",
        "!pip -q install mysqlclient \n",
        "import pandas as pd\n",
        "import MySQLdb"
      ],
      "execution_count": 9,
      "outputs": [
        {
          "output_type": "stream",
          "name": "stdout",
          "text": [
            "\n",
            "WARNING: apt does not have a stable CLI interface. Use with caution in scripts.\n",
            "\n",
            "\u001b[K     |████████████████████████████████| 87 kB 3.9 MB/s \n",
            "\u001b[?25h  Building wheel for mysqlclient (setup.py) ... \u001b[?25l\u001b[?25hdone\n"
          ]
        }
      ]
    },
    {
      "cell_type": "code",
      "metadata": {
        "id": "g3RYzQ58nWZ5"
      },
      "source": [
        "#To run any non-SELECT SQL command\n",
        "def runCMD (DDL):\n",
        "    #DBConn= MySQLdb.connect(hostName,userName,passWord,dbName)\n",
        "    DBConn= MySQLdb.connect(db='classicmodels')  # since local MySQL server, userid, password not needed\n",
        "    myCursor = DBConn.cursor()\n",
        "    retcode = myCursor.execute(DDL) \n",
        "    print (retcode)\n",
        "    DBConn.commit()\n",
        "    DBConn.close()\n",
        "\n",
        "#To run any SELECT SQL command\n",
        "def runSELECT (CMD):\n",
        "    #DBConn= MySQLdb.connect(hostName,userName,passWord,dbName)\n",
        "    DBConn= MySQLdb.connect(db='classicmodels') # since local MySQL server, userid, password not needed\n",
        "    df_mysql = pd.read_sql(CMD, con=DBConn)    \n",
        "    DBConn.close()\n",
        "    return df_mysql"
      ],
      "execution_count": 10,
      "outputs": []
    },
    {
      "cell_type": "markdown",
      "metadata": {
        "id": "__Du-k4doKOx"
      },
      "source": [
        "###Check out all tables"
      ]
    },
    {
      "cell_type": "code",
      "metadata": {
        "colab": {
          "base_uri": "https://localhost:8080/"
        },
        "id": "mjEYbQdJL7de",
        "outputId": "e469f0df-18b4-4283-da16-a4396dd277c0"
      },
      "source": [
        "!mysql classicmodels -e 'show tables'"
      ],
      "execution_count": null,
      "outputs": [
        {
          "output_type": "stream",
          "name": "stdout",
          "text": [
            "+-------------------------+\n",
            "| Tables_in_classicmodels |\n",
            "+-------------------------+\n",
            "| customers               |\n",
            "| employees               |\n",
            "| offices                 |\n",
            "| orderdetails            |\n",
            "| orders                  |\n",
            "| payments                |\n",
            "| productlines            |\n",
            "| products                |\n",
            "+-------------------------+\n"
          ]
        }
      ]
    },
    {
      "cell_type": "code",
      "metadata": {
        "id": "V-zPWyTZoOPy",
        "colab": {
          "base_uri": "https://localhost:8080/",
          "height": 206
        },
        "outputId": "245d9cb8-96b8-4067-ff88-e9fddd2b3dba"
      },
      "source": [
        "#runSELECT('select * from customers limit 5')\n",
        "#runSELECT('select * from employees limit 5')\n",
        "#runSELECT('select * from offices limit 5')\n",
        "#runSELECT('select * from orderdetails limit 5')\n",
        "#runSELECT('select * from orders limit 5')\n",
        "#runSELECT('select * from payments limit 5')\n",
        "#runSELECT('select * from productlines limit 5')\n",
        "runSELECT('select * from products limit 5')"
      ],
      "execution_count": 11,
      "outputs": [
        {
          "output_type": "execute_result",
          "data": {
            "text/plain": [
              "  productCode                            productName   productLine  \\\n",
              "0    S10_1678  1969 Harley Davidson Ultimate Chopper   Motorcycles   \n",
              "1    S10_1949               1952 Alpine Renault 1300  Classic Cars   \n",
              "2    S10_2016                  1996 Moto Guzzi 1100i   Motorcycles   \n",
              "3    S10_4698   2003 Harley-Davidson Eagle Drag Bike   Motorcycles   \n",
              "4    S10_4757                    1972 Alfa Romeo GTA  Classic Cars   \n",
              "\n",
              "  productScale             productVendor  \\\n",
              "0         1:10           Min Lin Diecast   \n",
              "1         1:10   Classic Metal Creations   \n",
              "2         1:10  Highway 66 Mini Classics   \n",
              "3         1:10         Red Start Diecast   \n",
              "4         1:10   Motor City Art Classics   \n",
              "\n",
              "                                  productDescription  quantityInStock  \\\n",
              "0  This replica features working kickstand, front...             7933   \n",
              "1  Turnable front wheels; steering function; deta...             7305   \n",
              "2  Official Moto Guzzi logos and insignias, saddl...             6625   \n",
              "3  Model features, official Harley Davidson logos...             5582   \n",
              "4  Features include: Turnable front wheels; steer...             3252   \n",
              "\n",
              "   buyPrice    MSRP  \n",
              "0     48.81   95.70  \n",
              "1     98.58  214.30  \n",
              "2     68.99  118.94  \n",
              "3     91.02  193.66  \n",
              "4     85.68  136.00  "
            ],
            "text/html": [
              "\n",
              "  <div id=\"df-30a7c439-a6fd-4126-8042-75357c14a5d8\">\n",
              "    <div class=\"colab-df-container\">\n",
              "      <div>\n",
              "<style scoped>\n",
              "    .dataframe tbody tr th:only-of-type {\n",
              "        vertical-align: middle;\n",
              "    }\n",
              "\n",
              "    .dataframe tbody tr th {\n",
              "        vertical-align: top;\n",
              "    }\n",
              "\n",
              "    .dataframe thead th {\n",
              "        text-align: right;\n",
              "    }\n",
              "</style>\n",
              "<table border=\"1\" class=\"dataframe\">\n",
              "  <thead>\n",
              "    <tr style=\"text-align: right;\">\n",
              "      <th></th>\n",
              "      <th>productCode</th>\n",
              "      <th>productName</th>\n",
              "      <th>productLine</th>\n",
              "      <th>productScale</th>\n",
              "      <th>productVendor</th>\n",
              "      <th>productDescription</th>\n",
              "      <th>quantityInStock</th>\n",
              "      <th>buyPrice</th>\n",
              "      <th>MSRP</th>\n",
              "    </tr>\n",
              "  </thead>\n",
              "  <tbody>\n",
              "    <tr>\n",
              "      <th>0</th>\n",
              "      <td>S10_1678</td>\n",
              "      <td>1969 Harley Davidson Ultimate Chopper</td>\n",
              "      <td>Motorcycles</td>\n",
              "      <td>1:10</td>\n",
              "      <td>Min Lin Diecast</td>\n",
              "      <td>This replica features working kickstand, front...</td>\n",
              "      <td>7933</td>\n",
              "      <td>48.81</td>\n",
              "      <td>95.70</td>\n",
              "    </tr>\n",
              "    <tr>\n",
              "      <th>1</th>\n",
              "      <td>S10_1949</td>\n",
              "      <td>1952 Alpine Renault 1300</td>\n",
              "      <td>Classic Cars</td>\n",
              "      <td>1:10</td>\n",
              "      <td>Classic Metal Creations</td>\n",
              "      <td>Turnable front wheels; steering function; deta...</td>\n",
              "      <td>7305</td>\n",
              "      <td>98.58</td>\n",
              "      <td>214.30</td>\n",
              "    </tr>\n",
              "    <tr>\n",
              "      <th>2</th>\n",
              "      <td>S10_2016</td>\n",
              "      <td>1996 Moto Guzzi 1100i</td>\n",
              "      <td>Motorcycles</td>\n",
              "      <td>1:10</td>\n",
              "      <td>Highway 66 Mini Classics</td>\n",
              "      <td>Official Moto Guzzi logos and insignias, saddl...</td>\n",
              "      <td>6625</td>\n",
              "      <td>68.99</td>\n",
              "      <td>118.94</td>\n",
              "    </tr>\n",
              "    <tr>\n",
              "      <th>3</th>\n",
              "      <td>S10_4698</td>\n",
              "      <td>2003 Harley-Davidson Eagle Drag Bike</td>\n",
              "      <td>Motorcycles</td>\n",
              "      <td>1:10</td>\n",
              "      <td>Red Start Diecast</td>\n",
              "      <td>Model features, official Harley Davidson logos...</td>\n",
              "      <td>5582</td>\n",
              "      <td>91.02</td>\n",
              "      <td>193.66</td>\n",
              "    </tr>\n",
              "    <tr>\n",
              "      <th>4</th>\n",
              "      <td>S10_4757</td>\n",
              "      <td>1972 Alfa Romeo GTA</td>\n",
              "      <td>Classic Cars</td>\n",
              "      <td>1:10</td>\n",
              "      <td>Motor City Art Classics</td>\n",
              "      <td>Features include: Turnable front wheels; steer...</td>\n",
              "      <td>3252</td>\n",
              "      <td>85.68</td>\n",
              "      <td>136.00</td>\n",
              "    </tr>\n",
              "  </tbody>\n",
              "</table>\n",
              "</div>\n",
              "      <button class=\"colab-df-convert\" onclick=\"convertToInteractive('df-30a7c439-a6fd-4126-8042-75357c14a5d8')\"\n",
              "              title=\"Convert this dataframe to an interactive table.\"\n",
              "              style=\"display:none;\">\n",
              "        \n",
              "  <svg xmlns=\"http://www.w3.org/2000/svg\" height=\"24px\"viewBox=\"0 0 24 24\"\n",
              "       width=\"24px\">\n",
              "    <path d=\"M0 0h24v24H0V0z\" fill=\"none\"/>\n",
              "    <path d=\"M18.56 5.44l.94 2.06.94-2.06 2.06-.94-2.06-.94-.94-2.06-.94 2.06-2.06.94zm-11 1L8.5 8.5l.94-2.06 2.06-.94-2.06-.94L8.5 2.5l-.94 2.06-2.06.94zm10 10l.94 2.06.94-2.06 2.06-.94-2.06-.94-.94-2.06-.94 2.06-2.06.94z\"/><path d=\"M17.41 7.96l-1.37-1.37c-.4-.4-.92-.59-1.43-.59-.52 0-1.04.2-1.43.59L10.3 9.45l-7.72 7.72c-.78.78-.78 2.05 0 2.83L4 21.41c.39.39.9.59 1.41.59.51 0 1.02-.2 1.41-.59l7.78-7.78 2.81-2.81c.8-.78.8-2.07 0-2.86zM5.41 20L4 18.59l7.72-7.72 1.47 1.35L5.41 20z\"/>\n",
              "  </svg>\n",
              "      </button>\n",
              "      \n",
              "  <style>\n",
              "    .colab-df-container {\n",
              "      display:flex;\n",
              "      flex-wrap:wrap;\n",
              "      gap: 12px;\n",
              "    }\n",
              "\n",
              "    .colab-df-convert {\n",
              "      background-color: #E8F0FE;\n",
              "      border: none;\n",
              "      border-radius: 50%;\n",
              "      cursor: pointer;\n",
              "      display: none;\n",
              "      fill: #1967D2;\n",
              "      height: 32px;\n",
              "      padding: 0 0 0 0;\n",
              "      width: 32px;\n",
              "    }\n",
              "\n",
              "    .colab-df-convert:hover {\n",
              "      background-color: #E2EBFA;\n",
              "      box-shadow: 0px 1px 2px rgba(60, 64, 67, 0.3), 0px 1px 3px 1px rgba(60, 64, 67, 0.15);\n",
              "      fill: #174EA6;\n",
              "    }\n",
              "\n",
              "    [theme=dark] .colab-df-convert {\n",
              "      background-color: #3B4455;\n",
              "      fill: #D2E3FC;\n",
              "    }\n",
              "\n",
              "    [theme=dark] .colab-df-convert:hover {\n",
              "      background-color: #434B5C;\n",
              "      box-shadow: 0px 1px 3px 1px rgba(0, 0, 0, 0.15);\n",
              "      filter: drop-shadow(0px 1px 2px rgba(0, 0, 0, 0.3));\n",
              "      fill: #FFFFFF;\n",
              "    }\n",
              "  </style>\n",
              "\n",
              "      <script>\n",
              "        const buttonEl =\n",
              "          document.querySelector('#df-30a7c439-a6fd-4126-8042-75357c14a5d8 button.colab-df-convert');\n",
              "        buttonEl.style.display =\n",
              "          google.colab.kernel.accessAllowed ? 'block' : 'none';\n",
              "\n",
              "        async function convertToInteractive(key) {\n",
              "          const element = document.querySelector('#df-30a7c439-a6fd-4126-8042-75357c14a5d8');\n",
              "          const dataTable =\n",
              "            await google.colab.kernel.invokeFunction('convertToInteractive',\n",
              "                                                     [key], {});\n",
              "          if (!dataTable) return;\n",
              "\n",
              "          const docLinkHtml = 'Like what you see? Visit the ' +\n",
              "            '<a target=\"_blank\" href=https://colab.research.google.com/notebooks/data_table.ipynb>data table notebook</a>'\n",
              "            + ' to learn more about interactive tables.';\n",
              "          element.innerHTML = '';\n",
              "          dataTable['output_type'] = 'display_data';\n",
              "          await google.colab.output.renderOutput(dataTable, element);\n",
              "          const docLink = document.createElement('div');\n",
              "          docLink.innerHTML = docLinkHtml;\n",
              "          element.appendChild(docLink);\n",
              "        }\n",
              "      </script>\n",
              "    </div>\n",
              "  </div>\n",
              "  "
            ]
          },
          "metadata": {},
          "execution_count": 11
        }
      ]
    },
    {
      "cell_type": "markdown",
      "metadata": {
        "id": "vOgS3QKvM8cI"
      },
      "source": [
        "#Section 1 : Querying Data"
      ]
    },
    {
      "cell_type": "markdown",
      "metadata": {
        "id": "5nB6ipe8M_7l"
      },
      "source": [
        "#Section 2 - Sorting Data"
      ]
    },
    {
      "cell_type": "markdown",
      "source": [
        "#Section ... and on so on"
      ],
      "metadata": {
        "id": "qt8I6dNvb32Z"
      }
    },
    {
      "cell_type": "markdown",
      "source": [
        "#Section 7 alternatives"
      ],
      "metadata": {
        "id": "acChonBKd9Qm"
      }
    },
    {
      "cell_type": "code",
      "source": [
        "!mysql classicmodels -e \" \\\n",
        "SELECT customerName \\\n",
        " FROM \\\n",
        "    (select customerName, state from  customers \\\n",
        "     where country = 'USA'\\\n",
        "     ) as customers_in_usa \\\n",
        " WHERE state = 'CA' ORDER BY customerName \\\n",
        "\""
      ],
      "metadata": {
        "id": "FJbyviUxeAk_"
      },
      "execution_count": null,
      "outputs": []
    },
    {
      "cell_type": "markdown",
      "metadata": {
        "id": "kPksyk6OpJ0y"
      },
      "source": [
        "#Chronobooks <br>\n",
        "![alt text](https://1.bp.blogspot.com/-lTiYBkU2qbU/X1er__fvnkI/AAAAAAAAjtE/GhDR3OEGJr4NG43fZPodrQD5kbxtnKebgCLcBGAsYHQ/s600/Footer2020-600x200.png)<hr>\n",
        "Chronotantra and Chronoyantra are two science fiction novels that explore the collapse of human civilisation on Earth and then its rebirth and reincarnation both on Earth as well as on the distant worlds of Mars, Titan and Enceladus. But is it the human civilisation that is being reborn? Or is it some other sentience that is revealing itself. \n",
        "If you have an interest in AI and found this material useful, you may consider buying these novel, in paperback or kindle, from [http://bit.ly/chronobooks](http://bit.ly/chronobooks)"
      ]
    }
  ]
}