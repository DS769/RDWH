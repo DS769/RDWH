{
  "nbformat": 4,
  "nbformat_minor": 0,
  "metadata": {
    "colab": {
      "name": "MySQL Tutorial - Getting Started",
      "provenance": [],
      "collapsed_sections": [],
      "include_colab_link": true
    },
    "kernelspec": {
      "name": "python3",
      "display_name": "Python 3"
    }
  },
  "cells": [
    {
      "cell_type": "markdown",
      "metadata": {
        "id": "view-in-github",
        "colab_type": "text"
      },
      "source": [
        "<a href=\"https://colab.research.google.com/github/Praxis-QR/RDWH/blob/main/MySQL_Tutorial_Getting_Started.ipynb\" target=\"_parent\"><img src=\"https://colab.research.google.com/assets/colab-badge.svg\" alt=\"Open In Colab\"/></a>"
      ]
    },
    {
      "cell_type": "markdown",
      "metadata": {
        "id": "JLS_gJa1nzro"
      },
      "source": [
        "![alt text](https://4.bp.blogspot.com/-gbL5nZDkpFQ/XScFYwoTEII/AAAAAAAAAGY/CcVb_HDLwvs2Brv5T4vSsUcz7O4r2Q79ACK4BGAYYCw/s1600/kk3-header00-beta.png)<br>\n",
        "\n",
        "\n",
        "<hr>\n",
        "\n",
        "[Prithwis Mukerjee](http://www.linkedin.com/in/prithwis)<br>"
      ]
    },
    {
      "cell_type": "markdown",
      "metadata": {
        "id": "_AasrPNYmGXr"
      },
      "source": [
        "#MySQL Tutorials <br>\n",
        "\n",
        "\n",
        "1.   https://www.mysqltutorial.org/\n",
        "2.   https://www.mysqltutorial.org/basic-mysql-tutorial.aspx\n",
        "\n"
      ]
    },
    {
      "cell_type": "code",
      "metadata": {
        "id": "Ngu3wy1y0jM2"
      },
      "source": [
        "#!cat /proc/cpuinfo\n",
        "#!cat /proc/meminfo\n",
        "#!ls /proc/*info"
      ],
      "execution_count": null,
      "outputs": []
    },
    {
      "cell_type": "markdown",
      "metadata": {
        "id": "0d60mrOzEls-"
      },
      "source": [
        "#Section 1 : Getting started with MySQL "
      ]
    },
    {
      "cell_type": "markdown",
      "metadata": {
        "id": "xlcVIXGpqlGw"
      },
      "source": [
        "##Install MySQL in local Colab VM"
      ]
    },
    {
      "cell_type": "code",
      "metadata": {
        "id": "Xi1BqQUKpu13",
        "colab": {
          "base_uri": "https://localhost:8080/"
        },
        "outputId": "63256fe7-ca16-4957-906a-db07c8cecb03"
      },
      "source": [
        "# this will take some time and show an error. \n",
        "# dont worry, just carry on \n",
        "!apt-get -y install mysql-server > /dev/null"
      ],
      "execution_count": null,
      "outputs": [
        {
          "output_type": "stream",
          "name": "stdout",
          "text": [
            "E: Sub-process /usr/bin/dpkg returned an error code (1)\n"
          ]
        }
      ]
    },
    {
      "cell_type": "code",
      "metadata": {
        "id": "0IXFaIjtxTpS"
      },
      "source": [
        "#!ls /etc/init.d"
      ],
      "execution_count": null,
      "outputs": []
    },
    {
      "cell_type": "code",
      "metadata": {
        "id": "ahWDdbMFqSqv",
        "colab": {
          "base_uri": "https://localhost:8080/"
        },
        "outputId": "96479738-770a-4bc6-f05d-b43221d4cd21"
      },
      "source": [
        "!/etc/init.d/mysql restart"
      ],
      "execution_count": null,
      "outputs": [
        {
          "output_type": "stream",
          "name": "stdout",
          "text": [
            " * Stopping MySQL database server mysqld\n",
            "   ...done.\n",
            " * Starting MySQL database server mysqld\n",
            "No directory, logging in with HOME=/\n",
            "   ...done.\n"
          ]
        }
      ]
    },
    {
      "cell_type": "markdown",
      "metadata": {
        "id": "ZydiAiFhln01"
      },
      "source": [
        "## Download Sample Database - Classicmodels <br>\n",
        "Create Tables <br>\n",
        "https://www.mysqltutorial.org/mysql-sample-database.aspx\n"
      ]
    },
    {
      "cell_type": "code",
      "metadata": {
        "id": "p7m5oRpxd5-M",
        "colab": {
          "base_uri": "https://localhost:8080/"
        },
        "outputId": "8b9eda1f-554a-4869-9082-65f9dbeb80e3"
      },
      "source": [
        "#!gdown https://drive.google.com/uc?id=1Ik3QuYTd52M5qI9D4aOCfGcQ7v2AB9wx\n",
        "#!wget https://sp.mysqltutorial.org/wp-content/uploads/2018/03/mysqlsampledatabase.zip\n",
        "!wget https://github.com/Praxis-QR/RDWH/raw/main/mysqlsampledatabase.zip"
      ],
      "execution_count": null,
      "outputs": [
        {
          "output_type": "stream",
          "name": "stdout",
          "text": [
            "--2021-09-05 02:46:24--  https://github.com/Praxis-QR/RDWH/raw/main/mysqlsampledatabase.zip\n",
            "Resolving github.com (github.com)... 140.82.112.3\n",
            "Connecting to github.com (github.com)|140.82.112.3|:443... connected.\n",
            "HTTP request sent, awaiting response... 302 Found\n",
            "Location: https://raw.githubusercontent.com/Praxis-QR/RDWH/main/mysqlsampledatabase.zip [following]\n",
            "--2021-09-05 02:46:24--  https://raw.githubusercontent.com/Praxis-QR/RDWH/main/mysqlsampledatabase.zip\n",
            "Resolving raw.githubusercontent.com (raw.githubusercontent.com)... 185.199.110.133, 185.199.111.133, 185.199.109.133, ...\n",
            "Connecting to raw.githubusercontent.com (raw.githubusercontent.com)|185.199.110.133|:443... connected.\n",
            "HTTP request sent, awaiting response... 200 OK\n",
            "Length: 54335 (53K) [application/zip]\n",
            "Saving to: ‘mysqlsampledatabase.zip’\n",
            "\n",
            "mysqlsampledatabase 100%[===================>]  53.06K  --.-KB/s    in 0.02s   \n",
            "\n",
            "2021-09-05 02:46:25 (2.87 MB/s) - ‘mysqlsampledatabase.zip’ saved [54335/54335]\n",
            "\n"
          ]
        }
      ]
    },
    {
      "cell_type": "code",
      "metadata": {
        "id": "yB0D7nhTeGKI",
        "colab": {
          "base_uri": "https://localhost:8080/"
        },
        "outputId": "745622ec-290b-4f39-f1ab-96aaa7915e8c"
      },
      "source": [
        "!unzip mysqlsampledatabase.zip"
      ],
      "execution_count": null,
      "outputs": [
        {
          "output_type": "stream",
          "name": "stdout",
          "text": [
            "Archive:  mysqlsampledatabase.zip\n",
            "  inflating: mysqlsampledatabase.sql  \n"
          ]
        }
      ]
    },
    {
      "cell_type": "code",
      "metadata": {
        "colab": {
          "base_uri": "https://localhost:8080/"
        },
        "id": "4vxtfyUzrE8h",
        "outputId": "8704e4b4-fb44-472e-985f-f8c38d5db46c"
      },
      "source": [
        "#!cat /content/mysqlsampledatabase.sql\n",
        "!head /content/mysqlsampledatabase.sql"
      ],
      "execution_count": null,
      "outputs": [
        {
          "output_type": "stream",
          "name": "stdout",
          "text": [
            "/*\r\n",
            "*********************************************************************\r\n",
            "http://www.mysqltutorial.org\r\n",
            "*********************************************************************\r\n",
            "Name: MySQL Sample Database classicmodels\r\n",
            "Link: http://www.mysqltutorial.org/mysql-sample-database.aspx\r\n",
            "Version 3.1\r\n",
            "+ changed data type from DOUBLE to DECIMAL for amount columns\r\n",
            "Version 3.0\r\n",
            "+ changed DATETIME to DATE for some colunmns\r\n"
          ]
        }
      ]
    },
    {
      "cell_type": "markdown",
      "metadata": {
        "id": "BG-aweXoFL0C"
      },
      "source": [
        "## Loading Sample Database into MySQL server"
      ]
    },
    {
      "cell_type": "code",
      "metadata": {
        "id": "Mcz1hsKOkM51"
      },
      "source": [
        "#https://www.mysqltutorial.org/how-to-load-sample-database-into-mysql-database-server.aspx\n",
        "!mysql --table < mysqlsampledatabase.sql"
      ],
      "execution_count": null,
      "outputs": []
    },
    {
      "cell_type": "markdown",
      "metadata": {
        "id": "MSQ5wu0DqwGS"
      },
      "source": [
        "###Check contents of sample database - Classicmodels"
      ]
    },
    {
      "cell_type": "code",
      "metadata": {
        "id": "pG6SadrfkaJH",
        "colab": {
          "base_uri": "https://localhost:8080/"
        },
        "outputId": "94f875aa-f1cf-4e34-a82e-b9ea5af1298b"
      },
      "source": [
        "#New database classicmodels has been created\n",
        "!mysql -e 'show databases'"
      ],
      "execution_count": null,
      "outputs": [
        {
          "output_type": "stream",
          "name": "stdout",
          "text": [
            "+--------------------+\n",
            "| Database           |\n",
            "+--------------------+\n",
            "| information_schema |\n",
            "| classicmodels      |\n",
            "| mysql              |\n",
            "| performance_schema |\n",
            "| sys                |\n",
            "+--------------------+\n"
          ]
        }
      ]
    },
    {
      "cell_type": "code",
      "metadata": {
        "id": "sRHWaFsJkj2b",
        "colab": {
          "base_uri": "https://localhost:8080/"
        },
        "outputId": "4874d274-5163-4c85-92f9-ec2c744e3e2b"
      },
      "source": [
        "!mysql classicmodels -e 'show tables'"
      ],
      "execution_count": null,
      "outputs": [
        {
          "output_type": "stream",
          "name": "stdout",
          "text": [
            "+-------------------------+\n",
            "| Tables_in_classicmodels |\n",
            "+-------------------------+\n",
            "| customers               |\n",
            "| employees               |\n",
            "| offices                 |\n",
            "| orderdetails            |\n",
            "| orders                  |\n",
            "| payments                |\n",
            "| productlines            |\n",
            "| products                |\n",
            "+-------------------------+\n"
          ]
        }
      ]
    },
    {
      "cell_type": "markdown",
      "metadata": {
        "id": "4b-EVyOA4Cvd"
      },
      "source": [
        "\n",
        "This is what the database looks like : <br><br>\n",
        "![alt text](https://www.mysqltutorial.org/wp-content/uploads/2009/12/MySQL-Sample-Database-Schema.png)<br>"
      ]
    },
    {
      "cell_type": "code",
      "metadata": {
        "id": "fERLUxFbk9cU",
        "colab": {
          "base_uri": "https://localhost:8080/"
        },
        "outputId": "3821d36d-b6f1-4938-f98a-d53403d4c6c3"
      },
      "source": [
        "!mysql classicmodels -e 'select * from employees'"
      ],
      "execution_count": null,
      "outputs": [
        {
          "output_type": "stream",
          "name": "stdout",
          "text": [
            "+----------------+-----------+-----------+-----------+---------------------------------+------------+-----------+----------------------+\n",
            "| employeeNumber | lastName  | firstName | extension | email                           | officeCode | reportsTo | jobTitle             |\n",
            "+----------------+-----------+-----------+-----------+---------------------------------+------------+-----------+----------------------+\n",
            "|           1002 | Murphy    | Diane     | x5800     | dmurphy@classicmodelcars.com    | 1          |      NULL | President            |\n",
            "|           1056 | Patterson | Mary      | x4611     | mpatterso@classicmodelcars.com  | 1          |      1002 | VP Sales             |\n",
            "|           1076 | Firrelli  | Jeff      | x9273     | jfirrelli@classicmodelcars.com  | 1          |      1002 | VP Marketing         |\n",
            "|           1088 | Patterson | William   | x4871     | wpatterson@classicmodelcars.com | 6          |      1056 | Sales Manager (APAC) |\n",
            "|           1102 | Bondur    | Gerard    | x5408     | gbondur@classicmodelcars.com    | 4          |      1056 | Sale Manager (EMEA)  |\n",
            "|           1143 | Bow       | Anthony   | x5428     | abow@classicmodelcars.com       | 1          |      1056 | Sales Manager (NA)   |\n",
            "|           1165 | Jennings  | Leslie    | x3291     | ljennings@classicmodelcars.com  | 1          |      1143 | Sales Rep            |\n",
            "|           1166 | Thompson  | Leslie    | x4065     | lthompson@classicmodelcars.com  | 1          |      1143 | Sales Rep            |\n",
            "|           1188 | Firrelli  | Julie     | x2173     | jfirrelli@classicmodelcars.com  | 2          |      1143 | Sales Rep            |\n",
            "|           1216 | Patterson | Steve     | x4334     | spatterson@classicmodelcars.com | 2          |      1143 | Sales Rep            |\n",
            "|           1286 | Tseng     | Foon Yue  | x2248     | ftseng@classicmodelcars.com     | 3          |      1143 | Sales Rep            |\n",
            "|           1323 | Vanauf    | George    | x4102     | gvanauf@classicmodelcars.com    | 3          |      1143 | Sales Rep            |\n",
            "|           1337 | Bondur    | Loui      | x6493     | lbondur@classicmodelcars.com    | 4          |      1102 | Sales Rep            |\n",
            "|           1370 | Hernandez | Gerard    | x2028     | ghernande@classicmodelcars.com  | 4          |      1102 | Sales Rep            |\n",
            "|           1401 | Castillo  | Pamela    | x2759     | pcastillo@classicmodelcars.com  | 4          |      1102 | Sales Rep            |\n",
            "|           1501 | Bott      | Larry     | x2311     | lbott@classicmodelcars.com      | 7          |      1102 | Sales Rep            |\n",
            "|           1504 | Jones     | Barry     | x102      | bjones@classicmodelcars.com     | 7          |      1102 | Sales Rep            |\n",
            "|           1611 | Fixter    | Andy      | x101      | afixter@classicmodelcars.com    | 6          |      1088 | Sales Rep            |\n",
            "|           1612 | Marsh     | Peter     | x102      | pmarsh@classicmodelcars.com     | 6          |      1088 | Sales Rep            |\n",
            "|           1619 | King      | Tom       | x103      | tking@classicmodelcars.com      | 6          |      1088 | Sales Rep            |\n",
            "|           1621 | Nishi     | Mami      | x101      | mnishi@classicmodelcars.com     | 5          |      1056 | Sales Rep            |\n",
            "|           1625 | Kato      | Yoshimi   | x102      | ykato@classicmodelcars.com      | 5          |      1621 | Sales Rep            |\n",
            "|           1702 | Gerard    | Martin    | x2312     | mgerard@classicmodelcars.com    | 4          |      1102 | Sales Rep            |\n",
            "+----------------+-----------+-----------+-----------+---------------------------------+------------+-----------+----------------------+\n"
          ]
        }
      ]
    },
    {
      "cell_type": "markdown",
      "metadata": {
        "id": "TvOVddwxnHL5"
      },
      "source": [
        "##Install Python Client <br>\n"
      ]
    },
    {
      "cell_type": "code",
      "metadata": {
        "id": "KpLfX991nLJx",
        "colab": {
          "base_uri": "https://localhost:8080/"
        },
        "outputId": "4c48dba6-9b85-44a8-a750-2faa60dfcb0f"
      },
      "source": [
        "!apt install libmysqlclient-dev > /dev/null\n",
        "!pip install mysqlclient \n",
        "import pandas as pd\n",
        "import MySQLdb"
      ],
      "execution_count": null,
      "outputs": [
        {
          "output_type": "stream",
          "name": "stdout",
          "text": [
            "\n",
            "WARNING: apt does not have a stable CLI interface. Use with caution in scripts.\n",
            "\n",
            "W: APT had planned for dpkg to do more than it reported back (3 vs 7).\n",
            "   Affected packages: mysql-server-5.7:amd64\n",
            "Collecting mysqlclient\n",
            "  Downloading mysqlclient-2.0.3.tar.gz (88 kB)\n",
            "\u001b[K     |████████████████████████████████| 88 kB 2.8 MB/s \n",
            "\u001b[?25hBuilding wheels for collected packages: mysqlclient\n",
            "  Building wheel for mysqlclient (setup.py) ... \u001b[?25l\u001b[?25hdone\n",
            "  Created wheel for mysqlclient: filename=mysqlclient-2.0.3-cp37-cp37m-linux_x86_64.whl size=100152 sha256=a8efcdd23e211cecf3c9ee4f9bb5e38e8ae6dcf630f58115bd24686e13b89cff\n",
            "  Stored in directory: /root/.cache/pip/wheels/79/1c/f8/11fafab45fe6696eea63794a5d747b9c6b54990ac6f1885fb7\n",
            "Successfully built mysqlclient\n",
            "Installing collected packages: mysqlclient\n",
            "Successfully installed mysqlclient-2.0.3\n"
          ]
        }
      ]
    },
    {
      "cell_type": "code",
      "metadata": {
        "id": "g3RYzQ58nWZ5"
      },
      "source": [
        "#To run any non-SELECT SQL command\n",
        "def runCMD (DDL):\n",
        "    #DBConn= MySQLdb.connect(hostName,userName,passWord,dbName)\n",
        "    DBConn= MySQLdb.connect(db='classicmodels')  # since local MySQL server, userid, password not needed\n",
        "    myCursor = DBConn.cursor()\n",
        "    retcode = myCursor.execute(DDL) \n",
        "    print (retcode)\n",
        "    DBConn.commit()\n",
        "    DBConn.close()\n",
        "\n",
        "#To run any SELECT SQL command\n",
        "def runSELECT (CMD):\n",
        "    #DBConn= MySQLdb.connect(hostName,userName,passWord,dbName)\n",
        "    DBConn= MySQLdb.connect(db='classicmodels') # since local MySQL server, userid, password not needed\n",
        "    df_mysql = pd.read_sql(CMD, con=DBConn)    \n",
        "    DBConn.close()\n",
        "    return df_mysql"
      ],
      "execution_count": null,
      "outputs": []
    },
    {
      "cell_type": "markdown",
      "metadata": {
        "id": "__Du-k4doKOx"
      },
      "source": [
        "###Check out all tables"
      ]
    },
    {
      "cell_type": "code",
      "metadata": {
        "colab": {
          "base_uri": "https://localhost:8080/"
        },
        "id": "mjEYbQdJL7de",
        "outputId": "e469f0df-18b4-4283-da16-a4396dd277c0"
      },
      "source": [
        "!mysql classicmodels -e 'show tables'"
      ],
      "execution_count": null,
      "outputs": [
        {
          "output_type": "stream",
          "name": "stdout",
          "text": [
            "+-------------------------+\n",
            "| Tables_in_classicmodels |\n",
            "+-------------------------+\n",
            "| customers               |\n",
            "| employees               |\n",
            "| offices                 |\n",
            "| orderdetails            |\n",
            "| orders                  |\n",
            "| payments                |\n",
            "| productlines            |\n",
            "| products                |\n",
            "+-------------------------+\n"
          ]
        }
      ]
    },
    {
      "cell_type": "code",
      "metadata": {
        "id": "V-zPWyTZoOPy",
        "colab": {
          "base_uri": "https://localhost:8080/",
          "height": 287
        },
        "outputId": "b2a1c7ed-c91d-4235-9cb4-e40e0e38f931"
      },
      "source": [
        "#runSELECT('select * from customers limit 5')\n",
        "#runSELECT('select * from employees limit 5')\n",
        "#runSELECT('select * from offices limit 5')\n",
        "#runSELECT('select * from orderdetails limit 5')\n",
        "#runSELECT('select * from orders limit 5')\n",
        "#runSELECT('select * from payments limit 5')\n",
        "#runSELECT('select * from productlines limit 5')\n",
        "runSELECT('select * from products limit 5')"
      ],
      "execution_count": null,
      "outputs": [
        {
          "output_type": "execute_result",
          "data": {
            "text/html": [
              "<div>\n",
              "<style scoped>\n",
              "    .dataframe tbody tr th:only-of-type {\n",
              "        vertical-align: middle;\n",
              "    }\n",
              "\n",
              "    .dataframe tbody tr th {\n",
              "        vertical-align: top;\n",
              "    }\n",
              "\n",
              "    .dataframe thead th {\n",
              "        text-align: right;\n",
              "    }\n",
              "</style>\n",
              "<table border=\"1\" class=\"dataframe\">\n",
              "  <thead>\n",
              "    <tr style=\"text-align: right;\">\n",
              "      <th></th>\n",
              "      <th>productCode</th>\n",
              "      <th>productName</th>\n",
              "      <th>productLine</th>\n",
              "      <th>productScale</th>\n",
              "      <th>productVendor</th>\n",
              "      <th>productDescription</th>\n",
              "      <th>quantityInStock</th>\n",
              "      <th>buyPrice</th>\n",
              "      <th>MSRP</th>\n",
              "    </tr>\n",
              "  </thead>\n",
              "  <tbody>\n",
              "    <tr>\n",
              "      <th>0</th>\n",
              "      <td>S10_1678</td>\n",
              "      <td>1969 Harley Davidson Ultimate Chopper</td>\n",
              "      <td>Motorcycles</td>\n",
              "      <td>1:10</td>\n",
              "      <td>Min Lin Diecast</td>\n",
              "      <td>This replica features working kickstand, front...</td>\n",
              "      <td>7933</td>\n",
              "      <td>48.81</td>\n",
              "      <td>95.70</td>\n",
              "    </tr>\n",
              "    <tr>\n",
              "      <th>1</th>\n",
              "      <td>S10_1949</td>\n",
              "      <td>1952 Alpine Renault 1300</td>\n",
              "      <td>Classic Cars</td>\n",
              "      <td>1:10</td>\n",
              "      <td>Classic Metal Creations</td>\n",
              "      <td>Turnable front wheels; steering function; deta...</td>\n",
              "      <td>7305</td>\n",
              "      <td>98.58</td>\n",
              "      <td>214.30</td>\n",
              "    </tr>\n",
              "    <tr>\n",
              "      <th>2</th>\n",
              "      <td>S10_2016</td>\n",
              "      <td>1996 Moto Guzzi 1100i</td>\n",
              "      <td>Motorcycles</td>\n",
              "      <td>1:10</td>\n",
              "      <td>Highway 66 Mini Classics</td>\n",
              "      <td>Official Moto Guzzi logos and insignias, saddl...</td>\n",
              "      <td>6625</td>\n",
              "      <td>68.99</td>\n",
              "      <td>118.94</td>\n",
              "    </tr>\n",
              "    <tr>\n",
              "      <th>3</th>\n",
              "      <td>S10_4698</td>\n",
              "      <td>2003 Harley-Davidson Eagle Drag Bike</td>\n",
              "      <td>Motorcycles</td>\n",
              "      <td>1:10</td>\n",
              "      <td>Red Start Diecast</td>\n",
              "      <td>Model features, official Harley Davidson logos...</td>\n",
              "      <td>5582</td>\n",
              "      <td>91.02</td>\n",
              "      <td>193.66</td>\n",
              "    </tr>\n",
              "    <tr>\n",
              "      <th>4</th>\n",
              "      <td>S10_4757</td>\n",
              "      <td>1972 Alfa Romeo GTA</td>\n",
              "      <td>Classic Cars</td>\n",
              "      <td>1:10</td>\n",
              "      <td>Motor City Art Classics</td>\n",
              "      <td>Features include: Turnable front wheels; steer...</td>\n",
              "      <td>3252</td>\n",
              "      <td>85.68</td>\n",
              "      <td>136.00</td>\n",
              "    </tr>\n",
              "  </tbody>\n",
              "</table>\n",
              "</div>"
            ],
            "text/plain": [
              "  productCode                            productName  ... buyPrice    MSRP\n",
              "0    S10_1678  1969 Harley Davidson Ultimate Chopper  ...    48.81   95.70\n",
              "1    S10_1949               1952 Alpine Renault 1300  ...    98.58  214.30\n",
              "2    S10_2016                  1996 Moto Guzzi 1100i  ...    68.99  118.94\n",
              "3    S10_4698   2003 Harley-Davidson Eagle Drag Bike  ...    91.02  193.66\n",
              "4    S10_4757                    1972 Alfa Romeo GTA  ...    85.68  136.00\n",
              "\n",
              "[5 rows x 9 columns]"
            ]
          },
          "metadata": {},
          "execution_count": 14
        }
      ]
    },
    {
      "cell_type": "markdown",
      "metadata": {
        "id": "vOgS3QKvM8cI"
      },
      "source": [
        "#Section 2 : Querying Data"
      ]
    },
    {
      "cell_type": "markdown",
      "metadata": {
        "id": "5nB6ipe8M_7l"
      },
      "source": [
        "#Section 3 - Sorting Data"
      ]
    },
    {
      "cell_type": "markdown",
      "metadata": {
        "id": "kPksyk6OpJ0y"
      },
      "source": [
        "#Chronobooks <br>\n",
        "![alt text](https://1.bp.blogspot.com/-lTiYBkU2qbU/X1er__fvnkI/AAAAAAAAjtE/GhDR3OEGJr4NG43fZPodrQD5kbxtnKebgCLcBGAsYHQ/s600/Footer2020-600x200.png)<hr>\n",
        "Chronotantra and Chronoyantra are two science fiction novels that explore the collapse of human civilisation on Earth and then its rebirth and reincarnation both on Earth as well as on the distant worlds of Mars, Titan and Enceladus. But is it the human civilisation that is being reborn? Or is it some other sentience that is revealing itself. \n",
        "If you have an interest in AI and found this material useful, you may consider buying these novel, in paperback or kindle, from [http://bit.ly/chronobooks](http://bit.ly/chronobooks)"
      ]
    }
  ]
}