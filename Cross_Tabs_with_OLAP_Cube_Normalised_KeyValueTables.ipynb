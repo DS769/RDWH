{
  "nbformat": 4,
  "nbformat_minor": 0,
  "metadata": {
    "colab": {
      "name": "Cross Tabs with OLAP Cube - Normalised KeyValueTables",
      "provenance": [],
      "collapsed_sections": [
        "_rU8CnnudQAX",
        "gXQysJFYdWXg",
        "8tsY08hYy0jc",
        "6eMUYZpazkH_",
        "VMfF86Pf3kaQ",
        "clFiGj-X3p6b",
        "G7s5vD_N3wV5",
        "pPTQuLMEDt--"
      ],
      "toc_visible": true,
      "include_colab_link": true
    },
    "kernelspec": {
      "name": "python3",
      "display_name": "Python 3"
    }
  },
  "cells": [
    {
      "cell_type": "markdown",
      "metadata": {
        "id": "view-in-github",
        "colab_type": "text"
      },
      "source": [
        "<a href=\"https://colab.research.google.com/github/Praxis-QR/RDWH/blob/main/Cross_Tabs_with_OLAP_Cube_Normalised_KeyValueTables.ipynb\" target=\"_parent\"><img src=\"https://colab.research.google.com/assets/colab-badge.svg\" alt=\"Open In Colab\"/></a>"
      ]
    },
    {
      "cell_type": "markdown",
      "metadata": {
        "id": "4eYqHc2E6vqX"
      },
      "source": [
        "![alt text](https://4.bp.blogspot.com/-gbL5nZDkpFQ/XScFYwoTEII/AAAAAAAAAGY/CcVb_HDLwvs2Brv5T4vSsUcz7O4r2Q79ACK4BGAYYCw/s1600/kk3-header00-beta.png)<br>\n",
        "\n",
        "\n",
        "<hr>\n",
        "\n",
        "[Prithwis Mukerjee](http://www.linkedin.com/in/prithwis)<br>"
      ]
    },
    {
      "cell_type": "markdown",
      "metadata": {
        "id": "_yscy5Ox67yy"
      },
      "source": [
        "#Generating Cross Tabs\n",
        "Companion codes for [this slide deck](https://docs.google.com/presentation/d/1wQzZoHFo3NVk-dMTebHA4LH7B4KYmOfiSammjsSRGL0/edit?usp=sharing)"
      ]
    },
    {
      "cell_type": "markdown",
      "metadata": {
        "id": "_rU8CnnudQAX"
      },
      "source": [
        "#Install MySQL"
      ]
    },
    {
      "cell_type": "code",
      "metadata": {
        "id": "inGB7KgJHQFJ"
      },
      "source": [
        "# Some system parameters\n",
        "#!cat /proc/cpuinfo\n",
        "#!cat /proc/meminfo"
      ],
      "execution_count": null,
      "outputs": []
    },
    {
      "cell_type": "code",
      "metadata": {
        "id": "J8p8UAbybZnT"
      },
      "source": [
        "!apt-get -y install mysql-server > null"
      ],
      "execution_count": null,
      "outputs": []
    },
    {
      "cell_type": "code",
      "metadata": {
        "id": "sJoqowCvcCVR",
        "colab": {
          "base_uri": "https://localhost:8080/",
          "height": 101
        },
        "outputId": "8205c41d-9ca5-4c7e-e307-bac99556c732"
      },
      "source": [
        "!/etc/init.d/mysql restart"
      ],
      "execution_count": null,
      "outputs": [
        {
          "output_type": "stream",
          "text": [
            " * Stopping MySQL database server mysqld\n",
            "   ...done.\n",
            " * Starting MySQL database server mysqld\n",
            "No directory, logging in with HOME=/\n",
            "   ...done.\n"
          ],
          "name": "stdout"
        }
      ]
    },
    {
      "cell_type": "code",
      "metadata": {
        "id": "zRb4tR92cLT1",
        "colab": {
          "base_uri": "https://localhost:8080/",
          "height": 151
        },
        "outputId": "13ac87e2-2b9a-4afc-cdaf-cdcbabcf0fab"
      },
      "source": [
        "!mysql -e 'show databases'"
      ],
      "execution_count": null,
      "outputs": [
        {
          "output_type": "stream",
          "text": [
            "+--------------------+\n",
            "| Database           |\n",
            "+--------------------+\n",
            "| information_schema |\n",
            "| mysql              |\n",
            "| performance_schema |\n",
            "| sys                |\n",
            "+--------------------+\n"
          ],
          "name": "stdout"
        }
      ]
    },
    {
      "cell_type": "code",
      "metadata": {
        "id": "ftaVKxKKcRut"
      },
      "source": [
        "!mysql -e 'create database praxisDB'"
      ],
      "execution_count": null,
      "outputs": []
    },
    {
      "cell_type": "markdown",
      "metadata": {
        "id": "gXQysJFYdWXg"
      },
      "source": [
        "#Create, Load Normalised Fact Table"
      ]
    },
    {
      "cell_type": "code",
      "metadata": {
        "id": "pbzN0xOSdam_",
        "colab": {
          "base_uri": "https://localhost:8080/",
          "height": 34
        },
        "outputId": "e35ef8e8-9f5e-4798-d8de-a5005bb1cb07"
      },
      "source": [
        "!mysql praxisDB -e 'DROP table CarSalesFact_N'\n",
        "!mysql praxisDB -e 'CREATE TABLE CarSalesFact_N ( Txn int(2) ,  Dim  varchar(8) ,  DimValue varchar(8) ) '"
      ],
      "execution_count": null,
      "outputs": [
        {
          "output_type": "stream",
          "text": [
            "ERROR 1051 (42S02) at line 1: Unknown table 'praxisDB.CarSalesFact_N'\n"
          ],
          "name": "stdout"
        }
      ]
    },
    {
      "cell_type": "code",
      "metadata": {
        "id": "C_PQ6dNPeuCj",
        "colab": {
          "base_uri": "https://localhost:8080/",
          "height": 134
        },
        "outputId": "d5d5490a-6001-4eda-8024-12bcd57d2147"
      },
      "source": [
        "!mysql praxisDB -e 'desc CarSalesFact_N'"
      ],
      "execution_count": null,
      "outputs": [
        {
          "output_type": "stream",
          "text": [
            "+----------+------------+------+-----+---------+-------+\n",
            "| Field    | Type       | Null | Key | Default | Extra |\n",
            "+----------+------------+------+-----+---------+-------+\n",
            "| Txn      | int(2)     | YES  |     | NULL    |       |\n",
            "| Dim      | varchar(8) | YES  |     | NULL    |       |\n",
            "| DimValue | varchar(8) | YES  |     | NULL    |       |\n",
            "+----------+------------+------+-----+---------+-------+\n"
          ],
          "name": "stdout"
        }
      ]
    },
    {
      "cell_type": "code",
      "metadata": {
        "id": "Dp6bA6gcfcnh"
      },
      "source": [
        "!mysql praxisDB -e \" \\\n",
        "INSERT INTO CarSalesFact_N (Txn, Dim, DimValue) VALUES \\\n",
        " (1, 'Make', 'Honda'),(1, 'Type', 'SUV'),(1, 'Colour', 'Red'),\\\n",
        " (2, 'Make', 'Honda'),(2, 'Type', 'SUV'),(2, 'Colour', 'Black'), \\\n",
        " (3, 'Make', 'Honda'),(3, 'Type', 'Sedan'),(3, 'Colour', 'Brown'),\\\n",
        " (4, 'Make', 'Toyota'),(4, 'Type', 'Compact'),(4, 'Colour', 'Red'),\\\n",
        " (5, 'Make', 'Toyota'),(5, 'Colour', 'Black'),(5, 'Type', 'Sedan'),\\\n",
        " (6, 'Make', 'Toyota'),(6, 'Colour', 'Black'),(6, 'Type', 'Sedan'),\\\n",
        " (7, 'Make', 'Honda'),(7, 'Type', 'SUV'),(7, 'Colour', 'Black'),\\\n",
        " (8, 'Make', 'Honda'),(8, 'Type', 'SUV'),(8, 'Colour', 'Red'),\\\n",
        " (9, 'Make', 'Honda'),(9, 'Type', 'SUV'),(9, 'Colour', 'Black'),\\\n",
        " (10, 'Make', 'Honda'),(10, 'Type', 'SUV'),(10, 'Colour', 'Black'),\\\n",
        " (11, 'Make', 'Mazda'),(11, 'Type', 'SUV'),(11, 'Colour', 'Black'),\\\n",
        " (12, 'Make', 'Mazda'),(12, 'Type', 'Compact'),(12, 'Colour', 'Red'),\\\n",
        " (13, 'Make', 'Mazda'),(13, 'Type', 'Sedan'),(13, 'Colour', 'Brown'),\\\n",
        " (14, 'Make', 'Mazda'),(14, 'Type', 'SUV'),(14, 'Colour', 'Red');\\\n",
        " \"\n"
      ],
      "execution_count": null,
      "outputs": []
    },
    {
      "cell_type": "code",
      "metadata": {
        "id": "ImVXnLlqgJzb",
        "colab": {
          "base_uri": "https://localhost:8080/",
          "height": 790
        },
        "outputId": "95636872-cf4f-4cfe-854a-adaf9c70cdb8"
      },
      "source": [
        "!mysql praxisDB -e 'select * from CarSalesFact_N'"
      ],
      "execution_count": null,
      "outputs": [
        {
          "output_type": "stream",
          "text": [
            "+------+--------+----------+\n",
            "| Txn  | Dim    | DimValue |\n",
            "+------+--------+----------+\n",
            "|    1 | Make   | Honda    |\n",
            "|    1 | Type   | SUV      |\n",
            "|    1 | Colour | Red      |\n",
            "|    2 | Make   | Honda    |\n",
            "|    2 | Type   | SUV      |\n",
            "|    2 | Colour | Black    |\n",
            "|    3 | Make   | Honda    |\n",
            "|    3 | Type   | Sedan    |\n",
            "|    3 | Colour | Brown    |\n",
            "|    4 | Make   | Toyota   |\n",
            "|    4 | Type   | Compact  |\n",
            "|    4 | Colour | Red      |\n",
            "|    5 | Make   | Toyota   |\n",
            "|    5 | Colour | Black    |\n",
            "|    5 | Type   | Sedan    |\n",
            "|    6 | Make   | Toyota   |\n",
            "|    6 | Colour | Black    |\n",
            "|    6 | Type   | Sedan    |\n",
            "|    7 | Make   | Honda    |\n",
            "|    7 | Type   | SUV      |\n",
            "|    7 | Colour | Black    |\n",
            "|    8 | Make   | Honda    |\n",
            "|    8 | Type   | SUV      |\n",
            "|    8 | Colour | Red      |\n",
            "|    9 | Make   | Honda    |\n",
            "|    9 | Type   | SUV      |\n",
            "|    9 | Colour | Black    |\n",
            "|   10 | Make   | Honda    |\n",
            "|   10 | Type   | SUV      |\n",
            "|   10 | Colour | Black    |\n",
            "|   11 | Make   | Mazda    |\n",
            "|   11 | Type   | SUV      |\n",
            "|   11 | Colour | Black    |\n",
            "|   12 | Make   | Mazda    |\n",
            "|   12 | Type   | Compact  |\n",
            "|   12 | Colour | Red      |\n",
            "|   13 | Make   | Mazda    |\n",
            "|   13 | Type   | Sedan    |\n",
            "|   13 | Colour | Brown    |\n",
            "|   14 | Make   | Mazda    |\n",
            "|   14 | Type   | SUV      |\n",
            "|   14 | Colour | Red      |\n",
            "+------+--------+----------+\n"
          ],
          "name": "stdout"
        }
      ]
    },
    {
      "cell_type": "markdown",
      "metadata": {
        "id": "I-2HjQYIVeIE"
      },
      "source": [
        "#Create a Standard Fact Table"
      ]
    },
    {
      "cell_type": "markdown",
      "metadata": {
        "id": "AhcYngc3IbPd"
      },
      "source": [
        "##Pivot - Rows to Columns"
      ]
    },
    {
      "cell_type": "code",
      "metadata": {
        "id": "McZuZSEaWZeW",
        "colab": {
          "base_uri": "https://localhost:8080/",
          "height": 319
        },
        "outputId": "0eb5105d-4608-4d25-ebbb-fa385684d3f4"
      },
      "source": [
        "!mysql praxisDB -e \"\\\n",
        "SELECT \\\n",
        "  Txn,\\\n",
        "  GROUP_CONCAT(if(Dim = 'Make', DimValue, NULL)) AS 'Make',\\\n",
        "  GROUP_CONCAT(if(Dim = 'Type', DimValue, NULL)) AS 'Type',\\\n",
        "  GROUP_CONCAT(if(Dim = 'Colour', DimValue, NULL)) AS 'Colour'\\\n",
        "FROM CarSalesFact_N \\\n",
        "GROUP BY txn \\\n",
        "\""
      ],
      "execution_count": null,
      "outputs": [
        {
          "output_type": "stream",
          "text": [
            "+------+--------+---------+--------+\n",
            "| Txn  | Make   | Type    | Colour |\n",
            "+------+--------+---------+--------+\n",
            "|    1 | Honda  | SUV     | Red    |\n",
            "|    2 | Honda  | SUV     | Black  |\n",
            "|    3 | Honda  | Sedan   | Brown  |\n",
            "|    4 | Toyota | Compact | Red    |\n",
            "|    5 | Toyota | Sedan   | Black  |\n",
            "|    6 | Toyota | Sedan   | Black  |\n",
            "|    7 | Honda  | SUV     | Black  |\n",
            "|    8 | Honda  | SUV     | Red    |\n",
            "|    9 | Honda  | SUV     | Black  |\n",
            "|   10 | Honda  | SUV     | Black  |\n",
            "|   11 | Mazda  | SUV     | Black  |\n",
            "|   12 | Mazda  | Compact | Red    |\n",
            "|   13 | Mazda  | Sedan   | Brown  |\n",
            "|   14 | Mazda  | SUV     | Red    |\n",
            "+------+--------+---------+--------+\n"
          ],
          "name": "stdout"
        }
      ]
    },
    {
      "cell_type": "markdown",
      "metadata": {
        "id": "uC9bkbFFIhcD"
      },
      "source": [
        "##Create CUBE"
      ]
    },
    {
      "cell_type": "code",
      "metadata": {
        "id": "JSa-yU9RXL7o",
        "colab": {
          "base_uri": "https://localhost:8080/",
          "height": 235
        },
        "outputId": "aab9dc2c-4954-474a-c33e-04fe060b1205"
      },
      "source": [
        "!mysql praxisDB -e \"\\\n",
        "select csf0.Make, csf0.Type, csf0.Colour, count(txn) Units from \\\n",
        "(SELECT \\\n",
        "  Txn,\\\n",
        "  GROUP_CONCAT(if(Dim = 'Make', DimValue, NULL)) AS 'Make',\\\n",
        "  GROUP_CONCAT(if(Dim = 'Type', DimValue, NULL)) AS 'Type',\\\n",
        "  GROUP_CONCAT(if(Dim = 'Colour', DimValue, NULL)) AS 'Colour'\\\n",
        "FROM CarSalesFact_N \\\n",
        "GROUP BY txn \\\n",
        ") as csf0 \\\n",
        "group by \\\n",
        "csf0.Make, csf0.Type, csf0.Colour \\\n",
        "\""
      ],
      "execution_count": null,
      "outputs": [
        {
          "output_type": "stream",
          "text": [
            "+--------+---------+--------+-------+\n",
            "| Make   | Type    | Colour | Units |\n",
            "+--------+---------+--------+-------+\n",
            "| Honda  | Sedan   | Brown  |     1 |\n",
            "| Honda  | SUV     | Black  |     4 |\n",
            "| Honda  | SUV     | Red    |     2 |\n",
            "| Mazda  | Compact | Red    |     1 |\n",
            "| Mazda  | Sedan   | Brown  |     1 |\n",
            "| Mazda  | SUV     | Black  |     1 |\n",
            "| Mazda  | SUV     | Red    |     1 |\n",
            "| Toyota | Compact | Red    |     1 |\n",
            "| Toyota | Sedan   | Black  |     2 |\n",
            "+--------+---------+--------+-------+\n"
          ],
          "name": "stdout"
        }
      ]
    },
    {
      "cell_type": "code",
      "metadata": {
        "id": "Py1QrkIZZuEY",
        "colab": {
          "base_uri": "https://localhost:8080/",
          "height": 252
        },
        "outputId": "46262194-09ff-479e-b304-13fff4956f4c"
      },
      "source": [
        "!mysql praxisDB -e \"drop table CarSalesFact_S\"  \n",
        "!mysql praxisDB -e \" \\\n",
        "create table CarSalesFact_S as ( \\\n",
        "    select csf0.Make, csf0.Type, csf0.Colour, count(txn) Units from \\\n",
        "        (SELECT \\\n",
        "        Txn,\\\n",
        "        GROUP_CONCAT(if(Dim = 'Make', DimValue, NULL)) AS 'Make',\\\n",
        "        GROUP_CONCAT(if(Dim = 'Type', DimValue, NULL)) AS 'Type',\\\n",
        "        GROUP_CONCAT(if(Dim = 'Colour', DimValue, NULL)) AS 'Colour'\\\n",
        "        FROM CarSalesFact_N \\\n",
        "        GROUP BY txn \\\n",
        "        ) as csf0 \\\n",
        "        group by \\\n",
        "        csf0.Make, csf0.Type, csf0.Colour \\\n",
        ") \\\n",
        "\"\n",
        "!mysql praxisDB -e \"select * from CarSalesFact_S\"  "
      ],
      "execution_count": null,
      "outputs": [
        {
          "output_type": "stream",
          "text": [
            "ERROR 1051 (42S02) at line 1: Unknown table 'praxisDB.CarSalesFact_S'\n",
            "+--------+---------+--------+-------+\n",
            "| Make   | Type    | Colour | Units |\n",
            "+--------+---------+--------+-------+\n",
            "| Honda  | Sedan   | Brown  |     1 |\n",
            "| Honda  | SUV     | Black  |     4 |\n",
            "| Honda  | SUV     | Red    |     2 |\n",
            "| Mazda  | Compact | Red    |     1 |\n",
            "| Mazda  | Sedan   | Brown  |     1 |\n",
            "| Mazda  | SUV     | Black  |     1 |\n",
            "| Mazda  | SUV     | Red    |     1 |\n",
            "| Toyota | Compact | Red    |     1 |\n",
            "| Toyota | Sedan   | Black  |     2 |\n",
            "+--------+---------+--------+-------+\n"
          ],
          "name": "stdout"
        }
      ]
    },
    {
      "cell_type": "markdown",
      "metadata": {
        "id": "AGiIe8WSgql3"
      },
      "source": [
        "#Cross Tabs"
      ]
    },
    {
      "cell_type": "markdown",
      "metadata": {
        "id": "0nRzdvzuue3B"
      },
      "source": [
        "##Level 1"
      ]
    },
    {
      "cell_type": "code",
      "metadata": {
        "id": "CZhFdY6GZrwr",
        "colab": {
          "base_uri": "https://localhost:8080/",
          "height": 202
        },
        "outputId": "0c9ebe64-1689-49a2-c089-65b527d12013"
      },
      "source": [
        "!mysql praxisDB -e \" \\\n",
        "  select Make, Type, Sum(Units) Count \\\n",
        "  from CarSalesFact_S \\\n",
        "  group by Make, Type \\\n",
        "\""
      ],
      "execution_count": null,
      "outputs": [
        {
          "output_type": "stream",
          "text": [
            "+--------+---------+-------+\n",
            "| Make   | Type    | Count |\n",
            "+--------+---------+-------+\n",
            "| Honda  | Sedan   |     1 |\n",
            "| Honda  | SUV     |     6 |\n",
            "| Mazda  | Compact |     1 |\n",
            "| Mazda  | Sedan   |     1 |\n",
            "| Mazda  | SUV     |     2 |\n",
            "| Toyota | Compact |     1 |\n",
            "| Toyota | Sedan   |     2 |\n",
            "+--------+---------+-------+\n"
          ],
          "name": "stdout"
        }
      ]
    },
    {
      "cell_type": "markdown",
      "metadata": {
        "id": "eZOW8xonuirJ"
      },
      "source": [
        "##Level 2 - Rollup"
      ]
    },
    {
      "cell_type": "code",
      "metadata": {
        "id": "ftQA8XDdpHH0",
        "colab": {
          "base_uri": "https://localhost:8080/",
          "height": 269
        },
        "outputId": "b3008892-700d-49d6-a11b-69e4609b46b1"
      },
      "source": [
        "!mysql praxisDB -e \" \\\n",
        "  select Make, Type, Sum(Units) Count \\\n",
        "  from CarSalesFact_S \\\n",
        "  group by Make, Type  \\\n",
        "  with ROLLUP; \\\n",
        "\""
      ],
      "execution_count": null,
      "outputs": [
        {
          "output_type": "stream",
          "text": [
            "+--------+---------+-------+\n",
            "| Make   | Type    | Count |\n",
            "+--------+---------+-------+\n",
            "| Honda  | Sedan   |     1 |\n",
            "| Honda  | SUV     |     6 |\n",
            "| Honda  | NULL    |     7 |\n",
            "| Mazda  | Compact |     1 |\n",
            "| Mazda  | Sedan   |     1 |\n",
            "| Mazda  | SUV     |     2 |\n",
            "| Mazda  | NULL    |     4 |\n",
            "| Toyota | Compact |     1 |\n",
            "| Toyota | Sedan   |     2 |\n",
            "| Toyota | NULL    |     3 |\n",
            "| NULL   | NULL    |    14 |\n",
            "+--------+---------+-------+\n"
          ],
          "name": "stdout"
        }
      ]
    },
    {
      "cell_type": "code",
      "metadata": {
        "id": "0FpngPRshgOn",
        "colab": {
          "base_uri": "https://localhost:8080/",
          "height": 269
        },
        "outputId": "a633cb24-bc2e-47bd-a794-24a61ce29904"
      },
      "source": [
        "!mysql praxisDB -e \" \\\n",
        "  select IFNULL(Make,'-total-') 'Make', IFNULL(Type,'-total-') 'Type', Sum(Units) Count \\\n",
        "  from CarSalesFact_S \\\n",
        "  group by Make, Type  \\\n",
        "  with ROLLUP; \\\n",
        "\""
      ],
      "execution_count": null,
      "outputs": [
        {
          "output_type": "stream",
          "text": [
            "+---------+---------+-------+\n",
            "| Make    | Type    | Count |\n",
            "+---------+---------+-------+\n",
            "| Honda   | Sedan   |     1 |\n",
            "| Honda   | SUV     |     6 |\n",
            "| Honda   | -total- |     7 |\n",
            "| Mazda   | Compact |     1 |\n",
            "| Mazda   | Sedan   |     1 |\n",
            "| Mazda   | SUV     |     2 |\n",
            "| Mazda   | -total- |     4 |\n",
            "| Toyota  | Compact |     1 |\n",
            "| Toyota  | Sedan   |     2 |\n",
            "| Toyota  | -total- |     3 |\n",
            "| -total- | -total- |    14 |\n",
            "+---------+---------+-------+\n"
          ],
          "name": "stdout"
        }
      ]
    },
    {
      "cell_type": "code",
      "metadata": {
        "id": "06EFilSnOfWj",
        "colab": {
          "base_uri": "https://localhost:8080/",
          "height": 151
        },
        "outputId": "6fcbccd3-bb52-4e52-e023-c8a31793e15b"
      },
      "source": [
        "!mysql praxisDB -e \" \\\n",
        "  select Make, Sum(Units) Count \\\n",
        "  from CarSalesFact_S \\\n",
        "  group by Make  \\\n",
        "  with ROLLUP; \\\n",
        "\""
      ],
      "execution_count": null,
      "outputs": [
        {
          "output_type": "stream",
          "text": [
            "+--------+-------+\n",
            "| Make   | Count |\n",
            "+--------+-------+\n",
            "| Honda  |     7 |\n",
            "| Mazda  |     4 |\n",
            "| Toyota |     3 |\n",
            "| NULL   |    14 |\n",
            "+--------+-------+\n"
          ],
          "name": "stdout"
        }
      ]
    },
    {
      "cell_type": "markdown",
      "metadata": {
        "id": "qhqZ2gujZie7"
      },
      "source": [
        "### Roll UP even more"
      ]
    },
    {
      "cell_type": "code",
      "metadata": {
        "id": "9I6Jc4x9PlZe",
        "colab": {
          "base_uri": "https://localhost:8080/",
          "height": 151
        },
        "outputId": "2c9a4d19-c7be-4d19-d9f8-c7caac41401d"
      },
      "source": [
        "!mysql praxisDB -e \" \\\n",
        "  select IFNULL(Make,'-total-') 'Make', Sum(Units) Count \\\n",
        "  from CarSalesFact_S \\\n",
        "  group by Make  \\\n",
        "  with ROLLUP; \\\n",
        "\""
      ],
      "execution_count": null,
      "outputs": [
        {
          "output_type": "stream",
          "text": [
            "+---------+-------+\n",
            "| Make    | Count |\n",
            "+---------+-------+\n",
            "| Honda   |     7 |\n",
            "| Mazda   |     4 |\n",
            "| Toyota  |     3 |\n",
            "| -total- |    14 |\n",
            "+---------+-------+\n"
          ],
          "name": "stdout"
        }
      ]
    },
    {
      "cell_type": "code",
      "metadata": {
        "id": "m3-stF3hXtD8",
        "colab": {
          "base_uri": "https://localhost:8080/",
          "height": 101
        },
        "outputId": "2a58271c-c0d2-4578-a4e5-a5193d1d68d5"
      },
      "source": [
        "!mysql praxisDB -e \" \\\n",
        "  select Sum(Units) 'Total' \\\n",
        "  from CarSalesFact_S \\\n",
        "\""
      ],
      "execution_count": null,
      "outputs": [
        {
          "output_type": "stream",
          "text": [
            "+-------+\n",
            "| Total |\n",
            "+-------+\n",
            "|    14 |\n",
            "+-------+\n"
          ],
          "name": "stdout"
        }
      ]
    },
    {
      "cell_type": "code",
      "metadata": {
        "id": "oMAULGqMZts-",
        "colab": {
          "base_uri": "https://localhost:8080/",
          "height": 151
        },
        "outputId": "0ab3489e-04a2-47da-9351-c5dc4e99d72f"
      },
      "source": [
        "!mysql praxisDB -e \" \\\n",
        "  select IFNULL(Type,'-total-') 'Type', Sum(Units) Count \\\n",
        "  from CarSalesFact_S \\\n",
        "  group by Type  \\\n",
        "  with ROLLUP; \\\n",
        "\""
      ],
      "execution_count": null,
      "outputs": [
        {
          "output_type": "stream",
          "text": [
            "+---------+-------+\n",
            "| Type    | Count |\n",
            "+---------+-------+\n",
            "| Compact |     2 |\n",
            "| Sedan   |     4 |\n",
            "| SUV     |     8 |\n",
            "| -total- |    14 |\n",
            "+---------+-------+\n"
          ],
          "name": "stdout"
        }
      ]
    },
    {
      "cell_type": "markdown",
      "metadata": {
        "id": "-Kd34K88ulpe"
      },
      "source": [
        "##Level 3  - THREE crosstabs"
      ]
    },
    {
      "cell_type": "code",
      "metadata": {
        "id": "6yzNs7wHMx7N"
      },
      "source": [
        ""
      ],
      "execution_count": null,
      "outputs": []
    },
    {
      "cell_type": "code",
      "metadata": {
        "id": "zjHVzwW5M1jb",
        "colab": {
          "base_uri": "https://localhost:8080/",
          "height": 151
        },
        "outputId": "11381670-6b78-45bf-e71c-9c78aaa9b86a"
      },
      "source": [
        "!mysql praxisDB -e  \"\\\n",
        "SELECT \\\n",
        "\tMake,\\\n",
        "\tSUM(IF(Type='SUV',Units,0))  'SUV',\\\n",
        "\tSUM(IF(Type='Sedan',Units,0))  'Sedan',\\\n",
        "\tSUM(IF(Type='Compact',Units,0))  'Compact'\\\n",
        "  FROM CarSalesFact_S\\\n",
        "  GROUP BY Make WITH ROLLUP\\\n",
        "\""
      ],
      "execution_count": null,
      "outputs": [
        {
          "output_type": "stream",
          "text": [
            "+--------+------+-------+---------+\n",
            "| Make   | SUV  | Sedan | Compact |\n",
            "+--------+------+-------+---------+\n",
            "| Honda  |    6 |     1 |       0 |\n",
            "| Mazda  |    2 |     1 |       1 |\n",
            "| Toyota |    0 |     2 |       1 |\n",
            "| NULL   |    8 |     4 |       2 |\n",
            "+--------+------+-------+---------+\n"
          ],
          "name": "stdout"
        }
      ]
    },
    {
      "cell_type": "code",
      "metadata": {
        "id": "P8iGY3uUqS_6",
        "colab": {
          "base_uri": "https://localhost:8080/",
          "height": 151
        },
        "outputId": "0725c52a-e2a1-4904-cadb-21b3f7e03140"
      },
      "source": [
        "!mysql praxisDB -e  \"\\\n",
        "SELECT \\\n",
        "IFNULL(Make,'Totals') Dims,\\\n",
        "sums.SUV, sums.Sedan, sums.Compact,\\\n",
        "sums.SUV + sums.Sedan + sums.Compact  Totals \\\n",
        "FROM ( \\\n",
        "  SELECT \\\n",
        "\tMake,\\\n",
        "\tSUM(IF(Type='SUV',Units,0))  'SUV',\\\n",
        "\tSUM(IF(Type='Sedan',Units,0))  'Sedan',\\\n",
        "\tSUM(IF(Type='Compact',Units,0))  'Compact'\\\n",
        "  FROM CarSalesFact_S\\\n",
        "  GROUP BY Make WITH ROLLUP\\\n",
        ") AS sums \\\n",
        "\""
      ],
      "execution_count": null,
      "outputs": [
        {
          "output_type": "stream",
          "text": [
            "+--------+------+-------+---------+--------+\n",
            "| Dims   | SUV  | Sedan | Compact | Totals |\n",
            "+--------+------+-------+---------+--------+\n",
            "| Honda  |    6 |     1 |       0 |      7 |\n",
            "| Mazda  |    2 |     1 |       1 |      4 |\n",
            "| Toyota |    0 |     2 |       1 |      3 |\n",
            "| Totals |    8 |     4 |       2 |     14 |\n",
            "+--------+------+-------+---------+--------+\n"
          ],
          "name": "stdout"
        }
      ]
    },
    {
      "cell_type": "code",
      "metadata": {
        "id": "1B9q-PojuxR0",
        "colab": {
          "base_uri": "https://localhost:8080/",
          "height": 151
        },
        "outputId": "56dfe84e-0c38-4c23-e34b-5021e13bd2ee"
      },
      "source": [
        "!mysql praxisDB -e  \"\\\n",
        "SELECT \\\n",
        "IFNULL(Make,'Totals') Dims,\\\n",
        "sums.Brown, sums.Black, sums.Red,\\\n",
        "sums.Brown + sums.Black + sums.Red  Totals \\\n",
        "FROM ( \\\n",
        "  SELECT \\\n",
        "\tMake,\\\n",
        "\tSUM(IF(Colour='Brown',Units,0))  'Brown',\\\n",
        "\tSUM(IF(Colour='Black',Units,0))  'Black',\\\n",
        "\tSUM(IF(Colour='Red',UNits,0))  'Red'\\\n",
        "  FROM CarSalesFact_S\\\n",
        "  GROUP BY Make WITH ROLLUP\\\n",
        ") AS sums \\\n",
        "\""
      ],
      "execution_count": null,
      "outputs": [
        {
          "output_type": "stream",
          "text": [
            "+--------+-------+-------+------+--------+\n",
            "| Dims   | Brown | Black | Red  | Totals |\n",
            "+--------+-------+-------+------+--------+\n",
            "| Honda  |     1 |     4 |    2 |      7 |\n",
            "| Mazda  |     1 |     1 |    2 |      4 |\n",
            "| Toyota |     0 |     2 |    1 |      3 |\n",
            "| Totals |     2 |     7 |    5 |     14 |\n",
            "+--------+-------+-------+------+--------+\n"
          ],
          "name": "stdout"
        }
      ]
    },
    {
      "cell_type": "code",
      "metadata": {
        "id": "g9oN2Apb0vNe",
        "colab": {
          "base_uri": "https://localhost:8080/",
          "height": 151
        },
        "outputId": "0706da13-f5c3-42d4-9e62-58a150bf6da0"
      },
      "source": [
        "!mysql praxisDB -e  \"\\\n",
        "SELECT \\\n",
        "IFNULL(Type,'Totals') Dims,\\\n",
        "sums.Brown, sums.Black, sums.Red,\\\n",
        "sums.Brown + sums.Black + sums.Red  Totals \\\n",
        "FROM ( \\\n",
        "  SELECT \\\n",
        "\tType,\\\n",
        "\tSUM(IF(Colour='Brown',Units,0))  'Brown',\\\n",
        "\tSUM(IF(Colour='Black',Units,0))  'Black',\\\n",
        "\tSUM(IF(Colour='Red',UNits,0))  'Red'\\\n",
        "  FROM CarSalesFact_S\\\n",
        "  GROUP BY Type WITH ROLLUP\\\n",
        ") AS sums \\\n",
        "\""
      ],
      "execution_count": null,
      "outputs": [
        {
          "output_type": "stream",
          "text": [
            "+---------+-------+-------+------+--------+\n",
            "| Dims    | Brown | Black | Red  | Totals |\n",
            "+---------+-------+-------+------+--------+\n",
            "| Compact |     0 |     0 |    2 |      2 |\n",
            "| Sedan   |     2 |     2 |    0 |      4 |\n",
            "| SUV     |     0 |     5 |    3 |      8 |\n",
            "| Totals  |     2 |     7 |    5 |     14 |\n",
            "+---------+-------+-------+------+--------+\n"
          ],
          "name": "stdout"
        }
      ]
    },
    {
      "cell_type": "markdown",
      "metadata": {
        "id": "TgiD-LzNjqTy"
      },
      "source": [
        "##Level 3 A - the UNION ALL / CUBE"
      ]
    },
    {
      "cell_type": "code",
      "metadata": {
        "id": "UAw1g-nKkLUx",
        "colab": {
          "base_uri": "https://localhost:8080/",
          "height": 319
        },
        "outputId": "aa970eb7-6959-4a9a-cf86-6e4bbda9151e"
      },
      "source": [
        "!mysql praxisDB -e  \"\\\n",
        "SELECT Make, Type, SUM(Units) \\\n",
        "FROM CarSalesFact_S \\\n",
        "GROUP BY Make, Type \\\n",
        "UNION ALL \\\n",
        "SELECT Make, 'ALL', SUM(Units) \\\n",
        "FROM CarSalesFact_S \\\n",
        "GROUP BY Make \\\n",
        "UNION ALL \\\n",
        "SELECT 'ALL', Type, SUM(Units) \\\n",
        "FROM CarSalesFact_S \\\n",
        "GROUP BY Type \\\n",
        "UNION ALL \\\n",
        "SELECT 'ALL', 'ALL', SUM(Units) \\\n",
        "FROM CarSalesFact_S\\\n",
        "\"\n",
        "\n"
      ],
      "execution_count": null,
      "outputs": [
        {
          "output_type": "stream",
          "text": [
            "+--------+---------+------------+\n",
            "| Make   | Type    | SUM(Units) |\n",
            "+--------+---------+------------+\n",
            "| Honda  | Sedan   |          1 |\n",
            "| Honda  | SUV     |          6 |\n",
            "| Mazda  | Compact |          1 |\n",
            "| Mazda  | Sedan   |          1 |\n",
            "| Mazda  | SUV     |          2 |\n",
            "| Toyota | Compact |          1 |\n",
            "| Toyota | Sedan   |          2 |\n",
            "| Honda  | ALL     |          7 |\n",
            "| Mazda  | ALL     |          4 |\n",
            "| Toyota | ALL     |          3 |\n",
            "| ALL    | Compact |          2 |\n",
            "| ALL    | Sedan   |          4 |\n",
            "| ALL    | SUV     |          8 |\n",
            "| ALL    | ALL     |         14 |\n",
            "+--------+---------+------------+\n"
          ],
          "name": "stdout"
        }
      ]
    },
    {
      "cell_type": "markdown",
      "metadata": {
        "id": "8tsY08hYy0jc"
      },
      "source": [
        "#Insert an additional fact in the Fact table"
      ]
    },
    {
      "cell_type": "code",
      "metadata": {
        "id": "wbvgIJAeg-1U"
      },
      "source": [
        "!mysql praxisDB -e \"\\\n",
        "INSERT INTO CarSalesFact_N (Txn, Dim, DimValue) VALUES \\\n",
        " (1, 'Price', '5000'),\\\n",
        " (2, 'Price', '6000'),\\\n",
        " (3, 'Price', '5000'),\\\n",
        " (4, 'Price', '7000'),\\\n",
        " (5, 'Price', '5000'),\\\n",
        " (6, 'Price', '4000'),\\\n",
        " (7, 'Price', '3000'),\\\n",
        " (8, 'Price', '2000'),\\\n",
        " (9, 'Price', '4000'),\\\n",
        " (10, 'Price', '5000'),\\\n",
        " (11, 'Price', '4000'),\\\n",
        " (12, 'Price', '5000'),\\\n",
        " (13, 'Price', '4000'),\\\n",
        " (14, 'Price', '3000');\\\n",
        " \""
      ],
      "execution_count": null,
      "outputs": []
    },
    {
      "cell_type": "code",
      "metadata": {
        "id": "8JXJIQbglg1X",
        "colab": {
          "base_uri": "https://localhost:8080/",
          "height": 1000
        },
        "outputId": "e6753925-c127-4888-d9f9-8a88b270653a"
      },
      "source": [
        "!mysql praxisDB -e 'select * from CarSalesFact_N'"
      ],
      "execution_count": null,
      "outputs": [
        {
          "output_type": "stream",
          "text": [
            "+------+--------+----------+\n",
            "| Txn  | Dim    | DimValue |\n",
            "+------+--------+----------+\n",
            "|    1 | Make   | Honda    |\n",
            "|    1 | Type   | SUV      |\n",
            "|    1 | Colour | Red      |\n",
            "|    2 | Make   | Honda    |\n",
            "|    2 | Type   | SUV      |\n",
            "|    2 | Colour | Black    |\n",
            "|    3 | Make   | Honda    |\n",
            "|    3 | Type   | Sedan    |\n",
            "|    3 | Colour | Brown    |\n",
            "|    4 | Make   | Toyota   |\n",
            "|    4 | Type   | Compact  |\n",
            "|    4 | Colour | Red      |\n",
            "|    5 | Make   | Toyota   |\n",
            "|    5 | Colour | Black    |\n",
            "|    5 | Type   | Sedan    |\n",
            "|    6 | Make   | Toyota   |\n",
            "|    6 | Colour | Black    |\n",
            "|    6 | Type   | Sedan    |\n",
            "|    7 | Make   | Honda    |\n",
            "|    7 | Type   | SUV      |\n",
            "|    7 | Colour | Black    |\n",
            "|    8 | Make   | Honda    |\n",
            "|    8 | Type   | SUV      |\n",
            "|    8 | Colour | Red      |\n",
            "|    9 | Make   | Honda    |\n",
            "|    9 | Type   | SUV      |\n",
            "|    9 | Colour | Black    |\n",
            "|   10 | Make   | Honda    |\n",
            "|   10 | Type   | SUV      |\n",
            "|   10 | Colour | Black    |\n",
            "|   11 | Make   | Mazda    |\n",
            "|   11 | Type   | SUV      |\n",
            "|   11 | Colour | Black    |\n",
            "|   12 | Make   | Mazda    |\n",
            "|   12 | Type   | Compact  |\n",
            "|   12 | Colour | Red      |\n",
            "|   13 | Make   | Mazda    |\n",
            "|   13 | Type   | Sedan    |\n",
            "|   13 | Colour | Brown    |\n",
            "|   14 | Make   | Mazda    |\n",
            "|   14 | Type   | SUV      |\n",
            "|   14 | Colour | Red      |\n",
            "|    1 | Price  | 5000     |\n",
            "|    2 | Price  | 6000     |\n",
            "|    3 | Price  | 5000     |\n",
            "|    4 | Price  | 7000     |\n",
            "|    5 | Price  | 5000     |\n",
            "|    6 | Price  | 4000     |\n",
            "|    7 | Price  | 3000     |\n",
            "|    8 | Price  | 2000     |\n",
            "|    9 | Price  | 4000     |\n",
            "|   10 | Price  | 5000     |\n",
            "|   11 | Price  | 4000     |\n",
            "|   12 | Price  | 5000     |\n",
            "|   13 | Price  | 4000     |\n",
            "|   14 | Price  | 3000     |\n",
            "+------+--------+----------+\n"
          ],
          "name": "stdout"
        }
      ]
    },
    {
      "cell_type": "markdown",
      "metadata": {
        "id": "6eMUYZpazkH_"
      },
      "source": [
        "#Create a 'standard' CUBE Fact table\n",
        "What is [GROUP_CONCAT](https://www.google.co.in/search?client=opera&q=group_concat+in+mysql&sourceid=opera&ie=UTF-8&oe=UTF-8)?"
      ]
    },
    {
      "cell_type": "code",
      "metadata": {
        "id": "pEPuIhbqnxA1",
        "colab": {
          "base_uri": "https://localhost:8080/",
          "height": 319
        },
        "outputId": "3e71b4d8-7341-4109-ebc2-fbd7d2971b31"
      },
      "source": [
        "!mysql praxisDB -e \"\\\n",
        "SELECT \\\n",
        "  Txn,\\\n",
        "  GROUP_CONCAT(if(Dim = 'Make', DimValue, NULL)) AS 'Make',\\\n",
        "  GROUP_CONCAT(if(Dim = 'Type', DimValue, NULL)) AS 'Type',\\\n",
        "  GROUP_CONCAT(if(Dim = 'Colour', DimValue, NULL)) AS 'Colour',\\\n",
        "  GROUP_CONCAT(if(Dim = 'Price', DimValue, NULL)) AS 'Price'\\\n",
        "FROM CarSalesFact_N \\\n",
        "GROUP BY txn\\\n",
        "\""
      ],
      "execution_count": null,
      "outputs": [
        {
          "output_type": "stream",
          "text": [
            "+------+--------+---------+--------+-------+\n",
            "| Txn  | Make   | Type    | Colour | Price |\n",
            "+------+--------+---------+--------+-------+\n",
            "|    1 | Honda  | SUV     | Red    | 5000  |\n",
            "|    2 | Honda  | SUV     | Black  | 6000  |\n",
            "|    3 | Honda  | Sedan   | Brown  | 5000  |\n",
            "|    4 | Toyota | Compact | Red    | 7000  |\n",
            "|    5 | Toyota | Sedan   | Black  | 5000  |\n",
            "|    6 | Toyota | Sedan   | Black  | 4000  |\n",
            "|    7 | Honda  | SUV     | Black  | 3000  |\n",
            "|    8 | Honda  | SUV     | Red    | 2000  |\n",
            "|    9 | Honda  | SUV     | Black  | 4000  |\n",
            "|   10 | Honda  | SUV     | Black  | 5000  |\n",
            "|   11 | Mazda  | SUV     | Black  | 4000  |\n",
            "|   12 | Mazda  | Compact | Red    | 5000  |\n",
            "|   13 | Mazda  | Sedan   | Brown  | 4000  |\n",
            "|   14 | Mazda  | SUV     | Red    | 3000  |\n",
            "+------+--------+---------+--------+-------+\n"
          ],
          "name": "stdout"
        }
      ]
    },
    {
      "cell_type": "code",
      "metadata": {
        "id": "gmQBa-tussgT",
        "colab": {
          "base_uri": "https://localhost:8080/",
          "height": 319
        },
        "outputId": "c5fb889a-feb0-4999-ea57-92372a22567f"
      },
      "source": [
        "!mysql praxisDB -e \"\\\n",
        "SELECT \\\n",
        "  CSF2.Make, CSF2.Type, CSF2.Colour,CSF2.Price \\\n",
        "FROM \\\n",
        "(SELECT \\\n",
        "  Txn,\\\n",
        "  GROUP_CONCAT(if(Dim = 'Make', DimValue, NULL)) AS 'Make',\\\n",
        "  GROUP_CONCAT(if(Dim = 'Type', DimValue, NULL)) AS 'Type',\\\n",
        "  GROUP_CONCAT(if(Dim = 'Colour', DimValue, NULL)) AS 'Colour',\\\n",
        "  GROUP_CONCAT(if(Dim = 'Price', DimValue, NULL)) AS 'Price'\\\n",
        "FROM CarSalesFact_N \\\n",
        "GROUP BY txn \\\n",
        " ) as CSF2\\\n",
        "\"\n",
        " "
      ],
      "execution_count": null,
      "outputs": [
        {
          "output_type": "stream",
          "text": [
            "+--------+---------+--------+-------+\n",
            "| Make   | Type    | Colour | Price |\n",
            "+--------+---------+--------+-------+\n",
            "| Honda  | SUV     | Red    | 5000  |\n",
            "| Honda  | SUV     | Black  | 6000  |\n",
            "| Honda  | Sedan   | Brown  | 5000  |\n",
            "| Toyota | Compact | Red    | 7000  |\n",
            "| Toyota | Sedan   | Black  | 5000  |\n",
            "| Toyota | Sedan   | Black  | 4000  |\n",
            "| Honda  | SUV     | Black  | 3000  |\n",
            "| Honda  | SUV     | Red    | 2000  |\n",
            "| Honda  | SUV     | Black  | 4000  |\n",
            "| Honda  | SUV     | Black  | 5000  |\n",
            "| Mazda  | SUV     | Black  | 4000  |\n",
            "| Mazda  | Compact | Red    | 5000  |\n",
            "| Mazda  | Sedan   | Brown  | 4000  |\n",
            "| Mazda  | SUV     | Red    | 3000  |\n",
            "+--------+---------+--------+-------+\n"
          ],
          "name": "stdout"
        }
      ]
    },
    {
      "cell_type": "code",
      "metadata": {
        "id": "P1b9r3tvvWvk",
        "colab": {
          "base_uri": "https://localhost:8080/",
          "height": 235
        },
        "outputId": "5a62c029-64f2-404a-d63a-9d9f86505d21"
      },
      "source": [
        "!mysql praxisDB -e \"\\\n",
        "SELECT \\\n",
        "  CSF2.Make, CSF2.Type, CSF2.Colour, sum(CSF2.Price) Value, count(txn) Units \\\n",
        "FROM \\\n",
        "(SELECT \\\n",
        "  Txn,\\\n",
        "  GROUP_CONCAT(if(Dim = 'Make', DimValue, NULL)) AS 'Make',\\\n",
        "  GROUP_CONCAT(if(Dim = 'Type', DimValue, NULL)) AS 'Type',\\\n",
        "  GROUP_CONCAT(if(Dim = 'Colour', DimValue, NULL)) AS 'Colour',\\\n",
        "  GROUP_CONCAT(if(Dim = 'Price', DimValue, NULL)) AS 'Price' \\\n",
        "FROM CarSalesFact_N \\\n",
        "GROUP BY txn \\\n",
        " ) as CSF2 \\\n",
        "group by CSF2.Make, CSF2.Type, CSF2.Colour\\\n",
        "\"\n",
        " "
      ],
      "execution_count": null,
      "outputs": [
        {
          "output_type": "stream",
          "text": [
            "+--------+---------+--------+-------+-------+\n",
            "| Make   | Type    | Colour | Value | Units |\n",
            "+--------+---------+--------+-------+-------+\n",
            "| Honda  | Sedan   | Brown  |  5000 |     1 |\n",
            "| Honda  | SUV     | Black  | 18000 |     4 |\n",
            "| Honda  | SUV     | Red    |  7000 |     2 |\n",
            "| Mazda  | Compact | Red    |  5000 |     1 |\n",
            "| Mazda  | Sedan   | Brown  |  4000 |     1 |\n",
            "| Mazda  | SUV     | Black  |  4000 |     1 |\n",
            "| Mazda  | SUV     | Red    |  3000 |     1 |\n",
            "| Toyota | Compact | Red    |  7000 |     1 |\n",
            "| Toyota | Sedan   | Black  |  9000 |     2 |\n",
            "+--------+---------+--------+-------+-------+\n"
          ],
          "name": "stdout"
        }
      ]
    },
    {
      "cell_type": "code",
      "metadata": {
        "id": "g2uXFuN39O0E",
        "colab": {
          "base_uri": "https://localhost:8080/",
          "height": 235
        },
        "outputId": "a3d14620-d13c-418e-abf2-f20ad055a306"
      },
      "source": [
        "!mysql praxisDB -e \"drop table CarSalesFact_S2\"  \n",
        "!mysql praxisDB -e \" \\\n",
        "create table CarSalesFact_S2 as ( \\\n",
        "            SELECT \\\n",
        "        CSF2.Make, CSF2.Type, CSF2.Colour, sum(CSF2.Price) Value, count(txn) Units \\\n",
        "        FROM \\\n",
        "        (SELECT \\\n",
        "        Txn,\\\n",
        "        GROUP_CONCAT(if(Dim = 'Make', DimValue, NULL)) AS 'Make',\\\n",
        "        GROUP_CONCAT(if(Dim = 'Type', DimValue, NULL)) AS 'Type',\\\n",
        "        GROUP_CONCAT(if(Dim = 'Colour', DimValue, NULL)) AS 'Colour',\\\n",
        "        GROUP_CONCAT(if(Dim = 'Price', DimValue, NULL)) AS 'Price' \\\n",
        "        FROM CarSalesFact_N \\\n",
        "        GROUP BY txn \\\n",
        "        ) as CSF2 \\\n",
        "        group by CSF2.Make, CSF2.Type, CSF2.Colour\\\n",
        ") \\\n",
        "\"\n",
        "!mysql praxisDB -e \"select * from CarSalesFact_S2\""
      ],
      "execution_count": null,
      "outputs": [
        {
          "output_type": "stream",
          "text": [
            "+--------+---------+--------+-------+-------+\n",
            "| Make   | Type    | Colour | Value | Units |\n",
            "+--------+---------+--------+-------+-------+\n",
            "| Honda  | Sedan   | Brown  |  5000 |     1 |\n",
            "| Honda  | SUV     | Black  | 18000 |     4 |\n",
            "| Honda  | SUV     | Red    |  7000 |     2 |\n",
            "| Mazda  | Compact | Red    |  5000 |     1 |\n",
            "| Mazda  | Sedan   | Brown  |  4000 |     1 |\n",
            "| Mazda  | SUV     | Black  |  4000 |     1 |\n",
            "| Mazda  | SUV     | Red    |  3000 |     1 |\n",
            "| Toyota | Compact | Red    |  7000 |     1 |\n",
            "| Toyota | Sedan   | Black  |  9000 |     2 |\n",
            "+--------+---------+--------+-------+-------+\n"
          ],
          "name": "stdout"
        }
      ]
    },
    {
      "cell_type": "markdown",
      "metadata": {
        "id": "0YHBtY_y_mGU"
      },
      "source": [
        "#Cross Tab"
      ]
    },
    {
      "cell_type": "code",
      "metadata": {
        "id": "f-7uGBpQCqcl",
        "colab": {
          "base_uri": "https://localhost:8080/",
          "height": 235
        },
        "outputId": "032501e2-a0df-4939-debf-37495cdbcff8"
      },
      "source": [
        "!mysql praxisDB -e \"select * from CarSalesFact_S2\""
      ],
      "execution_count": null,
      "outputs": [
        {
          "output_type": "stream",
          "text": [
            "+--------+---------+--------+-------+-------+\n",
            "| Make   | Type    | Colour | Value | Units |\n",
            "+--------+---------+--------+-------+-------+\n",
            "| Honda  | Sedan   | Brown  |  5000 |     1 |\n",
            "| Honda  | SUV     | Black  | 18000 |     4 |\n",
            "| Honda  | SUV     | Red    |  7000 |     2 |\n",
            "| Mazda  | Compact | Red    |  5000 |     1 |\n",
            "| Mazda  | Sedan   | Brown  |  4000 |     1 |\n",
            "| Mazda  | SUV     | Black  |  4000 |     1 |\n",
            "| Mazda  | SUV     | Red    |  3000 |     1 |\n",
            "| Toyota | Compact | Red    |  7000 |     1 |\n",
            "| Toyota | Sedan   | Black  |  9000 |     2 |\n",
            "+--------+---------+--------+-------+-------+\n"
          ],
          "name": "stdout"
        }
      ]
    },
    {
      "cell_type": "markdown",
      "metadata": {
        "id": "G70QOJIz_7_G"
      },
      "source": [
        "##Level 1 - Partial Cross Tab"
      ]
    },
    {
      "cell_type": "code",
      "metadata": {
        "id": "O1fKMSHjAAji",
        "colab": {
          "base_uri": "https://localhost:8080/",
          "height": 202
        },
        "outputId": "2829b1b0-9eb1-461f-e1de-c2840d71443a"
      },
      "source": [
        "!mysql praxisDB -e \"\\\n",
        "select Make, Type, sum(Units) Count, sum(Value) Total \\\n",
        "from \\\n",
        "CarSalesFact_S2 \\\n",
        "group by Make, Type\\\n",
        "\""
      ],
      "execution_count": null,
      "outputs": [
        {
          "output_type": "stream",
          "text": [
            "+--------+---------+-------+-------+\n",
            "| Make   | Type    | Count | Total |\n",
            "+--------+---------+-------+-------+\n",
            "| Honda  | Sedan   |     1 |  5000 |\n",
            "| Honda  | SUV     |     6 | 25000 |\n",
            "| Mazda  | Compact |     1 |  5000 |\n",
            "| Mazda  | Sedan   |     1 |  4000 |\n",
            "| Mazda  | SUV     |     2 |  7000 |\n",
            "| Toyota | Compact |     1 |  7000 |\n",
            "| Toyota | Sedan   |     2 |  9000 |\n",
            "+--------+---------+-------+-------+\n"
          ],
          "name": "stdout"
        }
      ]
    },
    {
      "cell_type": "markdown",
      "metadata": {
        "id": "ca41FGfzDF9i"
      },
      "source": [
        "##Level 2 Roll UP"
      ]
    },
    {
      "cell_type": "code",
      "metadata": {
        "id": "j0TBsglPDIrm",
        "colab": {
          "base_uri": "https://localhost:8080/",
          "height": 269
        },
        "outputId": "f1dd876b-2ea2-4df5-a8fa-95a247f1ae38"
      },
      "source": [
        "!mysql praxisDB -e \"\\\n",
        "select Make, Type, sum(Units) Count, sum(Value) Total \\\n",
        "from \\\n",
        "CarSalesFact_S2 \\\n",
        "group by Make, Type with ROllUP\\\n",
        "\""
      ],
      "execution_count": null,
      "outputs": [
        {
          "output_type": "stream",
          "text": [
            "+--------+---------+-------+-------+\n",
            "| Make   | Type    | Count | Total |\n",
            "+--------+---------+-------+-------+\n",
            "| Honda  | Sedan   |     1 |  5000 |\n",
            "| Honda  | SUV     |     6 | 25000 |\n",
            "| Honda  | NULL    |     7 | 30000 |\n",
            "| Mazda  | Compact |     1 |  5000 |\n",
            "| Mazda  | Sedan   |     1 |  4000 |\n",
            "| Mazda  | SUV     |     2 |  7000 |\n",
            "| Mazda  | NULL    |     4 | 16000 |\n",
            "| Toyota | Compact |     1 |  7000 |\n",
            "| Toyota | Sedan   |     2 |  9000 |\n",
            "| Toyota | NULL    |     3 | 16000 |\n",
            "| NULL   | NULL    |    14 | 62000 |\n",
            "+--------+---------+-------+-------+\n"
          ],
          "name": "stdout"
        }
      ]
    },
    {
      "cell_type": "markdown",
      "metadata": {
        "id": "auuC00eFDzUu"
      },
      "source": [
        "##Level 3 Full Cross Tab"
      ]
    },
    {
      "cell_type": "code",
      "metadata": {
        "id": "pylU4ZEoD3kg",
        "colab": {
          "base_uri": "https://localhost:8080/",
          "height": 151
        },
        "outputId": "f002eb04-3b34-4b7d-8dac-fa9565b6d0f7"
      },
      "source": [
        "!mysql praxisDB -e  \"\\\n",
        "SELECT \\\n",
        "IFNULL(Make,'Totals') Dims,\\\n",
        "sums.SUV, sums.Sedan, sums.Compact,\\\n",
        "sums.SUV + sums.Sedan + sums.Compact  Totals \\\n",
        "FROM ( \\\n",
        "  SELECT \\\n",
        "\tMake,\\\n",
        "\tSUM(IF(Type='SUV',Units,0))  'SUV',\\\n",
        "\tSUM(IF(Type='Sedan',Units,0))  'Sedan',\\\n",
        "\tSUM(IF(Type='Compact',Units,0))  'Compact'\\\n",
        "  FROM CarSalesFact_S2\\\n",
        "  GROUP BY Make WITH ROLLUP\\\n",
        ") AS sums \\\n",
        "\""
      ],
      "execution_count": null,
      "outputs": [
        {
          "output_type": "stream",
          "text": [
            "+--------+------+-------+---------+--------+\n",
            "| Dims   | SUV  | Sedan | Compact | Totals |\n",
            "+--------+------+-------+---------+--------+\n",
            "| Honda  |    6 |     1 |       0 |      7 |\n",
            "| Mazda  |    2 |     1 |       1 |      4 |\n",
            "| Toyota |    0 |     2 |       1 |      3 |\n",
            "| Totals |    8 |     4 |       2 |     14 |\n",
            "+--------+------+-------+---------+--------+\n"
          ],
          "name": "stdout"
        }
      ]
    },
    {
      "cell_type": "code",
      "metadata": {
        "id": "LIXYDeFMD9Iy",
        "colab": {
          "base_uri": "https://localhost:8080/",
          "height": 151
        },
        "outputId": "4cd65a78-af70-4436-e758-29e2ace4aeb4"
      },
      "source": [
        "!mysql praxisDB -e  \"\\\n",
        "SELECT \\\n",
        "IFNULL(Make,'Totals') Dims,\\\n",
        "sums.SUV, sums.Sedan, sums.Compact,\\\n",
        "sums.SUV + sums.Sedan + sums.Compact  Totals \\\n",
        "FROM ( \\\n",
        "  SELECT \\\n",
        "\tMake,\\\n",
        "\tSUM(IF(Type='SUV',Value,0))  'SUV',\\\n",
        "\tSUM(IF(Type='Sedan',Value,0))  'Sedan',\\\n",
        "\tSUM(IF(Type='Compact',Value,0))  'Compact'\\\n",
        "  FROM CarSalesFact_S2\\\n",
        "  GROUP BY Make WITH ROLLUP\\\n",
        ") AS sums \\\n",
        "\""
      ],
      "execution_count": null,
      "outputs": [
        {
          "output_type": "stream",
          "text": [
            "+--------+-------+-------+---------+--------+\n",
            "| Dims   | SUV   | Sedan | Compact | Totals |\n",
            "+--------+-------+-------+---------+--------+\n",
            "| Honda  | 25000 |  5000 |       0 |  30000 |\n",
            "| Mazda  |  7000 |  4000 |    5000 |  16000 |\n",
            "| Toyota |     0 |  9000 |    7000 |  16000 |\n",
            "| Totals | 32000 | 18000 |   12000 |  62000 |\n",
            "+--------+-------+-------+---------+--------+\n"
          ],
          "name": "stdout"
        }
      ]
    },
    {
      "cell_type": "markdown",
      "metadata": {
        "id": "kZF7CY36zyuB"
      },
      "source": [
        "#Cross Tab - Without Intermediate Cube Table"
      ]
    },
    {
      "cell_type": "markdown",
      "metadata": {
        "id": "VMfF86Pf3kaQ"
      },
      "source": [
        "##Simple Cross Tab"
      ]
    },
    {
      "cell_type": "code",
      "metadata": {
        "id": "lRAg7c_TzuML",
        "colab": {
          "base_uri": "https://localhost:8080/",
          "height": 34
        },
        "outputId": "61368877-8c5c-47b7-826a-9dcc4541f1a1"
      },
      "source": [
        "%%writefile query.sql\n",
        "select Make, Type, Sum(Units) Count \n",
        "from \n",
        "(SELECT \t \n",
        "  CSF2.Make, CSF2.Type, CSF2.Colour, sum(CSF2.Price) Value, count(txn) Units\n",
        "FROM\n",
        "(SELECT\n",
        "  Txn,\n",
        "  GROUP_CONCAT(if(Dim = 'Make', DimValue, NULL)) AS 'Make',\n",
        "  GROUP_CONCAT(if(Dim = 'Type', DimValue, NULL)) AS 'Type',\n",
        "  GROUP_CONCAT(if(Dim = 'Colour', DimValue, NULL)) AS 'Colour',\n",
        "  GROUP_CONCAT(if(Dim = 'Price', DimValue, NULL)) AS 'Price'\n",
        "FROM CarSalesFact\n",
        "GROUP BY txn\n",
        " ) as CSF2\n",
        "group by CSF2.Make, CSF2.Type, CSF2.Colour\n",
        ") as CSF3 \n",
        "group by Make, Type\n"
      ],
      "execution_count": null,
      "outputs": [
        {
          "output_type": "stream",
          "text": [
            "Overwriting query.sql\n"
          ],
          "name": "stdout"
        }
      ]
    },
    {
      "cell_type": "code",
      "metadata": {
        "id": "8tKznYlo01Bf",
        "colab": {
          "base_uri": "https://localhost:8080/",
          "height": 204
        },
        "outputId": "f5509559-ce3e-410d-a7f7-294925a24a2c"
      },
      "source": [
        "!mysql praxisDB --table < query.sql"
      ],
      "execution_count": null,
      "outputs": [
        {
          "output_type": "stream",
          "text": [
            "+--------+---------+-------+\n",
            "| Make   | Type    | Count |\n",
            "+--------+---------+-------+\n",
            "| Honda  | Sedan   |     1 |\n",
            "| Honda  | SUV     |     6 |\n",
            "| Mazda  | Compact |     1 |\n",
            "| Mazda  | Sedan   |     1 |\n",
            "| Mazda  | SUV     |     2 |\n",
            "| Toyota | Compact |     1 |\n",
            "| Toyota | Sedan   |     2 |\n",
            "+--------+---------+-------+\n"
          ],
          "name": "stdout"
        }
      ]
    },
    {
      "cell_type": "markdown",
      "metadata": {
        "id": "clFiGj-X3p6b"
      },
      "source": [
        "##Better Cross Tab"
      ]
    },
    {
      "cell_type": "code",
      "metadata": {
        "id": "csDoVqx31NCk",
        "colab": {
          "base_uri": "https://localhost:8080/",
          "height": 34
        },
        "outputId": "03a26985-3855-4f86-df54-2024741ec4a8"
      },
      "source": [
        "%%writefile query.sql\n",
        "-- ------------------------------------------------------------\n",
        "select Make, Type, Sum(Units) Count \n",
        "from \n",
        "(SELECT \t \n",
        "  CSF2.Make, CSF2.Type, CSF2.Colour, sum(CSF2.Price) Value, count(txn) Units\n",
        "FROM\n",
        "(SELECT\n",
        "  Txn,\n",
        "  GROUP_CONCAT(if(Dim = 'Make', DimValue, NULL)) AS 'Make',\n",
        "  GROUP_CONCAT(if(Dim = 'Type', DimValue, NULL)) AS 'Type',\n",
        "  GROUP_CONCAT(if(Dim = 'Colour', DimValue, NULL)) AS 'Colour',\n",
        "  GROUP_CONCAT(if(Dim = 'Price', DimValue, NULL)) AS 'Price'\n",
        "FROM CarSalesFact\n",
        "GROUP BY txn\n",
        " ) as CSF2\n",
        "group by CSF2.Make, CSF2.Type, CSF2.Colour\n",
        ") as CSF3 \n",
        "group by Make, Type\n",
        "with ROLLUP"
      ],
      "execution_count": null,
      "outputs": [
        {
          "output_type": "stream",
          "text": [
            "Overwriting query.sql\n"
          ],
          "name": "stdout"
        }
      ]
    },
    {
      "cell_type": "code",
      "metadata": {
        "id": "DiN81Pap1WMs",
        "colab": {
          "base_uri": "https://localhost:8080/",
          "height": 272
        },
        "outputId": "0bc2e97e-357d-4551-944b-f3e9ba8af110"
      },
      "source": [
        "!mysql praxisDB --table < query.sql"
      ],
      "execution_count": null,
      "outputs": [
        {
          "output_type": "stream",
          "text": [
            "+--------+---------+-------+\n",
            "| Make   | Type    | Count |\n",
            "+--------+---------+-------+\n",
            "| Honda  | Sedan   |     1 |\n",
            "| Honda  | SUV     |     6 |\n",
            "| Honda  | NULL    |     7 |\n",
            "| Mazda  | Compact |     1 |\n",
            "| Mazda  | Sedan   |     1 |\n",
            "| Mazda  | SUV     |     2 |\n",
            "| Mazda  | NULL    |     4 |\n",
            "| Toyota | Compact |     1 |\n",
            "| Toyota | Sedan   |     2 |\n",
            "| Toyota | NULL    |     3 |\n",
            "| NULL   | NULL    |    14 |\n",
            "+--------+---------+-------+\n"
          ],
          "name": "stdout"
        }
      ]
    },
    {
      "cell_type": "markdown",
      "metadata": {
        "id": "G7s5vD_N3wV5"
      },
      "source": [
        "##Full Cross Tab"
      ]
    },
    {
      "cell_type": "code",
      "metadata": {
        "id": "j1soSLhx2E2Y",
        "colab": {
          "base_uri": "https://localhost:8080/",
          "height": 34
        },
        "outputId": "892fc37d-79c8-4b14-b4f7-40d12e9d31a2"
      },
      "source": [
        "%%writefile query.sql\n",
        "-- ------------------------------------------------------------\n",
        "SELECT\n",
        "  IFNULL(Make,'Col Total Units') AS Dims,       \n",
        "  CSF4.SUV, CSF4.Sedan, CSF4.Compact,   \n",
        "  CSF4.SUV + CSF4.Sedan + CSF4.Compact AS 'Row Total Units'\n",
        "FROM (                                  \t\n",
        "  SELECT                                \t\n",
        "\tMake,\n",
        "\tSUM(IF(Type='SUV',Units,0)) As 'SUV',\n",
        "\tSUM(IF(Type='Sedan',Units,0)) As 'Sedan',\n",
        "\tSUM(IF(Type='Compact',Units,0)) As 'Compact'\n",
        "  FROM \n",
        "\n",
        "    (SELECT \t \n",
        "      CSF2.Make, CSF2.Type, CSF2.Colour, sum(CSF2.Price) Value, count(txn) Units\n",
        "    FROM\n",
        "        (SELECT\n",
        "          Txn,\n",
        "          GROUP_CONCAT(if(Dim = 'Make', DimValue, NULL)) AS 'Make',\n",
        "          GROUP_CONCAT(if(Dim = 'Type', DimValue, NULL)) AS 'Type',\n",
        "          GROUP_CONCAT(if(Dim = 'Colour', DimValue, NULL)) AS 'Colour',\n",
        "          GROUP_CONCAT(if(Dim = 'Price', DimValue, NULL)) AS 'Price'\n",
        "        FROM CarSalesFact\n",
        "        GROUP BY txn\n",
        "         ) as CSF2\n",
        "    group by CSF2.Make, CSF2.Type, CSF2.Colour\n",
        "    ) as CSF3 \n",
        "\n",
        "GROUP BY Make WITH ROLLUP\n",
        ") AS CSF4\n",
        "\n"
      ],
      "execution_count": null,
      "outputs": [
        {
          "output_type": "stream",
          "text": [
            "Overwriting query.sql\n"
          ],
          "name": "stdout"
        }
      ]
    },
    {
      "cell_type": "code",
      "metadata": {
        "id": "OUXZflfh21Nr",
        "colab": {
          "base_uri": "https://localhost:8080/",
          "height": 153
        },
        "outputId": "341fc827-5863-407c-815e-13d9f3d45b33"
      },
      "source": [
        "!mysql praxisDB --table < query.sql"
      ],
      "execution_count": null,
      "outputs": [
        {
          "output_type": "stream",
          "text": [
            "+-----------------+------+-------+---------+-----------------+\n",
            "| Dims            | SUV  | Sedan | Compact | Row Total Units |\n",
            "+-----------------+------+-------+---------+-----------------+\n",
            "| Honda           |    6 |     1 |       0 |               7 |\n",
            "| Mazda           |    2 |     1 |       1 |               4 |\n",
            "| Toyota          |    0 |     2 |       1 |               3 |\n",
            "| Col Total Units |    8 |     4 |       2 |              14 |\n",
            "+-----------------+------+-------+---------+-----------------+\n"
          ],
          "name": "stdout"
        }
      ]
    },
    {
      "cell_type": "code",
      "metadata": {
        "id": "K6JU6HV64utV",
        "colab": {
          "base_uri": "https://localhost:8080/",
          "height": 34
        },
        "outputId": "fab34d8d-1e0a-4f6e-f68d-a1e161d9e1cd"
      },
      "source": [
        "%%writefile query.sql\n",
        "-- ------------------------------------------------------------\n",
        "SELECT\n",
        "  IFNULL(Make,'Col Total Value') AS Dims,       \n",
        "  CSF4.SUV, CSF4.Sedan, CSF4.Compact,   \n",
        "  CSF4.SUV + CSF4.Sedan + CSF4.Compact AS 'Row Total Value'\n",
        "FROM (                                  \t\n",
        "  SELECT                                \t\n",
        "\tMake,\n",
        "\tSUM(IF(Type='SUV',Value,0)) As 'SUV',\n",
        "\tSUM(IF(Type='Sedan',Value,0)) As 'Sedan',\n",
        "\tSUM(IF(Type='Compact',Value,0)) As 'Compact'\n",
        "  FROM \n",
        "\n",
        "    (SELECT \t \n",
        "      CSF2.Make, CSF2.Type, CSF2.Colour, sum(CSF2.Price) Value, count(txn) Units\n",
        "    FROM\n",
        "        (SELECT\n",
        "          Txn,\n",
        "          GROUP_CONCAT(if(Dim = 'Make', DimValue, NULL)) AS 'Make',\n",
        "          GROUP_CONCAT(if(Dim = 'Type', DimValue, NULL)) AS 'Type',\n",
        "          GROUP_CONCAT(if(Dim = 'Colour', DimValue, NULL)) AS 'Colour',\n",
        "          GROUP_CONCAT(if(Dim = 'Price', DimValue, NULL)) AS 'Price'\n",
        "        FROM CarSalesFact\n",
        "        GROUP BY txn\n",
        "         ) as CSF2\n",
        "    group by CSF2.Make, CSF2.Type, CSF2.Colour\n",
        "    ) as CSF3 \n",
        "\n",
        "GROUP BY Make WITH ROLLUP\n",
        ") AS CSF4\n"
      ],
      "execution_count": null,
      "outputs": [
        {
          "output_type": "stream",
          "text": [
            "Overwriting query.sql\n"
          ],
          "name": "stdout"
        }
      ]
    },
    {
      "cell_type": "code",
      "metadata": {
        "id": "fBlpKgLc47gF",
        "colab": {
          "base_uri": "https://localhost:8080/",
          "height": 153
        },
        "outputId": "e31d2131-f6d4-4e11-f5fb-65f4e5e52826"
      },
      "source": [
        "!mysql praxisDB --table < query.sql"
      ],
      "execution_count": null,
      "outputs": [
        {
          "output_type": "stream",
          "text": [
            "+-----------------+-------+-------+---------+-----------------+\n",
            "| Dims            | SUV   | Sedan | Compact | Row Total Value |\n",
            "+-----------------+-------+-------+---------+-----------------+\n",
            "| Honda           | 25000 |  5000 |       0 |           30000 |\n",
            "| Mazda           |  7000 |  4000 |    5000 |           16000 |\n",
            "| Toyota          |     0 |  9000 |    7000 |           16000 |\n",
            "| Col Total Value | 32000 | 18000 |   12000 |           62000 |\n",
            "+-----------------+-------+-------+---------+-----------------+\n"
          ],
          "name": "stdout"
        }
      ]
    },
    {
      "cell_type": "markdown",
      "metadata": {
        "id": "pPTQuLMEDt--"
      },
      "source": [
        "#Rotate the Cross Tab"
      ]
    },
    {
      "cell_type": "code",
      "metadata": {
        "id": "zE0ccvOfDy5L",
        "colab": {
          "base_uri": "https://localhost:8080/",
          "height": 34
        },
        "outputId": "e73f1fc8-8e9a-4a71-c4a7-8f5fd7a11b4c"
      },
      "source": [
        "%%writefile query.sql\n",
        "-- ------------------------------------------------------------\n",
        "SELECT\n",
        "  IFNULL(Colour,'Col Total Value') AS Dims,       \n",
        "  CSF4.SUV, CSF4.Sedan, CSF4.Compact,   \n",
        "  CSF4.SUV + CSF4.Sedan + CSF4.Compact AS 'Row Total Value'\n",
        "FROM (                                  \t\n",
        "  SELECT                                \t\n",
        "\tColour,\n",
        "\tSUM(IF(Type='SUV',Value,0)) As 'SUV',\n",
        "\tSUM(IF(Type='Sedan',Value,0)) As 'Sedan',\n",
        "\tSUM(IF(Type='Compact',Value,0)) As 'Compact'\n",
        "  FROM \n",
        "\n",
        "    (SELECT \t \n",
        "      CSF2.Make, CSF2.Type, CSF2.Colour, sum(CSF2.Price) Value, count(txn) Units\n",
        "    FROM\n",
        "        (SELECT\n",
        "          Txn,\n",
        "          GROUP_CONCAT(if(Dim = 'Make', DimValue, NULL)) AS 'Make',\n",
        "          GROUP_CONCAT(if(Dim = 'Type', DimValue, NULL)) AS 'Type',\n",
        "          GROUP_CONCAT(if(Dim = 'Colour', DimValue, NULL)) AS 'Colour',\n",
        "          GROUP_CONCAT(if(Dim = 'Price', DimValue, NULL)) AS 'Price'\n",
        "        FROM CarSalesFact\n",
        "        GROUP BY txn\n",
        "         ) as CSF2\n",
        "    group by CSF2.Make, CSF2.Type, CSF2.Colour\n",
        "    ) as CSF3 \n",
        "\n",
        "GROUP BY Colour WITH ROLLUP\n",
        ") AS CSF4\n"
      ],
      "execution_count": null,
      "outputs": [
        {
          "output_type": "stream",
          "text": [
            "Overwriting query.sql\n"
          ],
          "name": "stdout"
        }
      ]
    },
    {
      "cell_type": "code",
      "metadata": {
        "id": "ww26lAoRECxl",
        "colab": {
          "base_uri": "https://localhost:8080/",
          "height": 153
        },
        "outputId": "2c8d8232-a97d-4a5e-b715-2eccc5640799"
      },
      "source": [
        "!mysql praxisDB --table < query.sql"
      ],
      "execution_count": null,
      "outputs": [
        {
          "output_type": "stream",
          "text": [
            "+-----------------+-------+-------+---------+-----------------+\n",
            "| Dims            | SUV   | Sedan | Compact | Row Total Value |\n",
            "+-----------------+-------+-------+---------+-----------------+\n",
            "| Black           | 22000 |  9000 |       0 |           31000 |\n",
            "| Brown           |     0 |  9000 |       0 |            9000 |\n",
            "| Red             | 10000 |     0 |   12000 |           22000 |\n",
            "| Col Total Value | 32000 | 18000 |   12000 |           62000 |\n",
            "+-----------------+-------+-------+---------+-----------------+\n"
          ],
          "name": "stdout"
        }
      ]
    },
    {
      "cell_type": "code",
      "metadata": {
        "id": "q8oN04saFysj",
        "colab": {
          "base_uri": "https://localhost:8080/",
          "height": 34
        },
        "outputId": "6c818c77-0b43-4af0-a77e-4d1df4b12b3d"
      },
      "source": [
        "%%writefile query.sql\n",
        "-- ------------------------------------------------------------\n",
        "SELECT\n",
        "  IFNULL(Type,'Col Total Value') AS Dims,       \n",
        "  CSF4.Black, CSF4.Brown, CSF4.Red,   \n",
        "  CSF4.Black + CSF4.Brown + CSF4.Red AS 'Row Total Value'\n",
        "FROM (                                  \t\n",
        "  SELECT                                \t\n",
        "\tType,\n",
        "\tSUM(IF(Colour='Black',Value,0)) As 'Black',\n",
        "\tSUM(IF(Colour='Brown',Value,0)) As 'Brown',\n",
        "\tSUM(IF(Colour='Red',Value,0)) As 'Red'\n",
        "  FROM \n",
        "\n",
        "    (SELECT \t \n",
        "      CSF2.Make, CSF2.Type, CSF2.Colour, sum(CSF2.Price) Value, count(txn) Units\n",
        "    FROM\n",
        "        (SELECT\n",
        "          Txn,\n",
        "          GROUP_CONCAT(if(Dim = 'Make', DimValue, NULL)) AS 'Make',\n",
        "          GROUP_CONCAT(if(Dim = 'Type', DimValue, NULL)) AS 'Type',\n",
        "          GROUP_CONCAT(if(Dim = 'Colour', DimValue, NULL)) AS 'Colour',\n",
        "          GROUP_CONCAT(if(Dim = 'Price', DimValue, NULL)) AS 'Price'\n",
        "        FROM CarSalesFact\n",
        "        GROUP BY txn\n",
        "         ) as CSF2\n",
        "    group by CSF2.Make, CSF2.Type, CSF2.Colour\n",
        "    ) as CSF3 \n",
        "\n",
        "GROUP BY Type WITH ROLLUP\n",
        ") AS CSF4\n"
      ],
      "execution_count": null,
      "outputs": [
        {
          "output_type": "stream",
          "text": [
            "Overwriting query.sql\n"
          ],
          "name": "stdout"
        }
      ]
    },
    {
      "cell_type": "code",
      "metadata": {
        "id": "Vll1ytzbGIoV",
        "colab": {
          "base_uri": "https://localhost:8080/",
          "height": 153
        },
        "outputId": "e4e6a4ec-bd3a-4946-a731-0b79c069ebd4"
      },
      "source": [
        "!mysql praxisDB --table < query.sql"
      ],
      "execution_count": null,
      "outputs": [
        {
          "output_type": "stream",
          "text": [
            "+-----------------+-------+-------+-------+-----------------+\n",
            "| Dims            | Black | Brown | Red   | Row Total Value |\n",
            "+-----------------+-------+-------+-------+-----------------+\n",
            "| Compact         |     0 |     0 | 12000 |           12000 |\n",
            "| Sedan           |  9000 |  9000 |     0 |           18000 |\n",
            "| SUV             | 22000 |     0 | 10000 |           32000 |\n",
            "| Col Total Value | 31000 |  9000 | 22000 |           62000 |\n",
            "+-----------------+-------+-------+-------+-----------------+\n"
          ],
          "name": "stdout"
        }
      ]
    },
    {
      "cell_type": "markdown",
      "metadata": {
        "id": "w-zHaw5_A0Oe"
      },
      "source": [
        "#Chronobooks <br>\n",
        "![alt text](https://1.bp.blogspot.com/-lTiYBkU2qbU/X1er__fvnkI/AAAAAAAAjtE/GhDR3OEGJr4NG43fZPodrQD5kbxtnKebgCLcBGAsYHQ/s600/Footer2020-600x200.png)<hr>\n",
        "Chronotantra and Chronoyantra are two science fiction novels that explore the collapse of human civilisation on Earth and then its rebirth and reincarnation both on Earth as well as on the distant worlds of Mars, Titan and Enceladus. But is it the human civilisation that is being reborn? Or is it some other sentience that is revealing itself. \n",
        "If you have an interest in AI and found this material useful, you may consider buying these novels, in paperback or kindle, from [http://bit.ly/chronobooks](http://bit.ly/chronobooks)"
      ]
    }
  ]
}