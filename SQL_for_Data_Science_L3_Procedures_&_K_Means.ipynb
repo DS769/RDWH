{
  "nbformat": 4,
  "nbformat_minor": 0,
  "metadata": {
    "colab": {
      "name": "SQL for Data Science - L3 - Procedures  & K-Means",
      "provenance": [],
      "collapsed_sections": [],
      "include_colab_link": true
    },
    "kernelspec": {
      "name": "python3",
      "display_name": "Python 3"
    }
  },
  "cells": [
    {
      "cell_type": "markdown",
      "metadata": {
        "id": "view-in-github",
        "colab_type": "text"
      },
      "source": [
        "<a href=\"https://colab.research.google.com/github/Praxis-QR/RDWH/blob/main/SQL_for_Data_Science_L3_Procedures_%26_K_Means.ipynb\" target=\"_parent\"><img src=\"https://colab.research.google.com/assets/colab-badge.svg\" alt=\"Open In Colab\"/></a>"
      ]
    },
    {
      "cell_type": "markdown",
      "metadata": {
        "id": "JLS_gJa1nzro"
      },
      "source": [
        "\n",
        "![alt text](https://4.bp.blogspot.com/-gbL5nZDkpFQ/XScFYwoTEII/AAAAAAAAAGY/CcVb_HDLwvs2Brv5T4vSsUcz7O4r2Q79ACK4BGAYYCw/s1600/kk3-header00-beta.png)<br>\n",
        "\n",
        "\n",
        "<hr>\n",
        "\n",
        "[Prithwis Mukerjee](http://www.linkedin.com/in/prithwis)<br>"
      ]
    },
    {
      "cell_type": "markdown",
      "metadata": {
        "id": "8rtzja3Fbppg"
      },
      "source": [
        "#K-Means Clustering with SQL \n",
        "<br>\n",
        "\n",
        "Based on the code given by [Joni Salonen](http://jonisalonen.com/2012/k-means-clustering-in-mysql/)"
      ]
    },
    {
      "cell_type": "markdown",
      "metadata": {
        "id": "aGzVf5TLov-E"
      },
      "source": [
        "# Install MySQL"
      ]
    },
    {
      "cell_type": "code",
      "metadata": {
        "id": "Xi1BqQUKpu13",
        "colab": {
          "base_uri": "https://localhost:8080/"
        },
        "outputId": "61f9377d-b0ef-43d6-9887-6f03256179e7"
      },
      "source": [
        "# install mysql on colab\n",
        "#!apt-get -y install mysql-server\n",
        "!apt -y install mysql-server"
      ],
      "execution_count": 1,
      "outputs": [
        {
          "output_type": "stream",
          "text": [
            "Reading package lists... Done\n",
            "Building dependency tree       \n",
            "Reading state information... Done\n",
            "The following package was automatically installed and is no longer required:\n",
            "  libnvidia-common-460\n",
            "Use 'apt autoremove' to remove it.\n",
            "The following additional packages will be installed:\n",
            "  libcgi-fast-perl libcgi-pm-perl libencode-locale-perl libevent-core-2.1-6\n",
            "  libfcgi-perl libhtml-parser-perl libhtml-tagset-perl libhtml-template-perl\n",
            "  libhttp-date-perl libhttp-message-perl libio-html-perl\n",
            "  liblwp-mediatypes-perl libtimedate-perl liburi-perl mysql-client-5.7\n",
            "  mysql-client-core-5.7 mysql-server-5.7 mysql-server-core-5.7\n",
            "Suggested packages:\n",
            "  libdata-dump-perl libipc-sharedcache-perl libwww-perl mailx tinyca\n",
            "The following NEW packages will be installed:\n",
            "  libcgi-fast-perl libcgi-pm-perl libencode-locale-perl libevent-core-2.1-6\n",
            "  libfcgi-perl libhtml-parser-perl libhtml-tagset-perl libhtml-template-perl\n",
            "  libhttp-date-perl libhttp-message-perl libio-html-perl\n",
            "  liblwp-mediatypes-perl libtimedate-perl liburi-perl mysql-client-5.7\n",
            "  mysql-client-core-5.7 mysql-server mysql-server-5.7 mysql-server-core-5.7\n",
            "0 upgraded, 19 newly installed, 0 to remove and 40 not upgraded.\n",
            "Need to get 19.6 MB of archives.\n",
            "After this operation, 155 MB of additional disk space will be used.\n",
            "Get:1 http://archive.ubuntu.com/ubuntu bionic-updates/main amd64 mysql-client-core-5.7 amd64 5.7.35-0ubuntu0.18.04.1 [6,627 kB]\n",
            "Get:2 http://archive.ubuntu.com/ubuntu bionic-updates/main amd64 mysql-client-5.7 amd64 5.7.35-0ubuntu0.18.04.1 [1,944 kB]\n",
            "Get:3 http://archive.ubuntu.com/ubuntu bionic-updates/main amd64 mysql-server-core-5.7 amd64 5.7.35-0ubuntu0.18.04.1 [7,420 kB]\n",
            "Get:4 http://archive.ubuntu.com/ubuntu bionic/main amd64 libevent-core-2.1-6 amd64 2.1.8-stable-4build1 [85.9 kB]\n",
            "Get:5 http://archive.ubuntu.com/ubuntu bionic-updates/main amd64 mysql-server-5.7 amd64 5.7.35-0ubuntu0.18.04.1 [2,905 kB]\n",
            "Get:6 http://archive.ubuntu.com/ubuntu bionic/main amd64 libhtml-tagset-perl all 3.20-3 [12.1 kB]\n",
            "Get:7 http://archive.ubuntu.com/ubuntu bionic/main amd64 liburi-perl all 1.73-1 [77.2 kB]\n",
            "Get:8 http://archive.ubuntu.com/ubuntu bionic/main amd64 libhtml-parser-perl amd64 3.72-3build1 [85.9 kB]\n",
            "Get:9 http://archive.ubuntu.com/ubuntu bionic/main amd64 libcgi-pm-perl all 4.38-1 [185 kB]\n",
            "Get:10 http://archive.ubuntu.com/ubuntu bionic/main amd64 libfcgi-perl amd64 0.78-2build1 [32.8 kB]\n",
            "Get:11 http://archive.ubuntu.com/ubuntu bionic/main amd64 libcgi-fast-perl all 1:2.13-1 [9,940 B]\n",
            "Get:12 http://archive.ubuntu.com/ubuntu bionic/main amd64 libencode-locale-perl all 1.05-1 [12.3 kB]\n",
            "Get:13 http://archive.ubuntu.com/ubuntu bionic/main amd64 libhtml-template-perl all 2.97-1 [59.0 kB]\n",
            "Get:14 http://archive.ubuntu.com/ubuntu bionic/main amd64 libtimedate-perl all 2.3000-2 [37.5 kB]\n",
            "Get:15 http://archive.ubuntu.com/ubuntu bionic/main amd64 libhttp-date-perl all 6.02-1 [10.4 kB]\n",
            "Get:16 http://archive.ubuntu.com/ubuntu bionic/main amd64 libio-html-perl all 1.001-1 [14.9 kB]\n",
            "Get:17 http://archive.ubuntu.com/ubuntu bionic/main amd64 liblwp-mediatypes-perl all 6.02-1 [21.7 kB]\n",
            "Get:18 http://archive.ubuntu.com/ubuntu bionic/main amd64 libhttp-message-perl all 6.14-1 [72.1 kB]\n",
            "Get:19 http://archive.ubuntu.com/ubuntu bionic-updates/main amd64 mysql-server all 5.7.35-0ubuntu0.18.04.1 [9,944 B]\n",
            "Fetched 19.6 MB in 2s (10.9 MB/s)\n",
            "Preconfiguring packages ...\n",
            "Selecting previously unselected package mysql-client-core-5.7.\n",
            "(Reading database ... 148489 files and directories currently installed.)\n",
            "Preparing to unpack .../00-mysql-client-core-5.7_5.7.35-0ubuntu0.18.04.1_amd64.deb ...\n",
            "Unpacking mysql-client-core-5.7 (5.7.35-0ubuntu0.18.04.1) ...\n",
            "Selecting previously unselected package mysql-client-5.7.\n",
            "Preparing to unpack .../01-mysql-client-5.7_5.7.35-0ubuntu0.18.04.1_amd64.deb ...\n",
            "Unpacking mysql-client-5.7 (5.7.35-0ubuntu0.18.04.1) ...\n",
            "Selecting previously unselected package mysql-server-core-5.7.\n",
            "Preparing to unpack .../02-mysql-server-core-5.7_5.7.35-0ubuntu0.18.04.1_amd64.deb ...\n",
            "Unpacking mysql-server-core-5.7 (5.7.35-0ubuntu0.18.04.1) ...\n",
            "Selecting previously unselected package libevent-core-2.1-6:amd64.\n",
            "Preparing to unpack .../03-libevent-core-2.1-6_2.1.8-stable-4build1_amd64.deb ...\n",
            "Unpacking libevent-core-2.1-6:amd64 (2.1.8-stable-4build1) ...\n",
            "Selecting previously unselected package mysql-server-5.7.\n",
            "Preparing to unpack .../04-mysql-server-5.7_5.7.35-0ubuntu0.18.04.1_amd64.deb ...\n",
            "Unpacking mysql-server-5.7 (5.7.35-0ubuntu0.18.04.1) ...\n",
            "Selecting previously unselected package libhtml-tagset-perl.\n",
            "Preparing to unpack .../05-libhtml-tagset-perl_3.20-3_all.deb ...\n",
            "Unpacking libhtml-tagset-perl (3.20-3) ...\n",
            "Selecting previously unselected package liburi-perl.\n",
            "Preparing to unpack .../06-liburi-perl_1.73-1_all.deb ...\n",
            "Unpacking liburi-perl (1.73-1) ...\n",
            "Selecting previously unselected package libhtml-parser-perl.\n",
            "Preparing to unpack .../07-libhtml-parser-perl_3.72-3build1_amd64.deb ...\n",
            "Unpacking libhtml-parser-perl (3.72-3build1) ...\n",
            "Selecting previously unselected package libcgi-pm-perl.\n",
            "Preparing to unpack .../08-libcgi-pm-perl_4.38-1_all.deb ...\n",
            "Unpacking libcgi-pm-perl (4.38-1) ...\n",
            "Selecting previously unselected package libfcgi-perl.\n",
            "Preparing to unpack .../09-libfcgi-perl_0.78-2build1_amd64.deb ...\n",
            "Unpacking libfcgi-perl (0.78-2build1) ...\n",
            "Selecting previously unselected package libcgi-fast-perl.\n",
            "Preparing to unpack .../10-libcgi-fast-perl_1%3a2.13-1_all.deb ...\n",
            "Unpacking libcgi-fast-perl (1:2.13-1) ...\n",
            "Selecting previously unselected package libencode-locale-perl.\n",
            "Preparing to unpack .../11-libencode-locale-perl_1.05-1_all.deb ...\n",
            "Unpacking libencode-locale-perl (1.05-1) ...\n",
            "Selecting previously unselected package libhtml-template-perl.\n",
            "Preparing to unpack .../12-libhtml-template-perl_2.97-1_all.deb ...\n",
            "Unpacking libhtml-template-perl (2.97-1) ...\n",
            "Selecting previously unselected package libtimedate-perl.\n",
            "Preparing to unpack .../13-libtimedate-perl_2.3000-2_all.deb ...\n",
            "Unpacking libtimedate-perl (2.3000-2) ...\n",
            "Selecting previously unselected package libhttp-date-perl.\n",
            "Preparing to unpack .../14-libhttp-date-perl_6.02-1_all.deb ...\n",
            "Unpacking libhttp-date-perl (6.02-1) ...\n",
            "Selecting previously unselected package libio-html-perl.\n",
            "Preparing to unpack .../15-libio-html-perl_1.001-1_all.deb ...\n",
            "Unpacking libio-html-perl (1.001-1) ...\n",
            "Selecting previously unselected package liblwp-mediatypes-perl.\n",
            "Preparing to unpack .../16-liblwp-mediatypes-perl_6.02-1_all.deb ...\n",
            "Unpacking liblwp-mediatypes-perl (6.02-1) ...\n",
            "Selecting previously unselected package libhttp-message-perl.\n",
            "Preparing to unpack .../17-libhttp-message-perl_6.14-1_all.deb ...\n",
            "Unpacking libhttp-message-perl (6.14-1) ...\n",
            "Selecting previously unselected package mysql-server.\n",
            "Preparing to unpack .../18-mysql-server_5.7.35-0ubuntu0.18.04.1_all.deb ...\n",
            "Unpacking mysql-server (5.7.35-0ubuntu0.18.04.1) ...\n",
            "Setting up libhtml-tagset-perl (3.20-3) ...\n",
            "Setting up libevent-core-2.1-6:amd64 (2.1.8-stable-4build1) ...\n",
            "Setting up libencode-locale-perl (1.05-1) ...\n",
            "Setting up mysql-server-core-5.7 (5.7.35-0ubuntu0.18.04.1) ...\n",
            "Setting up libtimedate-perl (2.3000-2) ...\n",
            "Setting up libio-html-perl (1.001-1) ...\n",
            "Setting up liblwp-mediatypes-perl (6.02-1) ...\n",
            "Setting up liburi-perl (1.73-1) ...\n",
            "Setting up libhtml-parser-perl (3.72-3build1) ...\n",
            "Setting up libcgi-pm-perl (4.38-1) ...\n",
            "Setting up mysql-client-core-5.7 (5.7.35-0ubuntu0.18.04.1) ...\n",
            "Setting up libfcgi-perl (0.78-2build1) ...\n",
            "Setting up libhttp-date-perl (6.02-1) ...\n",
            "Setting up libhtml-template-perl (2.97-1) ...\n",
            "Setting up libcgi-fast-perl (1:2.13-1) ...\n",
            "Setting up libhttp-message-perl (6.14-1) ...\n",
            "Setting up mysql-client-5.7 (5.7.35-0ubuntu0.18.04.1) ...\n",
            "Setting up mysql-server-5.7 (5.7.35-0ubuntu0.18.04.1) ...\n",
            "invoke-rc.d: could not determine current runlevel\n",
            "invoke-rc.d: policy-rc.d denied execution of stop.\n",
            "update-alternatives: using /etc/mysql/mysql.cnf to provide /etc/mysql/my.cnf (my.cnf) in auto mode\n",
            "Renaming removed key_buffer and myisam-recover options (if present)\n",
            "Error: Unable to shut down server with process id 418\n",
            "\u001b[1mdpkg:\u001b[0m error processing package mysql-server-5.7 (--configure):\n",
            " installed mysql-server-5.7 package post-installation script subprocess returned error exit status 1\n",
            "\u001b[1mdpkg:\u001b[0m dependency problems prevent configuration of mysql-server:\n",
            " mysql-server depends on mysql-server-5.7; however:\n",
            "  Package mysql-server-5.7 is not configured yet.\n",
            "\n",
            "\u001b[1mdpkg:\u001b[0m error processing package mysql-server (--configure):\n",
            " dependency problems - leaving unconfigured\n",
            "Processing triggers for systemd (237-3ubuntu10.51) ...\n",
            "Processing triggers for man-db (2.8.3-2ubuntu0.1) ...\n",
            "Processing triggers for libc-bin (2.27-3ubuntu1.2) ...\n",
            "/sbin/ldconfig.real: /usr/local/lib/python3.7/dist-packages/ideep4py/lib/libmkldnn.so.0 is not a symbolic link\n",
            "\n",
            "Errors were encountered while processing:\n",
            " mysql-server-5.7\n",
            " mysql-server\n",
            "E: Sub-process /usr/bin/dpkg returned an error code (1)\n"
          ],
          "name": "stdout"
        }
      ]
    },
    {
      "cell_type": "code",
      "metadata": {
        "colab": {
          "base_uri": "https://localhost:8080/"
        },
        "id": "wAoc84KY9L6G",
        "outputId": "7299cce8-30bf-40fd-e425-dda4482182f0"
      },
      "source": [
        "!ls /etc/init.d/mysql"
      ],
      "execution_count": 2,
      "outputs": [
        {
          "output_type": "stream",
          "text": [
            "/etc/init.d/mysql\n"
          ],
          "name": "stdout"
        }
      ]
    },
    {
      "cell_type": "code",
      "metadata": {
        "id": "ahWDdbMFqSqv",
        "colab": {
          "base_uri": "https://localhost:8080/"
        },
        "outputId": "e43517f2-9b30-40f6-edb0-b8fa39ba6591"
      },
      "source": [
        "!/etc/init.d/mysql restart"
      ],
      "execution_count": 3,
      "outputs": [
        {
          "output_type": "stream",
          "text": [
            " * Stopping MySQL database server mysqld\n",
            "   ...done.\n",
            " * Starting MySQL database server mysqld\n",
            "No directory, logging in with HOME=/\n",
            "   ...done.\n"
          ],
          "name": "stdout"
        }
      ]
    },
    {
      "cell_type": "code",
      "metadata": {
        "colab": {
          "base_uri": "https://localhost:8080/"
        },
        "id": "AApn_2LX9tNn",
        "outputId": "3fe5353d-e24a-42ae-ca0a-87c576e3ea6e"
      },
      "source": [
        "!mysql -e 'show databases'"
      ],
      "execution_count": 10,
      "outputs": [
        {
          "output_type": "stream",
          "text": [
            "+--------------------+\n",
            "| Database           |\n",
            "+--------------------+\n",
            "| information_schema |\n",
            "| mysql              |\n",
            "| performance_schema |\n",
            "| praxisDB           |\n",
            "| sys                |\n",
            "+--------------------+\n"
          ],
          "name": "stdout"
        }
      ]
    },
    {
      "cell_type": "code",
      "metadata": {
        "id": "Pw0rAGprqtO9",
        "colab": {
          "base_uri": "https://localhost:8080/"
        },
        "outputId": "ed5fcd27-1156-408f-95a0-daff127a8e7c"
      },
      "source": [
        "!mysql -e 'create database praxisDB'\n",
        "!mysql -e 'show databases'"
      ],
      "execution_count": 7,
      "outputs": [
        {
          "output_type": "stream",
          "text": [
            "ERROR 1007 (HY000) at line 1: Can't create database 'praxisDB'; database exists\n",
            "+--------------------+\n",
            "| Database           |\n",
            "+--------------------+\n",
            "| information_schema |\n",
            "| mysql              |\n",
            "| performance_schema |\n",
            "| praxisDB           |\n",
            "| sys                |\n",
            "+--------------------+\n"
          ],
          "name": "stdout"
        }
      ]
    },
    {
      "cell_type": "markdown",
      "metadata": {
        "id": "xGV2hgThURzx"
      },
      "source": [
        "# Basic K-Means <br>\n",
        "the code is available on [this blog post](http://blog.yantrajaal.com/2016/11/k-means-clustering-with-sql.html)."
      ]
    },
    {
      "cell_type": "code",
      "metadata": {
        "id": "2-s-Ye_41k5O"
      },
      "source": [
        "!mysql praxisDB -e 'drop table if exists km_data;'  \n",
        "!mysql praxisDB -e 'drop table if exists km_clusters;'  \n",
        "!mysql praxisDB -e 'drop table if exists km_steps;'    "
      ],
      "execution_count": 17,
      "outputs": []
    },
    {
      "cell_type": "code",
      "metadata": {
        "id": "BBIj318yzx3o"
      },
      "source": [
        "!mysql praxisDB -e 'create table km_data (id int primary key, cluster_id int, x1 float, x2 float);'\n",
        "!mysql praxisDB -e 'create table km_clusters (id int auto_increment primary key, x1 float, x2 float);'\n",
        "!mysql praxisDB -e 'create table km_steps (id int, x1 float, x2 float);'"
      ],
      "execution_count": 18,
      "outputs": []
    },
    {
      "cell_type": "code",
      "metadata": {
        "colab": {
          "base_uri": "https://localhost:8080/"
        },
        "id": "xqencym72tt1",
        "outputId": "785ac8fa-e748-4f5e-9be6-fcadb6106d32"
      },
      "source": [
        "%%writefile SQLproc.sql\n",
        "drop procedure if exists kmeans; \n",
        "DELIMITER //                    \n",
        "CREATE PROCEDURE kmeans(v_K int)\n",
        "BEGIN                           \n",
        "TRUNCATE km_clusters;          \n",
        "truncate km_steps;              \n",
        "\n",
        "-- initialize cluster centers \n",
        "INSERT INTO km_clusters (x1, x2) SELECT x1, x2 FROM km_data LIMIT v_K; \\\n",
        "REPEAT \n",
        "    insert into km_steps select * from km_clusters; \n",
        "    -- assign clusters to data points \n",
        "    UPDATE km_data d SET cluster_id = (SELECT id FROM km_clusters c \n",
        "        ORDER BY POW(d.x1-c.x1,2)+POW(d.x2-c.x2,2) ASC LIMIT 1); \n",
        "    -- calculate new cluster center\n",
        "    UPDATE km_clusters C, (SELECT cluster_id, \n",
        "        AVG(x1) AS x1, AVG(x2) AS x2 \n",
        "        FROM km_data GROUP BY cluster_id) D \n",
        "  SET C.x1=D.x1, C.x2=D.x2 WHERE C.id=D.cluster_id; \n",
        "UNTIL ROW_COUNT() = 0 END REPEAT; \n",
        "END//"
      ],
      "execution_count": 20,
      "outputs": [
        {
          "output_type": "stream",
          "text": [
            "Writing SQLproc.sql\n"
          ],
          "name": "stdout"
        }
      ]
    },
    {
      "cell_type": "code",
      "metadata": {
        "id": "nzgSATg_32uB"
      },
      "source": [
        "!mysql praxisDB --table < SQLproc.sql"
      ],
      "execution_count": 21,
      "outputs": []
    },
    {
      "cell_type": "code",
      "metadata": {
        "id": "46fAIU8f4Cnl"
      },
      "source": [
        "!mysql praxisDB -e 'truncate km_data;'\n",
        "!mysql praxisDB -e 'insert into km_data (id, cluster_id,x1,x2) values (1,0,185,72);'\n",
        "!mysql praxisDB -e 'insert into km_data (id, cluster_id,x1,x2) values (2,0,170,56);'\n",
        "!mysql praxisDB -e 'insert into km_data (id, cluster_id,x1,x2) values (3,0,168,60);'\n",
        "!mysql praxisDB -e 'insert into km_data (id, cluster_id,x1,x2) values (4,0,179,68);'\n",
        "!mysql praxisDB -e 'insert into km_data (id, cluster_id,x1,x2) values (5,0,182,72);'\n",
        "!mysql praxisDB -e 'insert into km_data (id, cluster_id,x1,x2) values (6,0,188,77);'\n",
        "\n",
        "!mysql praxisDB -e 'insert into km_data (id, cluster_id,x1,x2) values (7,0,180,71);'\n",
        "!mysql praxisDB -e 'insert into km_data (id, cluster_id,x1,x2) values (8,0,180,70);'\n",
        "!mysql praxisDB -e 'insert into km_data (id, cluster_id,x1,x2) values (9,0,183,84);'\n",
        "!mysql praxisDB -e 'insert into km_data (id, cluster_id,x1,x2) values (10,0,180,88);'\n",
        "!mysql praxisDB -e 'insert into km_data (id, cluster_id,x1,x2) values (11,0,180,67);'\n",
        "!mysql praxisDB -e 'insert into km_data (id, cluster_id,x1,x2) values (12,0,177,76);'"
      ],
      "execution_count": 22,
      "outputs": []
    },
    {
      "cell_type": "code",
      "metadata": {
        "id": "yjlmAhGy4eSg"
      },
      "source": [
        "!mysql praxisDB -e 'call kmeans(2);'"
      ],
      "execution_count": 23,
      "outputs": []
    },
    {
      "cell_type": "code",
      "metadata": {
        "colab": {
          "base_uri": "https://localhost:8080/"
        },
        "id": "xaK4bV734n_B",
        "outputId": "78a163fe-b30c-4ac6-e397-8f0c41fa3f02"
      },
      "source": [
        "!mysql praxisDB -e 'select * from km_clusters;'"
      ],
      "execution_count": 24,
      "outputs": [
        {
          "output_type": "stream",
          "text": [
            "+----+-------+------+\n",
            "| id | x1    | x2   |\n",
            "+----+-------+------+\n",
            "|  1 | 181.4 | 74.5 |\n",
            "|  2 |   169 |   58 |\n",
            "+----+-------+------+\n"
          ],
          "name": "stdout"
        }
      ]
    },
    {
      "cell_type": "markdown",
      "metadata": {
        "id": "6HaLvKNCPXkw"
      },
      "source": [
        "ROW_COUNT() return number of rows updated in the previous SQL statement <br>\n",
        "see this [page](http://www.java2s.com/Tutorial/MySQL/0400__Information-Functions/ROWCOUNTreturnsthenumberofrowsupdatedinsertedordeletedbytheprecedingstatement.htm)"
      ]
    },
    {
      "cell_type": "markdown",
      "metadata": {
        "id": "mc3oBcHE-NyI"
      },
      "source": [
        "#K Means with Iris Dataset <br>\n",
        "taken from this [site](https://github.com/antmarakis/Machine-Learning/blob/master/Clustering/kMeans%20-%20Standard/data.txt)"
      ]
    },
    {
      "cell_type": "code",
      "metadata": {
        "id": "BO5uOQPA-QYf",
        "colab": {
          "base_uri": "https://localhost:8080/"
        },
        "outputId": "3c6f4da8-b338-4f11-e40a-ca3f474eb084"
      },
      "source": [
        "!wget https://raw.githubusercontent.com/antmarakis/Machine-Learning/master/Clustering/kMeans%20-%20Standard/data.txt"
      ],
      "execution_count": 25,
      "outputs": [
        {
          "output_type": "stream",
          "text": [
            "--2021-08-29 12:29:28--  https://raw.githubusercontent.com/antmarakis/Machine-Learning/master/Clustering/kMeans%20-%20Standard/data.txt\n",
            "Resolving raw.githubusercontent.com (raw.githubusercontent.com)... 185.199.111.133, 185.199.110.133, 185.199.109.133, ...\n",
            "Connecting to raw.githubusercontent.com (raw.githubusercontent.com)|185.199.111.133|:443... connected.\n",
            "HTTP request sent, awaiting response... 200 OK\n",
            "Length: 4698 (4.6K) [text/plain]\n",
            "Saving to: ‘data.txt’\n",
            "\n",
            "\rdata.txt              0%[                    ]       0  --.-KB/s               \rdata.txt            100%[===================>]   4.59K  --.-KB/s    in 0s      \n",
            "\n",
            "2021-08-29 12:29:28 (52.4 MB/s) - ‘data.txt’ saved [4698/4698]\n",
            "\n"
          ],
          "name": "stdout"
        }
      ]
    },
    {
      "cell_type": "code",
      "metadata": {
        "id": "CYkBeu4V-cUN",
        "colab": {
          "base_uri": "https://localhost:8080/"
        },
        "outputId": "cf73f1b1-34c4-477a-8822-db9b1ec6f9b4"
      },
      "source": [
        "!head data.txt"
      ],
      "execution_count": 26,
      "outputs": [
        {
          "output_type": "stream",
          "text": [
            "5.1,3.5,1.4,0.2,Iris-setosa\r\n",
            "4.9,3.0,1.4,0.2,Iris-setosa\r\n",
            "4.7,3.2,1.3,0.2,Iris-setosa\r\n",
            "4.6,3.1,1.5,0.2,Iris-setosa\r\n",
            "5.0,3.6,1.4,0.2,Iris-setosa\r\n",
            "5.4,3.9,1.7,0.4,Iris-setosa\r\n",
            "4.6,3.4,1.4,0.3,Iris-setosa\r\n",
            "5.0,3.4,1.5,0.2,Iris-setosa\r\n",
            "4.4,2.9,1.4,0.2,Iris-setosa\r\n",
            "4.9,3.1,1.5,0.1,Iris-setosa\r\n"
          ],
          "name": "stdout"
        }
      ]
    },
    {
      "cell_type": "code",
      "metadata": {
        "id": "OscsbqIG-6Fz"
      },
      "source": [
        "!mysql praxisDB -e 'drop table if exists iris_data;'\n",
        "!mysql praxisDB -e 'create table iris_data (x1 float, x2 float, x3 float, x4 float, label varchar(16));'"
      ],
      "execution_count": 27,
      "outputs": []
    },
    {
      "cell_type": "code",
      "metadata": {
        "id": "qwJL2T35_ip9",
        "colab": {
          "base_uri": "https://localhost:8080/"
        },
        "outputId": "68b5a51c-2135-44b2-9026-2fce8343b999"
      },
      "source": [
        "!mysql praxisDB -e 'desc iris_data'"
      ],
      "execution_count": 28,
      "outputs": [
        {
          "output_type": "stream",
          "text": [
            "+-------+-------------+------+-----+---------+-------+\n",
            "| Field | Type        | Null | Key | Default | Extra |\n",
            "+-------+-------------+------+-----+---------+-------+\n",
            "| x1    | float       | YES  |     | NULL    |       |\n",
            "| x2    | float       | YES  |     | NULL    |       |\n",
            "| x3    | float       | YES  |     | NULL    |       |\n",
            "| x4    | float       | YES  |     | NULL    |       |\n",
            "| label | varchar(16) | YES  |     | NULL    |       |\n",
            "+-------+-------------+------+-----+---------+-------+\n"
          ],
          "name": "stdout"
        }
      ]
    },
    {
      "cell_type": "code",
      "metadata": {
        "id": "nv3bQ5_sBqH8"
      },
      "source": [
        "#!mysql praxisDB -e 'truncate iris_data;'\n",
        "#!mysql praxisDB -e 'select count(*) from iris_data;'"
      ],
      "execution_count": null,
      "outputs": []
    },
    {
      "cell_type": "code",
      "metadata": {
        "id": "tmyuCy5zAPNP"
      },
      "source": [
        "!mysql praxisDB -e \"LOAD DATA LOCAL INFILE 'data.txt' INTO TABLE iris_data FIELDS TERMINATED BY ',' LINES TERMINATED BY '\\r\\n' ;\""
      ],
      "execution_count": 29,
      "outputs": []
    },
    {
      "cell_type": "code",
      "metadata": {
        "id": "yrrRV8BrAdZe",
        "colab": {
          "base_uri": "https://localhost:8080/"
        },
        "outputId": "ed04a469-bb89-4c12-da83-a262f690aedf"
      },
      "source": [
        "!mysql praxisDB -e 'select count(*) from iris_data;'"
      ],
      "execution_count": 30,
      "outputs": [
        {
          "output_type": "stream",
          "text": [
            "+----------+\n",
            "| count(*) |\n",
            "+----------+\n",
            "|      150 |\n",
            "+----------+\n"
          ],
          "name": "stdout"
        }
      ]
    },
    {
      "cell_type": "code",
      "metadata": {
        "id": "GVb_zlMjAriL",
        "colab": {
          "base_uri": "https://localhost:8080/"
        },
        "outputId": "c2f60973-59c2-4208-84e2-f7fc64916cfa"
      },
      "source": [
        "!mysql praxisDB -e 'select * from iris_data limit 5;'"
      ],
      "execution_count": 31,
      "outputs": [
        {
          "output_type": "stream",
          "text": [
            "+------+------+------+------+-------------+\n",
            "| x1   | x2   | x3   | x4   | label       |\n",
            "+------+------+------+------+-------------+\n",
            "|  5.1 |  3.5 |  1.4 |  0.2 | Iris-setosa |\n",
            "|  4.9 |    3 |  1.4 |  0.2 | Iris-setosa |\n",
            "|  4.7 |  3.2 |  1.3 |  0.2 | Iris-setosa |\n",
            "|  4.6 |  3.1 |  1.5 |  0.2 | Iris-setosa |\n",
            "|    5 |  3.6 |  1.4 |  0.2 | Iris-setosa |\n",
            "+------+------+------+------+-------------+\n"
          ],
          "name": "stdout"
        }
      ]
    },
    {
      "cell_type": "code",
      "metadata": {
        "id": "lbTGqNd9DJdH"
      },
      "source": [
        "!mysql praxisDB -e 'drop table if exists km_iris;'\n",
        "!mysql praxisDB -e 'create table km_iris (id int auto_increment primary key, clusterID int, x1 float, x2 float, x3 float, x4 float, label varchar(16));'"
      ],
      "execution_count": 32,
      "outputs": []
    },
    {
      "cell_type": "code",
      "metadata": {
        "id": "MiiGK0YTDX1c",
        "colab": {
          "base_uri": "https://localhost:8080/"
        },
        "outputId": "42c56b3e-fbee-4351-9371-18d5178d3de3"
      },
      "source": [
        "!mysql praxisDB -e 'desc km_iris;'"
      ],
      "execution_count": 33,
      "outputs": [
        {
          "output_type": "stream",
          "text": [
            "+-----------+-------------+------+-----+---------+----------------+\n",
            "| Field     | Type        | Null | Key | Default | Extra          |\n",
            "+-----------+-------------+------+-----+---------+----------------+\n",
            "| id        | int(11)     | NO   | PRI | NULL    | auto_increment |\n",
            "| clusterID | int(11)     | YES  |     | NULL    |                |\n",
            "| x1        | float       | YES  |     | NULL    |                |\n",
            "| x2        | float       | YES  |     | NULL    |                |\n",
            "| x3        | float       | YES  |     | NULL    |                |\n",
            "| x4        | float       | YES  |     | NULL    |                |\n",
            "| label     | varchar(16) | YES  |     | NULL    |                |\n",
            "+-----------+-------------+------+-----+---------+----------------+\n"
          ],
          "name": "stdout"
        }
      ]
    },
    {
      "cell_type": "code",
      "metadata": {
        "id": "VC7YdR2xDs7P",
        "colab": {
          "base_uri": "https://localhost:8080/"
        },
        "outputId": "e93fedde-d23a-4214-f8a5-eb084db20b1d"
      },
      "source": [
        "%%writefile step10.sql\n",
        "INSERT INTO km_iris (clusterID,x1,x2,x3,x4,label)\n",
        "SELECT '0',x1,x2,x3,x4,label\n",
        "FROM iris_data;"
      ],
      "execution_count": 34,
      "outputs": [
        {
          "output_type": "stream",
          "text": [
            "Writing step10.sql\n"
          ],
          "name": "stdout"
        }
      ]
    },
    {
      "cell_type": "code",
      "metadata": {
        "id": "HpjM3WujEPV6"
      },
      "source": [
        "!mysql praxisDB --table < step10.sql"
      ],
      "execution_count": 35,
      "outputs": []
    },
    {
      "cell_type": "code",
      "metadata": {
        "id": "YF98v7q2ETSb",
        "colab": {
          "base_uri": "https://localhost:8080/"
        },
        "outputId": "28997138-6bf7-4df0-e0df-75b5f89fa8fd"
      },
      "source": [
        "!mysql praxisDB -e 'select * from km_iris limit 10;'"
      ],
      "execution_count": 36,
      "outputs": [
        {
          "output_type": "stream",
          "text": [
            "+----+-----------+------+------+------+------+-------------+\n",
            "| id | clusterID | x1   | x2   | x3   | x4   | label       |\n",
            "+----+-----------+------+------+------+------+-------------+\n",
            "|  1 |         0 |  5.1 |  3.5 |  1.4 |  0.2 | Iris-setosa |\n",
            "|  2 |         0 |  4.9 |    3 |  1.4 |  0.2 | Iris-setosa |\n",
            "|  3 |         0 |  4.7 |  3.2 |  1.3 |  0.2 | Iris-setosa |\n",
            "|  4 |         0 |  4.6 |  3.1 |  1.5 |  0.2 | Iris-setosa |\n",
            "|  5 |         0 |    5 |  3.6 |  1.4 |  0.2 | Iris-setosa |\n",
            "|  6 |         0 |  5.4 |  3.9 |  1.7 |  0.4 | Iris-setosa |\n",
            "|  7 |         0 |  4.6 |  3.4 |  1.4 |  0.3 | Iris-setosa |\n",
            "|  8 |         0 |    5 |  3.4 |  1.5 |  0.2 | Iris-setosa |\n",
            "|  9 |         0 |  4.4 |  2.9 |  1.4 |  0.2 | Iris-setosa |\n",
            "| 10 |         0 |  4.9 |  3.1 |  1.5 |  0.1 | Iris-setosa |\n",
            "+----+-----------+------+------+------+------+-------------+\n"
          ],
          "name": "stdout"
        }
      ]
    },
    {
      "cell_type": "code",
      "metadata": {
        "id": "UsfT6l_DEv9W",
        "colab": {
          "base_uri": "https://localhost:8080/"
        },
        "outputId": "5ceb516a-4ba9-4933-dab2-8d1f03bd3295"
      },
      "source": [
        "%%writefile step11.sql\n",
        "\n",
        "drop table if exists km_clusters;  -- contains the final clusters centres\n",
        "drop table if exists km_steps;     -- shows intermediate steps\n",
        "create table km_clusters (id int auto_increment primary key, x1 float, x2 float, x3 float, x4 float);\n",
        "create table km_steps (id int, x1 float, x2 float, x3 float, x4 float);"
      ],
      "execution_count": 37,
      "outputs": [
        {
          "output_type": "stream",
          "text": [
            "Writing step11.sql\n"
          ],
          "name": "stdout"
        }
      ]
    },
    {
      "cell_type": "code",
      "metadata": {
        "id": "Oc75oC1oFb8U"
      },
      "source": [
        "!mysql praxisDB --table < step11.sql"
      ],
      "execution_count": 38,
      "outputs": []
    },
    {
      "cell_type": "code",
      "metadata": {
        "id": "rDeYWkdXHAPC",
        "colab": {
          "base_uri": "https://localhost:8080/"
        },
        "outputId": "68771673-9d99-4148-d769-2b97c66ab620"
      },
      "source": [
        "%%writefile step14.sql\n",
        "drop procedure if exists kmeans;\n",
        "DELIMITER //\n",
        "CREATE PROCEDURE kmeans(v_K int)\n",
        "BEGIN\n",
        "TRUNCATE km_clusters;\n",
        "truncate km_steps;\n",
        "\n",
        "-- initialize cluster centers\n",
        "INSERT INTO km_clusters (x1, x2, x3,x4) SELECT x1, x2,x3,x4 FROM km_iris LIMIT v_K;\n",
        "REPEAT\n",
        "    insert into km_steps select * from km_clusters;\n",
        "    -- assign clusters to data points\n",
        "    UPDATE km_iris d SET clusterID = (SELECT id FROM km_clusters c \n",
        "        ORDER BY POW(d.x1-c.x1,2)+POW(d.x2-c.x2,2)+POW(d.x3-c.x3,2)+POW(d.x4-c.x4,2) ASC LIMIT 1);\n",
        "    -- calculate new cluster center\n",
        "    UPDATE km_clusters C, (SELECT clusterID, \n",
        "        AVG(x1) AS x1, AVG(x2) AS x2, AVG(x3) AS x3, AVG(x4) AS x4 \n",
        "        FROM km_iris GROUP BY clusterID) D \n",
        "    SET C.x1=D.x1, C.x2=D.x2, C.x3=D.x3, C.x4=D.x4 WHERE C.id=D.clusterID;\n",
        "UNTIL ROW_COUNT() = 0 END REPEAT;\n",
        "END//"
      ],
      "execution_count": 41,
      "outputs": [
        {
          "output_type": "stream",
          "text": [
            "Overwriting step14.sql\n"
          ],
          "name": "stdout"
        }
      ]
    },
    {
      "cell_type": "code",
      "metadata": {
        "id": "XprO3A0FIQfx"
      },
      "source": [
        "!mysql praxisDB --table < step14.sql"
      ],
      "execution_count": 42,
      "outputs": []
    },
    {
      "cell_type": "code",
      "metadata": {
        "id": "bWPRcCakIcNA"
      },
      "source": [
        "!mysql praxisDB -e 'select * from km_clusters;'"
      ],
      "execution_count": 43,
      "outputs": []
    },
    {
      "cell_type": "code",
      "metadata": {
        "id": "pzoOc-htIkn-"
      },
      "source": [
        "!mysql praxisDB -e 'select * from km_steps;'"
      ],
      "execution_count": 44,
      "outputs": []
    },
    {
      "cell_type": "code",
      "metadata": {
        "id": "aOrEB1XVItRg"
      },
      "source": [
        "!mysql praxisDB -e 'call kmeans(3)'"
      ],
      "execution_count": 45,
      "outputs": []
    },
    {
      "cell_type": "code",
      "metadata": {
        "id": "VunU7iw7I7sW",
        "colab": {
          "base_uri": "https://localhost:8080/"
        },
        "outputId": "d8b7d49b-85a1-4fbf-f5d3-aba458c85697"
      },
      "source": [
        "# look at 10 random rows from the output after clusters have been identified\n",
        "!mysql praxisDB -e 'select * from km_iris order by rand() limit 10;'"
      ],
      "execution_count": 46,
      "outputs": [
        {
          "output_type": "stream",
          "text": [
            "+-----+-----------+------+------+------+------+-----------------+\n",
            "| id  | clusterID | x1   | x2   | x3   | x4   | label           |\n",
            "+-----+-----------+------+------+------+------+-----------------+\n",
            "|  28 |         3 |  5.2 |  3.5 |  1.5 |  0.2 | Iris-setosa     |\n",
            "|  85 |         2 |  5.4 |    3 |  4.5 |  1.5 | Iris-versicolor |\n",
            "| 125 |         1 |  6.7 |  3.3 |  5.7 |  2.1 | Iris-virginica  |\n",
            "| 126 |         1 |  7.2 |  3.2 |    6 |  1.8 | Iris-virginica  |\n",
            "| 137 |         1 |  6.3 |  3.4 |  5.6 |  2.4 | Iris-virginica  |\n",
            "| 136 |         1 |  7.7 |    3 |  6.1 |  2.3 | Iris-virginica  |\n",
            "| 114 |         2 |  5.7 |  2.5 |    5 |    2 | Iris-virginica  |\n",
            "| 146 |         1 |  6.7 |    3 |  5.2 |  2.3 | Iris-virginica  |\n",
            "|  52 |         2 |  6.4 |  3.2 |  4.5 |  1.5 | Iris-versicolor |\n",
            "|  49 |         3 |  5.3 |  3.7 |  1.5 |  0.2 | Iris-setosa     |\n",
            "+-----+-----------+------+------+------+------+-----------------+\n"
          ],
          "name": "stdout"
        }
      ]
    },
    {
      "cell_type": "code",
      "metadata": {
        "id": "FHaHuYlEYKmT",
        "colab": {
          "base_uri": "https://localhost:8080/"
        },
        "outputId": "790c1394-3149-4321-af37-7fd4354347d8"
      },
      "source": [
        "!mysql praxisDB -e 'select * from km_steps;'"
      ],
      "execution_count": 47,
      "outputs": [
        {
          "output_type": "stream",
          "text": [
            "+------+---------+---------+---------+---------+\n",
            "| id   | x1      | x2      | x3      | x4      |\n",
            "+------+---------+---------+---------+---------+\n",
            "|    1 |     5.1 |     3.5 |     1.4 |     0.2 |\n",
            "|    2 |     4.9 |       3 |     1.4 |     0.2 |\n",
            "|    3 |     4.7 |     3.2 |     1.3 |     0.2 |\n",
            "|    1 |  6.1618 | 3.25955 | 4.02809 | 1.33258 |\n",
            "|    2 |  5.5451 | 2.67059 | 3.76471 | 1.16078 |\n",
            "|    3 |    4.53 |    3.18 |    1.33 |     0.2 |\n",
            "|    1 | 6.53014 | 2.98356 | 5.24521 | 1.84247 |\n",
            "|    2 | 5.53704 | 2.57037 | 3.98889 | 1.22593 |\n",
            "|    3 |   5.006 |   3.418 |   1.464 |   0.244 |\n",
            "|    1 | 6.57727 | 2.99091 | 5.34848 | 1.89545 |\n",
            "|    2 |    5.65 | 2.64118 | 4.04706 |    1.25 |\n",
            "|    3 |   5.006 |   3.418 |   1.464 |   0.244 |\n",
            "|    1 | 6.60159 | 2.98571 | 5.38413 | 1.91587 |\n",
            "|    2 | 5.68378 | 2.67838 | 4.09189 | 1.26757 |\n",
            "|    3 |   5.006 |   3.418 |   1.464 |   0.244 |\n",
            "|    1 |  6.6322 | 2.99831 | 5.43051 | 1.93729 |\n",
            "|    2 | 5.72927 | 2.69024 | 4.15122 |     1.3 |\n",
            "|    3 |   5.006 |   3.418 |   1.464 |   0.244 |\n",
            "|    1 | 6.66481 | 3.00741 |     5.5 | 1.96852 |\n",
            "|    2 | 5.78913 | 2.71304 |  4.2087 | 1.33261 |\n",
            "|    3 |   5.006 |   3.418 |   1.464 |   0.244 |\n",
            "|    1 |   6.702 |   3.016 |   5.556 |   1.992 |\n",
            "|    2 |   5.822 |   2.728 |   4.256 |    1.36 |\n",
            "|    3 |   5.006 |   3.418 |   1.464 |   0.244 |\n",
            "|    1 | 6.76957 | 3.03696 |     5.6 |  2.0087 |\n",
            "|    2 | 5.82963 | 2.73148 | 4.31481 | 1.39259 |\n",
            "|    3 |   5.006 |   3.418 |   1.464 |   0.244 |\n",
            "|    1 | 6.80233 | 3.04419 | 5.64884 | 2.03023 |\n",
            "|    2 | 5.85439 | 2.74211 | 4.34561 | 1.40877 |\n",
            "|    3 |   5.006 |   3.418 |   1.464 |   0.244 |\n",
            "|    1 |  6.8275 |    3.07 |     5.7 |  2.0625 |\n",
            "|    2 |   5.885 |    2.74 | 4.37667 | 1.41833 |\n",
            "|    3 |   5.006 |   3.418 |   1.464 |   0.244 |\n",
            "|    1 | 6.85385 | 3.07692 | 5.71538 | 2.05385 |\n",
            "|    2 | 5.88361 | 2.74098 | 4.38852 | 1.43443 |\n",
            "|    3 |   5.006 |   3.418 |   1.464 |   0.244 |\n",
            "+------+---------+---------+---------+---------+\n"
          ],
          "name": "stdout"
        }
      ]
    },
    {
      "cell_type": "markdown",
      "metadata": {
        "id": "W4e-NPbCJx9r"
      },
      "source": [
        "# Predictions & Labels"
      ]
    },
    {
      "cell_type": "code",
      "metadata": {
        "id": "JqGhDRHRJwiu",
        "colab": {
          "base_uri": "https://localhost:8080/"
        },
        "outputId": "13b693d8-aafe-47e1-8326-3a9b4c907f73"
      },
      "source": [
        "!mysql praxisDB -e 'select clusterID, label from km_iris;'"
      ],
      "execution_count": 48,
      "outputs": [
        {
          "output_type": "stream",
          "text": [
            "+-----------+-----------------+\n",
            "| clusterID | label           |\n",
            "+-----------+-----------------+\n",
            "|         3 | Iris-setosa     |\n",
            "|         3 | Iris-setosa     |\n",
            "|         3 | Iris-setosa     |\n",
            "|         3 | Iris-setosa     |\n",
            "|         3 | Iris-setosa     |\n",
            "|         3 | Iris-setosa     |\n",
            "|         3 | Iris-setosa     |\n",
            "|         3 | Iris-setosa     |\n",
            "|         3 | Iris-setosa     |\n",
            "|         3 | Iris-setosa     |\n",
            "|         3 | Iris-setosa     |\n",
            "|         3 | Iris-setosa     |\n",
            "|         3 | Iris-setosa     |\n",
            "|         3 | Iris-setosa     |\n",
            "|         3 | Iris-setosa     |\n",
            "|         3 | Iris-setosa     |\n",
            "|         3 | Iris-setosa     |\n",
            "|         3 | Iris-setosa     |\n",
            "|         3 | Iris-setosa     |\n",
            "|         3 | Iris-setosa     |\n",
            "|         3 | Iris-setosa     |\n",
            "|         3 | Iris-setosa     |\n",
            "|         3 | Iris-setosa     |\n",
            "|         3 | Iris-setosa     |\n",
            "|         3 | Iris-setosa     |\n",
            "|         3 | Iris-setosa     |\n",
            "|         3 | Iris-setosa     |\n",
            "|         3 | Iris-setosa     |\n",
            "|         3 | Iris-setosa     |\n",
            "|         3 | Iris-setosa     |\n",
            "|         3 | Iris-setosa     |\n",
            "|         3 | Iris-setosa     |\n",
            "|         3 | Iris-setosa     |\n",
            "|         3 | Iris-setosa     |\n",
            "|         3 | Iris-setosa     |\n",
            "|         3 | Iris-setosa     |\n",
            "|         3 | Iris-setosa     |\n",
            "|         3 | Iris-setosa     |\n",
            "|         3 | Iris-setosa     |\n",
            "|         3 | Iris-setosa     |\n",
            "|         3 | Iris-setosa     |\n",
            "|         3 | Iris-setosa     |\n",
            "|         3 | Iris-setosa     |\n",
            "|         3 | Iris-setosa     |\n",
            "|         3 | Iris-setosa     |\n",
            "|         3 | Iris-setosa     |\n",
            "|         3 | Iris-setosa     |\n",
            "|         3 | Iris-setosa     |\n",
            "|         3 | Iris-setosa     |\n",
            "|         3 | Iris-setosa     |\n",
            "|         1 | Iris-versicolor |\n",
            "|         2 | Iris-versicolor |\n",
            "|         1 | Iris-versicolor |\n",
            "|         2 | Iris-versicolor |\n",
            "|         2 | Iris-versicolor |\n",
            "|         2 | Iris-versicolor |\n",
            "|         2 | Iris-versicolor |\n",
            "|         2 | Iris-versicolor |\n",
            "|         2 | Iris-versicolor |\n",
            "|         2 | Iris-versicolor |\n",
            "|         2 | Iris-versicolor |\n",
            "|         2 | Iris-versicolor |\n",
            "|         2 | Iris-versicolor |\n",
            "|         2 | Iris-versicolor |\n",
            "|         2 | Iris-versicolor |\n",
            "|         2 | Iris-versicolor |\n",
            "|         2 | Iris-versicolor |\n",
            "|         2 | Iris-versicolor |\n",
            "|         2 | Iris-versicolor |\n",
            "|         2 | Iris-versicolor |\n",
            "|         2 | Iris-versicolor |\n",
            "|         2 | Iris-versicolor |\n",
            "|         2 | Iris-versicolor |\n",
            "|         2 | Iris-versicolor |\n",
            "|         2 | Iris-versicolor |\n",
            "|         2 | Iris-versicolor |\n",
            "|         2 | Iris-versicolor |\n",
            "|         1 | Iris-versicolor |\n",
            "|         2 | Iris-versicolor |\n",
            "|         2 | Iris-versicolor |\n",
            "|         2 | Iris-versicolor |\n",
            "|         2 | Iris-versicolor |\n",
            "|         2 | Iris-versicolor |\n",
            "|         2 | Iris-versicolor |\n",
            "|         2 | Iris-versicolor |\n",
            "|         2 | Iris-versicolor |\n",
            "|         2 | Iris-versicolor |\n",
            "|         2 | Iris-versicolor |\n",
            "|         2 | Iris-versicolor |\n",
            "|         2 | Iris-versicolor |\n",
            "|         2 | Iris-versicolor |\n",
            "|         2 | Iris-versicolor |\n",
            "|         2 | Iris-versicolor |\n",
            "|         2 | Iris-versicolor |\n",
            "|         2 | Iris-versicolor |\n",
            "|         2 | Iris-versicolor |\n",
            "|         2 | Iris-versicolor |\n",
            "|         2 | Iris-versicolor |\n",
            "|         2 | Iris-versicolor |\n",
            "|         2 | Iris-versicolor |\n",
            "|         1 | Iris-virginica  |\n",
            "|         2 | Iris-virginica  |\n",
            "|         1 | Iris-virginica  |\n",
            "|         1 | Iris-virginica  |\n",
            "|         1 | Iris-virginica  |\n",
            "|         1 | Iris-virginica  |\n",
            "|         2 | Iris-virginica  |\n",
            "|         1 | Iris-virginica  |\n",
            "|         1 | Iris-virginica  |\n",
            "|         1 | Iris-virginica  |\n",
            "|         1 | Iris-virginica  |\n",
            "|         1 | Iris-virginica  |\n",
            "|         1 | Iris-virginica  |\n",
            "|         2 | Iris-virginica  |\n",
            "|         2 | Iris-virginica  |\n",
            "|         1 | Iris-virginica  |\n",
            "|         1 | Iris-virginica  |\n",
            "|         1 | Iris-virginica  |\n",
            "|         1 | Iris-virginica  |\n",
            "|         2 | Iris-virginica  |\n",
            "|         1 | Iris-virginica  |\n",
            "|         2 | Iris-virginica  |\n",
            "|         1 | Iris-virginica  |\n",
            "|         2 | Iris-virginica  |\n",
            "|         1 | Iris-virginica  |\n",
            "|         1 | Iris-virginica  |\n",
            "|         2 | Iris-virginica  |\n",
            "|         2 | Iris-virginica  |\n",
            "|         1 | Iris-virginica  |\n",
            "|         1 | Iris-virginica  |\n",
            "|         1 | Iris-virginica  |\n",
            "|         1 | Iris-virginica  |\n",
            "|         1 | Iris-virginica  |\n",
            "|         2 | Iris-virginica  |\n",
            "|         1 | Iris-virginica  |\n",
            "|         1 | Iris-virginica  |\n",
            "|         1 | Iris-virginica  |\n",
            "|         1 | Iris-virginica  |\n",
            "|         2 | Iris-virginica  |\n",
            "|         1 | Iris-virginica  |\n",
            "|         1 | Iris-virginica  |\n",
            "|         1 | Iris-virginica  |\n",
            "|         2 | Iris-virginica  |\n",
            "|         1 | Iris-virginica  |\n",
            "|         1 | Iris-virginica  |\n",
            "|         1 | Iris-virginica  |\n",
            "|         2 | Iris-virginica  |\n",
            "|         1 | Iris-virginica  |\n",
            "|         1 | Iris-virginica  |\n",
            "|         2 | Iris-virginica  |\n",
            "+-----------+-----------------+\n"
          ],
          "name": "stdout"
        }
      ]
    },
    {
      "cell_type": "code",
      "metadata": {
        "id": "J1E85NI-OKyZ",
        "colab": {
          "base_uri": "https://localhost:8080/"
        },
        "outputId": "03298089-dbf5-495c-c31d-6e045db3d371"
      },
      "source": [
        "%%writefile step21.sql\n",
        "select id, label,  \n",
        "case\n",
        "  when label = 'Iris-setosa' then 3\n",
        "  when label = 'Iris-versicolor' then 2\n",
        "  when label = 'Iris-virginica' then 1\n",
        "  else  0\n",
        "end\n",
        "labelID,\n",
        "clusterID\n",
        "from km_iris"
      ],
      "execution_count": 49,
      "outputs": [
        {
          "output_type": "stream",
          "text": [
            "Writing step21.sql\n"
          ],
          "name": "stdout"
        }
      ]
    },
    {
      "cell_type": "code",
      "metadata": {
        "id": "OFFk5lK4Qxzz",
        "colab": {
          "base_uri": "https://localhost:8080/"
        },
        "outputId": "6d5093e9-b923-4534-fd5e-efde5270cb36"
      },
      "source": [
        "!mysql praxisDB --table < step21.sql"
      ],
      "execution_count": 50,
      "outputs": [
        {
          "output_type": "stream",
          "text": [
            "+-----+-----------------+---------+-----------+\n",
            "| id  | label           | labelID | clusterID |\n",
            "+-----+-----------------+---------+-----------+\n",
            "|   1 | Iris-setosa     |       3 |         3 |\n",
            "|   2 | Iris-setosa     |       3 |         3 |\n",
            "|   3 | Iris-setosa     |       3 |         3 |\n",
            "|   4 | Iris-setosa     |       3 |         3 |\n",
            "|   5 | Iris-setosa     |       3 |         3 |\n",
            "|   6 | Iris-setosa     |       3 |         3 |\n",
            "|   7 | Iris-setosa     |       3 |         3 |\n",
            "|   8 | Iris-setosa     |       3 |         3 |\n",
            "|   9 | Iris-setosa     |       3 |         3 |\n",
            "|  10 | Iris-setosa     |       3 |         3 |\n",
            "|  11 | Iris-setosa     |       3 |         3 |\n",
            "|  12 | Iris-setosa     |       3 |         3 |\n",
            "|  13 | Iris-setosa     |       3 |         3 |\n",
            "|  14 | Iris-setosa     |       3 |         3 |\n",
            "|  15 | Iris-setosa     |       3 |         3 |\n",
            "|  16 | Iris-setosa     |       3 |         3 |\n",
            "|  17 | Iris-setosa     |       3 |         3 |\n",
            "|  18 | Iris-setosa     |       3 |         3 |\n",
            "|  19 | Iris-setosa     |       3 |         3 |\n",
            "|  20 | Iris-setosa     |       3 |         3 |\n",
            "|  21 | Iris-setosa     |       3 |         3 |\n",
            "|  22 | Iris-setosa     |       3 |         3 |\n",
            "|  23 | Iris-setosa     |       3 |         3 |\n",
            "|  24 | Iris-setosa     |       3 |         3 |\n",
            "|  25 | Iris-setosa     |       3 |         3 |\n",
            "|  26 | Iris-setosa     |       3 |         3 |\n",
            "|  27 | Iris-setosa     |       3 |         3 |\n",
            "|  28 | Iris-setosa     |       3 |         3 |\n",
            "|  29 | Iris-setosa     |       3 |         3 |\n",
            "|  30 | Iris-setosa     |       3 |         3 |\n",
            "|  31 | Iris-setosa     |       3 |         3 |\n",
            "|  32 | Iris-setosa     |       3 |         3 |\n",
            "|  33 | Iris-setosa     |       3 |         3 |\n",
            "|  34 | Iris-setosa     |       3 |         3 |\n",
            "|  35 | Iris-setosa     |       3 |         3 |\n",
            "|  36 | Iris-setosa     |       3 |         3 |\n",
            "|  37 | Iris-setosa     |       3 |         3 |\n",
            "|  38 | Iris-setosa     |       3 |         3 |\n",
            "|  39 | Iris-setosa     |       3 |         3 |\n",
            "|  40 | Iris-setosa     |       3 |         3 |\n",
            "|  41 | Iris-setosa     |       3 |         3 |\n",
            "|  42 | Iris-setosa     |       3 |         3 |\n",
            "|  43 | Iris-setosa     |       3 |         3 |\n",
            "|  44 | Iris-setosa     |       3 |         3 |\n",
            "|  45 | Iris-setosa     |       3 |         3 |\n",
            "|  46 | Iris-setosa     |       3 |         3 |\n",
            "|  47 | Iris-setosa     |       3 |         3 |\n",
            "|  48 | Iris-setosa     |       3 |         3 |\n",
            "|  49 | Iris-setosa     |       3 |         3 |\n",
            "|  50 | Iris-setosa     |       3 |         3 |\n",
            "|  51 | Iris-versicolor |       2 |         1 |\n",
            "|  52 | Iris-versicolor |       2 |         2 |\n",
            "|  53 | Iris-versicolor |       2 |         1 |\n",
            "|  54 | Iris-versicolor |       2 |         2 |\n",
            "|  55 | Iris-versicolor |       2 |         2 |\n",
            "|  56 | Iris-versicolor |       2 |         2 |\n",
            "|  57 | Iris-versicolor |       2 |         2 |\n",
            "|  58 | Iris-versicolor |       2 |         2 |\n",
            "|  59 | Iris-versicolor |       2 |         2 |\n",
            "|  60 | Iris-versicolor |       2 |         2 |\n",
            "|  61 | Iris-versicolor |       2 |         2 |\n",
            "|  62 | Iris-versicolor |       2 |         2 |\n",
            "|  63 | Iris-versicolor |       2 |         2 |\n",
            "|  64 | Iris-versicolor |       2 |         2 |\n",
            "|  65 | Iris-versicolor |       2 |         2 |\n",
            "|  66 | Iris-versicolor |       2 |         2 |\n",
            "|  67 | Iris-versicolor |       2 |         2 |\n",
            "|  68 | Iris-versicolor |       2 |         2 |\n",
            "|  69 | Iris-versicolor |       2 |         2 |\n",
            "|  70 | Iris-versicolor |       2 |         2 |\n",
            "|  71 | Iris-versicolor |       2 |         2 |\n",
            "|  72 | Iris-versicolor |       2 |         2 |\n",
            "|  73 | Iris-versicolor |       2 |         2 |\n",
            "|  74 | Iris-versicolor |       2 |         2 |\n",
            "|  75 | Iris-versicolor |       2 |         2 |\n",
            "|  76 | Iris-versicolor |       2 |         2 |\n",
            "|  77 | Iris-versicolor |       2 |         2 |\n",
            "|  78 | Iris-versicolor |       2 |         1 |\n",
            "|  79 | Iris-versicolor |       2 |         2 |\n",
            "|  80 | Iris-versicolor |       2 |         2 |\n",
            "|  81 | Iris-versicolor |       2 |         2 |\n",
            "|  82 | Iris-versicolor |       2 |         2 |\n",
            "|  83 | Iris-versicolor |       2 |         2 |\n",
            "|  84 | Iris-versicolor |       2 |         2 |\n",
            "|  85 | Iris-versicolor |       2 |         2 |\n",
            "|  86 | Iris-versicolor |       2 |         2 |\n",
            "|  87 | Iris-versicolor |       2 |         2 |\n",
            "|  88 | Iris-versicolor |       2 |         2 |\n",
            "|  89 | Iris-versicolor |       2 |         2 |\n",
            "|  90 | Iris-versicolor |       2 |         2 |\n",
            "|  91 | Iris-versicolor |       2 |         2 |\n",
            "|  92 | Iris-versicolor |       2 |         2 |\n",
            "|  93 | Iris-versicolor |       2 |         2 |\n",
            "|  94 | Iris-versicolor |       2 |         2 |\n",
            "|  95 | Iris-versicolor |       2 |         2 |\n",
            "|  96 | Iris-versicolor |       2 |         2 |\n",
            "|  97 | Iris-versicolor |       2 |         2 |\n",
            "|  98 | Iris-versicolor |       2 |         2 |\n",
            "|  99 | Iris-versicolor |       2 |         2 |\n",
            "| 100 | Iris-versicolor |       2 |         2 |\n",
            "| 101 | Iris-virginica  |       1 |         1 |\n",
            "| 102 | Iris-virginica  |       1 |         2 |\n",
            "| 103 | Iris-virginica  |       1 |         1 |\n",
            "| 104 | Iris-virginica  |       1 |         1 |\n",
            "| 105 | Iris-virginica  |       1 |         1 |\n",
            "| 106 | Iris-virginica  |       1 |         1 |\n",
            "| 107 | Iris-virginica  |       1 |         2 |\n",
            "| 108 | Iris-virginica  |       1 |         1 |\n",
            "| 109 | Iris-virginica  |       1 |         1 |\n",
            "| 110 | Iris-virginica  |       1 |         1 |\n",
            "| 111 | Iris-virginica  |       1 |         1 |\n",
            "| 112 | Iris-virginica  |       1 |         1 |\n",
            "| 113 | Iris-virginica  |       1 |         1 |\n",
            "| 114 | Iris-virginica  |       1 |         2 |\n",
            "| 115 | Iris-virginica  |       1 |         2 |\n",
            "| 116 | Iris-virginica  |       1 |         1 |\n",
            "| 117 | Iris-virginica  |       1 |         1 |\n",
            "| 118 | Iris-virginica  |       1 |         1 |\n",
            "| 119 | Iris-virginica  |       1 |         1 |\n",
            "| 120 | Iris-virginica  |       1 |         2 |\n",
            "| 121 | Iris-virginica  |       1 |         1 |\n",
            "| 122 | Iris-virginica  |       1 |         2 |\n",
            "| 123 | Iris-virginica  |       1 |         1 |\n",
            "| 124 | Iris-virginica  |       1 |         2 |\n",
            "| 125 | Iris-virginica  |       1 |         1 |\n",
            "| 126 | Iris-virginica  |       1 |         1 |\n",
            "| 127 | Iris-virginica  |       1 |         2 |\n",
            "| 128 | Iris-virginica  |       1 |         2 |\n",
            "| 129 | Iris-virginica  |       1 |         1 |\n",
            "| 130 | Iris-virginica  |       1 |         1 |\n",
            "| 131 | Iris-virginica  |       1 |         1 |\n",
            "| 132 | Iris-virginica  |       1 |         1 |\n",
            "| 133 | Iris-virginica  |       1 |         1 |\n",
            "| 134 | Iris-virginica  |       1 |         2 |\n",
            "| 135 | Iris-virginica  |       1 |         1 |\n",
            "| 136 | Iris-virginica  |       1 |         1 |\n",
            "| 137 | Iris-virginica  |       1 |         1 |\n",
            "| 138 | Iris-virginica  |       1 |         1 |\n",
            "| 139 | Iris-virginica  |       1 |         2 |\n",
            "| 140 | Iris-virginica  |       1 |         1 |\n",
            "| 141 | Iris-virginica  |       1 |         1 |\n",
            "| 142 | Iris-virginica  |       1 |         1 |\n",
            "| 143 | Iris-virginica  |       1 |         2 |\n",
            "| 144 | Iris-virginica  |       1 |         1 |\n",
            "| 145 | Iris-virginica  |       1 |         1 |\n",
            "| 146 | Iris-virginica  |       1 |         1 |\n",
            "| 147 | Iris-virginica  |       1 |         2 |\n",
            "| 148 | Iris-virginica  |       1 |         1 |\n",
            "| 149 | Iris-virginica  |       1 |         1 |\n",
            "| 150 | Iris-virginica  |       1 |         2 |\n",
            "+-----+-----------------+---------+-----------+\n"
          ],
          "name": "stdout"
        }
      ]
    },
    {
      "cell_type": "code",
      "metadata": {
        "id": "Q5_O5xpfJHsJ",
        "colab": {
          "base_uri": "https://localhost:8080/"
        },
        "outputId": "13587ea5-da82-480a-bde7-47549121989a"
      },
      "source": [
        "%%writefile step22.sql\n",
        "\n",
        "select K2.id, if(K2.labelID = K2.clusterID,'match','error') checkPL from (\n",
        "  select id, label,  \n",
        "    case\n",
        "    when label = 'Iris-setosa' then 3\n",
        "    when label = 'Iris-versicolor' then 2\n",
        "    when label = 'Iris-virginica' then 1\n",
        "    else  0\n",
        "    end\n",
        "  labelID,\n",
        "  clusterID\n",
        "  from km_iris\n",
        "  ) K2"
      ],
      "execution_count": 52,
      "outputs": [
        {
          "output_type": "stream",
          "text": [
            "Overwriting step22.sql\n"
          ],
          "name": "stdout"
        }
      ]
    },
    {
      "cell_type": "code",
      "metadata": {
        "id": "fln7lHQRN1qi",
        "colab": {
          "base_uri": "https://localhost:8080/"
        },
        "outputId": "3891bf29-52b3-4325-d601-c828495cbc10"
      },
      "source": [
        "!mysql praxisDB --table < step22.sql"
      ],
      "execution_count": 53,
      "outputs": [
        {
          "output_type": "stream",
          "text": [
            "+-----+---------+\n",
            "| id  | checkPL |\n",
            "+-----+---------+\n",
            "|   1 | match   |\n",
            "|   2 | match   |\n",
            "|   3 | match   |\n",
            "|   4 | match   |\n",
            "|   5 | match   |\n",
            "|   6 | match   |\n",
            "|   7 | match   |\n",
            "|   8 | match   |\n",
            "|   9 | match   |\n",
            "|  10 | match   |\n",
            "|  11 | match   |\n",
            "|  12 | match   |\n",
            "|  13 | match   |\n",
            "|  14 | match   |\n",
            "|  15 | match   |\n",
            "|  16 | match   |\n",
            "|  17 | match   |\n",
            "|  18 | match   |\n",
            "|  19 | match   |\n",
            "|  20 | match   |\n",
            "|  21 | match   |\n",
            "|  22 | match   |\n",
            "|  23 | match   |\n",
            "|  24 | match   |\n",
            "|  25 | match   |\n",
            "|  26 | match   |\n",
            "|  27 | match   |\n",
            "|  28 | match   |\n",
            "|  29 | match   |\n",
            "|  30 | match   |\n",
            "|  31 | match   |\n",
            "|  32 | match   |\n",
            "|  33 | match   |\n",
            "|  34 | match   |\n",
            "|  35 | match   |\n",
            "|  36 | match   |\n",
            "|  37 | match   |\n",
            "|  38 | match   |\n",
            "|  39 | match   |\n",
            "|  40 | match   |\n",
            "|  41 | match   |\n",
            "|  42 | match   |\n",
            "|  43 | match   |\n",
            "|  44 | match   |\n",
            "|  45 | match   |\n",
            "|  46 | match   |\n",
            "|  47 | match   |\n",
            "|  48 | match   |\n",
            "|  49 | match   |\n",
            "|  50 | match   |\n",
            "|  51 | error   |\n",
            "|  52 | match   |\n",
            "|  53 | error   |\n",
            "|  54 | match   |\n",
            "|  55 | match   |\n",
            "|  56 | match   |\n",
            "|  57 | match   |\n",
            "|  58 | match   |\n",
            "|  59 | match   |\n",
            "|  60 | match   |\n",
            "|  61 | match   |\n",
            "|  62 | match   |\n",
            "|  63 | match   |\n",
            "|  64 | match   |\n",
            "|  65 | match   |\n",
            "|  66 | match   |\n",
            "|  67 | match   |\n",
            "|  68 | match   |\n",
            "|  69 | match   |\n",
            "|  70 | match   |\n",
            "|  71 | match   |\n",
            "|  72 | match   |\n",
            "|  73 | match   |\n",
            "|  74 | match   |\n",
            "|  75 | match   |\n",
            "|  76 | match   |\n",
            "|  77 | match   |\n",
            "|  78 | error   |\n",
            "|  79 | match   |\n",
            "|  80 | match   |\n",
            "|  81 | match   |\n",
            "|  82 | match   |\n",
            "|  83 | match   |\n",
            "|  84 | match   |\n",
            "|  85 | match   |\n",
            "|  86 | match   |\n",
            "|  87 | match   |\n",
            "|  88 | match   |\n",
            "|  89 | match   |\n",
            "|  90 | match   |\n",
            "|  91 | match   |\n",
            "|  92 | match   |\n",
            "|  93 | match   |\n",
            "|  94 | match   |\n",
            "|  95 | match   |\n",
            "|  96 | match   |\n",
            "|  97 | match   |\n",
            "|  98 | match   |\n",
            "|  99 | match   |\n",
            "| 100 | match   |\n",
            "| 101 | match   |\n",
            "| 102 | error   |\n",
            "| 103 | match   |\n",
            "| 104 | match   |\n",
            "| 105 | match   |\n",
            "| 106 | match   |\n",
            "| 107 | error   |\n",
            "| 108 | match   |\n",
            "| 109 | match   |\n",
            "| 110 | match   |\n",
            "| 111 | match   |\n",
            "| 112 | match   |\n",
            "| 113 | match   |\n",
            "| 114 | error   |\n",
            "| 115 | error   |\n",
            "| 116 | match   |\n",
            "| 117 | match   |\n",
            "| 118 | match   |\n",
            "| 119 | match   |\n",
            "| 120 | error   |\n",
            "| 121 | match   |\n",
            "| 122 | error   |\n",
            "| 123 | match   |\n",
            "| 124 | error   |\n",
            "| 125 | match   |\n",
            "| 126 | match   |\n",
            "| 127 | error   |\n",
            "| 128 | error   |\n",
            "| 129 | match   |\n",
            "| 130 | match   |\n",
            "| 131 | match   |\n",
            "| 132 | match   |\n",
            "| 133 | match   |\n",
            "| 134 | error   |\n",
            "| 135 | match   |\n",
            "| 136 | match   |\n",
            "| 137 | match   |\n",
            "| 138 | match   |\n",
            "| 139 | error   |\n",
            "| 140 | match   |\n",
            "| 141 | match   |\n",
            "| 142 | match   |\n",
            "| 143 | error   |\n",
            "| 144 | match   |\n",
            "| 145 | match   |\n",
            "| 146 | match   |\n",
            "| 147 | error   |\n",
            "| 148 | match   |\n",
            "| 149 | match   |\n",
            "| 150 | error   |\n",
            "+-----+---------+\n"
          ],
          "name": "stdout"
        }
      ]
    },
    {
      "cell_type": "code",
      "metadata": {
        "id": "KqH8Lc0CPCv0",
        "colab": {
          "base_uri": "https://localhost:8080/"
        },
        "outputId": "a79e2a12-acbf-4b01-e71c-969947d8b249"
      },
      "source": [
        "%%writefile step23.sql\n",
        "\n",
        "select \n",
        "count(if(K3.checkPL = 'match',1,NULL)) km_match,\n",
        "count(if(K3.checkPL = 'error',1,NULL)) km_error, \n",
        "count(if(K3.checkPL = 'match',1,NULL)) / (count(if(K3.checkPL = 'match',1,NULL)) +count(if(K3.checkPL = 'error',1,NULL))) success\n",
        "from (\n",
        "  select K2.id, if(K2.labelID = K2.clusterID,'match','error') checkPL from (\n",
        "    select id, label,  \n",
        "      case\n",
        "      when label = 'Iris-setosa' then 3\n",
        "      when label = 'Iris-versicolor' then 2\n",
        "      when label = 'Iris-virginica' then 1\n",
        "      else  0\n",
        "      end\n",
        "     labelID,\n",
        "     clusterID\n",
        "    from km_iris\n",
        "    ) K2\n",
        "  ) K3"
      ],
      "execution_count": 54,
      "outputs": [
        {
          "output_type": "stream",
          "text": [
            "Writing step23.sql\n"
          ],
          "name": "stdout"
        }
      ]
    },
    {
      "cell_type": "code",
      "metadata": {
        "id": "jdRqBeCAPIC-",
        "colab": {
          "base_uri": "https://localhost:8080/"
        },
        "outputId": "b314a8fc-f6e2-44bb-8263-93b5ef81e474"
      },
      "source": [
        "!mysql praxisDB --table < step23.sql"
      ],
      "execution_count": 55,
      "outputs": [
        {
          "output_type": "stream",
          "text": [
            "+----------+----------+---------+\n",
            "| km_match | km_error | success |\n",
            "+----------+----------+---------+\n",
            "|      133 |       17 |  0.8867 |\n",
            "+----------+----------+---------+\n"
          ],
          "name": "stdout"
        }
      ]
    },
    {
      "cell_type": "markdown",
      "metadata": {
        "id": "kPksyk6OpJ0y"
      },
      "source": [
        "#Chronobooks <br>\n",
        "![alt text](https://1.bp.blogspot.com/-lTiYBkU2qbU/X1er__fvnkI/AAAAAAAAjtE/GhDR3OEGJr4NG43fZPodrQD5kbxtnKebgCLcBGAsYHQ/s600/Footer2020-600x200.png)<hr>\n",
        "Chronotantra and Chronoyantra are two science fiction novels that explore the collapse of human civilisation on Earth and then its rebirth and reincarnation both on Earth as well as on the distant worlds of Mars, Titan and Enceladus. But is it the human civilisation that is being reborn? Or is it some other sentience that is revealing itself. \n",
        "If you have an interest in AI and found this material useful, you may consider buying these novel, in paperback or kindle, from [http://bit.ly/chronobooks](http://bit.ly/chronobooks)"
      ]
    }
  ]
}