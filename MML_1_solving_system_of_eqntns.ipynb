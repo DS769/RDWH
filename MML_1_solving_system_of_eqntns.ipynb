{
  "nbformat": 4,
  "nbformat_minor": 0,
  "metadata": {
    "colab": {
      "provenance": [],
      "collapsed_sections": [],
      "authorship_tag": "ABX9TyN3WoBLmelLCnLpYxETm2wS",
      "include_colab_link": true
    },
    "kernelspec": {
      "name": "python3",
      "display_name": "Python 3"
    },
    "language_info": {
      "name": "python"
    }
  },
  "cells": [
    {
      "cell_type": "markdown",
      "metadata": {
        "id": "view-in-github",
        "colab_type": "text"
      },
      "source": [
        "<a href=\"https://colab.research.google.com/github/DS769/RDWH/blob/main/MML_1_solving_system_of_eqntns.ipynb\" target=\"_parent\"><img src=\"https://colab.research.google.com/assets/colab-badge.svg\" alt=\"Open In Colab\"/></a>"
      ]
    },
    {
      "cell_type": "code",
      "execution_count": 1,
      "metadata": {
        "id": "OsbMjrRGFDou"
      },
      "outputs": [],
      "source": [
        "import numpy as np"
      ]
    },
    {
      "cell_type": "markdown",
      "source": [
        "$$x+2y+4z = 20$$\n",
        "$$2x-2y-z= 10$$\n",
        "$$x+y-2z = 5$$"
      ],
      "metadata": {
        "id": "pdv-7VyXGX1i"
      }
    },
    {
      "cell_type": "code",
      "source": [
        "coeff_mat = np.array([[1,2,4],\n",
        "                      [2,-2,-1],\n",
        "                      [1,1,-2]])\n",
        "b_vec = np.array([20,10,5])"
      ],
      "metadata": {
        "id": "IzgGCA8zG4vM"
      },
      "execution_count": 2,
      "outputs": []
    },
    {
      "cell_type": "code",
      "source": [
        "coeff_mat"
      ],
      "metadata": {
        "colab": {
          "base_uri": "https://localhost:8080/"
        },
        "id": "q9dLSDYuK_vF",
        "outputId": "48e57330-af85-42f0-e4ad-e8db701fd57e"
      },
      "execution_count": 7,
      "outputs": [
        {
          "output_type": "execute_result",
          "data": {
            "text/plain": [
              "array([[ 1,  2,  4],\n",
              "       [ 2, -2, -1],\n",
              "       [ 1,  1, -2]])"
            ]
          },
          "metadata": {},
          "execution_count": 7
        }
      ]
    },
    {
      "cell_type": "code",
      "source": [
        "np.linalg.det(coeff_mat) #trying to find out if the system of equations is solvable (rows or columns are not linearly dependent on each other)"
      ],
      "metadata": {
        "colab": {
          "base_uri": "https://localhost:8080/"
        },
        "id": "i_cy_gC3Hryo",
        "outputId": "0ec5f937-4d5f-4bde-ef59-19346380c8bf"
      },
      "execution_count": 3,
      "outputs": [
        {
          "output_type": "execute_result",
          "data": {
            "text/plain": [
              "27.0"
            ]
          },
          "metadata": {},
          "execution_count": 3
        }
      ]
    },
    {
      "cell_type": "markdown",
      "source": [
        "$$X=A^{-1}b$$"
      ],
      "metadata": {
        "id": "VXHmj-ALI-Fu"
      }
    },
    {
      "cell_type": "code",
      "source": [
        "X = np.linalg.inv(coeff_mat) @ b_vec\n",
        "X"
      ],
      "metadata": {
        "colab": {
          "base_uri": "https://localhost:8080/"
        },
        "id": "x011M8-EIoVo",
        "outputId": "97ddb6a7-ab8b-40d0-ed5d-723d5487b5a5"
      },
      "execution_count": 6,
      "outputs": [
        {
          "output_type": "execute_result",
          "data": {
            "text/plain": [
              "array([7.77777778, 1.66666667, 2.22222222])"
            ]
          },
          "metadata": {},
          "execution_count": 6
        }
      ]
    },
    {
      "cell_type": "code",
      "source": [
        "D = coeff_mat[:,0].dot(coeff_mat[:,1])"
      ],
      "metadata": {
        "id": "1h_rnhyrKOBz"
      },
      "execution_count": 11,
      "outputs": []
    },
    {
      "cell_type": "code",
      "source": [
        "np.linalg.norm(coeff_mat[:,0])\n",
        "np.sqrt(coeff_mat[:,0].dot(coeff_mat[:,0])) # eculidean norm/length of the columns vector for first column"
      ],
      "metadata": {
        "colab": {
          "base_uri": "https://localhost:8080/"
        },
        "id": "_woktKMLL0tx",
        "outputId": "cd4cebeb-7b75-48c4-cfc9-1f673913bf16"
      },
      "execution_count": 10,
      "outputs": [
        {
          "output_type": "execute_result",
          "data": {
            "text/plain": [
              "2.449489742783178"
            ]
          },
          "metadata": {},
          "execution_count": 10
        }
      ]
    },
    {
      "cell_type": "code",
      "source": [
        "costheta = D/(np.linalg.norm(coeff_mat[:,0])*np.linalg.norm(coeff_mat[:,1])) #angle between the first & second column vectors\n",
        "costheta"
      ],
      "metadata": {
        "colab": {
          "base_uri": "https://localhost:8080/"
        },
        "id": "w0w2eH2tMO8A",
        "outputId": "e142a1da-5c3a-4dff-8cb5-b3b6cbe9df24"
      },
      "execution_count": 17,
      "outputs": [
        {
          "output_type": "execute_result",
          "data": {
            "text/plain": [
              "-0.13608276348795434"
            ]
          },
          "metadata": {},
          "execution_count": 17
        }
      ]
    },
    {
      "cell_type": "code",
      "source": [
        "np.arccos(-0.13608276348795434) #angle in radians - multiply by 180 to get  in degress"
      ],
      "metadata": {
        "colab": {
          "base_uri": "https://localhost:8080/"
        },
        "id": "Au5k4_0_NqxY",
        "outputId": "b9c06351-5466-4a45-a861-d618f27fa16b"
      },
      "execution_count": 18,
      "outputs": [
        {
          "output_type": "execute_result",
          "data": {
            "text/plain": [
              "1.7073026379572018"
            ]
          },
          "metadata": {},
          "execution_count": 18
        }
      ]
    }
  ]
}