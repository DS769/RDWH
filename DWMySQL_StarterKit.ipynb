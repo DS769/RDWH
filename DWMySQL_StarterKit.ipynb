{
  "nbformat": 4,
  "nbformat_minor": 0,
  "metadata": {
    "colab": {
      "name": "DWMySQL_StarterKit",
      "provenance": [],
      "collapsed_sections": [],
      "toc_visible": true,
      "include_colab_link": true
    },
    "kernelspec": {
      "name": "python3",
      "display_name": "Python 3"
    }
  },
  "cells": [
    {
      "cell_type": "markdown",
      "metadata": {
        "id": "view-in-github",
        "colab_type": "text"
      },
      "source": [
        "<a href=\"https://colab.research.google.com/github/Praxis-QR/RDWH/blob/main/DWMySQL_StarterKit.ipynb\" target=\"_parent\"><img src=\"https://colab.research.google.com/assets/colab-badge.svg\" alt=\"Open In Colab\"/></a>"
      ]
    },
    {
      "cell_type": "markdown",
      "metadata": {
        "id": "FK_ydPh4LxXZ"
      },
      "source": [
        "# Datawarehousing with MySQL - StartUP"
      ]
    },
    {
      "cell_type": "markdown",
      "metadata": {
        "id": "t2HbOmI3MPLA"
      },
      "source": [
        "based on the codes available with the book Dimensional Datawarehousing \n",
        "available here https://drive.google.com/file/d/1Sx6f1y2mXTswCllmyVgj_AsM9jVbOMnU/view?usp=sharing\n"
      ]
    },
    {
      "cell_type": "markdown",
      "metadata": {
        "id": "OrqMBE2dMBSO"
      },
      "source": [
        "# Install MySQL"
      ]
    },
    {
      "cell_type": "code",
      "metadata": {
        "id": "prBPJ6B0LmuU",
        "colab": {
          "base_uri": "https://localhost:8080/"
        },
        "outputId": "67e638a6-ce73-410a-a0ab-dd980a93b4c1"
      },
      "source": [
        "!apt -y install mysql-server > /dev/null"
      ],
      "execution_count": 1,
      "outputs": [
        {
          "output_type": "stream",
          "name": "stdout",
          "text": [
            "\n",
            "WARNING: apt does not have a stable CLI interface. Use with caution in scripts.\n",
            "\n"
          ]
        }
      ]
    },
    {
      "cell_type": "code",
      "metadata": {
        "id": "D9vAqG8cMmGr",
        "colab": {
          "base_uri": "https://localhost:8080/"
        },
        "outputId": "b95a6da1-3847-4d84-b43d-722f9fc7508a"
      },
      "source": [
        "!/etc/init.d/mysql restart"
      ],
      "execution_count": 2,
      "outputs": [
        {
          "output_type": "stream",
          "name": "stdout",
          "text": [
            " * Stopping MySQL database server mysqld\n",
            "   ...done.\n",
            " * Starting MySQL database server mysqld\n",
            "No directory, logging in with HOME=/\n",
            "   ...done.\n"
          ]
        }
      ]
    },
    {
      "cell_type": "code",
      "metadata": {
        "id": "zYz_FGo7MqQZ",
        "colab": {
          "base_uri": "https://localhost:8080/"
        },
        "outputId": "8cc73dd6-f7d6-4b7d-8e5b-4c33c200aa3c"
      },
      "source": [
        "!mysql -e 'show databases'"
      ],
      "execution_count": 3,
      "outputs": [
        {
          "output_type": "stream",
          "name": "stdout",
          "text": [
            "+--------------------+\n",
            "| Database           |\n",
            "+--------------------+\n",
            "| information_schema |\n",
            "| mysql              |\n",
            "| performance_schema |\n",
            "| sys                |\n",
            "+--------------------+\n"
          ]
        }
      ]
    },
    {
      "cell_type": "markdown",
      "metadata": {
        "id": "nOQvvyv1M7fv"
      },
      "source": [
        "#Get Code & Data Files"
      ]
    },
    {
      "cell_type": "code",
      "metadata": {
        "id": "c1EmoFsTM_6P",
        "colab": {
          "base_uri": "https://localhost:8080/"
        },
        "outputId": "92b530dc-59a8-437a-f850-b52ce144cd23"
      },
      "source": [
        "#!wget https://brainysoftware.com/source/9780975212820.zip\n",
        "# archive available here https://drive.google.com/file/d/1qaiPXbxtIivCbBLmWiYvHMKAjAmNn2Y0/view?usp=sharing\n",
        "#!gdown https://drive.google.com/uc?id=1qaiPXbxtIivCbBLmWiYvHMKAjAmNn2Y0\n",
        "!wget -O dwCode.zip https://github.com/Praxis-QR/RDWH/blob/main/dwMySQL/dwCode.zip?raw=true"
      ],
      "execution_count": 4,
      "outputs": [
        {
          "output_type": "stream",
          "name": "stdout",
          "text": [
            "--2021-09-30 01:13:56--  https://github.com/Praxis-QR/RDWH/blob/main/dwMySQL/dwCode.zip?raw=true\n",
            "Resolving github.com (github.com)... 192.30.255.112\n",
            "Connecting to github.com (github.com)|192.30.255.112|:443... connected.\n",
            "HTTP request sent, awaiting response... 302 Found\n",
            "Location: https://github.com/Praxis-QR/RDWH/raw/main/dwMySQL/dwCode.zip [following]\n",
            "--2021-09-30 01:13:57--  https://github.com/Praxis-QR/RDWH/raw/main/dwMySQL/dwCode.zip\n",
            "Reusing existing connection to github.com:443.\n",
            "HTTP request sent, awaiting response... 302 Found\n",
            "Location: https://raw.githubusercontent.com/Praxis-QR/RDWH/main/dwMySQL/dwCode.zip [following]\n",
            "--2021-09-30 01:13:57--  https://raw.githubusercontent.com/Praxis-QR/RDWH/main/dwMySQL/dwCode.zip\n",
            "Resolving raw.githubusercontent.com (raw.githubusercontent.com)... 185.199.108.133, 185.199.109.133, 185.199.110.133, ...\n",
            "Connecting to raw.githubusercontent.com (raw.githubusercontent.com)|185.199.108.133|:443... connected.\n",
            "HTTP request sent, awaiting response... 200 OK\n",
            "Length: 166447 (163K) [application/zip]\n",
            "Saving to: ‘dwCode.zip’\n",
            "\n",
            "dwCode.zip          100%[===================>] 162.55K  --.-KB/s    in 0.01s   \n",
            "\n",
            "2021-09-30 01:13:57 (11.6 MB/s) - ‘dwCode.zip’ saved [166447/166447]\n",
            "\n"
          ]
        }
      ]
    },
    {
      "cell_type": "code",
      "metadata": {
        "id": "Nwt2TeOCNGjW",
        "colab": {
          "base_uri": "https://localhost:8080/"
        },
        "outputId": "62024db0-aa7b-4f2d-fe54-ad5f7cee1a19"
      },
      "source": [
        "#!unzip 9780975212820.zip\n",
        "!unzip dwCode.zip"
      ],
      "execution_count": 5,
      "outputs": [
        {
          "output_type": "stream",
          "name": "stdout",
          "text": [
            "Archive:  dwCode.zip\n",
            "   creating: scripts/\n",
            "  inflating: scripts/across_all_dimensions.sql  \n",
            "  inflating: scripts/across_date.sql  \n",
            "  inflating: scripts/across_date_customer.sql  \n",
            "  inflating: scripts/across_date_product.sql  \n",
            "  inflating: scripts/additive_data.sql  \n",
            "  inflating: scripts/add_campaign_session.sql  \n",
            "  inflating: scripts/add_four_milestones.sql  \n",
            "  inflating: scripts/add_sales_order_quantity.sql  \n",
            "  inflating: scripts/add_two_sales_orders.sql  \n",
            "  inflating: scripts/annual_aggregation.sql  \n",
            "  inflating: scripts/annual_tables.sql  \n",
            "  inflating: scripts/balance_across_months.sql  \n",
            "  inflating: scripts/balance_across_products.sql  \n",
            "  inflating: scripts/band_dim.sql    \n",
            "  inflating: scripts/band_ini.sql    \n",
            "  inflating: scripts/band_regular.sql  \n",
            "  inflating: scripts/campaign_session.sql  \n",
            "  inflating: scripts/campaign_session_20.sql  \n",
            "  inflating: scripts/campaign_session_21.sql  \n",
            "  inflating: scripts/campaign_session_path.sql  \n",
            "  inflating: scripts/campaign_stg_20.sql  \n",
            "  inflating: scripts/campaign_stg_21.sql  \n",
            "  inflating: scripts/confirm_initial_population.sql  \n",
            "  inflating: scripts/create_campaign_stg.sql  \n",
            "  inflating: scripts/create_customer_stg.sql  \n",
            "  inflating: scripts/create_databases.sql  \n",
            "  inflating: scripts/create_dw_tables.sql  \n",
            "  inflating: scripts/create_four_date_views.sql  \n",
            "  inflating: scripts/create_month_end_sales_order_fact.sql  \n",
            "  inflating: scripts/create_product_stg.sql  \n",
            "  inflating: scripts/create_promo_schedule_stg.sql  \n",
            "  inflating: scripts/create_sales_order.sql  \n",
            "  inflating: scripts/create_user_id.sql  \n",
            "  inflating: scripts/customer_sk.sql  \n",
            "  inflating: scripts/daily_aggregation.sql  \n",
            "  inflating: scripts/daily_date.sql  \n",
            "  inflating: scripts/daily_production.sql  \n",
            "  inflating: scripts/daily_production_23.sql  \n",
            "  inflating: scripts/daily_production_data.sql  \n",
            "  inflating: scripts/database_view.sql  \n",
            "  inflating: scripts/date_views.sql  \n",
            "  inflating: scripts/date_view_22.sql  \n",
            "  inflating: scripts/degenerate.sql  \n",
            "  inflating: scripts/dimensional_query_data.sql  \n",
            "  inflating: scripts/drilling.sql    \n",
            "  inflating: scripts/dw_initial.sql  \n",
            "  inflating: scripts/dw_regular.sql  \n",
            "  inflating: scripts/dw_regular_10.sql  \n",
            "  inflating: scripts/dw_regular_11.sql  \n",
            "  inflating: scripts/dw_regular_12.sql  \n",
            "  inflating: scripts/dw_regular_13.sql  \n",
            "  inflating: scripts/dw_regular_14.sql  \n",
            "  inflating: scripts/dw_regular_17.sql  \n",
            "  inflating: scripts/dw_regular_18.sql  \n",
            "  inflating: scripts/dw_regular_21.sql  \n",
            "  inflating: scripts/dw_regular_22.sql  \n",
            "  inflating: scripts/dw_regular_23.sql  \n",
            "  inflating: scripts/entry_date.sql  \n",
            "  inflating: scripts/factory_ini.sql  \n",
            "  inflating: scripts/factory_master.sql  \n",
            "  inflating: scripts/factory_master_source.sql  \n",
            "  inflating: scripts/factory_stg.sql  \n",
            "  inflating: scripts/fill_help_tables.sql  \n",
            "  inflating: scripts/filtered_month_end_sales_order_fact.sql  \n",
            "  inflating: scripts/grouping.sql    \n",
            "  inflating: scripts/jan_month_end_balance_regular.sql  \n",
            "  inflating: scripts/junk_dim.sql    \n",
            "  inflating: scripts/load_product_stg.sql  \n",
            "  inflating: scripts/loyal_customer.sql  \n",
            "  inflating: scripts/monthly_product_performer.sql  \n",
            "  inflating: scripts/monthly_storage.sql  \n",
            "  inflating: scripts/month_end_balance_fact.sql  \n",
            "  inflating: scripts/month_end_balance_initial.sql  \n",
            "  inflating: scripts/month_end_balance_regular.sql  \n",
            "  inflating: scripts/month_end_sales_order.sql  \n",
            "  inflating: scripts/month_end_sales_order_22.sql  \n",
            "  inflating: scripts/month_rollup_dim.sql  \n",
            "  inflating: scripts/more_customer_sk.sql  \n",
            "  inflating: scripts/more_sales_order.sql  \n",
            "  inflating: scripts/mysql_fix_privilege_tables.sql  \n",
            "  inflating: scripts/new_customer_credit_check.sql  \n",
            "  inflating: scripts/non_pa_customer.sql  \n",
            "  inflating: scripts/nullify_campaign_session.sql  \n",
            "  inflating: scripts/on_demand.sql   \n",
            "  inflating: scripts/order_quantity.sql  \n",
            "  inflating: scripts/order_status.sql  \n",
            "  inflating: scripts/pa_customer.sql  \n",
            "  inflating: scripts/pre_populate_date.sql  \n",
            "  inflating: scripts/pre_populate_date_12.sql  \n",
            "  inflating: scripts/pre_populate_date_13.sql  \n",
            "  inflating: scripts/production_fact_23.sql  \n",
            "  inflating: scripts/production_regular.sql  \n",
            "  inflating: scripts/production_regular_23.sql  \n",
            "  inflating: scripts/product_count.sql  \n",
            "  inflating: scripts/product_count_ini.sql  \n",
            "  inflating: scripts/product_launch_date_dim.sql  \n",
            "  inflating: scripts/promotion_indicator.sql  \n",
            "  inflating: scripts/push_data.sql   \n",
            "  inflating: scripts/push_sales_order.sql  \n",
            "  inflating: scripts/quarterly_mechanicsburg.sql  \n",
            "  inflating: scripts/quarter_path.sql  \n",
            "  inflating: scripts/ragged_campaign.sql  \n",
            "  inflating: scripts/readme 1st      \n",
            "  inflating: scripts/readme 1st for scripts.txt  \n",
            "  inflating: scripts/remove_campaign.sql  \n",
            "  inflating: scripts/request_delivery_date.sql  \n",
            "  inflating: scripts/request_delivery_date_sk.sql  \n",
            "  inflating: scripts/request_delivery_date_source.sql  \n",
            "  inflating: scripts/sales_orders_24_ini.sql  \n",
            "  inflating: scripts/sales_orders_24_reg.sql  \n",
            "  inflating: scripts/sales_orders_step3.sql  \n",
            "  inflating: scripts/sales_orders_step5.sql  \n",
            "  inflating: scripts/sales_order_17.sql  \n",
            "  inflating: scripts/sales_order_18.sql  \n",
            "  inflating: scripts/sales_order_22.sql  \n",
            "  inflating: scripts/sales_order_23.sql  \n",
            "  inflating: scripts/sales_order_attributes.sql  \n",
            "  inflating: scripts/sales_order_attribute_sk.sql  \n",
            "  inflating: scripts/sales_order_fact_23.sql  \n",
            "  inflating: scripts/sales_order_initial.sql  \n",
            "  inflating: scripts/sales_order_quantity_data.sql  \n",
            "  inflating: scripts/sales_order_regular.sql  \n",
            "  inflating: scripts/scd1.sql        \n",
            "  inflating: scripts/scd2.sql        \n",
            "  inflating: scripts/segmentation.sql  \n",
            "  inflating: scripts/shipping_address.sql  \n",
            "  inflating: scripts/source_date.sql  \n",
            "  inflating: scripts/special_dates.sql  \n",
            "  inflating: scripts/table_alias.sql  \n",
            "  inflating: scripts/third_star_tables.sql  \n",
            "  inflating: scripts/track_launch_expiry.sql  \n",
            "  inflating: scripts/truncate_tables.sql  \n",
            "  inflating: scripts/two_more_customers.sql  \n",
            "  inflating: scripts/zip_code_dim.sql  \n",
            "  inflating: scripts/zip_code_population.sql  \n",
            "  inflating: scripts/zip_code_stg.sql  \n",
            "   creating: source_data/\n",
            "  inflating: source_data/campaign_session.csv  \n",
            "  inflating: source_data/customer10.csv  \n",
            "  inflating: source_data/customer2.csv  \n",
            "  inflating: source_data/customer23.csv  \n",
            "  inflating: source_data/customer8.csv  \n",
            "  inflating: source_data/factory19.csv  \n",
            "  inflating: source_data/factory23.csv  \n",
            "  inflating: source_data/non_straight_campaign.csv  \n",
            "  inflating: source_data/product2-1.txt  \n",
            "  inflating: source_data/product2-2.txt  \n",
            "  inflating: source_data/product21.txt  \n",
            "  inflating: source_data/product8.txt  \n",
            "  inflating: source_data/promo_schedule.csv  \n",
            "  inflating: source_data/ragged_campaign.csv  \n",
            "  inflating: source_data/readme 1st for data.txt  \n",
            "  inflating: source_data/zip_code.csv  \n"
          ]
        }
      ]
    },
    {
      "cell_type": "markdown",
      "metadata": {
        "id": "Zil5Adr9VaBJ"
      },
      "source": [
        "#Part 1 - Fundamentals"
      ]
    },
    {
      "cell_type": "markdown",
      "metadata": {
        "id": "QEpHP07dO4rw"
      },
      "source": [
        "## Chapter 1 Initial Setup"
      ]
    },
    {
      "cell_type": "code",
      "metadata": {
        "id": "cSLD3G1wO8jU"
      },
      "source": [
        "#Create User ID\n",
        "#!cat scripts/create_user_id.sql\n",
        "!mysql < scripts/create_user_id.sql"
      ],
      "execution_count": null,
      "outputs": []
    },
    {
      "cell_type": "code",
      "metadata": {
        "id": "lTv3xq9zPpfN",
        "colab": {
          "base_uri": "https://localhost:8080/",
          "height": 34
        },
        "outputId": "79977b24-cd27-4634-e0d4-9903aa89ae85"
      },
      "source": [
        "#!cat scripts/create_databases.sql\n",
        "!mysql -udwid -ppw < scripts/create_databases.sql"
      ],
      "execution_count": null,
      "outputs": [
        {
          "output_type": "stream",
          "text": [
            "mysql: [Warning] Using a password on the command line interface can be insecure.\n"
          ],
          "name": "stdout"
        }
      ]
    },
    {
      "cell_type": "code",
      "metadata": {
        "id": "rHQbTlYeQK9i",
        "colab": {
          "base_uri": "https://localhost:8080/",
          "height": 34
        },
        "outputId": "97d5a49f-0e1b-444e-9742-a39d2b50441f"
      },
      "source": [
        "#!cat scripts/create_dw_tables.sql\n",
        "!mysql -udwid -ppw < scripts/create_dw_tables.sql"
      ],
      "execution_count": null,
      "outputs": [
        {
          "output_type": "stream",
          "text": [
            "mysql: [Warning] Using a password on the command line interface can be insecure.\n"
          ],
          "name": "stdout"
        }
      ]
    },
    {
      "cell_type": "code",
      "metadata": {
        "id": "iokF4U1yT4i-",
        "colab": {
          "base_uri": "https://localhost:8080/",
          "height": 170
        },
        "outputId": "9f26408a-4804-4755-baf9-71fad7a48a5d"
      },
      "source": [
        "!mysql dw -e \"show tables\""
      ],
      "execution_count": null,
      "outputs": [
        {
          "output_type": "stream",
          "text": [
            "+------------------+\n",
            "| Tables_in_dw     |\n",
            "+------------------+\n",
            "| customer_dim     |\n",
            "| date_dim         |\n",
            "| order_dim        |\n",
            "| product_dim      |\n",
            "| sales_order_fact |\n",
            "+------------------+\n"
          ],
          "name": "stdout"
        }
      ]
    },
    {
      "cell_type": "code",
      "metadata": {
        "id": "pwpjWuikUj-E",
        "colab": {
          "base_uri": "https://localhost:8080/",
          "height": 34
        },
        "outputId": "667a1504-aa8d-4477-e5bf-c5ac072056f5"
      },
      "source": [
        "!mysql -udwid -ppw < scripts/customer_sk.sql"
      ],
      "execution_count": null,
      "outputs": [
        {
          "output_type": "stream",
          "text": [
            "mysql: [Warning] Using a password on the command line interface can be insecure.\n"
          ],
          "name": "stdout"
        }
      ]
    },
    {
      "cell_type": "code",
      "metadata": {
        "id": "kjlbWVCtUpoA",
        "colab": {
          "base_uri": "https://localhost:8080/",
          "height": 34
        },
        "outputId": "60d72fdd-a11e-4392-a8fe-f38cf2486238"
      },
      "source": [
        "!mysql -udwid -ppw < scripts/more_customer_sk.sql"
      ],
      "execution_count": null,
      "outputs": [
        {
          "output_type": "stream",
          "text": [
            "mysql: [Warning] Using a password on the command line interface can be insecure.\n"
          ],
          "name": "stdout"
        }
      ]
    },
    {
      "cell_type": "code",
      "metadata": {
        "id": "WWihWfsgVBOI",
        "colab": {
          "base_uri": "https://localhost:8080/",
          "height": 207
        },
        "outputId": "1b54eba5-ad09-4ba8-d09a-ded88343d697"
      },
      "source": [
        "!mysql dw -e \"select * from customer_dim\""
      ],
      "execution_count": null,
      "outputs": [
        {
          "output_type": "stream",
          "text": [
            "+-------------+-----------------+------------------+-------------------------+-------------------+---------------+----------------+----------------+-------------+\n",
            "| customer_sk | customer_number | customer_name    | customer_street_address | customer_zip_code | customer_city | customer_state | effective_date | expiry_date |\n",
            "+-------------+-----------------+------------------+-------------------------+-------------------+---------------+----------------+----------------+-------------+\n",
            "|           1 |               1 | Big Customers    | 7500 Louise Dr.         |             17050 | Mechanicsburg | PA             | 2019-06-08     | 9999-12-31  |\n",
            "|           2 |               2 | Small Stores     | 2500 Woodland St.       |             17055 | Pittsburgh    | PA             | 2019-06-08     | 9999-12-31  |\n",
            "|           3 |               3 | Medium Retailers | 1111 Ritter Rd.         |             17055 | Pittsburgh    | PA             | 2019-06-08     | 9999-12-31  |\n",
            "|           4 |               4 | Good Companies   | 9500 Scott St.          |             17050 | Mechanicsburg | PA             | 2019-06-08     | 9999-12-31  |\n",
            "|           5 |               5 | Wonderful Shops  | 3333 Rossmoyne Rd.      |             17050 | Mechanicsburg | PA             | 2019-06-08     | 9999-12-31  |\n",
            "|           6 |               6 | Loyal Clients    | 7070 Ritter Rd.         |             17055 | Pittsburgh    | PA             | 2019-06-08     | 9999-12-31  |\n",
            "+-------------+-----------------+------------------+-------------------------+-------------------+---------------+----------------+----------------+-------------+\n"
          ],
          "name": "stdout"
        }
      ]
    },
    {
      "cell_type": "code",
      "metadata": {
        "id": "bn6YCvqjVJEN"
      },
      "source": [
        "#since it was not possible to set the system date on Colab, the date was changed manually\n",
        "!mysql dw -e \"update customer_dim set effective_date = '2007-02-01' \""
      ],
      "execution_count": null,
      "outputs": []
    },
    {
      "cell_type": "code",
      "metadata": {
        "id": "oaibHoSuVNAy"
      },
      "source": [
        "#!mysql dw -e \"select * from customer_dim\""
      ],
      "execution_count": null,
      "outputs": []
    }
  ]
}