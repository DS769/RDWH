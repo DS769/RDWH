{
  "nbformat": 4,
  "nbformat_minor": 0,
  "metadata": {
    "colab": {
      "name": "DWMySQL_StarterKit",
      "provenance": [],
      "collapsed_sections": [],
      "toc_visible": true,
      "include_colab_link": true
    },
    "kernelspec": {
      "name": "python3",
      "display_name": "Python 3"
    }
  },
  "cells": [
    {
      "cell_type": "markdown",
      "metadata": {
        "id": "view-in-github",
        "colab_type": "text"
      },
      "source": [
        "<a href=\"https://colab.research.google.com/github/Praxis-QR/RDWH/blob/main/DWMySQL_StarterKit.ipynb\" target=\"_parent\"><img src=\"https://colab.research.google.com/assets/colab-badge.svg\" alt=\"Open In Colab\"/></a>"
      ]
    },
    {
      "cell_type": "markdown",
      "metadata": {
        "id": "FK_ydPh4LxXZ"
      },
      "source": [
        "# Datawarehousing with MySQL - StartUP"
      ]
    },
    {
      "cell_type": "markdown",
      "metadata": {
        "id": "t2HbOmI3MPLA"
      },
      "source": [
        "based on the codes available with the book Dimensional Datawarehousing \n",
        "available here https://drive.google.com/file/d/1Sx6f1y2mXTswCllmyVgj_AsM9jVbOMnU/view?usp=sharing\n"
      ]
    },
    {
      "cell_type": "markdown",
      "metadata": {
        "id": "OrqMBE2dMBSO"
      },
      "source": [
        "# Install MySQL"
      ]
    },
    {
      "cell_type": "code",
      "metadata": {
        "id": "prBPJ6B0LmuU",
        "colab": {
          "base_uri": "https://localhost:8080/",
          "height": 2485
        },
        "outputId": "4df87683-8108-47e9-808f-6a9a1e109b95"
      },
      "source": [
        "!apt -y install mysql-server"
      ],
      "execution_count": null,
      "outputs": [
        {
          "output_type": "stream",
          "text": [
            "Reading package lists... Done\n",
            "Building dependency tree       \n",
            "Reading state information... Done\n",
            "The following package was automatically installed and is no longer required:\n",
            "  libnvidia-common-410\n",
            "Use 'apt autoremove' to remove it.\n",
            "The following additional packages will be installed:\n",
            "  libaio1 libcgi-fast-perl libcgi-pm-perl libencode-locale-perl\n",
            "  libevent-core-2.1-6 libfcgi-perl libhtml-parser-perl libhtml-tagset-perl\n",
            "  libhtml-template-perl libhttp-date-perl libhttp-message-perl libio-html-perl\n",
            "  liblwp-mediatypes-perl libtimedate-perl liburi-perl mysql-client-5.7\n",
            "  mysql-client-core-5.7 mysql-server-5.7 mysql-server-core-5.7 psmisc\n",
            "Suggested packages:\n",
            "  libdata-dump-perl libipc-sharedcache-perl libwww-perl mailx tinyca\n",
            "The following NEW packages will be installed:\n",
            "  libaio1 libcgi-fast-perl libcgi-pm-perl libencode-locale-perl\n",
            "  libevent-core-2.1-6 libfcgi-perl libhtml-parser-perl libhtml-tagset-perl\n",
            "  libhtml-template-perl libhttp-date-perl libhttp-message-perl libio-html-perl\n",
            "  liblwp-mediatypes-perl libtimedate-perl liburi-perl mysql-client-5.7\n",
            "  mysql-client-core-5.7 mysql-server mysql-server-5.7 mysql-server-core-5.7\n",
            "  psmisc\n",
            "0 upgraded, 21 newly installed, 0 to remove and 8 not upgraded.\n",
            "Need to get 21.1 MB of archives.\n",
            "After this operation, 162 MB of additional disk space will be used.\n",
            "Get:1 http://archive.ubuntu.com/ubuntu bionic-updates/main amd64 libaio1 amd64 0.3.110-5ubuntu0.1 [6,476 B]\n",
            "Get:2 http://archive.ubuntu.com/ubuntu bionic-updates/main amd64 mysql-client-core-5.7 amd64 5.7.26-0ubuntu0.18.04.1 [7,044 kB]\n",
            "Get:3 http://archive.ubuntu.com/ubuntu bionic-updates/main amd64 mysql-client-5.7 amd64 5.7.26-0ubuntu0.18.04.1 [2,309 kB]\n",
            "Get:4 http://archive.ubuntu.com/ubuntu bionic-updates/main amd64 mysql-server-core-5.7 amd64 5.7.26-0ubuntu0.18.04.1 [7,776 kB]\n",
            "Get:5 http://archive.ubuntu.com/ubuntu bionic-updates/main amd64 psmisc amd64 23.1-1ubuntu0.1 [52.5 kB]\n",
            "Get:6 http://archive.ubuntu.com/ubuntu bionic/main amd64 libevent-core-2.1-6 amd64 2.1.8-stable-4build1 [85.9 kB]\n",
            "Get:7 http://archive.ubuntu.com/ubuntu bionic-updates/main amd64 mysql-server-5.7 amd64 5.7.26-0ubuntu0.18.04.1 [3,193 kB]\n",
            "Get:8 http://archive.ubuntu.com/ubuntu bionic/main amd64 libhtml-tagset-perl all 3.20-3 [12.1 kB]\n",
            "Get:9 http://archive.ubuntu.com/ubuntu bionic/main amd64 liburi-perl all 1.73-1 [77.2 kB]\n",
            "Get:10 http://archive.ubuntu.com/ubuntu bionic/main amd64 libhtml-parser-perl amd64 3.72-3build1 [85.9 kB]\n",
            "Get:11 http://archive.ubuntu.com/ubuntu bionic/main amd64 libcgi-pm-perl all 4.38-1 [185 kB]\n",
            "Get:12 http://archive.ubuntu.com/ubuntu bionic/main amd64 libfcgi-perl amd64 0.78-2build1 [32.8 kB]\n",
            "Get:13 http://archive.ubuntu.com/ubuntu bionic/main amd64 libcgi-fast-perl all 1:2.13-1 [9,940 B]\n",
            "Get:14 http://archive.ubuntu.com/ubuntu bionic/main amd64 libencode-locale-perl all 1.05-1 [12.3 kB]\n",
            "Get:15 http://archive.ubuntu.com/ubuntu bionic/main amd64 libhtml-template-perl all 2.97-1 [59.0 kB]\n",
            "Get:16 http://archive.ubuntu.com/ubuntu bionic/main amd64 libtimedate-perl all 2.3000-2 [37.5 kB]\n",
            "Get:17 http://archive.ubuntu.com/ubuntu bionic/main amd64 libhttp-date-perl all 6.02-1 [10.4 kB]\n",
            "Get:18 http://archive.ubuntu.com/ubuntu bionic/main amd64 libio-html-perl all 1.001-1 [14.9 kB]\n",
            "Get:19 http://archive.ubuntu.com/ubuntu bionic/main amd64 liblwp-mediatypes-perl all 6.02-1 [21.7 kB]\n",
            "Get:20 http://archive.ubuntu.com/ubuntu bionic/main amd64 libhttp-message-perl all 6.14-1 [72.1 kB]\n",
            "Get:21 http://archive.ubuntu.com/ubuntu bionic-updates/main amd64 mysql-server all 5.7.26-0ubuntu0.18.04.1 [9,944 B]\n",
            "Fetched 21.1 MB in 1s (36.8 MB/s)\n",
            "Preconfiguring packages ...\n",
            "Selecting previously unselected package libaio1:amd64.\n",
            "(Reading database ... 130912 files and directories currently installed.)\n",
            "Preparing to unpack .../00-libaio1_0.3.110-5ubuntu0.1_amd64.deb ...\n",
            "Unpacking libaio1:amd64 (0.3.110-5ubuntu0.1) ...\n",
            "Selecting previously unselected package mysql-client-core-5.7.\n",
            "Preparing to unpack .../01-mysql-client-core-5.7_5.7.26-0ubuntu0.18.04.1_amd64.deb ...\n",
            "Unpacking mysql-client-core-5.7 (5.7.26-0ubuntu0.18.04.1) ...\n",
            "Selecting previously unselected package mysql-client-5.7.\n",
            "Preparing to unpack .../02-mysql-client-5.7_5.7.26-0ubuntu0.18.04.1_amd64.deb ...\n",
            "Unpacking mysql-client-5.7 (5.7.26-0ubuntu0.18.04.1) ...\n",
            "Selecting previously unselected package mysql-server-core-5.7.\n",
            "Preparing to unpack .../03-mysql-server-core-5.7_5.7.26-0ubuntu0.18.04.1_amd64.deb ...\n",
            "Unpacking mysql-server-core-5.7 (5.7.26-0ubuntu0.18.04.1) ...\n",
            "Selecting previously unselected package psmisc.\n",
            "Preparing to unpack .../04-psmisc_23.1-1ubuntu0.1_amd64.deb ...\n",
            "Unpacking psmisc (23.1-1ubuntu0.1) ...\n",
            "Selecting previously unselected package libevent-core-2.1-6:amd64.\n",
            "Preparing to unpack .../05-libevent-core-2.1-6_2.1.8-stable-4build1_amd64.deb ...\n",
            "Unpacking libevent-core-2.1-6:amd64 (2.1.8-stable-4build1) ...\n",
            "Selecting previously unselected package mysql-server-5.7.\n",
            "Preparing to unpack .../06-mysql-server-5.7_5.7.26-0ubuntu0.18.04.1_amd64.deb ...\n",
            "Unpacking mysql-server-5.7 (5.7.26-0ubuntu0.18.04.1) ...\n",
            "Selecting previously unselected package libhtml-tagset-perl.\n",
            "Preparing to unpack .../07-libhtml-tagset-perl_3.20-3_all.deb ...\n",
            "Unpacking libhtml-tagset-perl (3.20-3) ...\n",
            "Selecting previously unselected package liburi-perl.\n",
            "Preparing to unpack .../08-liburi-perl_1.73-1_all.deb ...\n",
            "Unpacking liburi-perl (1.73-1) ...\n",
            "Selecting previously unselected package libhtml-parser-perl.\n",
            "Preparing to unpack .../09-libhtml-parser-perl_3.72-3build1_amd64.deb ...\n",
            "Unpacking libhtml-parser-perl (3.72-3build1) ...\n",
            "Selecting previously unselected package libcgi-pm-perl.\n",
            "Preparing to unpack .../10-libcgi-pm-perl_4.38-1_all.deb ...\n",
            "Unpacking libcgi-pm-perl (4.38-1) ...\n",
            "Selecting previously unselected package libfcgi-perl.\n",
            "Preparing to unpack .../11-libfcgi-perl_0.78-2build1_amd64.deb ...\n",
            "Unpacking libfcgi-perl (0.78-2build1) ...\n",
            "Selecting previously unselected package libcgi-fast-perl.\n",
            "Preparing to unpack .../12-libcgi-fast-perl_1%3a2.13-1_all.deb ...\n",
            "Unpacking libcgi-fast-perl (1:2.13-1) ...\n",
            "Selecting previously unselected package libencode-locale-perl.\n",
            "Preparing to unpack .../13-libencode-locale-perl_1.05-1_all.deb ...\n",
            "Unpacking libencode-locale-perl (1.05-1) ...\n",
            "Selecting previously unselected package libhtml-template-perl.\n",
            "Preparing to unpack .../14-libhtml-template-perl_2.97-1_all.deb ...\n",
            "Unpacking libhtml-template-perl (2.97-1) ...\n",
            "Selecting previously unselected package libtimedate-perl.\n",
            "Preparing to unpack .../15-libtimedate-perl_2.3000-2_all.deb ...\n",
            "Unpacking libtimedate-perl (2.3000-2) ...\n",
            "Selecting previously unselected package libhttp-date-perl.\n",
            "Preparing to unpack .../16-libhttp-date-perl_6.02-1_all.deb ...\n",
            "Unpacking libhttp-date-perl (6.02-1) ...\n",
            "Selecting previously unselected package libio-html-perl.\n",
            "Preparing to unpack .../17-libio-html-perl_1.001-1_all.deb ...\n",
            "Unpacking libio-html-perl (1.001-1) ...\n",
            "Selecting previously unselected package liblwp-mediatypes-perl.\n",
            "Preparing to unpack .../18-liblwp-mediatypes-perl_6.02-1_all.deb ...\n",
            "Unpacking liblwp-mediatypes-perl (6.02-1) ...\n",
            "Selecting previously unselected package libhttp-message-perl.\n",
            "Preparing to unpack .../19-libhttp-message-perl_6.14-1_all.deb ...\n",
            "Unpacking libhttp-message-perl (6.14-1) ...\n",
            "Selecting previously unselected package mysql-server.\n",
            "Preparing to unpack .../20-mysql-server_5.7.26-0ubuntu0.18.04.1_all.deb ...\n",
            "Unpacking mysql-server (5.7.26-0ubuntu0.18.04.1) ...\n",
            "Setting up libhtml-tagset-perl (3.20-3) ...\n",
            "Setting up libevent-core-2.1-6:amd64 (2.1.8-stable-4build1) ...\n",
            "Setting up psmisc (23.1-1ubuntu0.1) ...\n",
            "Setting up libencode-locale-perl (1.05-1) ...\n",
            "Setting up libtimedate-perl (2.3000-2) ...\n",
            "Setting up libio-html-perl (1.001-1) ...\n",
            "Setting up liblwp-mediatypes-perl (6.02-1) ...\n",
            "Processing triggers for libc-bin (2.27-3ubuntu1) ...\n",
            "Setting up libaio1:amd64 (0.3.110-5ubuntu0.1) ...\n",
            "Setting up liburi-perl (1.73-1) ...\n",
            "Processing triggers for systemd (237-3ubuntu10.21) ...\n",
            "Setting up libhtml-parser-perl (3.72-3build1) ...\n",
            "Setting up libcgi-pm-perl (4.38-1) ...\n",
            "Processing triggers for man-db (2.8.3-2ubuntu0.1) ...\n",
            "Setting up mysql-client-core-5.7 (5.7.26-0ubuntu0.18.04.1) ...\n",
            "Setting up libfcgi-perl (0.78-2build1) ...\n",
            "Setting up libhttp-date-perl (6.02-1) ...\n",
            "Setting up libhtml-template-perl (2.97-1) ...\n",
            "Setting up mysql-server-core-5.7 (5.7.26-0ubuntu0.18.04.1) ...\n",
            "Setting up libcgi-fast-perl (1:2.13-1) ...\n",
            "Setting up libhttp-message-perl (6.14-1) ...\n",
            "Setting up mysql-client-5.7 (5.7.26-0ubuntu0.18.04.1) ...\n",
            "Setting up mysql-server-5.7 (5.7.26-0ubuntu0.18.04.1) ...\n",
            "invoke-rc.d: could not determine current runlevel\n",
            "invoke-rc.d: policy-rc.d denied execution of stop.\n",
            "update-alternatives: using /etc/mysql/mysql.cnf to provide /etc/mysql/my.cnf (my.cnf) in auto mode\n",
            "Renaming removed key_buffer and myisam-recover options (if present)\n",
            "Created symlink /etc/systemd/system/multi-user.target.wants/mysql.service → /lib/systemd/system/mysql.service.\n",
            "invoke-rc.d: could not determine current runlevel\n",
            "invoke-rc.d: policy-rc.d denied execution of start.\n",
            "Setting up mysql-server (5.7.26-0ubuntu0.18.04.1) ...\n",
            "Processing triggers for libc-bin (2.27-3ubuntu1) ...\n",
            "Processing triggers for systemd (237-3ubuntu10.21) ...\n"
          ],
          "name": "stdout"
        }
      ]
    },
    {
      "cell_type": "code",
      "metadata": {
        "id": "D9vAqG8cMmGr",
        "colab": {
          "base_uri": "https://localhost:8080/",
          "height": 102
        },
        "outputId": "7735c0a0-1071-44bb-8a2f-c2999852b1cf"
      },
      "source": [
        "!/etc/init.d/mysql restart"
      ],
      "execution_count": null,
      "outputs": [
        {
          "output_type": "stream",
          "text": [
            " * Stopping MySQL database server mysqld\n",
            "   ...done.\n",
            " * Starting MySQL database server mysqld\n",
            "No directory, logging in with HOME=/\n",
            "   ...done.\n"
          ],
          "name": "stdout"
        }
      ]
    },
    {
      "cell_type": "code",
      "metadata": {
        "id": "zYz_FGo7MqQZ",
        "colab": {
          "base_uri": "https://localhost:8080/",
          "height": 153
        },
        "outputId": "2f954cba-cbba-4473-8e6d-c68d5844c9e7"
      },
      "source": [
        "!mysql -e 'show databases'"
      ],
      "execution_count": null,
      "outputs": [
        {
          "output_type": "stream",
          "text": [
            "+--------------------+\n",
            "| Database           |\n",
            "+--------------------+\n",
            "| information_schema |\n",
            "| mysql              |\n",
            "| performance_schema |\n",
            "| sys                |\n",
            "+--------------------+\n"
          ],
          "name": "stdout"
        }
      ]
    },
    {
      "cell_type": "markdown",
      "metadata": {
        "id": "nOQvvyv1M7fv"
      },
      "source": [
        "#Get Code & Data Files"
      ]
    },
    {
      "cell_type": "code",
      "metadata": {
        "id": "c1EmoFsTM_6P",
        "colab": {
          "base_uri": "https://localhost:8080/"
        },
        "outputId": "d115da75-e2b3-429b-c13a-e328500a6efa"
      },
      "source": [
        "#!wget https://brainysoftware.com/source/9780975212820.zip\n",
        "# archive available here https://drive.google.com/file/d/1qaiPXbxtIivCbBLmWiYvHMKAjAmNn2Y0/view?usp=sharing\n",
        "!gdown https://drive.google.com/uc?id=1qaiPXbxtIivCbBLmWiYvHMKAjAmNn2Y0"
      ],
      "execution_count": null,
      "outputs": [
        {
          "output_type": "stream",
          "text": [
            "Downloading...\n",
            "From: https://drive.google.com/uc?id=1qaiPXbxtIivCbBLmWiYvHMKAjAmNn2Y0\n",
            "To: /content/9780975212820.zip\n",
            "\r  0% 0.00/166k [00:00<?, ?B/s]\r100% 166k/166k [00:00<00:00, 58.5MB/s]\n"
          ],
          "name": "stdout"
        }
      ]
    },
    {
      "cell_type": "code",
      "metadata": {
        "id": "Nwt2TeOCNGjW",
        "colab": {
          "base_uri": "https://localhost:8080/"
        },
        "outputId": "21e62467-f887-44c7-8ebb-6ba5132a8c67"
      },
      "source": [
        "!unzip 9780975212820.zip"
      ],
      "execution_count": null,
      "outputs": [
        {
          "output_type": "stream",
          "text": [
            "Archive:  9780975212820.zip\n",
            "   creating: scripts/\n",
            "  inflating: scripts/across_all_dimensions.sql  \n",
            "  inflating: scripts/across_date.sql  \n",
            "  inflating: scripts/across_date_customer.sql  \n",
            "  inflating: scripts/across_date_product.sql  \n",
            "  inflating: scripts/additive_data.sql  \n",
            "  inflating: scripts/add_campaign_session.sql  \n",
            "  inflating: scripts/add_four_milestones.sql  \n",
            "  inflating: scripts/add_sales_order_quantity.sql  \n",
            "  inflating: scripts/add_two_sales_orders.sql  \n",
            "  inflating: scripts/annual_aggregation.sql  \n",
            "  inflating: scripts/annual_tables.sql  \n",
            "  inflating: scripts/balance_across_months.sql  \n",
            "  inflating: scripts/balance_across_products.sql  \n",
            "  inflating: scripts/band_dim.sql    \n",
            "  inflating: scripts/band_ini.sql    \n",
            "  inflating: scripts/band_regular.sql  \n",
            "  inflating: scripts/campaign_session.sql  \n",
            "  inflating: scripts/campaign_session_20.sql  \n",
            "  inflating: scripts/campaign_session_21.sql  \n",
            "  inflating: scripts/campaign_session_path.sql  \n",
            "  inflating: scripts/campaign_stg_20.sql  \n",
            "  inflating: scripts/campaign_stg_21.sql  \n",
            "  inflating: scripts/confirm_initial_population.sql  \n",
            "  inflating: scripts/create_campaign_stg.sql  \n",
            "  inflating: scripts/create_customer_stg.sql  \n",
            "  inflating: scripts/create_databases.sql  \n",
            "  inflating: scripts/create_dw_tables.sql  \n",
            "  inflating: scripts/create_four_date_views.sql  \n",
            "  inflating: scripts/create_month_end_sales_order_fact.sql  \n",
            "  inflating: scripts/create_product_stg.sql  \n",
            "  inflating: scripts/create_promo_schedule_stg.sql  \n",
            "  inflating: scripts/create_sales_order.sql  \n",
            "  inflating: scripts/create_user_id.sql  \n",
            "  inflating: scripts/customer_sk.sql  \n",
            "  inflating: scripts/daily_aggregation.sql  \n",
            "  inflating: scripts/daily_date.sql  \n",
            "  inflating: scripts/daily_production.sql  \n",
            "  inflating: scripts/daily_production_23.sql  \n",
            "  inflating: scripts/daily_production_data.sql  \n",
            "  inflating: scripts/database_view.sql  \n",
            "  inflating: scripts/date_views.sql  \n",
            "  inflating: scripts/date_view_22.sql  \n",
            "  inflating: scripts/degenerate.sql  \n",
            "  inflating: scripts/dimensional_query_data.sql  \n",
            "  inflating: scripts/drilling.sql    \n",
            "  inflating: scripts/dw_initial.sql  \n",
            "  inflating: scripts/dw_regular.sql  \n",
            "  inflating: scripts/dw_regular_10.sql  \n",
            "  inflating: scripts/dw_regular_11.sql  \n",
            "  inflating: scripts/dw_regular_12.sql  \n",
            "  inflating: scripts/dw_regular_13.sql  \n",
            "  inflating: scripts/dw_regular_14.sql  \n",
            "  inflating: scripts/dw_regular_17.sql  \n",
            "  inflating: scripts/dw_regular_18.sql  \n",
            "  inflating: scripts/dw_regular_21.sql  \n",
            "  inflating: scripts/dw_regular_22.sql  \n",
            "  inflating: scripts/dw_regular_23.sql  \n",
            "  inflating: scripts/entry_date.sql  \n",
            "  inflating: scripts/factory_ini.sql  \n",
            "  inflating: scripts/factory_master.sql  \n",
            "  inflating: scripts/factory_master_source.sql  \n",
            "  inflating: scripts/factory_stg.sql  \n",
            "  inflating: scripts/fill_help_tables.sql  \n",
            "  inflating: scripts/filtered_month_end_sales_order_fact.sql  \n",
            "  inflating: scripts/grouping.sql    \n",
            "  inflating: scripts/jan_month_end_balance_regular.sql  \n",
            "  inflating: scripts/junk_dim.sql    \n",
            "  inflating: scripts/load_product_stg.sql  \n",
            "  inflating: scripts/loyal_customer.sql  \n",
            "  inflating: scripts/monthly_product_performer.sql  \n",
            "  inflating: scripts/monthly_storage.sql  \n",
            "  inflating: scripts/month_end_balance_fact.sql  \n",
            "  inflating: scripts/month_end_balance_initial.sql  \n",
            "  inflating: scripts/month_end_balance_regular.sql  \n",
            "  inflating: scripts/month_end_sales_order.sql  \n",
            "  inflating: scripts/month_end_sales_order_22.sql  \n",
            "  inflating: scripts/month_rollup_dim.sql  \n",
            "  inflating: scripts/more_customer_sk.sql  \n",
            "  inflating: scripts/more_sales_order.sql  \n",
            "  inflating: scripts/mysql_fix_privilege_tables.sql  \n",
            "  inflating: scripts/new_customer_credit_check.sql  \n",
            "  inflating: scripts/non_pa_customer.sql  \n",
            "  inflating: scripts/nullify_campaign_session.sql  \n",
            "  inflating: scripts/on_demand.sql   \n",
            "  inflating: scripts/order_quantity.sql  \n",
            "  inflating: scripts/order_status.sql  \n",
            "  inflating: scripts/pa_customer.sql  \n",
            "  inflating: scripts/pre_populate_date.sql  \n",
            "  inflating: scripts/pre_populate_date_12.sql  \n",
            "  inflating: scripts/pre_populate_date_13.sql  \n",
            "  inflating: scripts/production_fact_23.sql  \n",
            "  inflating: scripts/production_regular.sql  \n",
            "  inflating: scripts/production_regular_23.sql  \n",
            "  inflating: scripts/product_count.sql  \n",
            "  inflating: scripts/product_count_ini.sql  \n",
            "  inflating: scripts/product_launch_date_dim.sql  \n",
            "  inflating: scripts/promotion_indicator.sql  \n",
            "  inflating: scripts/push_data.sql   \n",
            "  inflating: scripts/push_sales_order.sql  \n",
            "  inflating: scripts/quarterly_mechanicsburg.sql  \n",
            "  inflating: scripts/quarter_path.sql  \n",
            "  inflating: scripts/ragged_campaign.sql  \n",
            "  inflating: scripts/readme 1st      \n",
            "  inflating: scripts/readme 1st for scripts.txt  \n",
            "  inflating: scripts/remove_campaign.sql  \n",
            "  inflating: scripts/request_delivery_date.sql  \n",
            "  inflating: scripts/request_delivery_date_sk.sql  \n",
            "  inflating: scripts/request_delivery_date_source.sql  \n",
            "  inflating: scripts/sales_orders_24_ini.sql  \n",
            "  inflating: scripts/sales_orders_24_reg.sql  \n",
            "  inflating: scripts/sales_orders_step3.sql  \n",
            "  inflating: scripts/sales_orders_step5.sql  \n",
            "  inflating: scripts/sales_order_17.sql  \n",
            "  inflating: scripts/sales_order_18.sql  \n",
            "  inflating: scripts/sales_order_22.sql  \n",
            "  inflating: scripts/sales_order_23.sql  \n",
            "  inflating: scripts/sales_order_attributes.sql  \n",
            "  inflating: scripts/sales_order_attribute_sk.sql  \n",
            "  inflating: scripts/sales_order_fact_23.sql  \n",
            "  inflating: scripts/sales_order_initial.sql  \n",
            "  inflating: scripts/sales_order_quantity_data.sql  \n",
            "  inflating: scripts/sales_order_regular.sql  \n",
            "  inflating: scripts/scd1.sql        \n",
            "  inflating: scripts/scd2.sql        \n",
            "  inflating: scripts/segmentation.sql  \n",
            "  inflating: scripts/shipping_address.sql  \n",
            "  inflating: scripts/source_date.sql  \n",
            "  inflating: scripts/special_dates.sql  \n",
            "  inflating: scripts/table_alias.sql  \n",
            "  inflating: scripts/third_star_tables.sql  \n",
            "  inflating: scripts/track_launch_expiry.sql  \n",
            "  inflating: scripts/truncate_tables.sql  \n",
            "  inflating: scripts/two_more_customers.sql  \n",
            "  inflating: scripts/zip_code_dim.sql  \n",
            "  inflating: scripts/zip_code_population.sql  \n",
            "  inflating: scripts/zip_code_stg.sql  \n",
            "   creating: source_data/\n",
            "  inflating: source_data/campaign_session.csv  \n",
            "  inflating: source_data/customer10.csv  \n",
            "  inflating: source_data/customer2.csv  \n",
            "  inflating: source_data/customer23.csv  \n",
            "  inflating: source_data/customer8.csv  \n",
            "  inflating: source_data/factory19.csv  \n",
            "  inflating: source_data/factory23.csv  \n",
            "  inflating: source_data/non_straight_campaign.csv  \n",
            "  inflating: source_data/product2-1.txt  \n",
            "  inflating: source_data/product2-2.txt  \n",
            "  inflating: source_data/product21.txt  \n",
            "  inflating: source_data/product8.txt  \n",
            "  inflating: source_data/promo_schedule.csv  \n",
            "  inflating: source_data/ragged_campaign.csv  \n",
            "  inflating: source_data/readme 1st for data.txt  \n",
            "  inflating: source_data/zip_code.csv  \n"
          ],
          "name": "stdout"
        }
      ]
    },
    {
      "cell_type": "markdown",
      "metadata": {
        "id": "Zil5Adr9VaBJ"
      },
      "source": [
        "#Part 1 - Fundamentals"
      ]
    },
    {
      "cell_type": "markdown",
      "metadata": {
        "id": "QEpHP07dO4rw"
      },
      "source": [
        "## Chapter 1 Initial Setup"
      ]
    },
    {
      "cell_type": "code",
      "metadata": {
        "id": "cSLD3G1wO8jU"
      },
      "source": [
        "#Create User ID\n",
        "#!cat scripts/create_user_id.sql\n",
        "!mysql < scripts/create_user_id.sql"
      ],
      "execution_count": null,
      "outputs": []
    },
    {
      "cell_type": "code",
      "metadata": {
        "id": "lTv3xq9zPpfN",
        "colab": {
          "base_uri": "https://localhost:8080/",
          "height": 34
        },
        "outputId": "79977b24-cd27-4634-e0d4-9903aa89ae85"
      },
      "source": [
        "#!cat scripts/create_databases.sql\n",
        "!mysql -udwid -ppw < scripts/create_databases.sql"
      ],
      "execution_count": null,
      "outputs": [
        {
          "output_type": "stream",
          "text": [
            "mysql: [Warning] Using a password on the command line interface can be insecure.\n"
          ],
          "name": "stdout"
        }
      ]
    },
    {
      "cell_type": "code",
      "metadata": {
        "id": "rHQbTlYeQK9i",
        "colab": {
          "base_uri": "https://localhost:8080/",
          "height": 34
        },
        "outputId": "97d5a49f-0e1b-444e-9742-a39d2b50441f"
      },
      "source": [
        "#!cat scripts/create_dw_tables.sql\n",
        "!mysql -udwid -ppw < scripts/create_dw_tables.sql"
      ],
      "execution_count": null,
      "outputs": [
        {
          "output_type": "stream",
          "text": [
            "mysql: [Warning] Using a password on the command line interface can be insecure.\n"
          ],
          "name": "stdout"
        }
      ]
    },
    {
      "cell_type": "code",
      "metadata": {
        "id": "iokF4U1yT4i-",
        "colab": {
          "base_uri": "https://localhost:8080/",
          "height": 170
        },
        "outputId": "9f26408a-4804-4755-baf9-71fad7a48a5d"
      },
      "source": [
        "!mysql dw -e \"show tables\""
      ],
      "execution_count": null,
      "outputs": [
        {
          "output_type": "stream",
          "text": [
            "+------------------+\n",
            "| Tables_in_dw     |\n",
            "+------------------+\n",
            "| customer_dim     |\n",
            "| date_dim         |\n",
            "| order_dim        |\n",
            "| product_dim      |\n",
            "| sales_order_fact |\n",
            "+------------------+\n"
          ],
          "name": "stdout"
        }
      ]
    },
    {
      "cell_type": "code",
      "metadata": {
        "id": "pwpjWuikUj-E",
        "colab": {
          "base_uri": "https://localhost:8080/",
          "height": 34
        },
        "outputId": "667a1504-aa8d-4477-e5bf-c5ac072056f5"
      },
      "source": [
        "!mysql -udwid -ppw < scripts/customer_sk.sql"
      ],
      "execution_count": null,
      "outputs": [
        {
          "output_type": "stream",
          "text": [
            "mysql: [Warning] Using a password on the command line interface can be insecure.\n"
          ],
          "name": "stdout"
        }
      ]
    },
    {
      "cell_type": "code",
      "metadata": {
        "id": "kjlbWVCtUpoA",
        "colab": {
          "base_uri": "https://localhost:8080/",
          "height": 34
        },
        "outputId": "60d72fdd-a11e-4392-a8fe-f38cf2486238"
      },
      "source": [
        "!mysql -udwid -ppw < scripts/more_customer_sk.sql"
      ],
      "execution_count": null,
      "outputs": [
        {
          "output_type": "stream",
          "text": [
            "mysql: [Warning] Using a password on the command line interface can be insecure.\n"
          ],
          "name": "stdout"
        }
      ]
    },
    {
      "cell_type": "code",
      "metadata": {
        "id": "WWihWfsgVBOI",
        "colab": {
          "base_uri": "https://localhost:8080/",
          "height": 207
        },
        "outputId": "1b54eba5-ad09-4ba8-d09a-ded88343d697"
      },
      "source": [
        "!mysql dw -e \"select * from customer_dim\""
      ],
      "execution_count": null,
      "outputs": [
        {
          "output_type": "stream",
          "text": [
            "+-------------+-----------------+------------------+-------------------------+-------------------+---------------+----------------+----------------+-------------+\n",
            "| customer_sk | customer_number | customer_name    | customer_street_address | customer_zip_code | customer_city | customer_state | effective_date | expiry_date |\n",
            "+-------------+-----------------+------------------+-------------------------+-------------------+---------------+----------------+----------------+-------------+\n",
            "|           1 |               1 | Big Customers    | 7500 Louise Dr.         |             17050 | Mechanicsburg | PA             | 2019-06-08     | 9999-12-31  |\n",
            "|           2 |               2 | Small Stores     | 2500 Woodland St.       |             17055 | Pittsburgh    | PA             | 2019-06-08     | 9999-12-31  |\n",
            "|           3 |               3 | Medium Retailers | 1111 Ritter Rd.         |             17055 | Pittsburgh    | PA             | 2019-06-08     | 9999-12-31  |\n",
            "|           4 |               4 | Good Companies   | 9500 Scott St.          |             17050 | Mechanicsburg | PA             | 2019-06-08     | 9999-12-31  |\n",
            "|           5 |               5 | Wonderful Shops  | 3333 Rossmoyne Rd.      |             17050 | Mechanicsburg | PA             | 2019-06-08     | 9999-12-31  |\n",
            "|           6 |               6 | Loyal Clients    | 7070 Ritter Rd.         |             17055 | Pittsburgh    | PA             | 2019-06-08     | 9999-12-31  |\n",
            "+-------------+-----------------+------------------+-------------------------+-------------------+---------------+----------------+----------------+-------------+\n"
          ],
          "name": "stdout"
        }
      ]
    },
    {
      "cell_type": "code",
      "metadata": {
        "id": "bn6YCvqjVJEN"
      },
      "source": [
        "#since it was not possible to set the system date on Colab, the date was changed manually\n",
        "!mysql dw -e \"update customer_dim set effective_date = '2007-02-01' \""
      ],
      "execution_count": null,
      "outputs": []
    },
    {
      "cell_type": "code",
      "metadata": {
        "id": "oaibHoSuVNAy"
      },
      "source": [
        "#!mysql dw -e \"select * from customer_dim\""
      ],
      "execution_count": null,
      "outputs": []
    }
  ]
}