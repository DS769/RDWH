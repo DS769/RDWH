{
  "nbformat": 4,
  "nbformat_minor": 0,
  "metadata": {
    "colab": {
      "name": "Cross Tab with OLAP Cube SQL - Superstore",
      "provenance": [],
      "include_colab_link": true
    },
    "kernelspec": {
      "name": "python3",
      "display_name": "Python 3"
    }
  },
  "cells": [
    {
      "cell_type": "markdown",
      "metadata": {
        "id": "view-in-github",
        "colab_type": "text"
      },
      "source": [
        "<a href=\"https://colab.research.google.com/github/Praxis-QR/RDWH/blob/main/Cross_Tab_with_OLAP_Cube_SQL_Superstore.ipynb\" target=\"_parent\"><img src=\"https://colab.research.google.com/assets/colab-badge.svg\" alt=\"Open In Colab\"/></a>"
      ]
    },
    {
      "cell_type": "markdown",
      "metadata": {
        "id": "bCIotTZFo-E4"
      },
      "source": [
        "![alt text](https://4.bp.blogspot.com/-gbL5nZDkpFQ/XScFYwoTEII/AAAAAAAAAGY/CcVb_HDLwvs2Brv5T4vSsUcz7O4r2Q79ACK4BGAYYCw/s1600/kk3-header00-beta.png)<br>\n",
        "\n",
        "\n",
        "<hr>\n",
        "\n",
        "[Prithwis Mukerjee](http://www.linkedin.com/in/prithwis)<br>"
      ]
    },
    {
      "cell_type": "markdown",
      "metadata": {
        "id": "55jmLDEpPoox"
      },
      "source": [
        "Reference : Please see [this slide deck](https://docs.google.com/presentation/d/1wQzZoHFo3NVk-dMTebHA4LH7B4KYmOfiSammjsSRGL0/edit?usp=sharing)"
      ]
    },
    {
      "cell_type": "markdown",
      "metadata": {
        "id": "MCb2Qk4Fpajc"
      },
      "source": [
        "#Install MySQL"
      ]
    },
    {
      "cell_type": "code",
      "metadata": {
        "id": "Lz9UOPeupctr",
        "colab": {
          "base_uri": "https://localhost:8080/"
        },
        "outputId": "4fe7b6d1-c42c-4fae-fad1-143401a61ae3"
      },
      "source": [
        "!apt update > /dev/null\n",
        "!apt install -y  mysql-server > /dev/null"
      ],
      "execution_count": 1,
      "outputs": [
        {
          "output_type": "stream",
          "name": "stdout",
          "text": [
            "\n",
            "WARNING: apt does not have a stable CLI interface. Use with caution in scripts.\n",
            "\n",
            "\n",
            "WARNING: apt does not have a stable CLI interface. Use with caution in scripts.\n",
            "\n"
          ]
        }
      ]
    },
    {
      "cell_type": "code",
      "metadata": {
        "id": "6TjY4_lOohNc",
        "colab": {
          "base_uri": "https://localhost:8080/"
        },
        "outputId": "d5faa7b3-77f9-4310-afc4-8c00af71c321"
      },
      "source": [
        "!/etc/init.d/mysql restart"
      ],
      "execution_count": 2,
      "outputs": [
        {
          "output_type": "stream",
          "name": "stdout",
          "text": [
            " * Stopping MySQL database server mysqld\n",
            "   ...done.\n",
            " * Starting MySQL database server mysqld\n",
            "No directory, logging in with HOME=/\n",
            "   ...done.\n"
          ]
        }
      ]
    },
    {
      "cell_type": "code",
      "metadata": {
        "id": "hKpSzCdwp4BP",
        "colab": {
          "base_uri": "https://localhost:8080/"
        },
        "outputId": "0ee02e95-9f63-44e9-f92c-ba5f20ae0bfb"
      },
      "source": [
        "!mysql -e 'create database praxisDB'\n",
        "!mysql -e 'show databases'"
      ],
      "execution_count": 3,
      "outputs": [
        {
          "output_type": "stream",
          "name": "stdout",
          "text": [
            "+--------------------+\n",
            "| Database           |\n",
            "+--------------------+\n",
            "| information_schema |\n",
            "| mysql              |\n",
            "| performance_schema |\n",
            "| praxisDB           |\n",
            "| sys                |\n",
            "+--------------------+\n"
          ]
        }
      ]
    },
    {
      "cell_type": "markdown",
      "metadata": {
        "id": "ZGOv_BcWrHu0"
      },
      "source": [
        "#Create and Load Table"
      ]
    },
    {
      "cell_type": "code",
      "metadata": {
        "id": "GeM5mW4wrLdO",
        "colab": {
          "base_uri": "https://localhost:8080/"
        },
        "outputId": "c009a14d-e5a4-499b-8020-e85691f674e8"
      },
      "source": [
        "!mysql praxisDB -e 'drop table if exists ss_order'\n",
        "# --------------------------------------------------------------\n",
        "!mysql praxisDB -e '\\\n",
        "CREATE TABLE IF NOT EXISTS ss_order (\\\n",
        "RowID int(4),\\\n",
        "OrderID char(14),OrderDate date,\\\n",
        "ShipDate date,ShipMode varchar(16),\\\n",
        "CustomerID char(8),CustomerName varchar(30),Segment varchar(20),\\\n",
        "Country varchar(30),City varchar(30),State varchar(30),PostalCode char(5),Region varchar(15) ,\\\n",
        "ProductID varchar(20), Category varchar(40), SubCategory varchar(40), ProductName varchar(200), \\\n",
        "Sales decimal(8,2), Quantity int(4), Discount decimal(4,2), Profit decimal(8,2) \\\n",
        "); \\\n",
        "'\n",
        "# --------------------------------------------------------------\n",
        "!mysql praxisDB -e 'show tables'\n"
      ],
      "execution_count": 4,
      "outputs": [
        {
          "output_type": "stream",
          "name": "stdout",
          "text": [
            "+--------------------+\n",
            "| Tables_in_praxisDB |\n",
            "+--------------------+\n",
            "| ss_order           |\n",
            "+--------------------+\n"
          ]
        }
      ]
    },
    {
      "cell_type": "code",
      "metadata": {
        "id": "cjlJW2el9VDw",
        "colab": {
          "base_uri": "https://localhost:8080/"
        },
        "outputId": "06f14300-78f5-4603-bd6d-bceafa4cc674"
      },
      "source": [
        "!mysql praxisDB -e 'desc ss_order'"
      ],
      "execution_count": 5,
      "outputs": [
        {
          "output_type": "stream",
          "name": "stdout",
          "text": [
            "+--------------+--------------+------+-----+---------+-------+\n",
            "| Field        | Type         | Null | Key | Default | Extra |\n",
            "+--------------+--------------+------+-----+---------+-------+\n",
            "| RowID        | int(4)       | YES  |     | NULL    |       |\n",
            "| OrderID      | char(14)     | YES  |     | NULL    |       |\n",
            "| OrderDate    | date         | YES  |     | NULL    |       |\n",
            "| ShipDate     | date         | YES  |     | NULL    |       |\n",
            "| ShipMode     | varchar(16)  | YES  |     | NULL    |       |\n",
            "| CustomerID   | char(8)      | YES  |     | NULL    |       |\n",
            "| CustomerName | varchar(30)  | YES  |     | NULL    |       |\n",
            "| Segment      | varchar(20)  | YES  |     | NULL    |       |\n",
            "| Country      | varchar(30)  | YES  |     | NULL    |       |\n",
            "| City         | varchar(30)  | YES  |     | NULL    |       |\n",
            "| State        | varchar(30)  | YES  |     | NULL    |       |\n",
            "| PostalCode   | char(5)      | YES  |     | NULL    |       |\n",
            "| Region       | varchar(15)  | YES  |     | NULL    |       |\n",
            "| ProductID    | varchar(20)  | YES  |     | NULL    |       |\n",
            "| Category     | varchar(40)  | YES  |     | NULL    |       |\n",
            "| SubCategory  | varchar(40)  | YES  |     | NULL    |       |\n",
            "| ProductName  | varchar(200) | YES  |     | NULL    |       |\n",
            "| Sales        | decimal(8,2) | YES  |     | NULL    |       |\n",
            "| Quantity     | int(4)       | YES  |     | NULL    |       |\n",
            "| Discount     | decimal(4,2) | YES  |     | NULL    |       |\n",
            "| Profit       | decimal(8,2) | YES  |     | NULL    |       |\n",
            "+--------------+--------------+------+-----+---------+-------+\n"
          ]
        }
      ]
    },
    {
      "cell_type": "markdown",
      "metadata": {
        "id": "PEuDXFoD6O3m"
      },
      "source": [
        "Super Store Order Data https://drive.google.com/file/d/13MKOpo8iD-tMkeMLw-4IPFi5-xWhmqFZ/view?usp=sharing <br>\n",
        "Original Data from [Tableau](https://community.tableau.com/docs/DOC-1236)"
      ]
    },
    {
      "cell_type": "code",
      "metadata": {
        "id": "joDEg9Tt6cHU",
        "colab": {
          "base_uri": "https://localhost:8080/"
        },
        "outputId": "e60405cf-c7ac-4f34-9e0b-626755c7364b"
      },
      "source": [
        "#!wget -O SS_Orders2.csv 'https://drive.google.com/uc?export=download&id=13MKOpo8iD-tMkeMLw-4IPFi5-xWhmqFZ'\n",
        "#!gdown https://drive.google.com/uc?id=13MKOpo8iD-tMkeMLw-4IPFi5-xWhmqFZ\n",
        "!wget -O SS_Orders.csv 'https://raw.githubusercontent.com/Praxis-QR/RDWH/main/data/SS_Orders.csv'"
      ],
      "execution_count": 6,
      "outputs": [
        {
          "output_type": "stream",
          "name": "stdout",
          "text": [
            "--2021-10-29 02:28:31--  https://raw.githubusercontent.com/Praxis-QR/RDWH/main/data/SS_Orders.csv\n",
            "Resolving raw.githubusercontent.com (raw.githubusercontent.com)... 185.199.110.133, 185.199.108.133, 185.199.109.133, ...\n",
            "Connecting to raw.githubusercontent.com (raw.githubusercontent.com)|185.199.110.133|:443... connected.\n",
            "HTTP request sent, awaiting response... 200 OK\n",
            "Length: 2302058 (2.2M) [text/plain]\n",
            "Saving to: ‘SS_Orders.csv’\n",
            "\n",
            "SS_Orders.csv       100%[===================>]   2.20M  --.-KB/s    in 0.08s   \n",
            "\n",
            "2021-10-29 02:28:31 (29.2 MB/s) - ‘SS_Orders.csv’ saved [2302058/2302058]\n",
            "\n"
          ]
        }
      ]
    },
    {
      "cell_type": "code",
      "metadata": {
        "id": "vAOQ5wLy-WgB"
      },
      "source": [
        "#!mysql praxisDB -e \"   \\\n",
        "#LOAD DATA LOCAL INFILE 'SS_Orders_1.csv' INTO TABLE ss_order \\\n",
        "#FIELDS TERMINATED BY ',' LINES TERMINATED BY '\\r\\n' IGNORE 1 LINES;  \\\n",
        "#\""
      ],
      "execution_count": null,
      "outputs": []
    },
    {
      "cell_type": "code",
      "metadata": {
        "id": "BeK66dVE-t6r"
      },
      "source": [
        "!mysql praxisDB -e \"   \\\n",
        "LOAD DATA LOCAL INFILE 'SS_Orders.csv' INTO TABLE ss_order \\\n",
        "FIELDS TERMINATED BY ',' enclosed by '\\\"' IGNORE 1 LINES;  \\\n",
        "\""
      ],
      "execution_count": 34,
      "outputs": []
    },
    {
      "cell_type": "code",
      "metadata": {
        "id": "ppvWDJsi-jRa",
        "colab": {
          "base_uri": "https://localhost:8080/"
        },
        "outputId": "37ac40a2-ad74-4671-95ac-9175f77598b0"
      },
      "source": [
        "!mysql praxisDB -e 'select count(*) from ss_order;'"
      ],
      "execution_count": 35,
      "outputs": [
        {
          "output_type": "stream",
          "name": "stdout",
          "text": [
            "+----------+\n",
            "| count(*) |\n",
            "+----------+\n",
            "|     9994 |\n",
            "+----------+\n"
          ]
        }
      ]
    },
    {
      "cell_type": "code",
      "metadata": {
        "id": "F5ODPKaz5bPI",
        "colab": {
          "base_uri": "https://localhost:8080/"
        },
        "outputId": "328a6a83-803a-4dd9-b50b-40269cdd3073"
      },
      "source": [
        "!mysql praxisDB -e 'select * from ss_order limit 10'\n",
        "#the date data would not have loaded correctly "
      ],
      "execution_count": 36,
      "outputs": [
        {
          "output_type": "stream",
          "name": "stdout",
          "text": [
            "+-------+----------------+------------+------------+----------------+------------+-----------------+-----------+---------------+-----------------+------------+------------+--------+-----------------+-----------------+-------------+------------------------------------------------------------------+--------+----------+----------+---------+\n",
            "| RowID | OrderID        | OrderDate  | ShipDate   | ShipMode       | CustomerID | CustomerName    | Segment   | Country       | City            | State      | PostalCode | Region | ProductID       | Category        | SubCategory | ProductName                                                      | Sales  | Quantity | Discount | Profit  |\n",
            "+-------+----------------+------------+------------+----------------+------------+-----------------+-----------+---------------+-----------------+------------+------------+--------+-----------------+-----------------+-------------+------------------------------------------------------------------+--------+----------+----------+---------+\n",
            "|     1 | CA-2016-152156 | 0000-00-00 | 0000-00-00 | Second Class   | CG-12520   | Claire Gute     | Consumer  | United States | Henderson       | Kentucky   | 42420      | South  | FUR-BO-10001798 | Furniture       | Bookcases   | Bush Somerset Collection Bookcase                                | 261.96 |        2 |     0.00 |   41.91 |\n",
            "|     2 | CA-2016-152156 | 0000-00-00 | 0000-00-00 | Second Class   | CG-12520   | Claire Gute     | Consumer  | United States | Henderson       | Kentucky   | 42420      | South  | FUR-CH-10000454 | Furniture       | Chairs      | Hon Deluxe Fabric Upholstered Stacking Chairs, Rounded Back      | 731.94 |        3 |     0.00 |  219.58 |\n",
            "|     3 | CA-2016-138688 | 0000-00-00 | 0000-00-00 | Second Class   | DV-13045   | Darrin Van Huff | Corporate | United States | Los Angeles     | California | 90036      | West   | OFF-LA-10000240 | Office Supplies | Labels      | Self-Adhesive Address Labels for Typewriters by Universal        |  14.62 |        2 |     0.00 |    6.87 |\n",
            "|     4 | US-2015-108966 | 0000-00-00 | 0000-00-00 | Standard Class | SO-20335   | Sean O'Donnell  | Consumer  | United States | Fort Lauderdale | Florida    | 33311      | South  | FUR-TA-10000577 | Furniture       | Tables      | Bretford CR4500 Series Slim Rectangular Table                    | 957.58 |        5 |     0.45 | -383.03 |\n",
            "|     5 | US-2015-108966 | 0000-00-00 | 0000-00-00 | Standard Class | SO-20335   | Sean O'Donnell  | Consumer  | United States | Fort Lauderdale | Florida    | 33311      | South  | OFF-ST-10000760 | Office Supplies | Storage     | Eldon Fold 'N Roll Cart System                                   |  22.37 |        2 |     0.20 |    2.52 |\n",
            "|     6 | CA-2014-115812 | 0000-00-00 | 0000-00-00 | Standard Class | BH-11710   | Brosina Hoffman | Consumer  | United States | Los Angeles     | California | 90032      | West   | FUR-FU-10001487 | Furniture       | Furnishings | Eldon Expressions Wood and Plastic Desk Accessories, Cherry Wood |  48.86 |        7 |     0.00 |   14.17 |\n",
            "|     7 | CA-2014-115812 | 0000-00-00 | 0000-00-00 | Standard Class | BH-11710   | Brosina Hoffman | Consumer  | United States | Los Angeles     | California | 90032      | West   | OFF-AR-10002833 | Office Supplies | Art         | Newell 322                                                       |   7.28 |        4 |     0.00 |    1.97 |\n",
            "|     8 | CA-2014-115812 | 0000-00-00 | 0000-00-00 | Standard Class | BH-11710   | Brosina Hoffman | Consumer  | United States | Los Angeles     | California | 90032      | West   | TEC-PH-10002275 | Technology      | Phones      | Mitel 5320 IP Phone VoIP phone                                   | 907.15 |        6 |     0.20 |   90.72 |\n",
            "|     9 | CA-2014-115812 | 0000-00-00 | 0000-00-00 | Standard Class | BH-11710   | Brosina Hoffman | Consumer  | United States | Los Angeles     | California | 90032      | West   | OFF-BI-10003910 | Office Supplies | Binders     | DXL Angle-View Binders with Locking Rings by Samsill             |  18.50 |        3 |     0.20 |    5.78 |\n",
            "|    10 | CA-2014-115812 | 0000-00-00 | 0000-00-00 | Standard Class | BH-11710   | Brosina Hoffman | Consumer  | United States | Los Angeles     | California | 90032      | West   | OFF-AP-10002892 | Office Supplies | Appliances  | Belkin F5C206VTEL 6 Outlet Surge                                 | 114.90 |        5 |     0.00 |   34.47 |\n",
            "+-------+----------------+------------+------------+----------------+------------+-----------------+-----------+---------------+-----------------+------------+------------+--------+-----------------+-----------------+-------------+------------------------------------------------------------------+--------+----------+----------+---------+\n"
          ]
        }
      ]
    },
    {
      "cell_type": "markdown",
      "metadata": {
        "id": "H_-EF65V94kX"
      },
      "source": [
        "Let us fix the date loading error"
      ]
    },
    {
      "cell_type": "code",
      "metadata": {
        "id": "V7E_3txU4PgR",
        "outputId": "3ed966cd-d7da-4963-facd-4833b285fa72",
        "colab": {
          "base_uri": "https://localhost:8080/"
        }
      },
      "source": [
        "!head SS_Orders.csv\n",
        "# note that date is dd/mm/yyyy format"
      ],
      "execution_count": 37,
      "outputs": [
        {
          "output_type": "stream",
          "name": "stdout",
          "text": [
            "Row ID,Order ID,Order Date,Ship Date,Ship Mode,Customer ID,Customer Name,Segment,Country,City,State,Postal Code,Region,Product ID,Category,Sub-Category,Product Name,Sales,Quantity,Discount,Profit\n",
            "1,CA-2016-152156,08/11/2016,11/11/2016,Second Class,CG-12520,Claire Gute,Consumer,United States,Henderson,Kentucky,42420,South,FUR-BO-10001798,Furniture,Bookcases,Bush Somerset Collection Bookcase,261.96,2,0,41.9136\n",
            "2,CA-2016-152156,08/11/2016,11/11/2016,Second Class,CG-12520,Claire Gute,Consumer,United States,Henderson,Kentucky,42420,South,FUR-CH-10000454,Furniture,Chairs,\"Hon Deluxe Fabric Upholstered Stacking Chairs, Rounded Back\",731.94,3,0,219.582\n",
            "3,CA-2016-138688,12/06/2016,16/06/2016,Second Class,DV-13045,Darrin Van Huff,Corporate,United States,Los Angeles,California,90036,West,OFF-LA-10000240,Office Supplies,Labels,Self-Adhesive Address Labels for Typewriters by Universal,14.62,2,0,6.8714\n",
            "4,US-2015-108966,11/10/2015,18/10/2015,Standard Class,SO-20335,Sean O'Donnell,Consumer,United States,Fort Lauderdale,Florida,33311,South,FUR-TA-10000577,Furniture,Tables,Bretford CR4500 Series Slim Rectangular Table,957.5775,5,0.45,-383.031\n",
            "5,US-2015-108966,11/10/2015,18/10/2015,Standard Class,SO-20335,Sean O'Donnell,Consumer,United States,Fort Lauderdale,Florida,33311,South,OFF-ST-10000760,Office Supplies,Storage,Eldon Fold 'N Roll Cart System,22.368,2,0.2,2.5164\n",
            "6,CA-2014-115812,09/06/2014,14/06/2014,Standard Class,BH-11710,Brosina Hoffman,Consumer,United States,Los Angeles,California,90032,West,FUR-FU-10001487,Furniture,Furnishings,\"Eldon Expressions Wood and Plastic Desk Accessories, Cherry Wood\",48.86,7,0,14.1694\n",
            "7,CA-2014-115812,09/06/2014,14/06/2014,Standard Class,BH-11710,Brosina Hoffman,Consumer,United States,Los Angeles,California,90032,West,OFF-AR-10002833,Office Supplies,Art,Newell 322,7.28,4,0,1.9656\n",
            "8,CA-2014-115812,09/06/2014,14/06/2014,Standard Class,BH-11710,Brosina Hoffman,Consumer,United States,Los Angeles,California,90032,West,TEC-PH-10002275,Technology,Phones,Mitel 5320 IP Phone VoIP phone,907.152,6,0.2,90.7152\n",
            "9,CA-2014-115812,09/06/2014,14/06/2014,Standard Class,BH-11710,Brosina Hoffman,Consumer,United States,Los Angeles,California,90032,West,OFF-BI-10003910,Office Supplies,Binders,DXL Angle-View Binders with Locking Rings by Samsill,18.504,3,0.2,5.7825\n"
          ]
        }
      ]
    },
    {
      "cell_type": "code",
      "metadata": {
        "id": "9qg9-5Wl5eYo",
        "outputId": "db4a1326-17d4-4e72-8573-8a4950205e9c",
        "colab": {
          "base_uri": "https://localhost:8080/"
        }
      },
      "source": [
        "!mysql praxisDB -e \"truncate ss_order;\"\n",
        "!mysql praxisDB -e 'select count(*) from ss_order;'"
      ],
      "execution_count": 38,
      "outputs": [
        {
          "output_type": "stream",
          "name": "stdout",
          "text": [
            "+----------+\n",
            "| count(*) |\n",
            "+----------+\n",
            "|        0 |\n",
            "+----------+\n"
          ]
        }
      ]
    },
    {
      "cell_type": "code",
      "metadata": {
        "id": "lYYSLN2O9fAc"
      },
      "source": [
        "# see https://stackoverflow.com/questions/18927249/how-to-load-date-data-in-mysql-when-using-load-data\n",
        "#\n",
        "!mysql praxisDB -e \"   \\\n",
        "LOAD \\\n",
        "DATA LOCAL INFILE 'SS_Orders.csv' \\\n",
        "INTO TABLE ss_order \\\n",
        "FIELDS TERMINATED BY ',' \\\n",
        "enclosed by '\\\"' \\\n",
        "IGNORE 1 LINES  \\\n",
        "(RowID, OrderID, @OrderDate, @ShipDate, ShipMode, CustomerID, CustomerName, Segment, \\\n",
        " Country, City, State, PostalCode, Region, ProductID, Category, SubCategory, \\\n",
        " ProductName, Sales, Quantity, Discount, Profit) \\\n",
        "set \\\n",
        "OrderDate = str_to_date(@OrderDate, '%d/%m/%Y'), \\\n",
        "ShipDate = str_to_date(@ShipDate, '%d/%m/%Y'); \\\n",
        "\""
      ],
      "execution_count": 39,
      "outputs": []
    },
    {
      "cell_type": "code",
      "metadata": {
        "id": "wDqgwoUB-C_n",
        "outputId": "a5406324-f357-4d6f-a7cd-09887a9741ef",
        "colab": {
          "base_uri": "https://localhost:8080/"
        }
      },
      "source": [
        "!mysql praxisDB -e 'select * from ss_order limit 10'\n",
        "#the date data should have loaded correctly"
      ],
      "execution_count": 40,
      "outputs": [
        {
          "output_type": "stream",
          "name": "stdout",
          "text": [
            "+-------+----------------+------------+------------+----------------+------------+-----------------+-----------+---------------+-----------------+------------+------------+--------+-----------------+-----------------+-------------+------------------------------------------------------------------+--------+----------+----------+---------+\n",
            "| RowID | OrderID        | OrderDate  | ShipDate   | ShipMode       | CustomerID | CustomerName    | Segment   | Country       | City            | State      | PostalCode | Region | ProductID       | Category        | SubCategory | ProductName                                                      | Sales  | Quantity | Discount | Profit  |\n",
            "+-------+----------------+------------+------------+----------------+------------+-----------------+-----------+---------------+-----------------+------------+------------+--------+-----------------+-----------------+-------------+------------------------------------------------------------------+--------+----------+----------+---------+\n",
            "|     1 | CA-2016-152156 | 2016-11-08 | 2016-11-11 | Second Class   | CG-12520   | Claire Gute     | Consumer  | United States | Henderson       | Kentucky   | 42420      | South  | FUR-BO-10001798 | Furniture       | Bookcases   | Bush Somerset Collection Bookcase                                | 261.96 |        2 |     0.00 |   41.91 |\n",
            "|     2 | CA-2016-152156 | 2016-11-08 | 2016-11-11 | Second Class   | CG-12520   | Claire Gute     | Consumer  | United States | Henderson       | Kentucky   | 42420      | South  | FUR-CH-10000454 | Furniture       | Chairs      | Hon Deluxe Fabric Upholstered Stacking Chairs, Rounded Back      | 731.94 |        3 |     0.00 |  219.58 |\n",
            "|     3 | CA-2016-138688 | 2016-06-12 | 2016-06-16 | Second Class   | DV-13045   | Darrin Van Huff | Corporate | United States | Los Angeles     | California | 90036      | West   | OFF-LA-10000240 | Office Supplies | Labels      | Self-Adhesive Address Labels for Typewriters by Universal        |  14.62 |        2 |     0.00 |    6.87 |\n",
            "|     4 | US-2015-108966 | 2015-10-11 | 2015-10-18 | Standard Class | SO-20335   | Sean O'Donnell  | Consumer  | United States | Fort Lauderdale | Florida    | 33311      | South  | FUR-TA-10000577 | Furniture       | Tables      | Bretford CR4500 Series Slim Rectangular Table                    | 957.58 |        5 |     0.45 | -383.03 |\n",
            "|     5 | US-2015-108966 | 2015-10-11 | 2015-10-18 | Standard Class | SO-20335   | Sean O'Donnell  | Consumer  | United States | Fort Lauderdale | Florida    | 33311      | South  | OFF-ST-10000760 | Office Supplies | Storage     | Eldon Fold 'N Roll Cart System                                   |  22.37 |        2 |     0.20 |    2.52 |\n",
            "|     6 | CA-2014-115812 | 2014-06-09 | 2014-06-14 | Standard Class | BH-11710   | Brosina Hoffman | Consumer  | United States | Los Angeles     | California | 90032      | West   | FUR-FU-10001487 | Furniture       | Furnishings | Eldon Expressions Wood and Plastic Desk Accessories, Cherry Wood |  48.86 |        7 |     0.00 |   14.17 |\n",
            "|     7 | CA-2014-115812 | 2014-06-09 | 2014-06-14 | Standard Class | BH-11710   | Brosina Hoffman | Consumer  | United States | Los Angeles     | California | 90032      | West   | OFF-AR-10002833 | Office Supplies | Art         | Newell 322                                                       |   7.28 |        4 |     0.00 |    1.97 |\n",
            "|     8 | CA-2014-115812 | 2014-06-09 | 2014-06-14 | Standard Class | BH-11710   | Brosina Hoffman | Consumer  | United States | Los Angeles     | California | 90032      | West   | TEC-PH-10002275 | Technology      | Phones      | Mitel 5320 IP Phone VoIP phone                                   | 907.15 |        6 |     0.20 |   90.72 |\n",
            "|     9 | CA-2014-115812 | 2014-06-09 | 2014-06-14 | Standard Class | BH-11710   | Brosina Hoffman | Consumer  | United States | Los Angeles     | California | 90032      | West   | OFF-BI-10003910 | Office Supplies | Binders     | DXL Angle-View Binders with Locking Rings by Samsill             |  18.50 |        3 |     0.20 |    5.78 |\n",
            "|    10 | CA-2014-115812 | 2014-06-09 | 2014-06-14 | Standard Class | BH-11710   | Brosina Hoffman | Consumer  | United States | Los Angeles     | California | 90032      | West   | OFF-AP-10002892 | Office Supplies | Appliances  | Belkin F5C206VTEL 6 Outlet Surge                                 | 114.90 |        5 |     0.00 |   34.47 |\n",
            "+-------+----------------+------------+------------+----------------+------------+-----------------+-----------+---------------+-----------------+------------+------------+--------+-----------------+-----------------+-------------+------------------------------------------------------------------+--------+----------+----------+---------+\n"
          ]
        }
      ]
    },
    {
      "cell_type": "markdown",
      "metadata": {
        "id": "kWjbIZ51_GB3"
      },
      "source": [
        "# Basic Query"
      ]
    },
    {
      "cell_type": "markdown",
      "metadata": {
        "id": "TCg345AS33Mf"
      },
      "source": [
        ""
      ]
    },
    {
      "cell_type": "code",
      "metadata": {
        "colab": {
          "base_uri": "https://localhost:8080/"
        },
        "id": "UdHx9EFXjy5U",
        "outputId": "283e2034-548b-41f6-fa6a-791d44c998fd"
      },
      "source": [
        "!mysql praxisDB -e 'select count(Quantity) from ss_order;'"
      ],
      "execution_count": null,
      "outputs": [
        {
          "output_type": "stream",
          "name": "stdout",
          "text": [
            "+-----------------+\n",
            "| count(Quantity) |\n",
            "+-----------------+\n",
            "|            9994 |\n",
            "+-----------------+\n"
          ]
        }
      ]
    },
    {
      "cell_type": "code",
      "metadata": {
        "id": "iUvAktJZcmM0"
      },
      "source": [
        "#!mysql praxisDB -e 'select count(*),sum(Quantity),Sum(Sales), Sum(Profit) from ss_order;'"
      ],
      "execution_count": null,
      "outputs": []
    },
    {
      "cell_type": "code",
      "metadata": {
        "id": "CO3RsRJZ_KMg",
        "colab": {
          "base_uri": "https://localhost:8080/"
        },
        "outputId": "ec671063-052c-4696-d090-10162307b283"
      },
      "source": [
        "!mysql praxisDB -e 'select Category, Sum(Sales), Sum(Profit) from ss_order group by Category;'"
      ],
      "execution_count": null,
      "outputs": [
        {
          "output_type": "stream",
          "name": "stdout",
          "text": [
            "+-----------------+------------+-------------+\n",
            "| Category        | Sum(Sales) | Sum(Profit) |\n",
            "+-----------------+------------+-------------+\n",
            "| Furniture       |  741999.98 |    18451.25 |\n",
            "| Office Supplies |  719046.99 |   122490.78 |\n",
            "| Technology      |  836154.10 |   145455.64 |\n",
            "+-----------------+------------+-------------+\n"
          ]
        }
      ]
    },
    {
      "cell_type": "code",
      "metadata": {
        "id": "lbHH8oaY_5o-",
        "colab": {
          "base_uri": "https://localhost:8080/"
        },
        "outputId": "6fe4ffbf-6ee6-4be0-a120-94c4b8094942"
      },
      "source": [
        "!mysql praxisDB -e 'select Region, Sum(Sales), Sum(Profit) from ss_order group by Region;'"
      ],
      "execution_count": null,
      "outputs": [
        {
          "output_type": "stream",
          "name": "stdout",
          "text": [
            "+---------+------------+-------------+\n",
            "| Region  | Sum(Sales) | Sum(Profit) |\n",
            "+---------+------------+-------------+\n",
            "| Central |  501239.88 |    39706.44 |\n",
            "| East    |  678781.36 |    91522.80 |\n",
            "| South   |  391721.90 |    46749.69 |\n",
            "| West    |  725457.93 |   108418.74 |\n",
            "+---------+------------+-------------+\n"
          ]
        }
      ]
    },
    {
      "cell_type": "code",
      "metadata": {
        "id": "Cm0SRE-_AnaA",
        "colab": {
          "base_uri": "https://localhost:8080/"
        },
        "outputId": "8e980017-a835-4fa7-e876-b4f5ef09668e"
      },
      "source": [
        "!mysql praxisDB -e 'select Segment, Sum(Sales), Sum(Profit) from ss_order group by Segment;'"
      ],
      "execution_count": null,
      "outputs": [
        {
          "output_type": "stream",
          "name": "stdout",
          "text": [
            "+-------------+------------+-------------+\n",
            "| Segment     | Sum(Sales) | Sum(Profit) |\n",
            "+-------------+------------+-------------+\n",
            "| Consumer    | 1161401.34 |   134119.27 |\n",
            "| Corporate   |  706146.44 |    91979.41 |\n",
            "| Home Office |  429653.29 |    60298.99 |\n",
            "+-------------+------------+-------------+\n"
          ]
        }
      ]
    },
    {
      "cell_type": "markdown",
      "metadata": {
        "id": "vO2OFsfDBJn4"
      },
      "source": [
        "#Complex Query"
      ]
    },
    {
      "cell_type": "code",
      "metadata": {
        "id": "l7jEeWBiBMdC",
        "colab": {
          "base_uri": "https://localhost:8080/"
        },
        "outputId": "55efedd4-0317-490e-d584-d9cd2c7f40d1"
      },
      "source": [
        "!mysql praxisDB -e 'select Segment, Region, Sum(Sales) Sales from ss_order group by Segment, Region;'"
      ],
      "execution_count": null,
      "outputs": [
        {
          "output_type": "stream",
          "name": "stdout",
          "text": [
            "+-------------+---------+-----------+\n",
            "| Segment     | Region  | Sales     |\n",
            "+-------------+---------+-----------+\n",
            "| Consumer    | Central | 252031.43 |\n",
            "| Consumer    | East    | 350908.17 |\n",
            "| Consumer    | South   | 195580.92 |\n",
            "| Consumer    | West    | 362880.82 |\n",
            "| Corporate   | Central | 157995.79 |\n",
            "| Corporate   | East    | 200409.45 |\n",
            "| Corporate   | South   | 121885.95 |\n",
            "| Corporate   | West    | 225855.25 |\n",
            "| Home Office | Central |  91212.66 |\n",
            "| Home Office | East    | 127463.74 |\n",
            "| Home Office | South   |  74255.03 |\n",
            "| Home Office | West    | 136721.86 |\n",
            "+-------------+---------+-----------+\n"
          ]
        }
      ]
    },
    {
      "cell_type": "code",
      "metadata": {
        "id": "BC0XUonvBkds",
        "colab": {
          "base_uri": "https://localhost:8080/"
        },
        "outputId": "78f34154-a5a9-4550-d28d-7bb80090ca80"
      },
      "source": [
        "!mysql praxisDB -e 'select Segment, Region, Sum(Sales) Sales from ss_order group by Segment, Region with Rollup;'"
      ],
      "execution_count": null,
      "outputs": [
        {
          "output_type": "stream",
          "name": "stdout",
          "text": [
            "+-------------+---------+------------+\n",
            "| Segment     | Region  | Sales      |\n",
            "+-------------+---------+------------+\n",
            "| Consumer    | Central |  252031.43 |\n",
            "| Consumer    | East    |  350908.17 |\n",
            "| Consumer    | South   |  195580.92 |\n",
            "| Consumer    | West    |  362880.82 |\n",
            "| Consumer    | NULL    | 1161401.34 |\n",
            "| Corporate   | Central |  157995.79 |\n",
            "| Corporate   | East    |  200409.45 |\n",
            "| Corporate   | South   |  121885.95 |\n",
            "| Corporate   | West    |  225855.25 |\n",
            "| Corporate   | NULL    |  706146.44 |\n",
            "| Home Office | Central |   91212.66 |\n",
            "| Home Office | East    |  127463.74 |\n",
            "| Home Office | South   |   74255.03 |\n",
            "| Home Office | West    |  136721.86 |\n",
            "| Home Office | NULL    |  429653.29 |\n",
            "| NULL        | NULL    | 2297201.07 |\n",
            "+-------------+---------+------------+\n"
          ]
        }
      ]
    },
    {
      "cell_type": "markdown",
      "metadata": {
        "id": "i8LYgwrKE7wR"
      },
      "source": [
        "#Cross Tab"
      ]
    },
    {
      "cell_type": "code",
      "metadata": {
        "id": "TMWXUbZXCRoV",
        "colab": {
          "base_uri": "https://localhost:8080/"
        },
        "outputId": "f48471fa-2d81-4ffb-97c3-ef50817aff82"
      },
      "source": [
        "!mysql praxisDB -e \"\\\n",
        "SELECT \\\n",
        "  IFNULL(Segment,'Totals') 'Segment, Region', \\\n",
        "  sums.Central, sums.East, sums.West,sums.South,\\\n",
        "  sums.Central + sums.East + sums.West + sums.South Totals \\\n",
        "FROM ( \\\n",
        "  SELECT \\\n",
        "\tSegment,\\\n",
        "\tSUM(IF(Region='Central',Sales,0)) As 'Central',\\\n",
        "\tSUM(IF(Region='East',Sales,0)) As 'East',\\\n",
        "    SUM(IF(Region='West',Sales,0)) As 'West',\\\n",
        "\tSUM(IF(Region='South',Sales,0)) As 'South'\\\n",
        "  FROM ss_order \\\n",
        "  GROUP BY Segment WITH ROLLUP \\\n",
        ") AS sums\""
      ],
      "execution_count": null,
      "outputs": [
        {
          "output_type": "stream",
          "name": "stdout",
          "text": [
            "+-----------------+-----------+-----------+-----------+-----------+------------+\n",
            "| Segment, Region | Central   | East      | West      | South     | Totals     |\n",
            "+-----------------+-----------+-----------+-----------+-----------+------------+\n",
            "| Consumer        | 252031.43 | 350908.17 | 362880.82 | 195580.92 | 1161401.34 |\n",
            "| Corporate       | 157995.79 | 200409.45 | 225855.25 | 121885.95 |  706146.44 |\n",
            "| Home Office     |  91212.66 | 127463.74 | 136721.86 |  74255.03 |  429653.29 |\n",
            "| Totals          | 501239.88 | 678781.36 | 725457.93 | 391721.90 | 2297201.07 |\n",
            "+-----------------+-----------+-----------+-----------+-----------+------------+\n"
          ]
        }
      ]
    },
    {
      "cell_type": "code",
      "metadata": {
        "id": "AmqDZ2yVFjfi",
        "colab": {
          "base_uri": "https://localhost:8080/"
        },
        "outputId": "c5a27aed-4584-490f-c554-eb09e2c02335"
      },
      "source": [
        "!mysql praxisDB -e \"\\\n",
        "SELECT \\\n",
        "  IFNULL(Segment,'Totals') AS 'Segment, Category', \\\n",
        "  sums.Furniture, sums.Office_Supplies, sums.Technology,\\\n",
        "  sums.Furniture + sums.Office_Supplies + sums.Technology AS Totals \\\n",
        "  FROM (\\\n",
        "  SELECT\\\n",
        "\tSegment,\\\n",
        "\tSUM(IF(Category='Furniture',Sales,0)) As 'Furniture',\\\n",
        "\tSUM(IF(Category='Office Supplies',Sales,0)) As 'Office_Supplies',\\\n",
        "\tSUM(IF(Category='Technology',Sales,0)) As 'Technology'\\\n",
        "  FROM ss_order \\\n",
        "  GROUP BY Segment WITH ROLLUP\\\n",
        ") AS sums \\\n",
        "\"\n"
      ],
      "execution_count": null,
      "outputs": [
        {
          "output_type": "stream",
          "name": "stdout",
          "text": [
            "+-------------------+-----------+-----------------+------------+------------+\n",
            "| Segment, Category | Furniture | Office_Supplies | Technology | Totals     |\n",
            "+-------------------+-----------+-----------------+------------+------------+\n",
            "| Consumer          | 391049.43 |       363951.96 |  406399.95 | 1161401.34 |\n",
            "| Corporate         | 229019.83 |       230676.49 |  246450.12 |  706146.44 |\n",
            "| Home Office       | 121930.72 |       124418.54 |  183304.03 |  429653.29 |\n",
            "| Totals            | 741999.98 |       719046.99 |  836154.10 | 2297201.07 |\n",
            "+-------------------+-----------+-----------------+------------+------------+\n"
          ]
        }
      ]
    },
    {
      "cell_type": "code",
      "metadata": {
        "colab": {
          "base_uri": "https://localhost:8080/"
        },
        "id": "AhbbnH1mO5lR",
        "outputId": "15775100-4c00-443d-d362-dabb97e7d4c0"
      },
      "source": [
        "!mysql praxisDB -e \"\\\n",
        "SELECT\\\n",
        "\tSegment,\\\n",
        "\tSUM(IF(Category='Furniture',Sales,0)) As 'Furniture',\\\n",
        "\tSUM(IF(Category='Office Supplies',Sales,0)) As 'Office_Supplies',\\\n",
        "\tSUM(IF(Category='Technology',Sales,0)) As 'Technology'\\\n",
        "  FROM ss_order \\\n",
        "  GROUP BY Segment WITH ROLLUP\\\n",
        "  \""
      ],
      "execution_count": null,
      "outputs": [
        {
          "output_type": "stream",
          "name": "stdout",
          "text": [
            "+-------------+-----------+-----------------+------------+\n",
            "| Segment     | Furniture | Office_Supplies | Technology |\n",
            "+-------------+-----------+-----------------+------------+\n",
            "| Consumer    | 391049.43 |       363951.96 |  406399.95 |\n",
            "| Corporate   | 229019.83 |       230676.49 |  246450.12 |\n",
            "| Home Office | 121930.72 |       124418.54 |  183304.03 |\n",
            "| NULL        | 741999.98 |       719046.99 |  836154.10 |\n",
            "+-------------+-----------+-----------------+------------+\n"
          ]
        }
      ]
    },
    {
      "cell_type": "markdown",
      "metadata": {
        "id": "PVGTtmGyuiga"
      },
      "source": [
        "##Cross Tabs in Python\n",
        "can we done wiht Pivot Tables as shown in this [Superstore Pivot](https://github.com/Praxis-QR/RDWH/blob/a1aa6c2b13fb1f315d4b19d08c4fac19064dfcdd/Pivot_Tables_for_OLAP_Cube_Python_Superstore.ipynb) Notebook"
      ]
    },
    {
      "cell_type": "markdown",
      "metadata": {
        "id": "azYOheyl6IdC"
      },
      "source": [
        "#Beyond Totals"
      ]
    },
    {
      "cell_type": "code",
      "metadata": {
        "id": "5Mxxpbfs6OQh",
        "colab": {
          "base_uri": "https://localhost:8080/"
        },
        "outputId": "353bcc14-7e51-46e4-d2f5-3a3ffaac66c7"
      },
      "source": [
        "%%writefile query2.sql\n",
        "SELECT\n",
        "  IFNULL(Segment,'Totals') AS 'Segment, Category',       \n",
        "  ttemp.Furniture, ttemp.Office_Supplies, ttemp.Technology,   \n",
        "  ttemp.Furniture + ttemp.Office_Supplies + ttemp.Technology AS Totals\n",
        "FROM (                                  \t\n",
        "  SELECT                                \t\n",
        "\tSegment,\n",
        "\tAVG(IF(Category='Furniture',Sales,0)) As 'Furniture',\n",
        "\tAVG(IF(Category='Office Supplies',Sales,0)) As 'Office_Supplies',\n",
        "\tAVG(IF(Category='Technology',Sales,0)) As 'Technology'\n",
        "  FROM ss_order\n",
        "  GROUP BY Segment WITH ROLLUP\n",
        ") AS ttemp\n"
      ],
      "execution_count": null,
      "outputs": [
        {
          "output_type": "stream",
          "text": [
            "Writing query2.sql\n"
          ],
          "name": "stdout"
        }
      ]
    },
    {
      "cell_type": "code",
      "metadata": {
        "id": "lxbhy09J6mFw",
        "colab": {
          "base_uri": "https://localhost:8080/"
        },
        "outputId": "e15a2a22-202c-4fab-da79-2b6d12bbf864"
      },
      "source": [
        "!mysql praxisDB --table < query2.sql"
      ],
      "execution_count": null,
      "outputs": [
        {
          "output_type": "stream",
          "text": [
            "+-------------------+-----------+-----------------+------------+------------+\n",
            "| Segment, Category | Furniture | Office_Supplies | Technology | Totals     |\n",
            "+-------------------+-----------+-----------------+------------+------------+\n",
            "| Consumer          | 75.332196 |       70.112109 |  78.289337 | 223.733642 |\n",
            "| Corporate         | 75.834381 |       76.382944 |  81.606000 | 233.823325 |\n",
            "| Home Office       | 68.385149 |       69.780449 | 102.806523 | 240.972121 |\n",
            "| Totals            | 74.244545 |       71.947868 |  83.665609 | 229.858022 |\n",
            "+-------------------+-----------+-----------------+------------+------------+\n"
          ],
          "name": "stdout"
        }
      ]
    },
    {
      "cell_type": "code",
      "metadata": {
        "id": "1cPOAN417PXe",
        "colab": {
          "base_uri": "https://localhost:8080/",
          "height": 34
        },
        "outputId": "d52fca7e-3f83-4971-dc01-1b7ada6b1861"
      },
      "source": [
        "%%writefile query2.sql\n",
        "SELECT\n",
        "  IFNULL(Segment,'Avg') AS 'Segment, Category',       \n",
        "  ttemp.Furniture, ttemp.Office_Supplies, ttemp.Technology,   \n",
        "  ttemp.Furniture + ttemp.Office_Supplies + ttemp.Technology AS Totals\n",
        "FROM (                                  \t\n",
        "  SELECT                                \t\n",
        "\tSegment,\n",
        "\tAVG(IF(Category='Furniture',Sales,0)) As 'Furniture',\n",
        "\tAVG(IF(Category='Office Supplies',Sales,0)) As 'Office_Supplies',\n",
        "\tAVG(IF(Category='Technology',Sales,0)) As 'Technology'\n",
        "  FROM ss_order\n",
        "  GROUP BY Segment WITH ROLLUP\n",
        ") AS ttemp\n"
      ],
      "execution_count": null,
      "outputs": [
        {
          "output_type": "stream",
          "text": [
            "Overwriting query2.sql\n"
          ],
          "name": "stdout"
        }
      ]
    },
    {
      "cell_type": "code",
      "metadata": {
        "id": "3aVs5IMq7eTi",
        "colab": {
          "base_uri": "https://localhost:8080/",
          "height": 153
        },
        "outputId": "ddd7c06c-d1a4-40b8-8629-f9de9e4ab6ac"
      },
      "source": [
        "!mysql praxisDB --table < query2.sql"
      ],
      "execution_count": null,
      "outputs": [
        {
          "output_type": "stream",
          "text": [
            "+-------------------+-----------+-----------------+------------+------------+\n",
            "| Segment, Category | Furniture | Office_Supplies | Technology | Totals     |\n",
            "+-------------------+-----------+-----------------+------------+------------+\n",
            "| Consumer          | 53.082951 |       69.251888 |  77.114492 | 199.449331 |\n",
            "| Corporate         | 52.320874 |       70.057228 |  75.672666 | 198.050768 |\n",
            "| Home Office       | 48.326259 |       71.465564 | 100.699843 | 220.491666 |\n",
            "| Avg               | 52.004038 |       69.890182 |  80.886592 | 202.780812 |\n",
            "+-------------------+-----------+-----------------+------------+------------+\n"
          ],
          "name": "stdout"
        }
      ]
    },
    {
      "cell_type": "code",
      "metadata": {
        "id": "gsZpXHYZ8Puo",
        "colab": {
          "base_uri": "https://localhost:8080/",
          "height": 34
        },
        "outputId": "ef897b9b-e740-4155-e8b0-1145b716c357"
      },
      "source": [
        "%%writefile query2.sql\n",
        "SELECT\n",
        "  IFNULL(Segment,'Avg') AS 'Segment, Category',       \n",
        "  ttemp.Furniture, ttemp.Office_Supplies, ttemp.Technology,   \n",
        "  (ttemp.Furniture + ttemp.Office_Supplies + ttemp.Technology)/3 AS Avg_xx\n",
        "FROM (                                  \t\n",
        "  SELECT                                \t\n",
        "\tSegment,\n",
        "\tAVG(IF(Category='Furniture',Sales,0)) As 'Furniture',\n",
        "\tAVG(IF(Category='Office Supplies',Sales,0)) As 'Office_Supplies',\n",
        "\tAVG(IF(Category='Technology',Sales,0)) As 'Technology'\n",
        "  FROM ss_order\n",
        "  GROUP BY Segment WITH ROLLUP\n",
        ") AS ttemp\n"
      ],
      "execution_count": null,
      "outputs": [
        {
          "output_type": "stream",
          "text": [
            "Overwriting query2.sql\n"
          ],
          "name": "stdout"
        }
      ]
    },
    {
      "cell_type": "code",
      "metadata": {
        "id": "OQ5zbM0M8g0u",
        "colab": {
          "base_uri": "https://localhost:8080/",
          "height": 153
        },
        "outputId": "8024b42e-f13a-4a85-affd-38c58ba74ff4"
      },
      "source": [
        "!mysql praxisDB --table < query2.sql"
      ],
      "execution_count": null,
      "outputs": [
        {
          "output_type": "stream",
          "text": [
            "+-------------------+-----------+-----------------+------------+---------------+\n",
            "| Segment, Category | Furniture | Office_Supplies | Technology | Avg_xx        |\n",
            "+-------------------+-----------+-----------------+------------+---------------+\n",
            "| Consumer          | 53.082951 |       69.251888 |  77.114492 | 66.4831103333 |\n",
            "| Corporate         | 52.320874 |       70.057228 |  75.672666 | 66.0169226667 |\n",
            "| Home Office       | 48.326259 |       71.465564 | 100.699843 | 73.4972220000 |\n",
            "| Avg               | 52.004038 |       69.890182 |  80.886592 | 67.5936040000 |\n",
            "+-------------------+-----------+-----------------+------------+---------------+\n"
          ],
          "name": "stdout"
        }
      ]
    },
    {
      "cell_type": "code",
      "metadata": {
        "id": "ILD7R3f9853P",
        "colab": {
          "base_uri": "https://localhost:8080/",
          "height": 34
        },
        "outputId": "8d794454-d7f0-42aa-a956-beddd7cc6757"
      },
      "source": [
        "%%writefile query3.sql\n",
        "\n",
        "SELECT                                \t\n",
        "\tSegment,\n",
        "\tAVG(IF(Category='Furniture',Sales,0)) As 'Furniture',\n",
        "\tAVG(IF(Category='Office Supplies',Sales,0)) As 'Office_Supplies',\n",
        "\tAVG(IF(Category='Technology',Sales,0)) As 'Technology'\n",
        "  FROM ss_order\n",
        "  GROUP BY Segment WITH ROLLUP"
      ],
      "execution_count": null,
      "outputs": [
        {
          "output_type": "stream",
          "text": [
            "Writing query3.sql\n"
          ],
          "name": "stdout"
        }
      ]
    },
    {
      "cell_type": "code",
      "metadata": {
        "id": "7nzcuNox9Fde",
        "colab": {
          "base_uri": "https://localhost:8080/",
          "height": 153
        },
        "outputId": "7bbe20be-12c5-422d-adb0-0530265fd067"
      },
      "source": [
        "!mysql praxisDB --table < query3.sql"
      ],
      "execution_count": null,
      "outputs": [
        {
          "output_type": "stream",
          "text": [
            "+-------------+-----------+-----------------+------------+\n",
            "| Segment     | Furniture | Office_Supplies | Technology |\n",
            "+-------------+-----------+-----------------+------------+\n",
            "| Consumer    | 53.082951 |       69.251888 |  77.114492 |\n",
            "| Corporate   | 52.320874 |       70.057228 |  75.672666 |\n",
            "| Home Office | 48.326259 |       71.465564 | 100.699843 |\n",
            "| NULL        | 52.004038 |       69.890182 |  80.886592 |\n",
            "+-------------+-----------+-----------------+------------+\n"
          ],
          "name": "stdout"
        }
      ]
    },
    {
      "cell_type": "code",
      "metadata": {
        "id": "PECF0dK79__Y",
        "colab": {
          "base_uri": "https://localhost:8080/",
          "height": 34
        },
        "outputId": "d79cb9ae-9513-45c0-8eaf-4387a7e9fc99"
      },
      "source": [
        "%%writefile query3.sql\n",
        "SELECT\n",
        "  IFNULL(Segment,'Avg') AS 'Segment↓ Category→',       \n",
        "  ttemp.Furniture, ttemp.Office_Supplies, ttemp.Technology\n",
        "FROM (                                  \t\n",
        "  SELECT                                \t\n",
        "\tSegment,\n",
        "\tAVG(IF(Category='Furniture',Sales,0)) As 'Furniture',\n",
        "\tAVG(IF(Category='Office Supplies',Sales,0)) As 'Office_Supplies',\n",
        "\tAVG(IF(Category='Technology',Sales,0)) As 'Technology'\n",
        "  FROM ss_order\n",
        "  GROUP BY Segment WITH ROLLUP\n",
        ") AS ttemp\n",
        "\n",
        "where Segment is not null\n"
      ],
      "execution_count": null,
      "outputs": [
        {
          "output_type": "stream",
          "text": [
            "Overwriting query3.sql\n"
          ],
          "name": "stdout"
        }
      ]
    },
    {
      "cell_type": "code",
      "metadata": {
        "id": "ZpTgMPP6-Lpc",
        "colab": {
          "base_uri": "https://localhost:8080/",
          "height": 136
        },
        "outputId": "a1de9755-1a84-4470-81c6-615fba9d34d6"
      },
      "source": [
        "!mysql praxisDB --table < query3.sql"
      ],
      "execution_count": null,
      "outputs": [
        {
          "output_type": "stream",
          "text": [
            "+------------------------+-----------+-----------------+------------+\n",
            "| Segment↓ Category→     | Furniture | Office_Supplies | Technology |\n",
            "+------------------------+-----------+-----------------+------------+\n",
            "| Consumer               | 53.082951 |       69.251888 |  77.114492 |\n",
            "| Corporate              | 52.320874 |       70.057228 |  75.672666 |\n",
            "| Home Office            | 48.326259 |       71.465564 | 100.699843 |\n",
            "+------------------------+-----------+-----------------+------------+\n"
          ],
          "name": "stdout"
        }
      ]
    },
    {
      "cell_type": "markdown",
      "metadata": {
        "id": "4phrtjaE_tyS"
      },
      "source": [
        "#Chronobooks <br>\n",
        "![alt text](https://1.bp.blogspot.com/-lTiYBkU2qbU/X1er__fvnkI/AAAAAAAAjtE/GhDR3OEGJr4NG43fZPodrQD5kbxtnKebgCLcBGAsYHQ/s600/Footer2020-600x200.png)<hr>\n",
        "Chronotantra and Chronoyantra are two science fiction novels that explore the collapse of human civilisation on Earth and then its rebirth and reincarnation both on Earth as well as on the distant worlds of Mars, Titan and Enceladus. But is it the human civilisation that is being reborn? Or is it some other sentience that is revealing itself. \n",
        "If you have an interest in AI and found this material useful, you may consider buying these novels, in paperback or kindle, from [http://bit.ly/chronobooks](http://bit.ly/chronobooks)"
      ]
    }
  ]
}