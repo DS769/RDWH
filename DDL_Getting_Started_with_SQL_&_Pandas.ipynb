{
  "nbformat": 4,
  "nbformat_minor": 0,
  "metadata": {
    "colab": {
      "name": "DDL Getting Started with SQL & Pandas ",
      "provenance": [],
      "collapsed_sections": [],
      "include_colab_link": true
    },
    "kernelspec": {
      "name": "python3",
      "display_name": "Python 3"
    }
  },
  "cells": [
    {
      "cell_type": "markdown",
      "metadata": {
        "id": "view-in-github",
        "colab_type": "text"
      },
      "source": [
        "<a href=\"https://colab.research.google.com/github/Praxis-bs/RDWH/blob/main/DDL_Getting_Started_with_SQL_%26_Pandas.ipynb\" target=\"_parent\"><img src=\"https://colab.research.google.com/assets/colab-badge.svg\" alt=\"Open In Colab\"/></a>"
      ]
    },
    {
      "cell_type": "markdown",
      "metadata": {
        "id": "JLS_gJa1nzro"
      },
      "source": [
        "\n",
        "![alt text](https://4.bp.blogspot.com/-gbL5nZDkpFQ/XScFYwoTEII/AAAAAAAAAGY/CcVb_HDLwvs2Brv5T4vSsUcz7O4r2Q79ACK4BGAYYCw/s1600/kk3-header00-beta.png)<br>\n",
        "\n",
        "\n",
        "<hr>\n",
        "\n",
        "[Prithwis Mukerjee](http://www.linkedin.com/in/prithwis)<br>"
      ]
    },
    {
      "cell_type": "markdown",
      "metadata": {
        "id": "Jr2RXjE3c9WI"
      },
      "source": [
        "# Install Pandas, MySQL client"
      ]
    },
    {
      "cell_type": "code",
      "metadata": {
        "id": "YLSFKnJAeITe",
        "colab": {
          "base_uri": "https://localhost:8080/"
        },
        "outputId": "7bcb83f1-9fc8-4fd5-c6cb-9ccd09255988"
      },
      "source": [
        "!apt install libmysqlclient-dev > /dev/null\n",
        "!pip install mysqlclient > /dev/null\n",
        "import pandas as pd\n",
        "import MySQLdb"
      ],
      "execution_count": 1,
      "outputs": [
        {
          "output_type": "stream",
          "text": [
            "\n",
            "WARNING: apt does not have a stable CLI interface. Use with caution in scripts.\n",
            "\n"
          ],
          "name": "stdout"
        }
      ]
    },
    {
      "cell_type": "markdown",
      "metadata": {
        "id": "PgMPDky9-C0m"
      },
      "source": [
        "#Set up Credentials"
      ]
    },
    {
      "cell_type": "markdown",
      "metadata": {
        "id": "UsuqW58w-HTD"
      },
      "source": [
        "##Securely from GDrive"
      ]
    },
    {
      "cell_type": "code",
      "metadata": {
        "id": "wSIStBjhNdqc",
        "colab": {
          "base_uri": "https://localhost:8080/"
        },
        "outputId": "9d670f16-d123-49dd-96ef-c1d963712e34"
      },
      "source": [
        "from google.colab import drive\n",
        "drive.mount('/content/drive')"
      ],
      "execution_count": 2,
      "outputs": [
        {
          "output_type": "stream",
          "text": [
            "Mounted at /content/drive\n"
          ],
          "name": "stdout"
        }
      ]
    },
    {
      "cell_type": "code",
      "metadata": {
        "id": "ggmCbRynRrbY"
      },
      "source": [
        "#!ls /content/drive/'My Drive'/Praxis/WebCredentials\n",
        "!cp /content/drive/'My Drive'/Praxis/WebCredentials/sqlCredentials_020221.py ./Credentials.py"
      ],
      "execution_count": 3,
      "outputs": []
    },
    {
      "cell_type": "code",
      "metadata": {
        "id": "mk_l8ocxtJKN",
        "colab": {
          "base_uri": "https://localhost:8080/"
        },
        "outputId": "70f05ac1-cc1c-439c-9251-7e2ef49b8eb2"
      },
      "source": [
        "# credential file for Prithwis Mukerjee\n",
        "# this file needs to be uploaded into the VM\n",
        "# https://drive.google.com/drive/u/0/folders/1-EKWXDjIO_wOrNR6bR0U9IXbcFh31AMT\n",
        "from Credentials import hostName,userName,passWord,dbName\n",
        "\n",
        "#for the sake of privacy\n",
        "#the following credentials need to be stored in a text file called sqlCredentials.py\n",
        "#in the format given below\n",
        "#in the Colab VM\n",
        "\n",
        "#otherwise, the values can be directly placed here\n",
        "\n",
        "#hostName = 'remotemysql.com'   # uncomment this line and place your own credentials here\n",
        "#userName = 'yourusername'      # uncomment this line and place your own credentials here\n",
        "#passWord = 'yourpassword'      # uncomment this line and place your own credentials here\n",
        "#dbName =  'yourdbname'         # uncomment this line and place your own credentials here\n",
        "\n",
        "print(hostName,userName,dbName)"
      ],
      "execution_count": 4,
      "outputs": [
        {
          "output_type": "stream",
          "text": [
            "remotemysql.com aMxFStsiZ2 aMxFStsiZ2\n"
          ],
          "name": "stdout"
        }
      ]
    },
    {
      "cell_type": "markdown",
      "metadata": {
        "id": "LeZcfEUe_3ke"
      },
      "source": [
        "##Credentials visible in notebook"
      ]
    },
    {
      "cell_type": "code",
      "metadata": {
        "id": "7u0qbAiN_8RS",
        "colab": {
          "base_uri": "https://localhost:8080/"
        },
        "outputId": "8199ebae-5457-4590-e16a-97ff5bb24d44"
      },
      "source": [
        "#otherwise, the values can be directly placed here\n",
        "\n",
        "#hostName = 'remotemysql.com'   # uncomment this line and place your own credentials here\n",
        "#userName = 'yourusername'      # uncomment this line and place your own credentials here\n",
        "#passWord = 'yourpassword'      # uncomment this line and place your own credentials here\n",
        "#dbName =  'yourdbname'         # uncomment this line and place your own credentials here\n",
        "\n",
        "print(hostName,userName,dbName)"
      ],
      "execution_count": null,
      "outputs": [
        {
          "output_type": "stream",
          "text": [
            "remotemysql.com aMxFStsiZ2 aMxFStsiZ2\n"
          ],
          "name": "stdout"
        }
      ]
    },
    {
      "cell_type": "markdown",
      "metadata": {
        "id": "G-J1qtXUAJOQ"
      },
      "source": [
        "##Test Connection"
      ]
    },
    {
      "cell_type": "code",
      "metadata": {
        "id": "sSbAwASks7_T",
        "colab": {
          "base_uri": "https://localhost:8080/"
        },
        "outputId": "071a5ec0-de17-4f67-81ec-10ad3bd266e5"
      },
      "source": [
        "DBConn = MySQLdb.connect(hostName,userName,passWord,dbName)\n",
        "#df_mysql = pd.read_sql('select * from emp2;', con=con_mysql)  \n",
        "df_mysql = pd.read_sql('show tables', con=DBConn)    \n",
        "print ('loaded dataframe from MySQL. records:', len(df_mysql))\n",
        "DBConn.close()"
      ],
      "execution_count": 5,
      "outputs": [
        {
          "output_type": "stream",
          "text": [
            "loaded dataframe from MySQL. records: 20\n"
          ],
          "name": "stdout"
        }
      ]
    },
    {
      "cell_type": "code",
      "metadata": {
        "id": "MialHMXYzAVy",
        "colab": {
          "base_uri": "https://localhost:8080/",
          "height": 665
        },
        "outputId": "4d279cdc-e2aa-4a36-8331-a53610a4b9f0"
      },
      "source": [
        "df_mysql"
      ],
      "execution_count": 6,
      "outputs": [
        {
          "output_type": "execute_result",
          "data": {
            "text/html": [
              "<div>\n",
              "<style scoped>\n",
              "    .dataframe tbody tr th:only-of-type {\n",
              "        vertical-align: middle;\n",
              "    }\n",
              "\n",
              "    .dataframe tbody tr th {\n",
              "        vertical-align: top;\n",
              "    }\n",
              "\n",
              "    .dataframe thead th {\n",
              "        text-align: right;\n",
              "    }\n",
              "</style>\n",
              "<table border=\"1\" class=\"dataframe\">\n",
              "  <thead>\n",
              "    <tr style=\"text-align: right;\">\n",
              "      <th></th>\n",
              "      <th>Tables_in_aMxFStsiZ2</th>\n",
              "    </tr>\n",
              "  </thead>\n",
              "  <tbody>\n",
              "    <tr>\n",
              "      <th>0</th>\n",
              "      <td>CarSales2</td>\n",
              "    </tr>\n",
              "    <tr>\n",
              "      <th>1</th>\n",
              "      <td>CarSalesFact</td>\n",
              "    </tr>\n",
              "    <tr>\n",
              "      <th>2</th>\n",
              "      <td>CarSalesFact2</td>\n",
              "    </tr>\n",
              "    <tr>\n",
              "      <th>3</th>\n",
              "      <td>Dept</td>\n",
              "    </tr>\n",
              "    <tr>\n",
              "      <th>4</th>\n",
              "      <td>EMPLOYEE</td>\n",
              "    </tr>\n",
              "    <tr>\n",
              "      <th>5</th>\n",
              "      <td>Emp</td>\n",
              "    </tr>\n",
              "    <tr>\n",
              "      <th>6</th>\n",
              "      <td>EmpDataCols</td>\n",
              "    </tr>\n",
              "    <tr>\n",
              "      <th>7</th>\n",
              "      <td>Friends</td>\n",
              "    </tr>\n",
              "    <tr>\n",
              "      <th>8</th>\n",
              "      <td>KeyValueTable</td>\n",
              "    </tr>\n",
              "    <tr>\n",
              "      <th>9</th>\n",
              "      <td>T_Zoo</td>\n",
              "    </tr>\n",
              "    <tr>\n",
              "      <th>10</th>\n",
              "      <td>T_ZooEats</td>\n",
              "    </tr>\n",
              "    <tr>\n",
              "      <th>11</th>\n",
              "      <td>a20_dept</td>\n",
              "    </tr>\n",
              "    <tr>\n",
              "      <th>12</th>\n",
              "      <td>a20_empl</td>\n",
              "    </tr>\n",
              "    <tr>\n",
              "      <th>13</th>\n",
              "      <td>dept2</td>\n",
              "    </tr>\n",
              "    <tr>\n",
              "      <th>14</th>\n",
              "      <td>emp</td>\n",
              "    </tr>\n",
              "    <tr>\n",
              "      <th>15</th>\n",
              "      <td>emp2</td>\n",
              "    </tr>\n",
              "    <tr>\n",
              "      <th>16</th>\n",
              "      <td>emp3</td>\n",
              "    </tr>\n",
              "    <tr>\n",
              "      <th>17</th>\n",
              "      <td>ss_order</td>\n",
              "    </tr>\n",
              "    <tr>\n",
              "      <th>18</th>\n",
              "      <td>stayalive</td>\n",
              "    </tr>\n",
              "    <tr>\n",
              "      <th>19</th>\n",
              "      <td>xFriends</td>\n",
              "    </tr>\n",
              "  </tbody>\n",
              "</table>\n",
              "</div>"
            ],
            "text/plain": [
              "   Tables_in_aMxFStsiZ2\n",
              "0             CarSales2\n",
              "1          CarSalesFact\n",
              "2         CarSalesFact2\n",
              "3                  Dept\n",
              "4              EMPLOYEE\n",
              "5                   Emp\n",
              "6           EmpDataCols\n",
              "7               Friends\n",
              "8         KeyValueTable\n",
              "9                 T_Zoo\n",
              "10            T_ZooEats\n",
              "11             a20_dept\n",
              "12             a20_empl\n",
              "13                dept2\n",
              "14                  emp\n",
              "15                 emp2\n",
              "16                 emp3\n",
              "17             ss_order\n",
              "18            stayalive\n",
              "19             xFriends"
            ]
          },
          "metadata": {},
          "execution_count": 6
        }
      ]
    },
    {
      "cell_type": "markdown",
      "metadata": {
        "id": "GgvjzrwKBWHd"
      },
      "source": [
        "#Define Python functions for MySQL access"
      ]
    },
    {
      "cell_type": "code",
      "metadata": {
        "id": "AWPBFiK3ByQR"
      },
      "source": [
        "#To run any non-SELECT SQL command\n",
        "def runCMD (DDL):\n",
        "    DBConn= MySQLdb.connect(hostName,userName,passWord,dbName)\n",
        "    myCursor = DBConn.cursor()\n",
        "    retcode = myCursor.execute(DDL) \n",
        "    print (retcode)\n",
        "    DBConn.commit()\n",
        "    DBConn.close()\n",
        "\n",
        "#To run any SELECT SQL command\n",
        "def runSELECT (CMD):\n",
        "    DBConn= MySQLdb.connect(hostName,userName,passWord,dbName)\n",
        "    df_mysql = pd.read_sql(CMD, con=DBConn)    \n",
        "    DBConn.close()\n",
        "    return df_mysql"
      ],
      "execution_count": 7,
      "outputs": []
    },
    {
      "cell_type": "markdown",
      "metadata": {
        "id": "EGkMsN1XDoFH"
      },
      "source": [
        "#Create and Load Tables"
      ]
    },
    {
      "cell_type": "markdown",
      "metadata": {
        "id": "nN50YCPLDsmf"
      },
      "source": [
        "##Table : Emp"
      ]
    },
    {
      "cell_type": "code",
      "metadata": {
        "id": "7qKd9bYmeq4H",
        "colab": {
          "base_uri": "https://localhost:8080/"
        },
        "outputId": "08357ebb-ff82-43af-a2be-cbc500ba4d7c"
      },
      "source": [
        "runCMD(\"DROP TABLE IF EXISTS Emp;\")\n",
        "runCMD(\"CREATE TABLE IF NOT EXISTS Emp ( \\\n",
        "  EmpID char(6)  NOT NULL, \\\n",
        "  LastName varchar(50) , \\\n",
        "  FirstName varchar(50) , \\\n",
        "  JobDesc varchar(50) , \\\n",
        "  JoinDate date NOT NULL, \\\n",
        "  Salary int(11) , \\\n",
        "  Comm float , \\\n",
        "  DeptID char(2) \\\n",
        ") ;\")"
      ],
      "execution_count": null,
      "outputs": [
        {
          "output_type": "stream",
          "text": [
            "0\n",
            "0\n"
          ],
          "name": "stdout"
        }
      ]
    },
    {
      "cell_type": "code",
      "metadata": {
        "id": "qIhz8cvDva2w",
        "colab": {
          "base_uri": "https://localhost:8080/"
        },
        "outputId": "a4231550-1dde-4b89-8a6d-25618fb01f5a"
      },
      "source": [
        "runCMD(\"INSERT INTO Emp (EmpID, LastName, FirstName, JobDesc, JoinDate, Salary, Comm, DeptID) \\\n",
        "    VALUES \\\n",
        "\t('742866', 'Bacchan', 'Amitabh', 'Executive', '2003-03-10', 50000, 0.1, '10'), \\\n",
        "\t('349870', 'Mukherjee', 'Rani', 'Manager', '2005-05-04', 25000, 0.06, '40'), \\\n",
        "\t('865477', 'Dikshit', 'Madhuri', 'Clerk', '2002-04-04', 10000, 0.02, '20'), \\\n",
        "\t('239456', 'Khan', 'Shahrukh', 'Manager', '2004-01-03', 30000, 0.07, '20'), \\\n",
        "\t('897889', 'Sehwag', 'Virender', 'Cus_Rep', '2005-01-02', 15000, 0.05, '20'), \\\n",
        "\t('123980', 'Dhoni', 'Mahender', 'Clerk', '2004-10-09', 9000, 0.02, '40'), \\\n",
        "\t('822134', 'Dravid', 'Rahul', 'Sr Manager', '2000-06-04', 40000, 0.08, '30'), \\\n",
        "\t('997445', 'Dalmia', 'Jagmohan', 'Clerk', '2001-07-01', 12000, 0.02, '30'), \\\n",
        "\t('989007', 'Ganguly', 'Sourav', 'Cus_Rep', '2002-01-01', 20000, 0.03, '40'), \\\n",
        "\t('299034', 'Ganesan', 'Rekha', 'Director', '2002-10-10', 60000, 0.11, '10'), \\\n",
        "\t('546223', 'Karthikeyan', 'Narayan', 'Secretary', '2005-12-04', 40000, 0.09, '10'), \\\n",
        "\t('223112', 'Mirza', 'Sania', 'Cus_Rep', '2001-11-19', 25000, 0.04, '30');\"\n",
        "    )"
      ],
      "execution_count": null,
      "outputs": [
        {
          "output_type": "stream",
          "text": [
            "12\n"
          ],
          "name": "stdout"
        }
      ]
    },
    {
      "cell_type": "markdown",
      "metadata": {
        "id": "_sQOUBCXPpEh"
      },
      "source": [
        "## Table : Dept"
      ]
    },
    {
      "cell_type": "code",
      "metadata": {
        "colab": {
          "base_uri": "https://localhost:8080/"
        },
        "id": "OdmlfVm6PsgB",
        "outputId": "c5654427-6d90-4787-bdbc-3d137d3df45a"
      },
      "source": [
        "runCMD(\"DROP TABLE IF EXISTS Dept;\")\n",
        "runCMD(\"CREATE TABLE Dept ( \\\n",
        "  DeptID char(2)  NOT NULL, \\\n",
        "  DeptName varchar(50) , \\\n",
        "  ManagerID char(6) , \\\n",
        "  Location varchar(50) \\\n",
        " );\")"
      ],
      "execution_count": null,
      "outputs": [
        {
          "output_type": "stream",
          "text": [
            "0\n",
            "0\n"
          ],
          "name": "stdout"
        }
      ]
    },
    {
      "cell_type": "code",
      "metadata": {
        "colab": {
          "base_uri": "https://localhost:8080/"
        },
        "id": "3IbwL5-jP2Lh",
        "outputId": "d3d1242e-3353-4d1f-87c7-eec94e58fe4c"
      },
      "source": [
        "runCMD(\"INSERT INTO Dept (DeptID, DeptName, ManagerID, Location) VALUES \\\n",
        "\t('10', 'Corporate', '299034', 'Calcutta'), \\\n",
        "\t('20', 'Sales', '239456', 'Calcutta'), \\\n",
        "\t('30', 'Accounts', '822134', 'Calcutta'), \\\n",
        "\t('40', 'Production', '349870', 'Bombay');\")"
      ],
      "execution_count": null,
      "outputs": [
        {
          "output_type": "stream",
          "text": [
            "4\n"
          ],
          "name": "stdout"
        }
      ]
    },
    {
      "cell_type": "markdown",
      "metadata": {
        "id": "aO1zLPeNEq8r"
      },
      "source": [
        "#Run SQL Select Commands"
      ]
    },
    {
      "cell_type": "code",
      "metadata": {
        "id": "BCDz6Sr_EzS9",
        "colab": {
          "base_uri": "https://localhost:8080/",
          "height": 418
        },
        "outputId": "f10ea45d-7f92-4ad1-80c6-5472fca566d8"
      },
      "source": [
        "runSELECT('Select * from Emp;')"
      ],
      "execution_count": null,
      "outputs": [
        {
          "output_type": "execute_result",
          "data": {
            "text/html": [
              "<div>\n",
              "<style scoped>\n",
              "    .dataframe tbody tr th:only-of-type {\n",
              "        vertical-align: middle;\n",
              "    }\n",
              "\n",
              "    .dataframe tbody tr th {\n",
              "        vertical-align: top;\n",
              "    }\n",
              "\n",
              "    .dataframe thead th {\n",
              "        text-align: right;\n",
              "    }\n",
              "</style>\n",
              "<table border=\"1\" class=\"dataframe\">\n",
              "  <thead>\n",
              "    <tr style=\"text-align: right;\">\n",
              "      <th></th>\n",
              "      <th>EmpID</th>\n",
              "      <th>LastName</th>\n",
              "      <th>FirstName</th>\n",
              "      <th>JobDesc</th>\n",
              "      <th>JoinDate</th>\n",
              "      <th>Salary</th>\n",
              "      <th>Comm</th>\n",
              "      <th>DeptID</th>\n",
              "    </tr>\n",
              "  </thead>\n",
              "  <tbody>\n",
              "    <tr>\n",
              "      <th>0</th>\n",
              "      <td>742866</td>\n",
              "      <td>Bacchan</td>\n",
              "      <td>Amitabh</td>\n",
              "      <td>Executive</td>\n",
              "      <td>2003-03-10</td>\n",
              "      <td>50000</td>\n",
              "      <td>0.10</td>\n",
              "      <td>10</td>\n",
              "    </tr>\n",
              "    <tr>\n",
              "      <th>1</th>\n",
              "      <td>349870</td>\n",
              "      <td>Mukherjee</td>\n",
              "      <td>Rani</td>\n",
              "      <td>Manager</td>\n",
              "      <td>2005-05-04</td>\n",
              "      <td>25000</td>\n",
              "      <td>0.06</td>\n",
              "      <td>40</td>\n",
              "    </tr>\n",
              "    <tr>\n",
              "      <th>2</th>\n",
              "      <td>865477</td>\n",
              "      <td>Dikshit</td>\n",
              "      <td>Madhuri</td>\n",
              "      <td>Clerk</td>\n",
              "      <td>2002-04-04</td>\n",
              "      <td>10000</td>\n",
              "      <td>0.02</td>\n",
              "      <td>20</td>\n",
              "    </tr>\n",
              "    <tr>\n",
              "      <th>3</th>\n",
              "      <td>239456</td>\n",
              "      <td>Khan</td>\n",
              "      <td>Shahrukh</td>\n",
              "      <td>Manager</td>\n",
              "      <td>2004-01-03</td>\n",
              "      <td>30000</td>\n",
              "      <td>0.07</td>\n",
              "      <td>20</td>\n",
              "    </tr>\n",
              "    <tr>\n",
              "      <th>4</th>\n",
              "      <td>897889</td>\n",
              "      <td>Sehwag</td>\n",
              "      <td>Virender</td>\n",
              "      <td>Cus_Rep</td>\n",
              "      <td>2005-01-02</td>\n",
              "      <td>15000</td>\n",
              "      <td>0.05</td>\n",
              "      <td>20</td>\n",
              "    </tr>\n",
              "    <tr>\n",
              "      <th>5</th>\n",
              "      <td>123980</td>\n",
              "      <td>Dhoni</td>\n",
              "      <td>Mahender</td>\n",
              "      <td>Clerk</td>\n",
              "      <td>2004-10-09</td>\n",
              "      <td>9000</td>\n",
              "      <td>0.02</td>\n",
              "      <td>40</td>\n",
              "    </tr>\n",
              "    <tr>\n",
              "      <th>6</th>\n",
              "      <td>822134</td>\n",
              "      <td>Dravid</td>\n",
              "      <td>Rahul</td>\n",
              "      <td>Sr Manager</td>\n",
              "      <td>2000-06-04</td>\n",
              "      <td>40000</td>\n",
              "      <td>0.08</td>\n",
              "      <td>30</td>\n",
              "    </tr>\n",
              "    <tr>\n",
              "      <th>7</th>\n",
              "      <td>997445</td>\n",
              "      <td>Dalmia</td>\n",
              "      <td>Jagmohan</td>\n",
              "      <td>Clerk</td>\n",
              "      <td>2001-07-01</td>\n",
              "      <td>12000</td>\n",
              "      <td>0.02</td>\n",
              "      <td>30</td>\n",
              "    </tr>\n",
              "    <tr>\n",
              "      <th>8</th>\n",
              "      <td>989007</td>\n",
              "      <td>Ganguly</td>\n",
              "      <td>Sourav</td>\n",
              "      <td>Cus_Rep</td>\n",
              "      <td>2002-01-01</td>\n",
              "      <td>20000</td>\n",
              "      <td>0.03</td>\n",
              "      <td>40</td>\n",
              "    </tr>\n",
              "    <tr>\n",
              "      <th>9</th>\n",
              "      <td>299034</td>\n",
              "      <td>Ganesan</td>\n",
              "      <td>Rekha</td>\n",
              "      <td>Director</td>\n",
              "      <td>2002-10-10</td>\n",
              "      <td>60000</td>\n",
              "      <td>0.11</td>\n",
              "      <td>10</td>\n",
              "    </tr>\n",
              "    <tr>\n",
              "      <th>10</th>\n",
              "      <td>546223</td>\n",
              "      <td>Karthikeyan</td>\n",
              "      <td>Narayan</td>\n",
              "      <td>Secretary</td>\n",
              "      <td>2005-12-04</td>\n",
              "      <td>40000</td>\n",
              "      <td>0.09</td>\n",
              "      <td>10</td>\n",
              "    </tr>\n",
              "    <tr>\n",
              "      <th>11</th>\n",
              "      <td>223112</td>\n",
              "      <td>Mirza</td>\n",
              "      <td>Sania</td>\n",
              "      <td>Cus_Rep</td>\n",
              "      <td>2001-11-19</td>\n",
              "      <td>25000</td>\n",
              "      <td>0.04</td>\n",
              "      <td>30</td>\n",
              "    </tr>\n",
              "  </tbody>\n",
              "</table>\n",
              "</div>"
            ],
            "text/plain": [
              "     EmpID     LastName FirstName     JobDesc    JoinDate  Salary  Comm DeptID\n",
              "0   742866      Bacchan   Amitabh   Executive  2003-03-10   50000  0.10     10\n",
              "1   349870    Mukherjee      Rani     Manager  2005-05-04   25000  0.06     40\n",
              "2   865477      Dikshit   Madhuri       Clerk  2002-04-04   10000  0.02     20\n",
              "3   239456         Khan  Shahrukh     Manager  2004-01-03   30000  0.07     20\n",
              "4   897889       Sehwag  Virender     Cus_Rep  2005-01-02   15000  0.05     20\n",
              "5   123980        Dhoni  Mahender       Clerk  2004-10-09    9000  0.02     40\n",
              "6   822134       Dravid     Rahul  Sr Manager  2000-06-04   40000  0.08     30\n",
              "7   997445       Dalmia  Jagmohan       Clerk  2001-07-01   12000  0.02     30\n",
              "8   989007      Ganguly    Sourav     Cus_Rep  2002-01-01   20000  0.03     40\n",
              "9   299034      Ganesan     Rekha    Director  2002-10-10   60000  0.11     10\n",
              "10  546223  Karthikeyan   Narayan   Secretary  2005-12-04   40000  0.09     10\n",
              "11  223112        Mirza     Sania     Cus_Rep  2001-11-19   25000  0.04     30"
            ]
          },
          "metadata": {
            "tags": []
          },
          "execution_count": 12
        }
      ]
    },
    {
      "cell_type": "code",
      "metadata": {
        "colab": {
          "base_uri": "https://localhost:8080/",
          "height": 172
        },
        "id": "3yMhkuxnP8A_",
        "outputId": "1611d527-b673-44d4-bb3c-3a48b4cbfe21"
      },
      "source": [
        "runSELECT('Select * from Dept;')"
      ],
      "execution_count": null,
      "outputs": [
        {
          "output_type": "execute_result",
          "data": {
            "text/html": [
              "<div>\n",
              "<style scoped>\n",
              "    .dataframe tbody tr th:only-of-type {\n",
              "        vertical-align: middle;\n",
              "    }\n",
              "\n",
              "    .dataframe tbody tr th {\n",
              "        vertical-align: top;\n",
              "    }\n",
              "\n",
              "    .dataframe thead th {\n",
              "        text-align: right;\n",
              "    }\n",
              "</style>\n",
              "<table border=\"1\" class=\"dataframe\">\n",
              "  <thead>\n",
              "    <tr style=\"text-align: right;\">\n",
              "      <th></th>\n",
              "      <th>DeptID</th>\n",
              "      <th>DeptName</th>\n",
              "      <th>ManagerID</th>\n",
              "      <th>Location</th>\n",
              "    </tr>\n",
              "  </thead>\n",
              "  <tbody>\n",
              "    <tr>\n",
              "      <th>0</th>\n",
              "      <td>10</td>\n",
              "      <td>Corporate</td>\n",
              "      <td>299034</td>\n",
              "      <td>Calcutta</td>\n",
              "    </tr>\n",
              "    <tr>\n",
              "      <th>1</th>\n",
              "      <td>20</td>\n",
              "      <td>Sales</td>\n",
              "      <td>239456</td>\n",
              "      <td>Calcutta</td>\n",
              "    </tr>\n",
              "    <tr>\n",
              "      <th>2</th>\n",
              "      <td>30</td>\n",
              "      <td>Accounts</td>\n",
              "      <td>822134</td>\n",
              "      <td>Calcutta</td>\n",
              "    </tr>\n",
              "    <tr>\n",
              "      <th>3</th>\n",
              "      <td>40</td>\n",
              "      <td>Production</td>\n",
              "      <td>349870</td>\n",
              "      <td>Bombay</td>\n",
              "    </tr>\n",
              "  </tbody>\n",
              "</table>\n",
              "</div>"
            ],
            "text/plain": [
              "  DeptID    DeptName ManagerID  Location\n",
              "0     10   Corporate    299034  Calcutta\n",
              "1     20       Sales    239456  Calcutta\n",
              "2     30    Accounts    822134  Calcutta\n",
              "3     40  Production    349870    Bombay"
            ]
          },
          "metadata": {
            "tags": []
          },
          "execution_count": 13
        }
      ]
    },
    {
      "cell_type": "markdown",
      "metadata": {
        "id": "ziAOlrJdDMJ_"
      },
      "source": [
        "#Chronobooks <br>\n",
        "![alt text](https://1.bp.blogspot.com/-lTiYBkU2qbU/X1er__fvnkI/AAAAAAAAjtE/GhDR3OEGJr4NG43fZPodrQD5kbxtnKebgCLcBGAsYHQ/s600/Footer2020-600x200.png)<hr>\n",
        "Chronotantra and Chronoyantra are two science fiction novels that explore the collapse of human civilisation on Earth and then its rebirth and reincarnation both on Earth as well as on the distant worlds of Mars, Titan and Enceladus. But is it the human civilisation that is being reborn? Or is it some other sentience that is revealing itself. \n",
        "If you have an interest in AI and found this material useful, you may consider buying these novels, in paperback or kindle, from [http://bit.ly/chronobooks](http://bit.ly/chronobooks)"
      ]
    }
  ]
}