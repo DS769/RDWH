{
  "nbformat": 4,
  "nbformat_minor": 0,
  "metadata": {
    "colab": {
      "name": "Cross Tabs with OLAP Cube- PGDM FORDS",
      "provenance": [],
      "collapsed_sections": [
        "_rU8CnnudQAX",
        "gXQysJFYdWXg",
        "8tsY08hYy0jc",
        "6eMUYZpazkH_",
        "VMfF86Pf3kaQ",
        "clFiGj-X3p6b",
        "G7s5vD_N3wV5",
        "pPTQuLMEDt--"
      ],
      "toc_visible": true,
      "include_colab_link": true
    },
    "kernelspec": {
      "name": "python3",
      "display_name": "Python 3"
    }
  },
  "cells": [
    {
      "cell_type": "markdown",
      "metadata": {
        "id": "view-in-github",
        "colab_type": "text"
      },
      "source": [
        "<a href=\"https://colab.research.google.com/github/Praxis-QR/RDWH/blob/main/Cross_Tabs_with_OLAP_Cube_PGDM_FORDS.ipynb\" target=\"_parent\"><img src=\"https://colab.research.google.com/assets/colab-badge.svg\" alt=\"Open In Colab\"/></a>"
      ]
    },
    {
      "cell_type": "markdown",
      "metadata": {
        "id": "4eYqHc2E6vqX"
      },
      "source": [
        "![alt text](https://4.bp.blogspot.com/-gbL5nZDkpFQ/XScFYwoTEII/AAAAAAAAAGY/CcVb_HDLwvs2Brv5T4vSsUcz7O4r2Q79ACK4BGAYYCw/s1600/kk3-header00-beta.png)<br>\n",
        "\n",
        "\n",
        "<hr>\n",
        "\n",
        "[Prithwis Mukerjee](http://www.linkedin.com/in/prithwis)<br>"
      ]
    },
    {
      "cell_type": "markdown",
      "metadata": {
        "id": "_yscy5Ox67yy"
      },
      "source": [
        "#Generating Cross Tabs\n",
        "Companion codes for [this slide deck](https://docs.google.com/presentation/d/1BTMkvls1VZFZf-d2MF6xj4NvpeHFNLHums5KG5Z7Ewc/edit?usp=sharing)"
      ]
    },
    {
      "cell_type": "markdown",
      "metadata": {
        "id": "_rU8CnnudQAX"
      },
      "source": [
        "#Install MySQL"
      ]
    },
    {
      "cell_type": "code",
      "metadata": {
        "id": "inGB7KgJHQFJ"
      },
      "source": [
        "# Some system parameters\n",
        "#!cat /proc/cpuinfo\n",
        "#!cat /proc/meminfo"
      ],
      "execution_count": null,
      "outputs": []
    },
    {
      "cell_type": "code",
      "metadata": {
        "id": "J8p8UAbybZnT",
        "colab": {
          "base_uri": "https://localhost:8080/"
        },
        "outputId": "1ea4c523-21e3-4a39-b56d-d0eec38134f7"
      },
      "source": [
        "!apt-get -y install mysql-server > /dev/null"
      ],
      "execution_count": 1,
      "outputs": [
        {
          "output_type": "stream",
          "name": "stdout",
          "text": [
            "E: Sub-process /usr/bin/dpkg returned an error code (1)\n"
          ]
        }
      ]
    },
    {
      "cell_type": "code",
      "metadata": {
        "id": "sJoqowCvcCVR",
        "colab": {
          "base_uri": "https://localhost:8080/"
        },
        "outputId": "ff1eb2b7-24c2-4bdf-de13-092478fc0cf8"
      },
      "source": [
        "!/etc/init.d/mysql restart"
      ],
      "execution_count": 2,
      "outputs": [
        {
          "output_type": "stream",
          "name": "stdout",
          "text": [
            " * Stopping MySQL database server mysqld\n",
            "   ...done.\n",
            " * Starting MySQL database server mysqld\n",
            "No directory, logging in with HOME=/\n",
            "   ...done.\n"
          ]
        }
      ]
    },
    {
      "cell_type": "code",
      "metadata": {
        "id": "zRb4tR92cLT1",
        "colab": {
          "base_uri": "https://localhost:8080/"
        },
        "outputId": "184d32fd-32f8-45c8-ac1b-352116fa5a1c"
      },
      "source": [
        "!mysql -e 'show databases'"
      ],
      "execution_count": 3,
      "outputs": [
        {
          "output_type": "stream",
          "name": "stdout",
          "text": [
            "+--------------------+\n",
            "| Database           |\n",
            "+--------------------+\n",
            "| information_schema |\n",
            "| mysql              |\n",
            "| performance_schema |\n",
            "| sys                |\n",
            "+--------------------+\n"
          ]
        }
      ]
    },
    {
      "cell_type": "code",
      "metadata": {
        "id": "ftaVKxKKcRut"
      },
      "source": [
        "!mysql -e 'create database praxisDB'"
      ],
      "execution_count": 4,
      "outputs": []
    },
    {
      "cell_type": "markdown",
      "metadata": {
        "id": "HwJs7c2bL17w"
      },
      "source": [
        "# Pandas"
      ]
    },
    {
      "cell_type": "code",
      "metadata": {
        "colab": {
          "base_uri": "https://localhost:8080/"
        },
        "id": "-1m9NB8tL4UO",
        "outputId": "32cccf84-a2ba-4096-efe3-f60b811143cf"
      },
      "source": [
        "!apt install libmysqlclient-dev > /dev/null\n",
        "!pip install mysqlclient > /dev/null\n",
        "import pandas as pd\n",
        "import MySQLdb"
      ],
      "execution_count": 5,
      "outputs": [
        {
          "output_type": "stream",
          "name": "stdout",
          "text": [
            "\n",
            "WARNING: apt does not have a stable CLI interface. Use with caution in scripts.\n",
            "\n",
            "W: APT had planned for dpkg to do more than it reported back (3 vs 7).\n",
            "   Affected packages: mysql-server-5.7:amd64\n"
          ]
        }
      ]
    },
    {
      "cell_type": "code",
      "metadata": {
        "id": "cekS9ljEMIbX"
      },
      "source": [
        "dbName = 'praxisDB'\n",
        "#To run any non-SELECT SQL command\n",
        "def runCMD (DDL):\n",
        "    DBConn= MySQLdb.connect(db=dbName)\n",
        "    myCursor = DBConn.cursor()\n",
        "    retcode = myCursor.execute(DDL) \n",
        "    print (retcode)\n",
        "    DBConn.commit()\n",
        "    DBConn.close()\n",
        "\n",
        "#To run any SELECT SQL command\n",
        "def runSELECT (CMD):\n",
        "    DBConn= MySQLdb.connect(db=dbName)\n",
        "    df_mysql = pd.read_sql(CMD, con=DBConn)    \n",
        "    DBConn.close()\n",
        "    return df_mysql"
      ],
      "execution_count": 6,
      "outputs": []
    },
    {
      "cell_type": "markdown",
      "metadata": {
        "id": "gXQysJFYdWXg"
      },
      "source": [
        "#Create, Load  Fact Table"
      ]
    },
    {
      "cell_type": "code",
      "metadata": {
        "colab": {
          "base_uri": "https://localhost:8080/"
        },
        "id": "6FHeZXiUMSVk",
        "outputId": "bcae481b-cb17-405f-cd14-ebfce8441237"
      },
      "source": [
        "cmd = 'Drop table if exists CarSalesFact'\n",
        "runCMD(cmd)\n",
        "# ----------------------\n",
        "cmd = 'Create table CarSalesFact(Make varchar(10), Type varchar(10), Colour varchar(10), Value decimal(8,0), Units int)'\n",
        "runCMD(cmd)\n",
        "# ----------------------\n",
        "\n",
        "cmd = \"\\\n",
        "INSERT INTO CarSalesFact (Make, Type, Colour, Value, Units) VALUES \\\n",
        "('Honda','Sedan','Brown',5000,1),('Honda','SUV','Black',18000, 4), ('Honda','SUV','Red',7000,2), \\\n",
        "('Mazda','Compact','Red',5000,1),('Mazda','Sedan','Brown',4000,1),('Mazda','SUV','Black',4000,1),('Mazda','SUV','Red',3000,1),\\\n",
        "('Toyota','Compact','Red',7000,1),('Toyota','Sedan','Black',9000,2)\\\n",
        "\"\n",
        "runCMD(cmd)\n",
        "# ----------------------\n",
        "#runSELECT('select * from CarSalesFact')\n",
        "!mysql praxisDB -e 'select * from CarSalesFact'"
      ],
      "execution_count": 8,
      "outputs": [
        {
          "output_type": "stream",
          "name": "stdout",
          "text": [
            "0\n",
            "0\n",
            "9\n",
            "+--------+---------+--------+-------+-------+\n",
            "| Make   | Type    | Colour | Value | Units |\n",
            "+--------+---------+--------+-------+-------+\n",
            "| Honda  | Sedan   | Brown  |  5000 |     1 |\n",
            "| Honda  | SUV     | Black  | 18000 |     4 |\n",
            "| Honda  | SUV     | Red    |  7000 |     2 |\n",
            "| Mazda  | Compact | Red    |  5000 |     1 |\n",
            "| Mazda  | Sedan   | Brown  |  4000 |     1 |\n",
            "| Mazda  | SUV     | Black  |  4000 |     1 |\n",
            "| Mazda  | SUV     | Red    |  3000 |     1 |\n",
            "| Toyota | Compact | Red    |  7000 |     1 |\n",
            "| Toyota | Sedan   | Black  |  9000 |     2 |\n",
            "+--------+---------+--------+-------+-------+\n"
          ]
        }
      ]
    },
    {
      "cell_type": "markdown",
      "metadata": {
        "id": "AGiIe8WSgql3"
      },
      "source": [
        "#Cross Tabs"
      ]
    },
    {
      "cell_type": "markdown",
      "metadata": {
        "id": "0nRzdvzuue3B"
      },
      "source": [
        "##Level 1"
      ]
    },
    {
      "cell_type": "code",
      "metadata": {
        "id": "CZhFdY6GZrwr",
        "colab": {
          "base_uri": "https://localhost:8080/"
        },
        "outputId": "593c0adc-3425-420d-83d0-d227661c1693"
      },
      "source": [
        "!mysql praxisDB -e \" \\\n",
        "  select Make, Type, Sum(Units) Count \\\n",
        "  from CarSalesFact \\\n",
        "  group by Make, Type \\\n",
        "\""
      ],
      "execution_count": null,
      "outputs": [
        {
          "output_type": "stream",
          "name": "stdout",
          "text": [
            "+--------+---------+-------+\n",
            "| Make   | Type    | Count |\n",
            "+--------+---------+-------+\n",
            "| Honda  | Sedan   |     1 |\n",
            "| Honda  | SUV     |     6 |\n",
            "| Mazda  | Compact |     1 |\n",
            "| Mazda  | Sedan   |     1 |\n",
            "| Mazda  | SUV     |     2 |\n",
            "| Toyota | Compact |     1 |\n",
            "| Toyota | Sedan   |     2 |\n",
            "+--------+---------+-------+\n"
          ]
        }
      ]
    },
    {
      "cell_type": "markdown",
      "metadata": {
        "id": "eZOW8xonuirJ"
      },
      "source": [
        "##Level 2 - Rollup"
      ]
    },
    {
      "cell_type": "code",
      "metadata": {
        "id": "ftQA8XDdpHH0",
        "colab": {
          "base_uri": "https://localhost:8080/"
        },
        "outputId": "1ce9367d-8c57-45e1-f85e-32fe857bca9f"
      },
      "source": [
        "!mysql praxisDB -e \" \\\n",
        "  select Make, Type, Sum(Units) Count \\\n",
        "  from CarSalesFact \\\n",
        "  group by Make, Type  \\\n",
        "  with ROLLUP; \\\n",
        "\""
      ],
      "execution_count": null,
      "outputs": [
        {
          "output_type": "stream",
          "name": "stdout",
          "text": [
            "+--------+---------+-------+\n",
            "| Make   | Type    | Count |\n",
            "+--------+---------+-------+\n",
            "| Honda  | Sedan   |     1 |\n",
            "| Honda  | SUV     |     6 |\n",
            "| Honda  | NULL    |     7 |\n",
            "| Mazda  | Compact |     1 |\n",
            "| Mazda  | Sedan   |     1 |\n",
            "| Mazda  | SUV     |     2 |\n",
            "| Mazda  | NULL    |     4 |\n",
            "| Toyota | Compact |     1 |\n",
            "| Toyota | Sedan   |     2 |\n",
            "| Toyota | NULL    |     3 |\n",
            "| NULL   | NULL    |    14 |\n",
            "+--------+---------+-------+\n"
          ]
        }
      ]
    },
    {
      "cell_type": "code",
      "metadata": {
        "id": "0FpngPRshgOn",
        "colab": {
          "base_uri": "https://localhost:8080/"
        },
        "outputId": "3ec54b65-1959-4b09-d861-23a37343b96c"
      },
      "source": [
        "# Cosmetic improvement on report\n",
        "!mysql praxisDB -e \" \\\n",
        "  select IFNULL(Make,'-Mtotal-') 'Make', IFNULL(Type,'-Ttotal-') 'Type', Sum(Units) Count \\\n",
        "  from CarSalesFact \\\n",
        "  group by Make, Type  \\\n",
        "  with ROLLUP; \\\n",
        "\""
      ],
      "execution_count": null,
      "outputs": [
        {
          "output_type": "stream",
          "name": "stdout",
          "text": [
            "+----------+----------+-------+\n",
            "| Make     | Type     | Count |\n",
            "+----------+----------+-------+\n",
            "| Honda    | Sedan    |     1 |\n",
            "| Honda    | SUV      |     6 |\n",
            "| Honda    | -Ttotal- |     7 |\n",
            "| Mazda    | Compact  |     1 |\n",
            "| Mazda    | Sedan    |     1 |\n",
            "| Mazda    | SUV      |     2 |\n",
            "| Mazda    | -Ttotal- |     4 |\n",
            "| Toyota   | Compact  |     1 |\n",
            "| Toyota   | Sedan    |     2 |\n",
            "| Toyota   | -Ttotal- |     3 |\n",
            "| -Mtotal- | -Ttotal- |    14 |\n",
            "+----------+----------+-------+\n"
          ]
        }
      ]
    },
    {
      "cell_type": "code",
      "metadata": {
        "id": "06EFilSnOfWj",
        "colab": {
          "base_uri": "https://localhost:8080/"
        },
        "outputId": "520093ff-67ba-4d6e-804c-2cddaf5e89c6"
      },
      "source": [
        "!mysql praxisDB -e \" \\\n",
        "  select Make, Sum(Units) Count \\\n",
        "  from CarSalesFact \\\n",
        "  group by Make  \\\n",
        "  with ROLLUP; \\\n",
        "\""
      ],
      "execution_count": null,
      "outputs": [
        {
          "output_type": "stream",
          "name": "stdout",
          "text": [
            "+--------+-------+\n",
            "| Make   | Count |\n",
            "+--------+-------+\n",
            "| Honda  |     7 |\n",
            "| Mazda  |     4 |\n",
            "| Toyota |     3 |\n",
            "| NULL   |    14 |\n",
            "+--------+-------+\n"
          ]
        }
      ]
    },
    {
      "cell_type": "markdown",
      "metadata": {
        "id": "qhqZ2gujZie7"
      },
      "source": [
        "### Roll UP even more"
      ]
    },
    {
      "cell_type": "code",
      "metadata": {
        "id": "9I6Jc4x9PlZe",
        "colab": {
          "base_uri": "https://localhost:8080/"
        },
        "outputId": "36e3be4a-482e-436f-8a3d-bf66e4a744f5"
      },
      "source": [
        "!mysql praxisDB -e \" \\\n",
        "  select IFNULL(Make,'-total-') 'Make', Sum(Units) Count \\\n",
        "  from CarSalesFact \\\n",
        "  group by Make  \\\n",
        "  with ROLLUP; \\\n",
        "\""
      ],
      "execution_count": null,
      "outputs": [
        {
          "output_type": "stream",
          "name": "stdout",
          "text": [
            "+---------+-------+\n",
            "| Make    | Count |\n",
            "+---------+-------+\n",
            "| Honda   |     7 |\n",
            "| Mazda   |     4 |\n",
            "| Toyota  |     3 |\n",
            "| -total- |    14 |\n",
            "+---------+-------+\n"
          ]
        }
      ]
    },
    {
      "cell_type": "code",
      "metadata": {
        "id": "m3-stF3hXtD8",
        "colab": {
          "base_uri": "https://localhost:8080/"
        },
        "outputId": "a99cb6a7-20e7-4a72-c4ef-394b75cef22f"
      },
      "source": [
        "!mysql praxisDB -e \" \\\n",
        "  select Sum(Units) 'Total' \\\n",
        "  from CarSalesFact \\\n",
        "\""
      ],
      "execution_count": null,
      "outputs": [
        {
          "output_type": "stream",
          "name": "stdout",
          "text": [
            "+-------+\n",
            "| Total |\n",
            "+-------+\n",
            "|    14 |\n",
            "+-------+\n"
          ]
        }
      ]
    },
    {
      "cell_type": "code",
      "metadata": {
        "id": "oMAULGqMZts-",
        "colab": {
          "base_uri": "https://localhost:8080/"
        },
        "outputId": "eac2958a-0955-4256-ef74-6952e583f278"
      },
      "source": [
        "!mysql praxisDB -e \" \\\n",
        "  select IFNULL(Type,'-total-') 'Type', Sum(Units) Count \\\n",
        "  from CarSalesFact \\\n",
        "  group by Type  \\\n",
        "  with ROLLUP; \\\n",
        "\""
      ],
      "execution_count": null,
      "outputs": [
        {
          "output_type": "stream",
          "name": "stdout",
          "text": [
            "+---------+-------+\n",
            "| Type    | Count |\n",
            "+---------+-------+\n",
            "| Compact |     2 |\n",
            "| Sedan   |     4 |\n",
            "| SUV     |     8 |\n",
            "| -total- |    14 |\n",
            "+---------+-------+\n"
          ]
        }
      ]
    },
    {
      "cell_type": "markdown",
      "metadata": {
        "id": "-Kd34K88ulpe"
      },
      "source": [
        "##Level 3  - THREE crosstabs"
      ]
    },
    {
      "cell_type": "code",
      "metadata": {
        "id": "zjHVzwW5M1jb",
        "colab": {
          "base_uri": "https://localhost:8080/"
        },
        "outputId": "3de9a617-9752-465a-ae8b-a2f6a08ef453"
      },
      "source": [
        "!mysql praxisDB -e  \"\\\n",
        "SELECT \\\n",
        "\tMake,\\\n",
        "\tSUM(IF(Type='SUV',Units,0))  'SUV',\\\n",
        "\tSUM(IF(Type='Sedan',Units,0))  'Sedan',\\\n",
        "\tSUM(IF(Type='Compact',Units,0))  'Compact'\\\n",
        "  FROM CarSalesFact\\\n",
        "  GROUP BY Make WITH ROLLUP\\\n",
        "\""
      ],
      "execution_count": null,
      "outputs": [
        {
          "output_type": "stream",
          "name": "stdout",
          "text": [
            "+--------+------+-------+---------+\n",
            "| Make   | SUV  | Sedan | Compact |\n",
            "+--------+------+-------+---------+\n",
            "| Honda  |    6 |     1 |       0 |\n",
            "| Mazda  |    2 |     1 |       1 |\n",
            "| Toyota |    0 |     2 |       1 |\n",
            "| NULL   |    8 |     4 |       2 |\n",
            "+--------+------+-------+---------+\n"
          ]
        }
      ]
    },
    {
      "cell_type": "code",
      "metadata": {
        "id": "P8iGY3uUqS_6",
        "colab": {
          "base_uri": "https://localhost:8080/"
        },
        "outputId": "7e646ab2-a8d7-44f6-e64c-02829b7f7a19"
      },
      "source": [
        "!mysql praxisDB -e  \"\\\n",
        "SELECT \\\n",
        "IFNULL(Make,'Col_Totals') Dims,\\\n",
        "sums.SUV, sums.Sedan, sums.Compact,\\\n",
        "sums.SUV + sums.Sedan + sums.Compact  Row_Totals \\\n",
        "FROM ( \\\n",
        "  SELECT \\\n",
        "\tMake,\\\n",
        "\tSUM(IF(Type='SUV',Units,0))  'SUV',\\\n",
        "\tSUM(IF(Type='Sedan',Units,0))  'Sedan',\\\n",
        "\tSUM(IF(Type='Compact',Units,0))  'Compact'\\\n",
        "  FROM CarSalesFact\\\n",
        "  GROUP BY Make WITH ROLLUP\\\n",
        ") AS sums \\\n",
        "\""
      ],
      "execution_count": null,
      "outputs": [
        {
          "output_type": "stream",
          "name": "stdout",
          "text": [
            "+------------+------+-------+---------+------------+\n",
            "| Dims       | SUV  | Sedan | Compact | Row_Totals |\n",
            "+------------+------+-------+---------+------------+\n",
            "| Honda      |    6 |     1 |       0 |          7 |\n",
            "| Mazda      |    2 |     1 |       1 |          4 |\n",
            "| Toyota     |    0 |     2 |       1 |          3 |\n",
            "| Col_Totals |    8 |     4 |       2 |         14 |\n",
            "+------------+------+-------+---------+------------+\n"
          ]
        }
      ]
    },
    {
      "cell_type": "code",
      "metadata": {
        "id": "1B9q-PojuxR0",
        "colab": {
          "base_uri": "https://localhost:8080/"
        },
        "outputId": "f2a1d298-03a9-4610-9b12-bbc12cfd8120"
      },
      "source": [
        "!mysql praxisDB -e  \"\\\n",
        "SELECT \\\n",
        "IFNULL(Make,'Col_Totals') Dims,\\\n",
        "sums.Brown, sums.Black, sums.Red,\\\n",
        "sums.Brown + sums.Black + sums.Red  Row_Totals \\\n",
        "FROM ( \\\n",
        "  SELECT \\\n",
        "\tMake,\\\n",
        "\tSUM(IF(Colour='Brown',Units,0))  'Brown',\\\n",
        "\tSUM(IF(Colour='Black',Units,0))  'Black',\\\n",
        "\tSUM(IF(Colour='Red',Units,0))  'Red'\\\n",
        "  FROM CarSalesFact\\\n",
        "  GROUP BY Make WITH ROLLUP\\\n",
        ") AS sums \\\n",
        "\""
      ],
      "execution_count": null,
      "outputs": [
        {
          "output_type": "stream",
          "name": "stdout",
          "text": [
            "+------------+-------+-------+------+------------+\n",
            "| Dims       | Brown | Black | Red  | Row_Totals |\n",
            "+------------+-------+-------+------+------------+\n",
            "| Honda      |     1 |     4 |    2 |          7 |\n",
            "| Mazda      |     1 |     1 |    2 |          4 |\n",
            "| Toyota     |     0 |     2 |    1 |          3 |\n",
            "| Col_Totals |     2 |     7 |    5 |         14 |\n",
            "+------------+-------+-------+------+------------+\n"
          ]
        }
      ]
    },
    {
      "cell_type": "code",
      "metadata": {
        "id": "g9oN2Apb0vNe",
        "colab": {
          "base_uri": "https://localhost:8080/"
        },
        "outputId": "723165fd-3d6e-4dd2-9c14-662b2a3a8594"
      },
      "source": [
        "!mysql praxisDB -e  \"\\\n",
        "SELECT \\\n",
        "IFNULL(Type,'Totals') Dims,\\\n",
        "sums.Brown, sums.Black, sums.Red,\\\n",
        "sums.Brown + sums.Black + sums.Red  Totals \\\n",
        "FROM ( \\\n",
        "  SELECT \\\n",
        "\tType,\\\n",
        "\tSUM(IF(Colour='Brown',Units,0))  'Brown',\\\n",
        "\tSUM(IF(Colour='Black',Units,0))  'Black',\\\n",
        "\tSUM(IF(Colour='Red',Units,0))  'Red'\\\n",
        "  FROM CarSalesFact\\\n",
        "  GROUP BY Type WITH ROLLUP\\\n",
        ") AS sums \\\n",
        "\""
      ],
      "execution_count": null,
      "outputs": [
        {
          "output_type": "stream",
          "name": "stdout",
          "text": [
            "+---------+-------+-------+------+--------+\n",
            "| Dims    | Brown | Black | Red  | Totals |\n",
            "+---------+-------+-------+------+--------+\n",
            "| Compact |     0 |     0 |    2 |      2 |\n",
            "| Sedan   |     2 |     2 |    0 |      4 |\n",
            "| SUV     |     0 |     5 |    3 |      8 |\n",
            "| Totals  |     2 |     7 |    5 |     14 |\n",
            "+---------+-------+-------+------+--------+\n"
          ]
        }
      ]
    },
    {
      "cell_type": "markdown",
      "metadata": {
        "id": "TgiD-LzNjqTy"
      },
      "source": [
        "##Level 3 A - the UNION ALL / CUBE"
      ]
    },
    {
      "cell_type": "code",
      "metadata": {
        "id": "UAw1g-nKkLUx",
        "colab": {
          "base_uri": "https://localhost:8080/"
        },
        "outputId": "f6566796-2127-4969-d9a0-2ec62292ae37"
      },
      "source": [
        "!mysql praxisDB -e  \"\\\n",
        "SELECT Make, Type, SUM(Units) \\\n",
        "FROM CarSalesFact \\\n",
        "GROUP BY Make, Type \\\n",
        "UNION ALL \\\n",
        "SELECT Make, 'ALL', SUM(Units) \\\n",
        "FROM CarSalesFact \\\n",
        "GROUP BY Make \\\n",
        "UNION ALL \\\n",
        "SELECT 'ALL', Type, SUM(Units) \\\n",
        "FROM CarSalesFact \\\n",
        "GROUP BY Type \\\n",
        "UNION ALL \\\n",
        "SELECT 'ALL', 'ALL', SUM(Units) \\\n",
        "FROM CarSalesFact\\\n",
        "\"\n",
        "\n"
      ],
      "execution_count": null,
      "outputs": [
        {
          "output_type": "stream",
          "name": "stdout",
          "text": [
            "+--------+---------+------------+\n",
            "| Make   | Type    | SUM(Units) |\n",
            "+--------+---------+------------+\n",
            "| Honda  | Sedan   |          1 |\n",
            "| Honda  | SUV     |          6 |\n",
            "| Mazda  | Compact |          1 |\n",
            "| Mazda  | Sedan   |          1 |\n",
            "| Mazda  | SUV     |          2 |\n",
            "| Toyota | Compact |          1 |\n",
            "| Toyota | Sedan   |          2 |\n",
            "| Honda  | ALL     |          7 |\n",
            "| Mazda  | ALL     |          4 |\n",
            "| Toyota | ALL     |          3 |\n",
            "| ALL    | Compact |          2 |\n",
            "| ALL    | Sedan   |          4 |\n",
            "| ALL    | SUV     |          8 |\n",
            "| ALL    | ALL     |         14 |\n",
            "+--------+---------+------------+\n"
          ]
        }
      ]
    },
    {
      "cell_type": "markdown",
      "metadata": {
        "id": "6eMUYZpazkH_"
      },
      "source": [
        "#Create a 'standard' CUBE Fact table\n",
        "What is [GROUP_CONCAT](https://www.google.co.in/search?client=opera&q=group_concat+in+mysql&sourceid=opera&ie=UTF-8&oe=UTF-8)?"
      ]
    },
    {
      "cell_type": "markdown",
      "metadata": {
        "id": "0YHBtY_y_mGU"
      },
      "source": [
        "#Cross Tab"
      ]
    },
    {
      "cell_type": "code",
      "metadata": {
        "id": "f-7uGBpQCqcl",
        "colab": {
          "base_uri": "https://localhost:8080/"
        },
        "outputId": "07fd5141-8dc7-4a44-c5fc-8a9e254ce02d"
      },
      "source": [
        "!mysql praxisDB -e \"select * from CarSalesFact\""
      ],
      "execution_count": null,
      "outputs": [
        {
          "output_type": "stream",
          "name": "stdout",
          "text": [
            "+--------+---------+--------+-------+-------+\n",
            "| Make   | Type    | Colour | Value | Units |\n",
            "+--------+---------+--------+-------+-------+\n",
            "| Honda  | Sedan   | Brown  |  5000 |     1 |\n",
            "| Honda  | SUV     | Black  | 18000 |     4 |\n",
            "| Honda  | SUV     | Red    |  7000 |     2 |\n",
            "| Mazda  | Compact | Red    |  5000 |     1 |\n",
            "| Mazda  | Sedan   | Brown  |  4000 |     1 |\n",
            "| Mazda  | SUV     | Black  |  4000 |     1 |\n",
            "| Mazda  | SUV     | Red    |  3000 |     1 |\n",
            "| Toyota | Compact | Red    |  7000 |     1 |\n",
            "| Toyota | Sedan   | Black  |  9000 |     2 |\n",
            "+--------+---------+--------+-------+-------+\n"
          ]
        }
      ]
    },
    {
      "cell_type": "markdown",
      "metadata": {
        "id": "G70QOJIz_7_G"
      },
      "source": [
        "##Level 1 - Partial Cross Tab"
      ]
    },
    {
      "cell_type": "code",
      "metadata": {
        "id": "O1fKMSHjAAji",
        "colab": {
          "base_uri": "https://localhost:8080/"
        },
        "outputId": "ebb3135f-d00e-4267-a9c0-2f9927775076"
      },
      "source": [
        "!mysql praxisDB -e \"\\\n",
        "select Make, Type, sum(Units) Count, sum(Value) Total \\\n",
        "from \\\n",
        "CarSalesFact \\\n",
        "group by Make, Type\\\n",
        "\""
      ],
      "execution_count": null,
      "outputs": [
        {
          "output_type": "stream",
          "name": "stdout",
          "text": [
            "+--------+---------+-------+-------+\n",
            "| Make   | Type    | Count | Total |\n",
            "+--------+---------+-------+-------+\n",
            "| Honda  | Sedan   |     1 |  5000 |\n",
            "| Honda  | SUV     |     6 | 25000 |\n",
            "| Mazda  | Compact |     1 |  5000 |\n",
            "| Mazda  | Sedan   |     1 |  4000 |\n",
            "| Mazda  | SUV     |     2 |  7000 |\n",
            "| Toyota | Compact |     1 |  7000 |\n",
            "| Toyota | Sedan   |     2 |  9000 |\n",
            "+--------+---------+-------+-------+\n"
          ]
        }
      ]
    },
    {
      "cell_type": "markdown",
      "metadata": {
        "id": "ca41FGfzDF9i"
      },
      "source": [
        "##Level 2 Roll UP"
      ]
    },
    {
      "cell_type": "code",
      "metadata": {
        "id": "j0TBsglPDIrm",
        "colab": {
          "base_uri": "https://localhost:8080/"
        },
        "outputId": "08a95d2e-1872-4d8e-caa4-2c7064a6c65d"
      },
      "source": [
        "!mysql praxisDB -e \"\\\n",
        "select Make, Type, sum(Units) Count, sum(Value) Total \\\n",
        "from \\\n",
        "CarSalesFact \\\n",
        "group by Make, Type with ROllUP\\\n",
        "\""
      ],
      "execution_count": null,
      "outputs": [
        {
          "output_type": "stream",
          "name": "stdout",
          "text": [
            "+--------+---------+-------+-------+\n",
            "| Make   | Type    | Count | Total |\n",
            "+--------+---------+-------+-------+\n",
            "| Honda  | Sedan   |     1 |  5000 |\n",
            "| Honda  | SUV     |     6 | 25000 |\n",
            "| Honda  | NULL    |     7 | 30000 |\n",
            "| Mazda  | Compact |     1 |  5000 |\n",
            "| Mazda  | Sedan   |     1 |  4000 |\n",
            "| Mazda  | SUV     |     2 |  7000 |\n",
            "| Mazda  | NULL    |     4 | 16000 |\n",
            "| Toyota | Compact |     1 |  7000 |\n",
            "| Toyota | Sedan   |     2 |  9000 |\n",
            "| Toyota | NULL    |     3 | 16000 |\n",
            "| NULL   | NULL    |    14 | 62000 |\n",
            "+--------+---------+-------+-------+\n"
          ]
        }
      ]
    },
    {
      "cell_type": "markdown",
      "metadata": {
        "id": "auuC00eFDzUu"
      },
      "source": [
        "##Level 3 Full Cross Tab"
      ]
    },
    {
      "cell_type": "code",
      "metadata": {
        "id": "pylU4ZEoD3kg",
        "colab": {
          "base_uri": "https://localhost:8080/"
        },
        "outputId": "37240dc9-bbd7-45d0-971b-404ab12ac5fa"
      },
      "source": [
        "!mysql praxisDB -e  \"\\\n",
        "SELECT \\\n",
        "IFNULL(Make,'Totals') Dims,\\\n",
        "sums.SUV, sums.Sedan, sums.Compact,\\\n",
        "sums.SUV + sums.Sedan + sums.Compact  Totals \\\n",
        "FROM ( \\\n",
        "  SELECT \\\n",
        "\tMake,\\\n",
        "\tSUM(IF(Type='SUV',Units,0))  'SUV',\\\n",
        "\tSUM(IF(Type='Sedan',Units,0))  'Sedan',\\\n",
        "\tSUM(IF(Type='Compact',Units,0))  'Compact'\\\n",
        "  FROM CarSalesFact\\\n",
        "  GROUP BY Make WITH ROLLUP\\\n",
        ") AS sums \\\n",
        "\""
      ],
      "execution_count": null,
      "outputs": [
        {
          "output_type": "stream",
          "name": "stdout",
          "text": [
            "+--------+------+-------+---------+--------+\n",
            "| Dims   | SUV  | Sedan | Compact | Totals |\n",
            "+--------+------+-------+---------+--------+\n",
            "| Honda  |    6 |     1 |       0 |      7 |\n",
            "| Mazda  |    2 |     1 |       1 |      4 |\n",
            "| Toyota |    0 |     2 |       1 |      3 |\n",
            "| Totals |    8 |     4 |       2 |     14 |\n",
            "+--------+------+-------+---------+--------+\n"
          ]
        }
      ]
    },
    {
      "cell_type": "code",
      "metadata": {
        "id": "LIXYDeFMD9Iy",
        "colab": {
          "base_uri": "https://localhost:8080/",
          "height": 151
        },
        "outputId": "4cd65a78-af70-4436-e758-29e2ace4aeb4"
      },
      "source": [
        "!mysql praxisDB -e  \"\\\n",
        "SELECT \\\n",
        "IFNULL(Make,'Totals') Dims,\\\n",
        "sums.SUV, sums.Sedan, sums.Compact,\\\n",
        "sums.SUV + sums.Sedan + sums.Compact  Totals \\\n",
        "FROM ( \\\n",
        "  SELECT \\\n",
        "\tMake,\\\n",
        "\tSUM(IF(Type='SUV',Value,0))  'SUV',\\\n",
        "\tSUM(IF(Type='Sedan',Value,0))  'Sedan',\\\n",
        "\tSUM(IF(Type='Compact',Value,0))  'Compact'\\\n",
        "  FROM CarSalesFact_S2\\\n",
        "  GROUP BY Make WITH ROLLUP\\\n",
        ") AS sums \\\n",
        "\""
      ],
      "execution_count": null,
      "outputs": [
        {
          "output_type": "stream",
          "text": [
            "+--------+-------+-------+---------+--------+\n",
            "| Dims   | SUV   | Sedan | Compact | Totals |\n",
            "+--------+-------+-------+---------+--------+\n",
            "| Honda  | 25000 |  5000 |       0 |  30000 |\n",
            "| Mazda  |  7000 |  4000 |    5000 |  16000 |\n",
            "| Toyota |     0 |  9000 |    7000 |  16000 |\n",
            "| Totals | 32000 | 18000 |   12000 |  62000 |\n",
            "+--------+-------+-------+---------+--------+\n"
          ],
          "name": "stdout"
        }
      ]
    },
    {
      "cell_type": "markdown",
      "metadata": {
        "id": "w-zHaw5_A0Oe"
      },
      "source": [
        "#Chronobooks <br>\n",
        "![alt text](https://1.bp.blogspot.com/-lTiYBkU2qbU/X1er__fvnkI/AAAAAAAAjtE/GhDR3OEGJr4NG43fZPodrQD5kbxtnKebgCLcBGAsYHQ/s600/Footer2020-600x200.png)<hr>\n",
        "Chronotantra and Chronoyantra are two science fiction novels that explore the collapse of human civilisation on Earth and then its rebirth and reincarnation both on Earth as well as on the distant worlds of Mars, Titan and Enceladus. But is it the human civilisation that is being reborn? Or is it some other sentience that is revealing itself. \n",
        "If you have an interest in AI and found this material useful, you may consider buying these novels, in paperback or kindle, from [http://bit.ly/chronobooks](http://bit.ly/chronobooks)"
      ]
    }
  ]
}